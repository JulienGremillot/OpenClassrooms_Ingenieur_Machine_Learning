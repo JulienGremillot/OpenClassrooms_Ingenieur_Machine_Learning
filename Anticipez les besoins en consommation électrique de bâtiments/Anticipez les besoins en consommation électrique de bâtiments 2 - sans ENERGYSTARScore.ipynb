{
 "cells": [
  {
   "cell_type": "code",
   "execution_count": 1,
   "id": "436b41ba",
   "metadata": {},
   "outputs": [],
   "source": [
    "# Je regroupe les imports en début de notebook\n",
    "import os\n",
    "import time\n",
    "import pandas as pd\n",
    "import numpy as np\n",
    "import matplotlib.pyplot as plt\n",
    "import matplotlib.cm as cm\n",
    "from sklearn.compose import ColumnTransformer\n",
    "from sklearn.preprocessing import StandardScaler\n",
    "from sklearn import neighbors\n",
    "from sklearn.dummy import DummyRegressor\n",
    "from sklearn.metrics import mean_absolute_error, mean_squared_error, mean_absolute_percentage_error, r2_score\n",
    "from sklearn.model_selection import train_test_split, GridSearchCV, ParameterGrid\n",
    "from sklearn.linear_model import Ridge, Lasso, LinearRegression\n",
    "from sklearn.ensemble import GradientBoostingRegressor, RandomForestRegressor\n",
    "import xgboost as xgb # installation : conda install -c conda-forge xgboost\n",
    "\n",
    "# Je me positionne dans mon répertoire de travail personnel\n",
    "os.chdir(\"C:\\\\Users\\\\Julien Gremillot\\\\OneDrive\\\\Documents\\\\OpenClassrooms\\\\Jupyter\")\n",
    "os.getcwd()\n",
    "\n",
    "# Lecture du fichier CSV\n",
    "data = pd.read_csv(\"building-energy-model-data_sans_ENERGYSTARScore.csv\", sep=',') # séparateur = virgule"
   ]
  },
  {
   "cell_type": "code",
   "execution_count": 2,
   "id": "efa9ca7f",
   "metadata": {},
   "outputs": [
    {
     "name": "stdout",
     "output_type": "stream",
     "text": [
      "['CouncilDistrictCode', 'NumberofBuildings', 'NumberofFloors', 'PropertyGFAParking', 'PropertyGFABuilding(s)', 'SecondLargestPropertyUseTypeGFA', 'ThirdLargestPropertyUseTypeGFA', 'Latitude', 'Longitude', 'age', 'consommation', 'emissions', 'Office', 'Medical Office', 'Other', 'Retail Store', 'Non-Refrigerated Warehouse', 'K-12 School', 'Restaurant', 'Outpatient Rehabilitation/Physical Therapy', 'Automobile Dealership', 'Performing Arts', 'Hotel', 'Police Station', 'Other - Entertainment/Public Assembly', 'Library', 'Fitness Center/Health Club/Gym', 'Social/Meeting Hall', 'Courthouse', 'College/University', 'Self-Storage Facility', 'Other - Mall', 'Senior Care Community', 'Hospital (General Medical & Surgical)', 'Museum', 'Repair Services (Vehicle, Shoe, Locksmith, etc)', 'Other - Lodging/Residential', 'Residence Hall/Dormitory', 'Other/Specialty Hospital', 'Financial Office', 'Distribution Center', 'Parking', 'Multifamily Housing', 'Worship Facility', 'Data Center', 'Laboratory', 'Supermarket/Grocery Store', 'Urgent Care/Clinic/Other Outpatient', 'Other - Services', 'Strip Mall', 'Wholesale Club/Supercenter', 'Refrigerated Warehouse', 'Manufacturing/Industrial Plant', 'Other - Recreation', 'Lifestyle Center', 'Other - Public Services', 'Fire Station', 'Residential Care Facility', 'Bank Branch', 'Other - Education', 'Other - Restaurant/Bar', 'Food Service', 'Adult Education', 'Other - Utility', 'Movie Theater', 'Personal Services (Health/Beauty, Dry Cleaning, etc)', 'Pre-school/Daycare', 'Prison/Incarceration', 'Vocational School', 'Swimming Pool', 'Convenience Store without Gas Station', 'Enclosed Mall', 'Bar/Nightclub', 'Food Sales', 'Other - Technology/Science', 'Fast Food Restaurant', 'NonResidential', 'Campus', 'Nonresidential COS', 'SPS-District K-12', 'Nonresidential WA', 'Retail Store.1', 'Small- and Mid-Sized Office', 'Large Office', 'Non-Refrigerated Warehouse.1', 'Medical Office.1', 'Other.1', 'K-12 School.1', 'Worship Facility.1', 'Restaurant.1', 'Mixed Use Property', 'Hotel.1', 'University', 'Self-Storage Facility.1', 'Warehouse', 'Senior Care Community.1', 'Hospital', 'Residence Hall', 'Distribution Center.1', 'Supermarket / Grocery Store', 'Laboratory.1', 'Refrigerated Warehouse.1', 'Office.1', 'DOWNTOWN', 'LAKE UNION', 'GREATER DUWAMISH', 'EAST', 'NORTHWEST', 'SOUTHEAST', 'BALLARD', 'MAGNOLIA / QUEEN ANNE', 'NORTHEAST', 'NORTH', 'CENTRAL', 'SOUTHWEST', 'DELRIDGE', 'electricity', 'natural_gas', 'steam']\n"
     ]
    }
   ],
   "source": [
    "print(data.columns.tolist())"
   ]
  },
  {
   "cell_type": "code",
   "execution_count": 3,
   "id": "bd4fbd02",
   "metadata": {},
   "outputs": [
    {
     "name": "stdout",
     "output_type": "stream",
     "text": [
      "index_consommation = 10 \n",
      "index_emissions = 11\n"
     ]
    }
   ],
   "source": [
    "index_consommation = -1\n",
    "index_emissions = -1\n",
    "for i in range(len(data.columns)):\n",
    "    if data.iloc[:, i].name == 'consommation':\n",
    "        index_consommation = i\n",
    "    if data.iloc[:, i].name == 'emissions':\n",
    "        index_emissions = i\n",
    "print('index_consommation =', index_consommation, '\\nindex_emissions =', index_emissions)"
   ]
  },
  {
   "cell_type": "code",
   "execution_count": 4,
   "id": "5216e6a6",
   "metadata": {},
   "outputs": [
    {
     "name": "stdout",
     "output_type": "stream",
     "text": [
      "Données initiales : (1687, 119)\n",
      "Features : (1687, 117)\n",
      "Targets : (1687,) & (1687,)\n",
      "['CouncilDistrictCode', 'NumberofBuildings', 'NumberofFloors', 'PropertyGFAParking', 'PropertyGFABuilding(s)', 'SecondLargestPropertyUseTypeGFA', 'ThirdLargestPropertyUseTypeGFA', 'Latitude', 'Longitude', 'age', 'Office', 'Medical Office', 'Other', 'Retail Store', 'Non-Refrigerated Warehouse', 'K-12 School', 'Restaurant', 'Outpatient Rehabilitation/Physical Therapy', 'Automobile Dealership', 'Performing Arts', 'Hotel', 'Police Station', 'Other - Entertainment/Public Assembly', 'Library', 'Fitness Center/Health Club/Gym', 'Social/Meeting Hall', 'Courthouse', 'College/University', 'Self-Storage Facility', 'Other - Mall', 'Senior Care Community', 'Hospital (General Medical & Surgical)', 'Museum', 'Repair Services (Vehicle, Shoe, Locksmith, etc)', 'Other - Lodging/Residential', 'Residence Hall/Dormitory', 'Other/Specialty Hospital', 'Financial Office', 'Distribution Center', 'Parking', 'Multifamily Housing', 'Worship Facility', 'Data Center', 'Laboratory', 'Supermarket/Grocery Store', 'Urgent Care/Clinic/Other Outpatient', 'Other - Services', 'Strip Mall', 'Wholesale Club/Supercenter', 'Refrigerated Warehouse', 'Manufacturing/Industrial Plant', 'Other - Recreation', 'Lifestyle Center', 'Other - Public Services', 'Fire Station', 'Residential Care Facility', 'Bank Branch', 'Other - Education', 'Other - Restaurant/Bar', 'Food Service', 'Adult Education', 'Other - Utility', 'Movie Theater', 'Personal Services (Health/Beauty, Dry Cleaning, etc)', 'Pre-school/Daycare', 'Prison/Incarceration', 'Vocational School', 'Swimming Pool', 'Convenience Store without Gas Station', 'Enclosed Mall', 'Bar/Nightclub', 'Food Sales', 'Other - Technology/Science', 'Fast Food Restaurant', 'NonResidential', 'Campus', 'Nonresidential COS', 'SPS-District K-12', 'Nonresidential WA', 'Retail Store.1', 'Small- and Mid-Sized Office', 'Large Office', 'Non-Refrigerated Warehouse.1', 'Medical Office.1', 'Other.1', 'K-12 School.1', 'Worship Facility.1', 'Restaurant.1', 'Mixed Use Property', 'Hotel.1', 'University', 'Self-Storage Facility.1', 'Warehouse', 'Senior Care Community.1', 'Hospital', 'Residence Hall', 'Distribution Center.1', 'Supermarket / Grocery Store', 'Laboratory.1', 'Refrigerated Warehouse.1', 'Office.1', 'DOWNTOWN', 'LAKE UNION', 'GREATER DUWAMISH', 'EAST', 'NORTHWEST', 'SOUTHEAST', 'BALLARD', 'MAGNOLIA / QUEEN ANNE', 'NORTHEAST', 'NORTH', 'CENTRAL', 'SOUTHWEST', 'DELRIDGE', 'electricity', 'natural_gas', 'steam'] \n",
      " 0    16.107916\n",
      "1    15.691287\n",
      "2    16.634519\n",
      "3    15.314463\n",
      "4    16.354152\n",
      "Name: consommation, dtype: float64 \n",
      " 0    4.234251\n",
      "1    3.855241\n",
      "2    4.760805\n",
      "3    4.902976\n",
      "4    5.424598\n",
      "Name: emissions, dtype: float64\n"
     ]
    }
   ],
   "source": [
    "# On récupère les features d'un côté...\n",
    "X = pd.concat([data.iloc[:,:index_consommation], data.iloc[:,index_emissions+1:]], axis = 1)\n",
    "\n",
    "# et les targets de l'autre\n",
    "y_consommation = data.iloc[:,index_consommation]\n",
    "y_emissions = data.iloc[:,index_emissions]\n",
    "\n",
    "print(\"Données initiales :\", data.shape)\n",
    "print(\"Features :\", X.shape)\n",
    "print(\"Targets :\", y_consommation.shape, \"&\", y_emissions.shape)\n",
    "print(X.columns.tolist(), \"\\n\", y_consommation.head(), \"\\n\", y_emissions.head())"
   ]
  },
  {
   "cell_type": "markdown",
   "id": "1e30f9e9",
   "metadata": {},
   "source": [
    "On commence par définir nos jeux de données pour le modèle de prédiction de la consommation d'énergie (y_consommation) et on standardise les données."
   ]
  },
  {
   "cell_type": "code",
   "execution_count": 5,
   "id": "efdfe924",
   "metadata": {},
   "outputs": [],
   "source": [
    "X_train, X_test, y_train, y_test = train_test_split(X, y_consommation, test_size=0.2)\n",
    "ct = ColumnTransformer([\n",
    "        ('transformer_categ_columns', StandardScaler(), \n",
    "           ['CouncilDistrictCode', 'NumberofBuildings', 'NumberofFloors', 'PropertyGFAParking', \n",
    "            'PropertyGFABuilding(s)', 'SecondLargestPropertyUseTypeGFA', 'ThirdLargestPropertyUseTypeGFA', \n",
    "            'Latitude', 'Longitude', 'age'])\n",
    "    ], remainder='passthrough').fit(X_train)\n",
    "\n",
    "X_train_std = ct.transform(X_train)\n",
    "X_test_std = ct.transform(X_test)"
   ]
  },
  {
   "cell_type": "code",
   "execution_count": 6,
   "id": "432c3eaa",
   "metadata": {},
   "outputs": [
    {
     "data": {
      "text/html": [
       "<div>\n",
       "<style scoped>\n",
       "    .dataframe tbody tr th:only-of-type {\n",
       "        vertical-align: middle;\n",
       "    }\n",
       "\n",
       "    .dataframe tbody tr th {\n",
       "        vertical-align: top;\n",
       "    }\n",
       "\n",
       "    .dataframe thead th {\n",
       "        text-align: right;\n",
       "    }\n",
       "</style>\n",
       "<table border=\"1\" class=\"dataframe\">\n",
       "  <thead>\n",
       "    <tr style=\"text-align: right;\">\n",
       "      <th></th>\n",
       "      <th>CouncilDistrictCode</th>\n",
       "      <th>NumberofBuildings</th>\n",
       "      <th>NumberofFloors</th>\n",
       "      <th>PropertyGFAParking</th>\n",
       "      <th>PropertyGFABuilding(s)</th>\n",
       "      <th>SecondLargestPropertyUseTypeGFA</th>\n",
       "      <th>ThirdLargestPropertyUseTypeGFA</th>\n",
       "      <th>Latitude</th>\n",
       "      <th>Longitude</th>\n",
       "      <th>age</th>\n",
       "      <th>...</th>\n",
       "      <th>BALLARD</th>\n",
       "      <th>MAGNOLIA / QUEEN ANNE</th>\n",
       "      <th>NORTHEAST</th>\n",
       "      <th>NORTH</th>\n",
       "      <th>CENTRAL</th>\n",
       "      <th>SOUTHWEST</th>\n",
       "      <th>DELRIDGE</th>\n",
       "      <th>electricity</th>\n",
       "      <th>natural_gas</th>\n",
       "      <th>steam</th>\n",
       "    </tr>\n",
       "  </thead>\n",
       "  <tbody>\n",
       "    <tr>\n",
       "      <th>575</th>\n",
       "      <td>7</td>\n",
       "      <td>1.0</td>\n",
       "      <td>76.0</td>\n",
       "      <td>319400</td>\n",
       "      <td>1632820</td>\n",
       "      <td>319368.0</td>\n",
       "      <td>0.0</td>\n",
       "      <td>47.60454</td>\n",
       "      <td>-122.33072</td>\n",
       "      <td>36</td>\n",
       "      <td>...</td>\n",
       "      <td>0.0</td>\n",
       "      <td>0.0</td>\n",
       "      <td>0.0</td>\n",
       "      <td>0.0</td>\n",
       "      <td>0.0</td>\n",
       "      <td>0.0</td>\n",
       "      <td>0.0</td>\n",
       "      <td>1.0</td>\n",
       "      <td>0.0</td>\n",
       "      <td>0.0</td>\n",
       "    </tr>\n",
       "    <tr>\n",
       "      <th>632</th>\n",
       "      <td>2</td>\n",
       "      <td>1.0</td>\n",
       "      <td>1.0</td>\n",
       "      <td>0</td>\n",
       "      <td>60448</td>\n",
       "      <td>7746.0</td>\n",
       "      <td>0.0</td>\n",
       "      <td>47.51168</td>\n",
       "      <td>-122.28285</td>\n",
       "      <td>43</td>\n",
       "      <td>...</td>\n",
       "      <td>0.0</td>\n",
       "      <td>0.0</td>\n",
       "      <td>0.0</td>\n",
       "      <td>0.0</td>\n",
       "      <td>0.0</td>\n",
       "      <td>0.0</td>\n",
       "      <td>0.0</td>\n",
       "      <td>1.0</td>\n",
       "      <td>0.0</td>\n",
       "      <td>0.0</td>\n",
       "    </tr>\n",
       "    <tr>\n",
       "      <th>1252</th>\n",
       "      <td>1</td>\n",
       "      <td>1.0</td>\n",
       "      <td>1.0</td>\n",
       "      <td>0</td>\n",
       "      <td>32000</td>\n",
       "      <td>0.0</td>\n",
       "      <td>0.0</td>\n",
       "      <td>47.53160</td>\n",
       "      <td>-122.33300</td>\n",
       "      <td>55</td>\n",
       "      <td>...</td>\n",
       "      <td>0.0</td>\n",
       "      <td>0.0</td>\n",
       "      <td>0.0</td>\n",
       "      <td>0.0</td>\n",
       "      <td>0.0</td>\n",
       "      <td>0.0</td>\n",
       "      <td>0.0</td>\n",
       "      <td>1.0</td>\n",
       "      <td>0.0</td>\n",
       "      <td>0.0</td>\n",
       "    </tr>\n",
       "    <tr>\n",
       "      <th>208</th>\n",
       "      <td>6</td>\n",
       "      <td>1.0</td>\n",
       "      <td>3.0</td>\n",
       "      <td>0</td>\n",
       "      <td>92437</td>\n",
       "      <td>0.0</td>\n",
       "      <td>0.0</td>\n",
       "      <td>47.67725</td>\n",
       "      <td>-122.32232</td>\n",
       "      <td>94</td>\n",
       "      <td>...</td>\n",
       "      <td>0.0</td>\n",
       "      <td>0.0</td>\n",
       "      <td>0.0</td>\n",
       "      <td>0.0</td>\n",
       "      <td>1.0</td>\n",
       "      <td>0.0</td>\n",
       "      <td>0.0</td>\n",
       "      <td>0.0</td>\n",
       "      <td>1.0</td>\n",
       "      <td>0.0</td>\n",
       "    </tr>\n",
       "    <tr>\n",
       "      <th>1004</th>\n",
       "      <td>3</td>\n",
       "      <td>1.0</td>\n",
       "      <td>2.0</td>\n",
       "      <td>0</td>\n",
       "      <td>2200000</td>\n",
       "      <td>318960.0</td>\n",
       "      <td>0.0</td>\n",
       "      <td>47.61065</td>\n",
       "      <td>-122.31711</td>\n",
       "      <td>82</td>\n",
       "      <td>...</td>\n",
       "      <td>0.0</td>\n",
       "      <td>0.0</td>\n",
       "      <td>0.0</td>\n",
       "      <td>0.0</td>\n",
       "      <td>0.0</td>\n",
       "      <td>0.0</td>\n",
       "      <td>0.0</td>\n",
       "      <td>1.0</td>\n",
       "      <td>0.0</td>\n",
       "      <td>0.0</td>\n",
       "    </tr>\n",
       "    <tr>\n",
       "      <th>...</th>\n",
       "      <td>...</td>\n",
       "      <td>...</td>\n",
       "      <td>...</td>\n",
       "      <td>...</td>\n",
       "      <td>...</td>\n",
       "      <td>...</td>\n",
       "      <td>...</td>\n",
       "      <td>...</td>\n",
       "      <td>...</td>\n",
       "      <td>...</td>\n",
       "      <td>...</td>\n",
       "      <td>...</td>\n",
       "      <td>...</td>\n",
       "      <td>...</td>\n",
       "      <td>...</td>\n",
       "      <td>...</td>\n",
       "      <td>...</td>\n",
       "      <td>...</td>\n",
       "      <td>...</td>\n",
       "      <td>...</td>\n",
       "      <td>...</td>\n",
       "    </tr>\n",
       "    <tr>\n",
       "      <th>378</th>\n",
       "      <td>1</td>\n",
       "      <td>1.0</td>\n",
       "      <td>1.0</td>\n",
       "      <td>0</td>\n",
       "      <td>113780</td>\n",
       "      <td>22248.0</td>\n",
       "      <td>0.0</td>\n",
       "      <td>47.56548</td>\n",
       "      <td>-122.35378</td>\n",
       "      <td>66</td>\n",
       "      <td>...</td>\n",
       "      <td>0.0</td>\n",
       "      <td>0.0</td>\n",
       "      <td>0.0</td>\n",
       "      <td>0.0</td>\n",
       "      <td>0.0</td>\n",
       "      <td>0.0</td>\n",
       "      <td>0.0</td>\n",
       "      <td>0.0</td>\n",
       "      <td>1.0</td>\n",
       "      <td>0.0</td>\n",
       "    </tr>\n",
       "    <tr>\n",
       "      <th>773</th>\n",
       "      <td>1</td>\n",
       "      <td>1.0</td>\n",
       "      <td>2.0</td>\n",
       "      <td>0</td>\n",
       "      <td>25762</td>\n",
       "      <td>0.0</td>\n",
       "      <td>0.0</td>\n",
       "      <td>47.56197</td>\n",
       "      <td>-122.38109</td>\n",
       "      <td>75</td>\n",
       "      <td>...</td>\n",
       "      <td>0.0</td>\n",
       "      <td>0.0</td>\n",
       "      <td>0.0</td>\n",
       "      <td>0.0</td>\n",
       "      <td>0.0</td>\n",
       "      <td>0.0</td>\n",
       "      <td>1.0</td>\n",
       "      <td>1.0</td>\n",
       "      <td>0.0</td>\n",
       "      <td>0.0</td>\n",
       "    </tr>\n",
       "    <tr>\n",
       "      <th>1520</th>\n",
       "      <td>1</td>\n",
       "      <td>1.0</td>\n",
       "      <td>1.0</td>\n",
       "      <td>0</td>\n",
       "      <td>42420</td>\n",
       "      <td>10000.0</td>\n",
       "      <td>5000.0</td>\n",
       "      <td>47.53326</td>\n",
       "      <td>-122.32579</td>\n",
       "      <td>68</td>\n",
       "      <td>...</td>\n",
       "      <td>0.0</td>\n",
       "      <td>0.0</td>\n",
       "      <td>0.0</td>\n",
       "      <td>0.0</td>\n",
       "      <td>0.0</td>\n",
       "      <td>0.0</td>\n",
       "      <td>0.0</td>\n",
       "      <td>0.0</td>\n",
       "      <td>1.0</td>\n",
       "      <td>0.0</td>\n",
       "    </tr>\n",
       "    <tr>\n",
       "      <th>107</th>\n",
       "      <td>4</td>\n",
       "      <td>2.0</td>\n",
       "      <td>4.0</td>\n",
       "      <td>0</td>\n",
       "      <td>50017</td>\n",
       "      <td>0.0</td>\n",
       "      <td>0.0</td>\n",
       "      <td>47.65772</td>\n",
       "      <td>-122.31756</td>\n",
       "      <td>59</td>\n",
       "      <td>...</td>\n",
       "      <td>0.0</td>\n",
       "      <td>0.0</td>\n",
       "      <td>0.0</td>\n",
       "      <td>1.0</td>\n",
       "      <td>0.0</td>\n",
       "      <td>0.0</td>\n",
       "      <td>0.0</td>\n",
       "      <td>0.0</td>\n",
       "      <td>1.0</td>\n",
       "      <td>0.0</td>\n",
       "    </tr>\n",
       "    <tr>\n",
       "      <th>744</th>\n",
       "      <td>6</td>\n",
       "      <td>1.0</td>\n",
       "      <td>1.0</td>\n",
       "      <td>0</td>\n",
       "      <td>21060</td>\n",
       "      <td>10240.0</td>\n",
       "      <td>1890.0</td>\n",
       "      <td>47.66835</td>\n",
       "      <td>-122.38886</td>\n",
       "      <td>76</td>\n",
       "      <td>...</td>\n",
       "      <td>0.0</td>\n",
       "      <td>0.0</td>\n",
       "      <td>0.0</td>\n",
       "      <td>0.0</td>\n",
       "      <td>0.0</td>\n",
       "      <td>0.0</td>\n",
       "      <td>0.0</td>\n",
       "      <td>1.0</td>\n",
       "      <td>0.0</td>\n",
       "      <td>0.0</td>\n",
       "    </tr>\n",
       "  </tbody>\n",
       "</table>\n",
       "<p>1349 rows × 117 columns</p>\n",
       "</div>"
      ],
      "text/plain": [
       "      CouncilDistrictCode  NumberofBuildings  NumberofFloors  \\\n",
       "575                     7                1.0            76.0   \n",
       "632                     2                1.0             1.0   \n",
       "1252                    1                1.0             1.0   \n",
       "208                     6                1.0             3.0   \n",
       "1004                    3                1.0             2.0   \n",
       "...                   ...                ...             ...   \n",
       "378                     1                1.0             1.0   \n",
       "773                     1                1.0             2.0   \n",
       "1520                    1                1.0             1.0   \n",
       "107                     4                2.0             4.0   \n",
       "744                     6                1.0             1.0   \n",
       "\n",
       "      PropertyGFAParking  PropertyGFABuilding(s)  \\\n",
       "575               319400                 1632820   \n",
       "632                    0                   60448   \n",
       "1252                   0                   32000   \n",
       "208                    0                   92437   \n",
       "1004                   0                 2200000   \n",
       "...                  ...                     ...   \n",
       "378                    0                  113780   \n",
       "773                    0                   25762   \n",
       "1520                   0                   42420   \n",
       "107                    0                   50017   \n",
       "744                    0                   21060   \n",
       "\n",
       "      SecondLargestPropertyUseTypeGFA  ThirdLargestPropertyUseTypeGFA  \\\n",
       "575                          319368.0                             0.0   \n",
       "632                            7746.0                             0.0   \n",
       "1252                              0.0                             0.0   \n",
       "208                               0.0                             0.0   \n",
       "1004                         318960.0                             0.0   \n",
       "...                               ...                             ...   \n",
       "378                           22248.0                             0.0   \n",
       "773                               0.0                             0.0   \n",
       "1520                          10000.0                          5000.0   \n",
       "107                               0.0                             0.0   \n",
       "744                           10240.0                          1890.0   \n",
       "\n",
       "      Latitude  Longitude  age  ...  BALLARD  MAGNOLIA / QUEEN ANNE  \\\n",
       "575   47.60454 -122.33072   36  ...      0.0                    0.0   \n",
       "632   47.51168 -122.28285   43  ...      0.0                    0.0   \n",
       "1252  47.53160 -122.33300   55  ...      0.0                    0.0   \n",
       "208   47.67725 -122.32232   94  ...      0.0                    0.0   \n",
       "1004  47.61065 -122.31711   82  ...      0.0                    0.0   \n",
       "...        ...        ...  ...  ...      ...                    ...   \n",
       "378   47.56548 -122.35378   66  ...      0.0                    0.0   \n",
       "773   47.56197 -122.38109   75  ...      0.0                    0.0   \n",
       "1520  47.53326 -122.32579   68  ...      0.0                    0.0   \n",
       "107   47.65772 -122.31756   59  ...      0.0                    0.0   \n",
       "744   47.66835 -122.38886   76  ...      0.0                    0.0   \n",
       "\n",
       "      NORTHEAST  NORTH  CENTRAL  SOUTHWEST  DELRIDGE  electricity  \\\n",
       "575         0.0    0.0      0.0        0.0       0.0          1.0   \n",
       "632         0.0    0.0      0.0        0.0       0.0          1.0   \n",
       "1252        0.0    0.0      0.0        0.0       0.0          1.0   \n",
       "208         0.0    0.0      1.0        0.0       0.0          0.0   \n",
       "1004        0.0    0.0      0.0        0.0       0.0          1.0   \n",
       "...         ...    ...      ...        ...       ...          ...   \n",
       "378         0.0    0.0      0.0        0.0       0.0          0.0   \n",
       "773         0.0    0.0      0.0        0.0       1.0          1.0   \n",
       "1520        0.0    0.0      0.0        0.0       0.0          0.0   \n",
       "107         0.0    1.0      0.0        0.0       0.0          0.0   \n",
       "744         0.0    0.0      0.0        0.0       0.0          1.0   \n",
       "\n",
       "      natural_gas  steam  \n",
       "575           0.0    0.0  \n",
       "632           0.0    0.0  \n",
       "1252          0.0    0.0  \n",
       "208           1.0    0.0  \n",
       "1004          0.0    0.0  \n",
       "...           ...    ...  \n",
       "378           1.0    0.0  \n",
       "773           0.0    0.0  \n",
       "1520          1.0    0.0  \n",
       "107           1.0    0.0  \n",
       "744           0.0    0.0  \n",
       "\n",
       "[1349 rows x 117 columns]"
      ]
     },
     "execution_count": 6,
     "metadata": {},
     "output_type": "execute_result"
    }
   ],
   "source": [
    "X_train"
   ]
  },
  {
   "cell_type": "code",
   "execution_count": 7,
   "id": "8dbcd0d8",
   "metadata": {},
   "outputs": [
    {
     "data": {
      "text/plain": [
       "array([[ 1.1864177 , -0.12345245, 11.1546713 , ...,  1.        ,\n",
       "         0.        ,  0.        ],\n",
       "       [-1.08569684, -0.12345245, -0.49740879, ...,  1.        ,\n",
       "         0.        ,  0.        ],\n",
       "       [-1.54011974, -0.12345245, -0.49740879, ...,  1.        ,\n",
       "         0.        ,  0.        ],\n",
       "       ...,\n",
       "       [-1.54011974, -0.12345245, -0.49740879, ...,  0.        ,\n",
       "         1.        ,  0.        ],\n",
       "       [-0.17685102,  0.67337699, -0.03132558, ...,  0.        ,\n",
       "         1.        ,  0.        ],\n",
       "       [ 0.7319948 , -0.12345245, -0.49740879, ...,  1.        ,\n",
       "         0.        ,  0.        ]])"
      ]
     },
     "execution_count": 7,
     "metadata": {},
     "output_type": "execute_result"
    }
   ],
   "source": [
    "X_train_std"
   ]
  },
  {
   "cell_type": "markdown",
   "id": "d35719c3",
   "metadata": {},
   "source": [
    "Ici on définit une première fonction qui va nous afficher les différentes mesures de qualité d'après les prédictions de nos modèles et une seconde fonction qui va entrainer le modèle du type passé en paramètre, faire des prédictions et appeler la première méthode pour afficher les résultats de ce modèle."
   ]
  },
  {
   "cell_type": "code",
   "execution_count": 8,
   "id": "3a353537",
   "metadata": {},
   "outputs": [],
   "source": [
    "mean_absolute_errors = {}\n",
    "mean_squared_errors = {}\n",
    "root_mean_squared_errors = {}\n",
    "rmpses = {}\n",
    "mean_absolute_percentage_errors = {}\n",
    "r2_scores = {}\n",
    "fit_times = {}\n",
    "predict_times = {}\n",
    "\n",
    "def fit_predict_and_show_metrics(model, Xtrain, Xtest, ytrain, ytest, model_name):\n",
    "    \"\"\"\n",
    "    Réalise l'entrainement du modèle et la prédiction sur les données de test,\n",
    "    puis calcule les métriques d'évaluation\n",
    "    \"\"\"\n",
    "    tps1 = time.time()\n",
    "    model.fit(Xtrain, ytrain)\n",
    "    tps2 = time.time()\n",
    "    ypred = model.predict(Xtest)\n",
    "    fit_times[model_name] = tps2 - tps1\n",
    "    predict_times[model_name] = time.time() - tps2\n",
    "    mean_absolute_errors[model_name] = mean_absolute_error(ytest, ypred)\n",
    "    mean_squared_errors[model_name] = mean_squared_error(ytest, ypred)\n",
    "    root_mean_squared_errors[model_name] = np.sqrt(mean_squared_errors[model_name])\n",
    "    rmpses[model_name] = np.sqrt(np.mean(np.square(((ytest - ypred) / ytest))))\n",
    "    mean_absolute_percentage_errors[model_name] = mean_absolute_percentage_error(ytest, ypred)\n",
    "    r2_scores[model_name] = r2_score(ytest, ypred)\n",
    "    print(\"===\", model_name, \"===\")\n",
    "    print(\"mean_absolute_error : {:.2f}\".format(mean_absolute_errors[model_name]))\n",
    "    print(\"mean_squared_error : {:.2f}\".format(mean_squared_errors[model_name]))\n",
    "    print(\"root_mean_squared_error : {:.2f}\".format(root_mean_squared_errors[model_name]))\n",
    "    print(\"rmpse : {:.2f}\".format(rmpses[model_name]))\n",
    "    print(\"mean_absolute_percentage_error : {:.2f}\".format(mean_absolute_percentage_errors[model_name]))\n",
    "    print(\"r2_score : {:.2f}\".format(r2_scores[model_name]))\n",
    "    print(\"fit_time : {:.2f}\".format(fit_times[model_name]))\n",
    "    print(\"predict_time : {:.2f}\\n\".format(predict_times[model_name]))"
   ]
  },
  {
   "cell_type": "markdown",
   "id": "3b184faa",
   "metadata": {},
   "source": [
    "On commence par entrainer un modèle \"Dummy\" (qui renvoie toujours la médiane) afin d'avoir une base de comparaison des autres résultats"
   ]
  },
  {
   "cell_type": "code",
   "execution_count": 9,
   "id": "86c42757",
   "metadata": {},
   "outputs": [
    {
     "name": "stdout",
     "output_type": "stream",
     "text": [
      "=== DummyRegressor ===\n",
      "mean_absolute_error : 1.01\n",
      "mean_squared_error : 1.70\n",
      "root_mean_squared_error : 1.30\n",
      "rmpse : 0.09\n",
      "mean_absolute_percentage_error : 0.07\n",
      "r2_score : -0.01\n",
      "fit_time : 0.00\n",
      "predict_time : 0.00\n",
      "\n"
     ]
    }
   ],
   "source": [
    "dummy_regressor = DummyRegressor(strategy=\"median\")\n",
    "fit_predict_and_show_metrics(dummy_regressor, X_train_std, X_test_std, y_train, y_test, 'DummyRegressor')"
   ]
  },
  {
   "cell_type": "markdown",
   "id": "78c6ed13",
   "metadata": {},
   "source": [
    "Puis on affiche les scores pour un modèle de régression linéaire et ses dérivées Ridge et Lasso :"
   ]
  },
  {
   "cell_type": "code",
   "execution_count": 10,
   "id": "bb33b4f7",
   "metadata": {},
   "outputs": [
    {
     "name": "stdout",
     "output_type": "stream",
     "text": [
      "=== LinearRegression ===\n",
      "mean_absolute_error : 0.77\n",
      "mean_squared_error : 3.14\n",
      "root_mean_squared_error : 1.77\n",
      "rmpse : 0.10\n",
      "mean_absolute_percentage_error : 0.05\n",
      "r2_score : -0.86\n",
      "fit_time : 0.02\n",
      "predict_time : 0.00\n",
      "\n"
     ]
    }
   ],
   "source": [
    "linear_regression = LinearRegression()   \n",
    "fit_predict_and_show_metrics(linear_regression, X_train, X_test, y_train, y_test, 'LinearRegression')"
   ]
  },
  {
   "cell_type": "code",
   "execution_count": 11,
   "id": "8b4619e4",
   "metadata": {},
   "outputs": [
    {
     "name": "stdout",
     "output_type": "stream",
     "text": [
      "=== Ridge ===\n",
      "mean_absolute_error : 0.76\n",
      "mean_squared_error : 3.33\n",
      "root_mean_squared_error : 1.82\n",
      "rmpse : 0.10\n",
      "mean_absolute_percentage_error : 0.05\n",
      "r2_score : -0.97\n",
      "fit_time : 0.00\n",
      "predict_time : 0.00\n",
      "\n"
     ]
    }
   ],
   "source": [
    "ridge = Ridge(random_state=123)\n",
    "fit_predict_and_show_metrics(ridge, X_train_std, X_test_std, y_train, y_test, 'Ridge')"
   ]
  },
  {
   "cell_type": "code",
   "execution_count": 12,
   "id": "a93a1754",
   "metadata": {},
   "outputs": [
    {
     "name": "stdout",
     "output_type": "stream",
     "text": [
      "=== Lasso ===\n",
      "mean_absolute_error : 1.02\n",
      "mean_squared_error : 1.69\n",
      "root_mean_squared_error : 1.30\n",
      "rmpse : 0.09\n",
      "mean_absolute_percentage_error : 0.07\n",
      "r2_score : -0.00\n",
      "fit_time : 0.01\n",
      "predict_time : 0.00\n",
      "\n"
     ]
    }
   ],
   "source": [
    "lasso = Lasso(random_state=123)\n",
    "fit_predict_and_show_metrics(lasso, X_train_std, X_test_std, y_train, y_test, 'Lasso')"
   ]
  },
  {
   "cell_type": "markdown",
   "id": "6a26be22",
   "metadata": {},
   "source": [
    "Pour ces 3 modèles linéaires, on constate que les scores sont \"catastrophiques\" : moins bons que le modèle Dummy utilisé comme référence.\n",
    "\n",
    "On va donc tester 3 autres types de modèles non-linéaires : le Gradient, le Random Forest et le Gradient Boosting."
   ]
  },
  {
   "cell_type": "code",
   "execution_count": 13,
   "id": "32e127cc",
   "metadata": {},
   "outputs": [
    {
     "name": "stdout",
     "output_type": "stream",
     "text": [
      "=== GradientBoostingRegressor ===\n",
      "mean_absolute_error : 0.48\n",
      "mean_squared_error : 0.44\n",
      "root_mean_squared_error : 0.66\n",
      "rmpse : 0.05\n",
      "mean_absolute_percentage_error : 0.03\n",
      "r2_score : 0.74\n",
      "fit_time : 0.34\n",
      "predict_time : 0.00\n",
      "\n",
      "---\n",
      "=== RandomForestRegressor ===\n",
      "mean_absolute_error : 0.50\n",
      "mean_squared_error : 0.47\n",
      "root_mean_squared_error : 0.69\n",
      "rmpse : 0.05\n",
      "mean_absolute_percentage_error : 0.03\n",
      "r2_score : 0.72\n",
      "fit_time : 1.28\n",
      "predict_time : 0.01\n",
      "\n",
      "---\n",
      "=== XGBRegressor ===\n",
      "mean_absolute_error : 0.54\n",
      "mean_squared_error : 0.55\n",
      "root_mean_squared_error : 0.74\n",
      "rmpse : 0.05\n",
      "mean_absolute_percentage_error : 0.04\n",
      "r2_score : 0.67\n",
      "fit_time : 0.24\n",
      "predict_time : 0.00\n",
      "\n"
     ]
    },
    {
     "name": "stderr",
     "output_type": "stream",
     "text": [
      "C:\\anaconda\\lib\\site-packages\\xgboost\\data.py:112: UserWarning: Use subset (sliced data) of np.ndarray is not recommended because it will generate extra copies and increase memory consumption\n",
      "  warnings.warn(\n"
     ]
    }
   ],
   "source": [
    "gradient_boosting_regressor = GradientBoostingRegressor(random_state=123)\n",
    "fit_predict_and_show_metrics(gradient_boosting_regressor, X_train, X_test, y_train, y_test, 'GradientBoostingRegressor')\n",
    "print(\"---\")\n",
    "random_forest_regressor = RandomForestRegressor(random_state=123)\n",
    "fit_predict_and_show_metrics(random_forest_regressor, X_train, X_test, y_train, y_test, 'RandomForestRegressor')\n",
    "print(\"---\")\n",
    "xgb_regressor = xgb.XGBRegressor(random_state=123)\n",
    "fit_predict_and_show_metrics(xgb_regressor, X_train, X_test, y_train, y_test, 'XGBRegressor')"
   ]
  },
  {
   "cell_type": "code",
   "execution_count": 14,
   "id": "35bf1159",
   "metadata": {},
   "outputs": [
    {
     "data": {
      "text/plain": [
       "{'alpha': 0.9,\n",
       " 'ccp_alpha': 0.0,\n",
       " 'criterion': 'friedman_mse',\n",
       " 'init': None,\n",
       " 'learning_rate': 0.1,\n",
       " 'loss': 'ls',\n",
       " 'max_depth': 3,\n",
       " 'max_features': None,\n",
       " 'max_leaf_nodes': None,\n",
       " 'min_impurity_decrease': 0.0,\n",
       " 'min_impurity_split': None,\n",
       " 'min_samples_leaf': 1,\n",
       " 'min_samples_split': 2,\n",
       " 'min_weight_fraction_leaf': 0.0,\n",
       " 'n_estimators': 100,\n",
       " 'n_iter_no_change': None,\n",
       " 'random_state': 123,\n",
       " 'subsample': 1.0,\n",
       " 'tol': 0.0001,\n",
       " 'validation_fraction': 0.1,\n",
       " 'verbose': 0,\n",
       " 'warm_start': False}"
      ]
     },
     "execution_count": 14,
     "metadata": {},
     "output_type": "execute_result"
    }
   ],
   "source": [
    "gradient_boosting_regressor.get_params()"
   ]
  },
  {
   "cell_type": "markdown",
   "id": "26c3dd0a",
   "metadata": {},
   "source": [
    "D'après les chiffres obtenus, le modèle du Gradient est le plus performant avec un score R2 de 92%.\n",
    "Nous allons donc essayer d'afiner ce résultat en modifiant ses paramètres."
   ]
  },
  {
   "cell_type": "code",
   "execution_count": 15,
   "id": "f5cd3add",
   "metadata": {},
   "outputs": [
    {
     "name": "stdout",
     "output_type": "stream",
     "text": [
      "Nombre de combinaisons de paramètres étudiées : 192\n"
     ]
    },
    {
     "name": "stderr",
     "output_type": "stream",
     "text": [
      "C:\\anaconda\\lib\\site-packages\\sklearn\\model_selection\\_search.py:918: UserWarning: One or more of the test scores are non-finite: [ 3.39861806e-01  3.39716815e-01  3.36420226e-01             nan\n",
      "  4.85950755e-01  4.82047042e-01  4.78628613e-01             nan\n",
      "  6.82460787e-01  6.82370632e-01  6.69889369e-01             nan\n",
      "  3.64192319e-01  3.73852146e-01  3.72442764e-01             nan\n",
      "  5.20444080e-01  5.27727016e-01  5.22910166e-01             nan\n",
      "  6.99130159e-01  7.12229930e-01  7.00762755e-01             nan\n",
      "  3.86709223e-01  4.06349908e-01  4.00305963e-01             nan\n",
      "  5.48250538e-01  5.72744956e-01  5.62025503e-01             nan\n",
      "  7.13365468e-01  7.23018312e-01  7.06701117e-01             nan\n",
      "  4.01250323e-01  4.34118452e-01  4.29744952e-01             nan\n",
      "  5.65013777e-01  6.01694163e-01  5.84363897e-01             nan\n",
      "  7.20761483e-01  7.13350376e-01  6.70728817e-01             nan\n",
      "  6.46832729e-01  6.81354043e-01  6.73887225e-01             nan\n",
      "  6.71410020e-01  7.10227605e-01  7.09245069e-01             nan\n",
      "  6.34625833e-01  7.04434852e-01  7.14195659e-01             nan\n",
      "  6.54552480e-01  7.04532794e-01  7.04300116e-01             nan\n",
      "  6.73687883e-01  7.15115562e-01  7.21117514e-01             nan\n",
      "  6.31231723e-01  6.98024522e-01  7.04105954e-01             nan\n",
      "  6.65918864e-01  7.07564925e-01  6.99336503e-01             nan\n",
      "  6.47683310e-01  7.09418810e-01  7.01765921e-01             nan\n",
      "  5.62686824e-01  6.85650606e-01  6.75912130e-01             nan\n",
      "  6.57605739e-01  6.89463493e-01  6.72973591e-01             nan\n",
      "  6.29900421e-01  6.83286699e-01  6.72152987e-01             nan\n",
      "  5.51584070e-01  6.81153989e-01  6.71188786e-01             nan\n",
      "  6.37578742e-01  7.09498249e-01  7.10686001e-01             nan\n",
      "  6.44099405e-01  7.02126590e-01  7.18989421e-01             nan\n",
      "  5.51194239e-01  6.62650420e-01  6.96910432e-01             nan\n",
      "  5.97999721e-01  7.02805020e-01  7.19928154e-01             nan\n",
      "  5.56764603e-01  6.92184254e-01  7.21914126e-01             nan\n",
      "  3.91941005e-01  6.54341896e-01  6.89496596e-01             nan\n",
      "  5.67061839e-01  6.92718987e-01  7.02726120e-01             nan\n",
      "  4.90244458e-01  6.82366565e-01  6.91260780e-01             nan\n",
      "  1.48426849e-01  6.60098366e-01  6.74999146e-01             nan\n",
      "  4.64298847e-01  6.71295360e-01  6.58450302e-01             nan\n",
      "  3.39901073e-01  6.67363807e-01  6.57353301e-01             nan\n",
      " -7.76717275e-02  6.66894559e-01  6.57337727e-01             nan\n",
      "  4.16202561e-01  6.72329072e-01  7.03243593e-01             nan\n",
      "  1.96548126e-01  6.48752036e-01  6.93973981e-01             nan\n",
      " -5.97044516e+00  5.67413290e-01  6.41718688e-01             nan\n",
      " -3.82138316e-02  6.20058137e-01  6.82555107e-01             nan\n",
      " -1.12055064e+00  5.83119237e-01  6.50194372e-01             nan\n",
      " -1.77612463e+02  5.28587520e-01  6.17444503e-01             nan\n",
      " -1.66060547e+00  5.49276543e-01  6.54857869e-01             nan\n",
      " -8.52780844e+00  5.24629819e-01  6.44367179e-01             nan\n",
      " -1.65100181e+05  5.21047975e-01  6.41382066e-01             nan\n",
      " -1.12862740e+01  4.73678345e-01  6.36211836e-01             nan\n",
      " -2.41753379e+02  4.72537209e-01  6.36203035e-01             nan\n",
      " -9.19413559e+11  4.72619902e-01  6.36202803e-01             nan]\n",
      "  warnings.warn(\n"
     ]
    },
    {
     "name": "stdout",
     "output_type": "stream",
     "text": [
      "best estimator : GradientBoostingRegressor(learning_rate=0.01, max_depth=5, n_estimators=500,\n",
      "                          random_state=123, subsample=0.5)\n",
      "best score : 0.7230183120740868\n",
      "best params : {'learning_rate': 0.01, 'max_depth': 5, 'n_estimators': 500, 'subsample': 0.5}\n",
      "\n",
      "Temps de traitement total : 78.67658829689026 secondes\n"
     ]
    }
   ],
   "source": [
    "def show_best_params_cv(estimator, parameters, X_train, y_train):\n",
    "    tps1 = time.time()\n",
    "    print(\"Nombre de combinaisons de paramètres étudiées :\", len(ParameterGrid(parameters)))\n",
    "    grid_search_cv = GridSearchCV(estimator = estimator, param_grid = parameters, cv = 3, n_jobs=-1)\n",
    "    grid_search_cv.fit(X_train, y_train)\n",
    "    print(\"best estimator :\", grid_search_cv.best_estimator_)\n",
    "    print(\"best score :\", grid_search_cv.best_score_)\n",
    "    print(\"best params :\", grid_search_cv.best_params_)\n",
    "    tps2 = time.time()\n",
    "    print(\"\\nTemps de traitement total :\", tps2 - tps1, \"secondes\")\n",
    "    \n",
    "gradient_boosting_regressor_parameters = {\n",
    "    'learning_rate': [ 0.01, 0.1, 0.2, 0.5 ],\n",
    "    'subsample'    : [ 0.1, 0.5, 1, 2 ],\n",
    "    'n_estimators' : [ 50, 100, 500 ],\n",
    "    'max_depth'    : [ 2, 3, 5, 10 ]\n",
    "}\n",
    "show_best_params_cv(GradientBoostingRegressor(random_state=123), gradient_boosting_regressor_parameters, X_train, y_train)"
   ]
  },
  {
   "cell_type": "markdown",
   "id": "3c3a49e5",
   "metadata": {},
   "source": [
    "On ré-exécute le Gradient avec les meilleurs paramètres trouvés sur le jeu de test afin de vérifier son score via la méthode précédente."
   ]
  },
  {
   "cell_type": "code",
   "execution_count": 16,
   "id": "d9ae2465",
   "metadata": {},
   "outputs": [
    {
     "name": "stdout",
     "output_type": "stream",
     "text": [
      "=== GradientBoostingRegressor ===\n",
      "mean_absolute_error : 0.48\n",
      "mean_squared_error : 0.45\n",
      "root_mean_squared_error : 0.67\n",
      "rmpse : 0.05\n",
      "mean_absolute_percentage_error : 0.03\n",
      "r2_score : 0.73\n",
      "fit_time : 1.75\n",
      "predict_time : 0.01\n",
      "\n"
     ]
    }
   ],
   "source": [
    "gradient_boosting_regressor = GradientBoostingRegressor(learning_rate=0.01, max_depth=5, n_estimators=500,\n",
    "                          random_state=123, subsample=0.5)\n",
    "fit_predict_and_show_metrics(gradient_boosting_regressor, X_train, X_test, y_train, y_test, 'GradientBoostingRegressor')"
   ]
  },
  {
   "cell_type": "markdown",
   "id": "1c84c0c9",
   "metadata": {},
   "source": [
    "On essaie d'affiner les résultats du Random Forest, pour voir s'il dépasse le Gradient avec des meilleurs paramètres."
   ]
  },
  {
   "cell_type": "code",
   "execution_count": 17,
   "id": "375db26e",
   "metadata": {},
   "outputs": [
    {
     "data": {
      "text/plain": [
       "{'bootstrap': True,\n",
       " 'ccp_alpha': 0.0,\n",
       " 'criterion': 'mse',\n",
       " 'max_depth': None,\n",
       " 'max_features': 'auto',\n",
       " 'max_leaf_nodes': None,\n",
       " 'max_samples': None,\n",
       " 'min_impurity_decrease': 0.0,\n",
       " 'min_impurity_split': None,\n",
       " 'min_samples_leaf': 1,\n",
       " 'min_samples_split': 2,\n",
       " 'min_weight_fraction_leaf': 0.0,\n",
       " 'n_estimators': 100,\n",
       " 'n_jobs': None,\n",
       " 'oob_score': False,\n",
       " 'random_state': 123,\n",
       " 'verbose': 0,\n",
       " 'warm_start': False}"
      ]
     },
     "execution_count": 17,
     "metadata": {},
     "output_type": "execute_result"
    }
   ],
   "source": [
    "random_forest_regressor.get_params()"
   ]
  },
  {
   "cell_type": "code",
   "execution_count": 18,
   "id": "f8c26596",
   "metadata": {},
   "outputs": [
    {
     "name": "stdout",
     "output_type": "stream",
     "text": [
      "Nombre de combinaisons de paramètres étudiées : 216\n"
     ]
    },
    {
     "name": "stderr",
     "output_type": "stream",
     "text": [
      "C:\\anaconda\\lib\\site-packages\\sklearn\\model_selection\\_search.py:918: UserWarning: One or more of the test scores are non-finite: [       nan        nan        nan 0.69326176 0.69679007 0.69647018\n",
      " 0.69429819 0.69849268 0.69741116        nan        nan        nan\n",
      " 0.69229905 0.69362336 0.69315565 0.69229905 0.69362336 0.69315565\n",
      "        nan        nan        nan 0.6862437  0.68645624 0.68573671\n",
      " 0.6862437  0.68645624 0.68573671        nan        nan        nan\n",
      " 0.69326176 0.69679007 0.69647018 0.69429819 0.69849268 0.69741116\n",
      "        nan        nan        nan 0.69229905 0.69362336 0.69315565\n",
      " 0.69229905 0.69362336 0.69315565        nan        nan        nan\n",
      " 0.6862437  0.68645624 0.68573671 0.6862437  0.68645624 0.68573671\n",
      "        nan        nan        nan 0.69326176 0.69679007 0.69647018\n",
      " 0.69429819 0.69849268 0.69741116        nan        nan        nan\n",
      " 0.69229905 0.69362336 0.69315565 0.69229905 0.69362336 0.69315565\n",
      "        nan        nan        nan 0.6862437  0.68645624 0.68573671\n",
      " 0.6862437  0.68645624 0.68573671        nan        nan        nan\n",
      " 0.69326176 0.69679007 0.69647018 0.69429819 0.69849268 0.69741116\n",
      "        nan        nan        nan 0.69229905 0.69362336 0.69315565\n",
      " 0.69229905 0.69362336 0.69315565        nan        nan        nan\n",
      " 0.6862437  0.68645624 0.68573671 0.6862437  0.68645624 0.68573671\n",
      "        nan        nan        nan 0.48645102 0.48732515 0.48718162\n",
      " 0.48853424 0.48870646 0.48851574        nan        nan        nan\n",
      " 0.51445453 0.51436735 0.514769   0.51445453 0.51436735 0.514769\n",
      "        nan        nan        nan 0.51189516 0.51195439 0.51189277\n",
      " 0.51189516 0.51195439 0.51189277        nan        nan        nan\n",
      " 0.48645102 0.48732515 0.48718162 0.48853424 0.48870646 0.48851574\n",
      "        nan        nan        nan 0.51445453 0.51436735 0.514769\n",
      " 0.51445453 0.51436735 0.514769          nan        nan        nan\n",
      " 0.51189516 0.51195439 0.51189277 0.51189516 0.51195439 0.51189277\n",
      "        nan        nan        nan 0.48645102 0.48732515 0.48718162\n",
      " 0.48853424 0.48870646 0.48851574        nan        nan        nan\n",
      " 0.51445453 0.51436735 0.514769   0.51445453 0.51436735 0.514769\n",
      "        nan        nan        nan 0.51189516 0.51195439 0.51189277\n",
      " 0.51189516 0.51195439 0.51189277        nan        nan        nan\n",
      " 0.48645102 0.48732515 0.48718162 0.48853424 0.48870646 0.48851574\n",
      "        nan        nan        nan 0.51445453 0.51436735 0.514769\n",
      " 0.51445453 0.51436735 0.514769          nan        nan        nan\n",
      " 0.51189516 0.51195439 0.51189277 0.51189516 0.51195439 0.51189277]\n",
      "  warnings.warn(\n"
     ]
    },
    {
     "name": "stdout",
     "output_type": "stream",
     "text": [
      "best estimator : RandomForestRegressor(min_samples_split=3, n_estimators=200, random_state=123)\n",
      "best score : 0.698492675656389\n",
      "best params : {'bootstrap': True, 'max_depth': None, 'min_samples_leaf': 1, 'min_samples_split': 3, 'n_estimators': 200}\n",
      "\n",
      "Temps de traitement total : 333.289936542511 secondes\n"
     ]
    }
   ],
   "source": [
    "random_forest_parameters = {\n",
    "    'bootstrap': [True, False],\n",
    "    'max_depth': [None, 50, 60, 80],\n",
    "    'min_samples_leaf': [1, 2, 3],\n",
    "    'min_samples_split': [1, 2, 3],\n",
    "    'n_estimators': [100, 200, 500]\n",
    "}\n",
    "show_best_params_cv(RandomForestRegressor(random_state=123), random_forest_parameters, X_train, y_train)"
   ]
  },
  {
   "cell_type": "code",
   "execution_count": 19,
   "id": "46b2ff24",
   "metadata": {},
   "outputs": [
    {
     "name": "stdout",
     "output_type": "stream",
     "text": [
      "=== RandomForestRegressor ===\n",
      "mean_absolute_error : 0.50\n",
      "mean_squared_error : 0.48\n",
      "root_mean_squared_error : 0.69\n",
      "rmpse : 0.05\n",
      "mean_absolute_percentage_error : 0.03\n",
      "r2_score : 0.72\n",
      "fit_time : 7.08\n",
      "predict_time : 0.08\n",
      "\n"
     ]
    }
   ],
   "source": [
    "random_forest_regressor = RandomForestRegressor(n_estimators=500, random_state=123)\n",
    "fit_predict_and_show_metrics(random_forest_regressor, X_train, X_test, y_train, y_test, 'RandomForestRegressor')"
   ]
  },
  {
   "cell_type": "markdown",
   "id": "fe60a49e",
   "metadata": {},
   "source": [
    "On regarde l'importance des features pour le Random Forest :"
   ]
  },
  {
   "cell_type": "code",
   "execution_count": 20,
   "id": "bb626223",
   "metadata": {},
   "outputs": [
    {
     "data": {
      "image/png": "[encoded data removed]",
      "text/plain": [
       "<Figure size 864x432 with 1 Axes>"
      ]
     },
     "metadata": {
      "needs_background": "light"
     },
     "output_type": "display_data"
    }
   ],
   "source": [
    "SEUIL = 0.01 # on définit un seuil d'importance\n",
    "\n",
    "def show_important_features(regressor, columns, label):\n",
    "    importances = []\n",
    "    cols = []\n",
    "    for importance, col in zip(regressor.feature_importances_, columns):\n",
    "        if importance > SEUIL:\n",
    "            importances.append(importance)\n",
    "            cols.append(col)\n",
    "\n",
    "    estimators_importances = []\n",
    "    for estimator in regressor.estimators_:\n",
    "        estimator_importances = []\n",
    "        for importance, col in zip(estimator.feature_importances_, columns):\n",
    "            if col in cols:\n",
    "                estimator_importances.append(importance)\n",
    "        estimators_importances.append(estimator_importances)\n",
    "    std = np.std(estimators_importances, axis=0)\n",
    "\n",
    "    forest_importances = pd.Series(importances, index=cols)\n",
    "\n",
    "    fig, ax = plt.subplots(figsize=(12,6))\n",
    "    forest_importances.plot.bar(yerr=std, ax=ax)\n",
    "    ax.set_title(\"Feature importances pour \" + label)\n",
    "    fig.tight_layout()\n",
    "    \n",
    "show_important_features(random_forest_regressor, X.columns, \"consommation\")"
   ]
  },
  {
   "cell_type": "markdown",
   "id": "2eb4c638",
   "metadata": {},
   "source": [
    "On constate que le nombre d'étage et les surfaces des bâtiments sont très importantes pour prédire leur consommation d'énergie, mais également l'âge du bâtiment et sa position géographique. Certains types de bâtiments semblent également déterminer la consommation."
   ]
  },
  {
   "cell_type": "code",
   "execution_count": 21,
   "id": "0137f352",
   "metadata": {},
   "outputs": [
    {
     "name": "stdout",
     "output_type": "stream",
     "text": [
      "['CouncilDistrictCode', 'NumberofBuildings', 'NumberofFloors', 'PropertyGFAParking', 'PropertyGFABuilding(s)', 'SecondLargestPropertyUseTypeGFA', 'ThirdLargestPropertyUseTypeGFA', 'Latitude', 'Longitude', 'age', 'Office', 'Medical Office', 'Other', 'Retail Store', 'Non-Refrigerated Warehouse', 'K-12 School', 'Restaurant', 'Outpatient Rehabilitation/Physical Therapy', 'Automobile Dealership', 'Performing Arts', 'Hotel', 'Police Station', 'Other - Entertainment/Public Assembly', 'Library', 'Fitness Center/Health Club/Gym', 'Social/Meeting Hall', 'Courthouse', 'College/University', 'Self-Storage Facility', 'Other - Mall', 'Senior Care Community', 'Hospital (General Medical & Surgical)', 'Museum', 'Repair Services (Vehicle, Shoe, Locksmith, etc)', 'Other - Lodging/Residential', 'Residence Hall/Dormitory', 'Other/Specialty Hospital', 'Financial Office', 'Distribution Center', 'Parking', 'Multifamily Housing', 'Worship Facility', 'Data Center', 'Laboratory', 'Supermarket/Grocery Store', 'Urgent Care/Clinic/Other Outpatient', 'Other - Services', 'Strip Mall', 'Wholesale Club/Supercenter', 'Refrigerated Warehouse', 'Manufacturing/Industrial Plant', 'Other - Recreation', 'Lifestyle Center', 'Other - Public Services', 'Fire Station', 'Residential Care Facility', 'Bank Branch', 'Other - Education', 'Other - Restaurant/Bar', 'Food Service', 'Adult Education', 'Other - Utility', 'Movie Theater', 'Personal Services (Health/Beauty, Dry Cleaning, etc)', 'Pre-school/Daycare', 'Prison/Incarceration', 'Vocational School', 'Swimming Pool', 'Convenience Store without Gas Station', 'Enclosed Mall', 'Bar/Nightclub', 'Food Sales', 'Other - Technology/Science', 'Fast Food Restaurant', 'NonResidential', 'Campus', 'Nonresidential COS', 'SPS-District K-12', 'Nonresidential WA', 'Retail Store.1', 'Small- and Mid-Sized Office', 'Large Office', 'Non-Refrigerated Warehouse.1', 'Medical Office.1', 'Other.1', 'K-12 School.1', 'Worship Facility.1', 'Restaurant.1', 'Mixed Use Property', 'Hotel.1', 'University', 'Self-Storage Facility.1', 'Warehouse', 'Senior Care Community.1', 'Hospital', 'Residence Hall', 'Distribution Center.1', 'Supermarket / Grocery Store', 'Laboratory.1', 'Refrigerated Warehouse.1', 'Office.1', 'DOWNTOWN', 'LAKE UNION', 'GREATER DUWAMISH', 'EAST', 'NORTHWEST', 'SOUTHEAST', 'BALLARD', 'MAGNOLIA / QUEEN ANNE', 'NORTHEAST', 'NORTH', 'CENTRAL', 'SOUTHWEST', 'DELRIDGE', 'electricity', 'natural_gas', 'steam']\n"
     ]
    }
   ],
   "source": [
    "print(X.columns.tolist())"
   ]
  },
  {
   "cell_type": "code",
   "execution_count": 22,
   "id": "1c64fdbf",
   "metadata": {},
   "outputs": [
    {
     "data": {
      "text/plain": [
       "{'objective': 'reg:squarederror',\n",
       " 'base_score': 0.5,\n",
       " 'booster': 'gbtree',\n",
       " 'colsample_bylevel': 1,\n",
       " 'colsample_bynode': 1,\n",
       " 'colsample_bytree': 1,\n",
       " 'gamma': 0,\n",
       " 'gpu_id': -1,\n",
       " 'importance_type': 'gain',\n",
       " 'interaction_constraints': '',\n",
       " 'learning_rate': 0.300000012,\n",
       " 'max_delta_step': 0,\n",
       " 'max_depth': 6,\n",
       " 'min_child_weight': 1,\n",
       " 'missing': nan,\n",
       " 'monotone_constraints': '()',\n",
       " 'n_estimators': 100,\n",
       " 'n_jobs': 8,\n",
       " 'num_parallel_tree': 1,\n",
       " 'random_state': 123,\n",
       " 'reg_alpha': 0,\n",
       " 'reg_lambda': 1,\n",
       " 'scale_pos_weight': 1,\n",
       " 'subsample': 1,\n",
       " 'tree_method': 'exact',\n",
       " 'validate_parameters': 1,\n",
       " 'verbosity': None}"
      ]
     },
     "execution_count": 22,
     "metadata": {},
     "output_type": "execute_result"
    }
   ],
   "source": [
    "xgb_regressor.get_params()"
   ]
  },
  {
   "cell_type": "code",
   "execution_count": 23,
   "id": "c675827e",
   "metadata": {},
   "outputs": [
    {
     "name": "stdout",
     "output_type": "stream",
     "text": [
      "Nombre de combinaisons de paramètres étudiées : 2187\n"
     ]
    },
    {
     "name": "stderr",
     "output_type": "stream",
     "text": [
      "C:\\anaconda\\lib\\site-packages\\sklearn\\model_selection\\_search.py:918: UserWarning: One or more of the test scores are non-finite: [-0.15976783 -0.15823549         nan ...         nan         nan\n",
      "         nan]\n",
      "  warnings.warn(\n"
     ]
    },
    {
     "name": "stdout",
     "output_type": "stream",
     "text": [
      "best estimator : XGBRegressor(base_score=0.5, booster='gbtree', colsample_bylevel=1,\n",
      "             colsample_bynode=1, colsample_bytree=1, gamma=0.5, gpu_id=-1,\n",
      "             importance_type='gain', interaction_constraints='',\n",
      "             learning_rate=0.1, max_delta_step=0, max_depth=6,\n",
      "             min_child_weight=5, missing=nan, monotone_constraints='()',\n",
      "             n_estimators=100, n_jobs=8, num_parallel_tree=1, random_state=123,\n",
      "             reg_alpha=0, reg_lambda=1, scale_pos_weight=1, subsample=1,\n",
      "             tree_method='exact', validate_parameters=1, verbosity=None)\n",
      "best score : 0.7296670299425871\n",
      "best params : {'colsample_bytree': 1, 'gamma': 0.5, 'learning_rate': 0.1, 'max_depth': 6, 'min_child_weight': 5, 'n_estimators': 100, 'subsample': 1}\n",
      "\n",
      "Temps de traitement total : 624.2187986373901 secondes\n"
     ]
    }
   ],
   "source": [
    "xgb_regressor_parameters = {\n",
    "    'gamma':[ 0, 0.5, 1 ],\n",
    "    'learning_rate': [ .05, .1, .3 ],\n",
    "    'max_depth': [ 2, 6, 10 ],\n",
    "    'min_child_weight': [ 1, 5, 10 ],\n",
    "    'subsample': [ 0.5, 1, 2 ],\n",
    "    'colsample_bytree': [ 0.5, 1, 2 ],\n",
    "    'n_estimators': [ 50, 100, 200 ]\n",
    "}\n",
    "show_best_params_cv(xgb.XGBRegressor(random_state=123), xgb_regressor_parameters, X_train, y_train)"
   ]
  },
  {
   "cell_type": "code",
   "execution_count": 24,
   "id": "fb49b956",
   "metadata": {},
   "outputs": [
    {
     "name": "stdout",
     "output_type": "stream",
     "text": [
      "=== XGBRegressor ===\n",
      "mean_absolute_error : 0.48\n",
      "mean_squared_error : 0.45\n",
      "root_mean_squared_error : 0.67\n",
      "rmpse : 0.05\n",
      "mean_absolute_percentage_error : 0.03\n",
      "r2_score : 0.73\n",
      "fit_time : 0.67\n",
      "predict_time : 0.01\n",
      "\n"
     ]
    },
    {
     "name": "stderr",
     "output_type": "stream",
     "text": [
      "C:\\anaconda\\lib\\site-packages\\xgboost\\data.py:112: UserWarning: Use subset (sliced data) of np.ndarray is not recommended because it will generate extra copies and increase memory consumption\n",
      "  warnings.warn(\n"
     ]
    }
   ],
   "source": [
    "xgb_regressor = xgb.XGBRegressor(base_score=0.5, booster='gbtree', colsample_bylevel=1,\n",
    "             colsample_bynode=1, colsample_bytree=1, gamma=0, gpu_id=-1,\n",
    "             importance_type='gain', interaction_constraints='',\n",
    "             learning_rate=0.1, max_delta_step=0, max_depth=6,\n",
    "             min_child_weight=5, monotone_constraints='()',\n",
    "             n_estimators=100, n_jobs=8, num_parallel_tree=1, random_state=123,\n",
    "             reg_alpha=0, reg_lambda=1, scale_pos_weight=1, subsample=1,\n",
    "             tree_method='exact', validate_parameters=1, verbosity=None)\n",
    "\n",
    "fit_predict_and_show_metrics(xgb_regressor, X_train, X_test, y_train, y_test, 'XGBRegressor')"
   ]
  },
  {
   "cell_type": "markdown",
   "id": "f8b53860",
   "metadata": {},
   "source": [
    "Comparaison des scores obtenus pour chaque modèle"
   ]
  },
  {
   "cell_type": "code",
   "execution_count": 25,
   "id": "07d0948b",
   "metadata": {
    "scrolled": false
   },
   "outputs": [
    {
     "data": {
      "image/png": "[encoded data removed]",
      "text/plain": [
       "<Figure size 864x432 with 1 Axes>"
      ]
     },
     "metadata": {
      "needs_background": "light"
     },
     "output_type": "display_data"
    },
    {
     "data": {
      "image/png": "[encoded data removed]",
      "text/plain": [
       "<Figure size 864x432 with 1 Axes>"
      ]
     },
     "metadata": {
      "needs_background": "light"
     },
     "output_type": "display_data"
    },
    {
     "data": {
      "image/png": "[encoded data removed]",
      "text/plain": [
       "<Figure size 864x432 with 1 Axes>"
      ]
     },
     "metadata": {
      "needs_background": "light"
     },
     "output_type": "display_data"
    },
    {
     "data": {
      "image/png": "[encoded data removed]",
      "text/plain": [
       "<Figure size 864x432 with 1 Axes>"
      ]
     },
     "metadata": {
      "needs_background": "light"
     },
     "output_type": "display_data"
    },
    {
     "data": {
      "image/png": "[encoded data removed]",
      "text/plain": [
       "<Figure size 864x432 with 1 Axes>"
      ]
     },
     "metadata": {
      "needs_background": "light"
     },
     "output_type": "display_data"
    }
   ],
   "source": [
    "metrics = {\n",
    "    'mean_absolute_error': mean_absolute_errors,\n",
    "    'root_mean_squared_error': root_mean_squared_errors,\n",
    "    'r2_score': r2_scores,\n",
    "    'fit_times': fit_times,\n",
    "    'predict_times': predict_times\n",
    "}\n",
    "width = 20\n",
    "x = width * 5\n",
    "for metric in metrics.keys():\n",
    "    fig, ax = plt.subplots(figsize=(12,6))\n",
    "    x_decalage = x - 5*width/2\n",
    "    for model_name, color in zip(metrics[metric].keys(), cm.Set1.colors):\n",
    "        ax.bar(x_decalage, metrics[metric][model_name], width, label=model_name, color=color)\n",
    "        x_decalage = x_decalage + width\n",
    "    x = x + width * 5\n",
    "    ax.set_title('Comparaison des ' + metric + ' pour chaque modèle')\n",
    "    ax.axes.get_xaxis().set_visible(False)\n",
    "    ax.legend()\n",
    "    plt.show()\n"
   ]
  },
  {
   "cell_type": "markdown",
   "id": "8e0acf08",
   "metadata": {},
   "source": [
    "On refait maintenant l'exercice avec la seconde target : les émissions de gaz à effet de serre."
   ]
  },
  {
   "cell_type": "code",
   "execution_count": 26,
   "id": "7550c94d",
   "metadata": {},
   "outputs": [
    {
     "name": "stdout",
     "output_type": "stream",
     "text": [
      "=== DummyRegressor ===\n",
      "mean_absolute_error : 1.23\n",
      "mean_squared_error : 2.63\n",
      "root_mean_squared_error : 1.62\n",
      "rmpse : 4.09\n",
      "mean_absolute_percentage_error : 1.00\n",
      "r2_score : -0.00\n",
      "fit_time : 0.00\n",
      "predict_time : 0.00\n",
      "\n",
      "---\n",
      "=== LinearRegression ===\n",
      "mean_absolute_error : 0.96\n",
      "mean_squared_error : 4.24\n",
      "root_mean_squared_error : 2.06\n",
      "rmpse : 2.63\n",
      "mean_absolute_percentage_error : 0.66\n",
      "r2_score : -0.61\n",
      "fit_time : 0.01\n",
      "predict_time : 0.01\n",
      "\n",
      "---\n",
      "=== Ridge ===\n",
      "mean_absolute_error : 0.96\n",
      "mean_squared_error : 4.49\n",
      "root_mean_squared_error : 2.12\n",
      "rmpse : 2.67\n",
      "mean_absolute_percentage_error : 0.67\n",
      "r2_score : -0.71\n",
      "fit_time : 0.00\n",
      "predict_time : 0.00\n",
      "\n",
      "---\n",
      "=== Lasso ===\n",
      "mean_absolute_error : 1.24\n",
      "mean_squared_error : 2.63\n",
      "root_mean_squared_error : 1.62\n",
      "rmpse : 4.12\n",
      "mean_absolute_percentage_error : 1.01\n",
      "r2_score : -0.00\n",
      "fit_time : 0.00\n",
      "predict_time : 0.00\n",
      "\n"
     ]
    }
   ],
   "source": [
    "X_train, X_test, y_train, y_test = train_test_split(X, y_emissions, test_size=0.2)\n",
    "ct = ColumnTransformer([\n",
    "        ('transformer_categ_columns', StandardScaler(), \n",
    "           ['CouncilDistrictCode', 'NumberofBuildings', 'NumberofFloors', 'PropertyGFAParking', \n",
    "            'PropertyGFABuilding(s)', 'SecondLargestPropertyUseTypeGFA', 'ThirdLargestPropertyUseTypeGFA', \n",
    "            'Latitude', 'Longitude', 'age'])\n",
    "    ], remainder='passthrough').fit(X_train)\n",
    "X_train_std = ct.transform(X_train)\n",
    "X_test_std = ct.transform(X_test)\n",
    "\n",
    "mean_absolute_errors = {}\n",
    "mean_squared_errors = {}\n",
    "root_mean_squared_errors = {}\n",
    "rmpses = {}\n",
    "mean_absolute_percentage_errors = {}\n",
    "r2_scores = {}\n",
    "fit_times = {}\n",
    "predict_times = {}\n",
    "\n",
    "dummy_regressor = DummyRegressor(strategy=\"median\")\n",
    "fit_predict_and_show_metrics(dummy_regressor, X_train_std, X_test_std, y_train, y_test, 'DummyRegressor')\n",
    "print(\"---\")\n",
    "linear_regression = LinearRegression()   \n",
    "fit_predict_and_show_metrics(linear_regression, X_train, X_test, y_train, y_test, 'LinearRegression')\n",
    "print(\"---\")\n",
    "ridge = Ridge(random_state=123)\n",
    "fit_predict_and_show_metrics(ridge, X_train_std, X_test_std, y_train, y_test, 'Ridge')\n",
    "print(\"---\")\n",
    "lasso = Lasso(random_state=123)\n",
    "fit_predict_and_show_metrics(lasso, X_train_std, X_test_std, y_train, y_test, 'Lasso')"
   ]
  },
  {
   "cell_type": "code",
   "execution_count": 27,
   "id": "4ba704fe",
   "metadata": {
    "scrolled": false
   },
   "outputs": [
    {
     "name": "stdout",
     "output_type": "stream",
     "text": [
      "Nombre de combinaisons de paramètres étudiées : 192\n"
     ]
    },
    {
     "name": "stderr",
     "output_type": "stream",
     "text": [
      "C:\\anaconda\\lib\\site-packages\\sklearn\\model_selection\\_search.py:918: UserWarning: One or more of the test scores are non-finite: [ 2.66156670e-01  2.77030917e-01  2.76884506e-01             nan\n",
      "  3.89523866e-01  4.01207250e-01  3.96056890e-01             nan\n",
      "  5.81713694e-01  5.95777321e-01  5.84735393e-01             nan\n",
      "  2.95111458e-01  3.21841838e-01  3.20912102e-01             nan\n",
      "  4.29800730e-01  4.57065341e-01  4.59356227e-01             nan\n",
      "  6.00675596e-01  6.22990855e-01  6.13122947e-01             nan\n",
      "  3.20408047e-01  3.57653268e-01  3.61932927e-01             nan\n",
      "  4.62038014e-01  4.99505431e-01  5.00607429e-01             nan\n",
      "  6.14010874e-01  6.28341132e-01  6.15537085e-01             nan\n",
      "  3.31538999e-01  3.80334253e-01  3.89458739e-01             nan\n",
      "  4.75718829e-01  5.21868832e-01  5.15043210e-01             nan\n",
      "  6.19049924e-01  6.13435542e-01  5.70270518e-01             nan\n",
      "  5.39969119e-01  5.95873769e-01  5.86097793e-01             nan\n",
      "  5.64532357e-01  6.23623463e-01  6.17056682e-01             nan\n",
      "  5.36049117e-01  6.06982301e-01  6.16494630e-01             nan\n",
      "  5.46543562e-01  6.13890877e-01  6.13908242e-01             nan\n",
      "  5.60218016e-01  6.20831700e-01  6.25388734e-01             nan\n",
      "  5.11111156e-01  5.93788752e-01  5.96179309e-01             nan\n",
      "  5.49992095e-01  6.17110538e-01  6.15972312e-01             nan\n",
      "  5.44285185e-01  6.12876470e-01  6.06843403e-01             nan\n",
      "  4.59327373e-01  5.85774644e-01  5.79776870e-01             nan\n",
      "  5.30415108e-01  5.75579215e-01  5.68769470e-01             nan\n",
      "  5.10111667e-01  5.67688993e-01  5.68047741e-01             nan\n",
      "  3.79294517e-01  5.64348182e-01  5.64835350e-01             nan\n",
      "  5.13747746e-01  6.16360988e-01  6.18333539e-01             nan\n",
      "  5.15218315e-01  6.16885455e-01  6.23277403e-01             nan\n",
      "  3.55553729e-01  5.57508743e-01  5.76615696e-01             nan\n",
      "  5.09799648e-01  6.08565232e-01  6.26232652e-01             nan\n",
      "  4.49776521e-01  6.00169551e-01  6.17112673e-01             nan\n",
      "  2.24623654e-01  5.44726083e-01  5.61473075e-01             nan\n",
      "  3.94753727e-01  6.06535567e-01  5.94935918e-01             nan\n",
      "  3.19585935e-01  5.78522478e-01  5.82367022e-01             nan\n",
      " -1.81375339e-01  5.61871018e-01  5.63821615e-01             nan\n",
      "  3.63140756e-01  5.34070215e-01  5.56661459e-01             nan\n",
      "  1.71223767e-01  5.30217382e-01  5.55487217e-01             nan\n",
      " -4.19530073e-01  5.29327507e-01  5.55195914e-01             nan\n",
      "  1.51796486e-01  5.54245545e-01  6.13668241e-01             nan\n",
      " -3.68753094e-01  5.30458258e-01  5.94538784e-01             nan\n",
      " -9.61761209e+00  4.19575701e-01  5.33061396e-01             nan\n",
      " -2.73184512e-01  4.94276949e-01  5.68174375e-01             nan\n",
      " -1.66808413e+00  4.25975553e-01  5.27003504e-01             nan\n",
      " -4.36357003e+02  3.35645215e-01  4.86177361e-01             nan\n",
      " -1.99794918e+00  3.55607588e-01  5.24872015e-01             nan\n",
      " -1.09514369e+01  3.11824276e-01  5.13958801e-01             nan\n",
      " -3.58201885e+05  2.95047246e-01  5.11640730e-01             nan\n",
      " -1.26885801e+01  3.08691121e-01  5.25656960e-01             nan\n",
      " -3.14523274e+02  3.10148011e-01  5.25679918e-01             nan\n",
      " -6.62073068e+11  3.10025923e-01  5.25679774e-01             nan]\n",
      "  warnings.warn(\n"
     ]
    },
    {
     "name": "stdout",
     "output_type": "stream",
     "text": [
      "best estimator : GradientBoostingRegressor(learning_rate=0.01, max_depth=5, n_estimators=500,\n",
      "                          random_state=123, subsample=0.5)\n",
      "best score : 0.6283411318138509\n",
      "best params : {'learning_rate': 0.01, 'max_depth': 5, 'n_estimators': 500, 'subsample': 0.5}\n",
      "\n",
      "Temps de traitement total : 76.8165283203125 secondes\n",
      "Nombre de combinaisons de paramètres étudiées : 216\n"
     ]
    },
    {
     "name": "stderr",
     "output_type": "stream",
     "text": [
      "C:\\anaconda\\lib\\site-packages\\sklearn\\model_selection\\_search.py:918: UserWarning: One or more of the test scores are non-finite: [       nan        nan        nan 0.59671964 0.59827289 0.59926298\n",
      " 0.59585487 0.59860195 0.60002692        nan        nan        nan\n",
      " 0.58489395 0.58584239 0.58805575 0.58489395 0.58584239 0.58805575\n",
      "        nan        nan        nan 0.57745692 0.58147097 0.58415678\n",
      " 0.57745692 0.58147097 0.58415678        nan        nan        nan\n",
      " 0.59671964 0.59827289 0.59926298 0.59585487 0.59860195 0.60002692\n",
      "        nan        nan        nan 0.58489395 0.58584239 0.58805575\n",
      " 0.58489395 0.58584239 0.58805575        nan        nan        nan\n",
      " 0.57745692 0.58147097 0.58415678 0.57745692 0.58147097 0.58415678\n",
      "        nan        nan        nan 0.59671964 0.59827289 0.59926298\n",
      " 0.59585487 0.59860195 0.60002692        nan        nan        nan\n",
      " 0.58489395 0.58584239 0.58805575 0.58489395 0.58584239 0.58805575\n",
      "        nan        nan        nan 0.57745692 0.58147097 0.58415678\n",
      " 0.57745692 0.58147097 0.58415678        nan        nan        nan\n",
      " 0.59671964 0.59827289 0.59926298 0.59585487 0.59860195 0.60002692\n",
      "        nan        nan        nan 0.58489395 0.58584239 0.58805575\n",
      " 0.58489395 0.58584239 0.58805575        nan        nan        nan\n",
      " 0.57745692 0.58147097 0.58415678 0.57745692 0.58147097 0.58415678\n",
      "        nan        nan        nan 0.28938783 0.29085336 0.29295768\n",
      " 0.29823067 0.29839666 0.29907144        nan        nan        nan\n",
      " 0.3073307  0.30820472 0.30823135 0.3073307  0.30820472 0.30823135\n",
      "        nan        nan        nan 0.34854916 0.34856032 0.34846985\n",
      " 0.34854916 0.34856032 0.34846985        nan        nan        nan\n",
      " 0.28938783 0.29085336 0.29295768 0.29823067 0.29839666 0.29907144\n",
      "        nan        nan        nan 0.3073307  0.30820472 0.30823135\n",
      " 0.3073307  0.30820472 0.30823135        nan        nan        nan\n",
      " 0.34854916 0.34856032 0.34846985 0.34854916 0.34856032 0.34846985\n",
      "        nan        nan        nan 0.28938783 0.29085336 0.29295768\n",
      " 0.29823067 0.29839666 0.29907144        nan        nan        nan\n",
      " 0.3073307  0.30820472 0.30823135 0.3073307  0.30820472 0.30823135\n",
      "        nan        nan        nan 0.34854916 0.34856032 0.34846985\n",
      " 0.34854916 0.34856032 0.34846985        nan        nan        nan\n",
      " 0.28938783 0.29085336 0.29295768 0.29823067 0.29839666 0.29907144\n",
      "        nan        nan        nan 0.3073307  0.30820472 0.30823135\n",
      " 0.3073307  0.30820472 0.30823135        nan        nan        nan\n",
      " 0.34854916 0.34856032 0.34846985 0.34854916 0.34856032 0.34846985]\n",
      "  warnings.warn(\n"
     ]
    },
    {
     "name": "stdout",
     "output_type": "stream",
     "text": [
      "best estimator : RandomForestRegressor(min_samples_split=3, n_estimators=500, random_state=123)\n",
      "best score : 0.6000269172587854\n",
      "best params : {'bootstrap': True, 'max_depth': None, 'min_samples_leaf': 1, 'min_samples_split': 3, 'n_estimators': 500}\n",
      "\n",
      "Temps de traitement total : 325.8914649486542 secondes\n",
      "Nombre de combinaisons de paramètres étudiées : 2187\n"
     ]
    },
    {
     "name": "stderr",
     "output_type": "stream",
     "text": [
      "C:\\anaconda\\lib\\site-packages\\sklearn\\model_selection\\_search.py:918: UserWarning: One or more of the test scores are non-finite: [0.47700555 0.45775595        nan ...        nan        nan        nan]\n",
      "  warnings.warn(\n"
     ]
    },
    {
     "name": "stdout",
     "output_type": "stream",
     "text": [
      "best estimator : XGBRegressor(base_score=0.5, booster='gbtree', colsample_bylevel=1,\n",
      "             colsample_bynode=1, colsample_bytree=0.5, gamma=1, gpu_id=-1,\n",
      "             importance_type='gain', interaction_constraints='',\n",
      "             learning_rate=0.1, max_delta_step=0, max_depth=2,\n",
      "             min_child_weight=1, missing=nan, monotone_constraints='()',\n",
      "             n_estimators=200, n_jobs=8, num_parallel_tree=1, random_state=123,\n",
      "             reg_alpha=0, reg_lambda=1, scale_pos_weight=1, subsample=0.5,\n",
      "             tree_method='exact', validate_parameters=1, verbosity=None)\n",
      "best score : 0.6325772076743259\n",
      "best params : {'colsample_bytree': 0.5, 'gamma': 1, 'learning_rate': 0.1, 'max_depth': 2, 'min_child_weight': 1, 'n_estimators': 200, 'subsample': 0.5}\n",
      "\n",
      "Temps de traitement total : 680.2219524383545 secondes\n"
     ]
    }
   ],
   "source": [
    "show_best_params_cv(GradientBoostingRegressor(random_state=123), gradient_boosting_regressor_parameters, X_train, y_train)\n",
    "show_best_params_cv(RandomForestRegressor(random_state=123), random_forest_parameters, X_train, y_train)\n",
    "show_best_params_cv(xgb.XGBRegressor(random_state=123), xgb_regressor_parameters, X_train, y_train)"
   ]
  },
  {
   "cell_type": "code",
   "execution_count": 28,
   "id": "8316611b",
   "metadata": {},
   "outputs": [
    {
     "name": "stdout",
     "output_type": "stream",
     "text": [
      "=== GradientBoostingRegressor ===\n",
      "mean_absolute_error : 0.77\n",
      "mean_squared_error : 1.09\n",
      "root_mean_squared_error : 1.04\n",
      "rmpse : 2.23\n",
      "mean_absolute_percentage_error : 0.56\n",
      "r2_score : 0.59\n",
      "fit_time : 4.59\n",
      "predict_time : 0.01\n",
      "\n",
      "---\n",
      "=== RandomForestRegressor ===\n",
      "mean_absolute_error : 0.79\n",
      "mean_squared_error : 1.14\n",
      "root_mean_squared_error : 1.07\n",
      "rmpse : 2.11\n",
      "mean_absolute_percentage_error : 0.54\n",
      "r2_score : 0.57\n",
      "fit_time : 8.50\n",
      "predict_time : 0.09\n",
      "\n",
      "---\n",
      "=== XGBRegressor ===\n",
      "mean_absolute_error : 0.76\n",
      "mean_squared_error : 1.10\n",
      "root_mean_squared_error : 1.05\n",
      "rmpse : 2.20\n",
      "mean_absolute_percentage_error : 0.55\n",
      "r2_score : 0.58\n",
      "fit_time : 0.58\n",
      "predict_time : 0.01\n",
      "\n"
     ]
    },
    {
     "name": "stderr",
     "output_type": "stream",
     "text": [
      "C:\\anaconda\\lib\\site-packages\\xgboost\\data.py:112: UserWarning: Use subset (sliced data) of np.ndarray is not recommended because it will generate extra copies and increase memory consumption\n",
      "  warnings.warn(\n"
     ]
    }
   ],
   "source": [
    "gradient_boosting_regressor = GradientBoostingRegressor(learning_rate=0.01, max_depth=5, n_estimators=500,\n",
    "                          random_state=123, subsample=0.5)\n",
    "fit_predict_and_show_metrics(gradient_boosting_regressor, X_train_std, X_test_std, y_train, y_test, 'GradientBoostingRegressor')\n",
    "print(\"---\")\n",
    "random_forest_regressor = RandomForestRegressor(n_estimators=500, random_state=123)\n",
    "fit_predict_and_show_metrics(random_forest_regressor, X_train_std, X_test_std, y_train, y_test, 'RandomForestRegressor')\n",
    "print(\"---\")\n",
    "xgb_regressor = xgb.XGBRegressor(base_score=0.5, booster='gbtree', colsample_bylevel=1,\n",
    "             colsample_bynode=1, colsample_bytree=0.5, gamma=1, gpu_id=-1,\n",
    "             importance_type='gain', interaction_constraints='',\n",
    "             learning_rate=0.05, max_delta_step=0, max_depth=6,\n",
    "             min_child_weight=1, monotone_constraints='()',\n",
    "             n_estimators=200, n_jobs=8, num_parallel_tree=1, random_state=123,\n",
    "             reg_alpha=0, reg_lambda=1, scale_pos_weight=1, subsample=0.5,\n",
    "             tree_method='exact', validate_parameters=1, verbosity=None)\n",
    "fit_predict_and_show_metrics(xgb_regressor, X_train_std, X_test_std, y_train, y_test, 'XGBRegressor')"
   ]
  },
  {
   "cell_type": "code",
   "execution_count": 29,
   "id": "de503241",
   "metadata": {},
   "outputs": [
    {
     "data": {
      "image/png": "[encoded data removed]",
      "text/plain": [
       "<Figure size 864x432 with 1 Axes>"
      ]
     },
     "metadata": {
      "needs_background": "light"
     },
     "output_type": "display_data"
    }
   ],
   "source": [
    "show_important_features(random_forest_regressor, X.columns, \"émissions\")"
   ]
  },
  {
   "cell_type": "code",
   "execution_count": 30,
   "id": "c2ca1950",
   "metadata": {
    "scrolled": false
   },
   "outputs": [
    {
     "data": {
      "image/png": "[encoded data removed]",
      "text/plain": [
       "<Figure size 864x432 with 1 Axes>"
      ]
     },
     "metadata": {
      "needs_background": "light"
     },
     "output_type": "display_data"
    },
    {
     "data": {
      "image/png": "[encoded data removed]",
      "text/plain": [
       "<Figure size 864x432 with 1 Axes>"
      ]
     },
     "metadata": {
      "needs_background": "light"
     },
     "output_type": "display_data"
    },
    {
     "data": {
      "image/png": "[encoded data removed]",
      "text/plain": [
       "<Figure size 864x432 with 1 Axes>"
      ]
     },
     "metadata": {
      "needs_background": "light"
     },
     "output_type": "display_data"
    },
    {
     "data": {
      "image/png": "[encoded data removed]",
      "text/plain": [
       "<Figure size 864x432 with 1 Axes>"
      ]
     },
     "metadata": {
      "needs_background": "light"
     },
     "output_type": "display_data"
    },
    {
     "data": {
      "image/png": "[encoded data removed]",
      "text/plain": [
       "<Figure size 864x432 with 1 Axes>"
      ]
     },
     "metadata": {
      "needs_background": "light"
     },
     "output_type": "display_data"
    }
   ],
   "source": [
    "width = 20\n",
    "x = width * 5\n",
    "for metric in metrics.keys():\n",
    "    fig, ax = plt.subplots(figsize=(12,6))\n",
    "    x_decalage = x - 5*width/2\n",
    "    for model_name, color in zip(metrics[metric].keys(), cm.Set1.colors):\n",
    "        ax.bar(x_decalage, metrics[metric][model_name], width, label=model_name, color=color)\n",
    "        x_decalage = x_decalage + width\n",
    "    x = x + width * 5\n",
    "    ax.set_title('Comparaison des ' + metric + ' pour chaque modèle')\n",
    "    ax.axes.get_xaxis().set_visible(False)\n",
    "    ax.legend()\n",
    "    plt.show()"
   ]
  }
 ],
 "metadata": {
  "kernelspec": {
   "display_name": "Python 3",
   "language": "python",
   "name": "python3"
  },
  "language_info": {
   "codemirror_mode": {
    "name": "ipython",
    "version": 3
   },
   "file_extension": ".py",
   "mimetype": "text/x-python",
   "name": "python",
   "nbconvert_exporter": "python",
   "pygments_lexer": "ipython3",
   "version": "3.8.8"
  }
 },
 "nbformat": 4,
 "nbformat_minor": 5
}
