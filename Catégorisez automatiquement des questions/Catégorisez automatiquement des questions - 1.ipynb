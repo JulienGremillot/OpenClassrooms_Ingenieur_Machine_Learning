{
 "cells": [
  {
   "cell_type": "code",
   "execution_count": 1,
   "id": "47c32eea",
   "metadata": {},
   "outputs": [
    {
     "name": "stderr",
     "output_type": "stream",
     "text": [
      "C:\\anaconda\\lib\\site-packages\\IPython\\core\\interactiveshell.py:3165: DtypeWarning: Columns (10) have mixed types.Specify dtype option on import or set low_memory=False.\n",
      "  has_raised = await self.run_ast_nodes(code_ast.body, cell_name,\n"
     ]
    }
   ],
   "source": [
    "import os\n",
    "import pandas as pd\n",
    "import matplotlib.pyplot as plt\n",
    "import seaborn as sns\n",
    "\n",
    "# Je me positionne dans mon répertoire de travail personnel\n",
    "os.chdir(\"C:\\\\Users\\\\Julien Gremillot\\\\OneDrive\\\\Documents\\\\\" +\n",
    "         \"OpenClassrooms\\\\github\\\\\" +\n",
    "         \"OpenClassrooms_Ingenieur_Machine_Learning\\\\\" +\n",
    "         \"Catégorisez automatiquement des questions\")\n",
    "\n",
    "# Lecture des fichiers CSV issus du site \"Query Stack Overflow\"\n",
    "fichiers_csv = []\n",
    "for i in range(9):\n",
    "    df = pd.read_csv('QueryResults_'+ str(i) + '.csv', sep=',',\n",
    "                     index_col=None, header=0)\n",
    "    fichiers_csv.append(df)\n",
    "\n",
    "df = pd.concat(fichiers_csv, axis=0, ignore_index=True)"
   ]
  },
  {
   "cell_type": "code",
   "execution_count": 2,
   "id": "9fa25035",
   "metadata": {},
   "outputs": [
    {
     "name": "stdout",
     "output_type": "stream",
     "text": [
      "(188065, 23)\n",
      "Index(['Id', 'PostTypeId', 'AcceptedAnswerId', 'ParentId', 'CreationDate',\n",
      "       'DeletionDate', 'Score', 'ViewCount', 'Body', 'OwnerUserId',\n",
      "       'OwnerDisplayName', 'LastEditorUserId', 'LastEditorDisplayName',\n",
      "       'LastEditDate', 'LastActivityDate', 'Title', 'Tags', 'AnswerCount',\n",
      "       'CommentCount', 'FavoriteCount', 'ClosedDate', 'CommunityOwnedDate',\n",
      "       'ContentLicense'],\n",
      "      dtype='object')\n"
     ]
    },
    {
     "data": {
      "text/html": [
       "<div>\n",
       "<style scoped>\n",
       "    .dataframe tbody tr th:only-of-type {\n",
       "        vertical-align: middle;\n",
       "    }\n",
       "\n",
       "    .dataframe tbody tr th {\n",
       "        vertical-align: top;\n",
       "    }\n",
       "\n",
       "    .dataframe thead th {\n",
       "        text-align: right;\n",
       "    }\n",
       "</style>\n",
       "<table border=\"1\" class=\"dataframe\">\n",
       "  <thead>\n",
       "    <tr style=\"text-align: right;\">\n",
       "      <th></th>\n",
       "      <th>Id</th>\n",
       "      <th>PostTypeId</th>\n",
       "      <th>AcceptedAnswerId</th>\n",
       "      <th>ParentId</th>\n",
       "      <th>CreationDate</th>\n",
       "      <th>DeletionDate</th>\n",
       "      <th>Score</th>\n",
       "      <th>ViewCount</th>\n",
       "      <th>Body</th>\n",
       "      <th>OwnerUserId</th>\n",
       "      <th>...</th>\n",
       "      <th>LastEditDate</th>\n",
       "      <th>LastActivityDate</th>\n",
       "      <th>Title</th>\n",
       "      <th>Tags</th>\n",
       "      <th>AnswerCount</th>\n",
       "      <th>CommentCount</th>\n",
       "      <th>FavoriteCount</th>\n",
       "      <th>ClosedDate</th>\n",
       "      <th>CommunityOwnedDate</th>\n",
       "      <th>ContentLicense</th>\n",
       "    </tr>\n",
       "  </thead>\n",
       "  <tbody>\n",
       "    <tr>\n",
       "      <th>0</th>\n",
       "      <td>4</td>\n",
       "      <td>1</td>\n",
       "      <td>7</td>\n",
       "      <td>NaN</td>\n",
       "      <td>2008-07-31 21:42:52</td>\n",
       "      <td>NaN</td>\n",
       "      <td>737</td>\n",
       "      <td>60139</td>\n",
       "      <td>&lt;p&gt;I want to use a &lt;code&gt;Track-Bar&lt;/code&gt; to c...</td>\n",
       "      <td>8</td>\n",
       "      <td>...</td>\n",
       "      <td>2021-02-26 03:31:15</td>\n",
       "      <td>2021-02-26 03:31:15</td>\n",
       "      <td>How to convert a Decimal to a Double in C#?</td>\n",
       "      <td>&lt;c#&gt;&lt;floating-point&gt;&lt;type-conversion&gt;&lt;double&gt;&lt;...</td>\n",
       "      <td>14</td>\n",
       "      <td>5</td>\n",
       "      <td>57</td>\n",
       "      <td>NaN</td>\n",
       "      <td>2012-10-31 16:42:47</td>\n",
       "      <td>CC BY-SA 4.0</td>\n",
       "    </tr>\n",
       "    <tr>\n",
       "      <th>1</th>\n",
       "      <td>6</td>\n",
       "      <td>1</td>\n",
       "      <td>31</td>\n",
       "      <td>NaN</td>\n",
       "      <td>2008-07-31 22:08:08</td>\n",
       "      <td>NaN</td>\n",
       "      <td>309</td>\n",
       "      <td>21903</td>\n",
       "      <td>&lt;p&gt;I have an absolutely positioned &lt;code&gt;div&lt;/...</td>\n",
       "      <td>9</td>\n",
       "      <td>...</td>\n",
       "      <td>2021-01-29 18:46:45</td>\n",
       "      <td>2021-01-29 18:46:45</td>\n",
       "      <td>Why did the width collapse in the percentage w...</td>\n",
       "      <td>&lt;html&gt;&lt;css&gt;&lt;internet-explorer-7&gt;</td>\n",
       "      <td>7</td>\n",
       "      <td>1</td>\n",
       "      <td>12</td>\n",
       "      <td>NaN</td>\n",
       "      <td>NaN</td>\n",
       "      <td>CC BY-SA 4.0</td>\n",
       "    </tr>\n",
       "    <tr>\n",
       "      <th>2</th>\n",
       "      <td>9</td>\n",
       "      <td>1</td>\n",
       "      <td>1404</td>\n",
       "      <td>NaN</td>\n",
       "      <td>2008-07-31 23:40:59</td>\n",
       "      <td>NaN</td>\n",
       "      <td>2051</td>\n",
       "      <td>695724</td>\n",
       "      <td>&lt;p&gt;Given a &lt;code&gt;DateTime&lt;/code&gt; representing ...</td>\n",
       "      <td>1</td>\n",
       "      <td>...</td>\n",
       "      <td>2021-01-05 17:33:32</td>\n",
       "      <td>2021-09-24 16:38:57</td>\n",
       "      <td>How do I calculate someone's age based on a Da...</td>\n",
       "      <td>&lt;c#&gt;&lt;.net&gt;&lt;datetime&gt;</td>\n",
       "      <td>67</td>\n",
       "      <td>10</td>\n",
       "      <td>479</td>\n",
       "      <td>NaN</td>\n",
       "      <td>2011-08-16 19:40:43</td>\n",
       "      <td>CC BY-SA 4.0</td>\n",
       "    </tr>\n",
       "    <tr>\n",
       "      <th>3</th>\n",
       "      <td>11</td>\n",
       "      <td>1</td>\n",
       "      <td>1248</td>\n",
       "      <td>NaN</td>\n",
       "      <td>2008-07-31 23:55:37</td>\n",
       "      <td>NaN</td>\n",
       "      <td>1591</td>\n",
       "      <td>181198</td>\n",
       "      <td>&lt;p&gt;Given a specific &lt;code&gt;DateTime&lt;/code&gt; valu...</td>\n",
       "      <td>1</td>\n",
       "      <td>...</td>\n",
       "      <td>2017-06-04 15:51:19</td>\n",
       "      <td>2021-09-01 21:49:09</td>\n",
       "      <td>Calculate relative time in C#</td>\n",
       "      <td>&lt;c#&gt;&lt;datetime&gt;&lt;time&gt;&lt;datediff&gt;&lt;relative-time-s...</td>\n",
       "      <td>40</td>\n",
       "      <td>3</td>\n",
       "      <td>550</td>\n",
       "      <td>NaN</td>\n",
       "      <td>2009-09-04 13:15:59</td>\n",
       "      <td>CC BY-SA 3.0</td>\n",
       "    </tr>\n",
       "    <tr>\n",
       "      <th>4</th>\n",
       "      <td>17</td>\n",
       "      <td>1</td>\n",
       "      <td>26</td>\n",
       "      <td>NaN</td>\n",
       "      <td>2008-08-01 05:09:55</td>\n",
       "      <td>NaN</td>\n",
       "      <td>194</td>\n",
       "      <td>81781</td>\n",
       "      <td>&lt;p&gt;How do I store binary data in &lt;a href=\"http...</td>\n",
       "      <td>2</td>\n",
       "      <td>...</td>\n",
       "      <td>2020-12-03 03:37:51</td>\n",
       "      <td>2020-12-03 03:37:51</td>\n",
       "      <td>Binary Data in MySQL</td>\n",
       "      <td>&lt;mysql&gt;&lt;database&gt;&lt;binary-data&gt;&lt;data-storage&gt;</td>\n",
       "      <td>9</td>\n",
       "      <td>3</td>\n",
       "      <td>22</td>\n",
       "      <td>2018-11-29 15:36:04</td>\n",
       "      <td>NaN</td>\n",
       "      <td>CC BY-SA 3.0</td>\n",
       "    </tr>\n",
       "  </tbody>\n",
       "</table>\n",
       "<p>5 rows × 23 columns</p>\n",
       "</div>"
      ],
      "text/plain": [
       "   Id  PostTypeId  AcceptedAnswerId  ParentId         CreationDate  \\\n",
       "0   4           1                 7       NaN  2008-07-31 21:42:52   \n",
       "1   6           1                31       NaN  2008-07-31 22:08:08   \n",
       "2   9           1              1404       NaN  2008-07-31 23:40:59   \n",
       "3  11           1              1248       NaN  2008-07-31 23:55:37   \n",
       "4  17           1                26       NaN  2008-08-01 05:09:55   \n",
       "\n",
       "   DeletionDate  Score  ViewCount  \\\n",
       "0           NaN    737      60139   \n",
       "1           NaN    309      21903   \n",
       "2           NaN   2051     695724   \n",
       "3           NaN   1591     181198   \n",
       "4           NaN    194      81781   \n",
       "\n",
       "                                                Body  OwnerUserId  ...  \\\n",
       "0  <p>I want to use a <code>Track-Bar</code> to c...            8  ...   \n",
       "1  <p>I have an absolutely positioned <code>div</...            9  ...   \n",
       "2  <p>Given a <code>DateTime</code> representing ...            1  ...   \n",
       "3  <p>Given a specific <code>DateTime</code> valu...            1  ...   \n",
       "4  <p>How do I store binary data in <a href=\"http...            2  ...   \n",
       "\n",
       "          LastEditDate     LastActivityDate  \\\n",
       "0  2021-02-26 03:31:15  2021-02-26 03:31:15   \n",
       "1  2021-01-29 18:46:45  2021-01-29 18:46:45   \n",
       "2  2021-01-05 17:33:32  2021-09-24 16:38:57   \n",
       "3  2017-06-04 15:51:19  2021-09-01 21:49:09   \n",
       "4  2020-12-03 03:37:51  2020-12-03 03:37:51   \n",
       "\n",
       "                                               Title  \\\n",
       "0        How to convert a Decimal to a Double in C#?   \n",
       "1  Why did the width collapse in the percentage w...   \n",
       "2  How do I calculate someone's age based on a Da...   \n",
       "3                      Calculate relative time in C#   \n",
       "4                               Binary Data in MySQL   \n",
       "\n",
       "                                                Tags AnswerCount CommentCount  \\\n",
       "0  <c#><floating-point><type-conversion><double><...          14            5   \n",
       "1                   <html><css><internet-explorer-7>           7            1   \n",
       "2                               <c#><.net><datetime>          67           10   \n",
       "3  <c#><datetime><time><datediff><relative-time-s...          40            3   \n",
       "4       <mysql><database><binary-data><data-storage>           9            3   \n",
       "\n",
       "  FavoriteCount           ClosedDate   CommunityOwnedDate  ContentLicense  \n",
       "0            57                  NaN  2012-10-31 16:42:47    CC BY-SA 4.0  \n",
       "1            12                  NaN                  NaN    CC BY-SA 4.0  \n",
       "2           479                  NaN  2011-08-16 19:40:43    CC BY-SA 4.0  \n",
       "3           550                  NaN  2009-09-04 13:15:59    CC BY-SA 3.0  \n",
       "4            22  2018-11-29 15:36:04                  NaN    CC BY-SA 3.0  \n",
       "\n",
       "[5 rows x 23 columns]"
      ]
     },
     "execution_count": 2,
     "metadata": {},
     "output_type": "execute_result"
    }
   ],
   "source": [
    "print(df.shape)\n",
    "print(df.columns)\n",
    "df.head()"
   ]
  },
  {
   "cell_type": "markdown",
   "id": "3cf8bf19",
   "metadata": {},
   "source": [
    "On examine les colonnes de dates pour avoir une idée de l'étendue de notre jeu de données"
   ]
  },
  {
   "cell_type": "code",
   "execution_count": 3,
   "id": "b8b45316",
   "metadata": {},
   "outputs": [
    {
     "name": "stdout",
     "output_type": "stream",
     "text": [
      "Nombre de lignes avec une CreationDate nulle: 0 / 188065\n",
      "Nombre de lignes avec une LastEditDate nulle: 6 / 188065\n",
      "Nombre de lignes avec une ClosedDate nulle: 176231 / 188065\n",
      "Nombre de lignes avec une CommunityOwnedDate nulle: 186424 / 188065\n",
      "Nombre de lignes avec une DeletionDate nulle: 188065 / 188065\n"
     ]
    }
   ],
   "source": [
    "print('Nombre de lignes avec une CreationDate nulle:',\n",
    "      len(df[df['CreationDate'].isna()]), '/', len(df))\n",
    "print('Nombre de lignes avec une LastEditDate nulle:',\n",
    "      len(df[df['LastEditDate'].isna()]), '/', len(df))\n",
    "print('Nombre de lignes avec une ClosedDate nulle:',\n",
    "      len(df[df['ClosedDate'].isna()]), '/', len(df))\n",
    "print('Nombre de lignes avec une CommunityOwnedDate nulle:',\n",
    "      len(df[df['CommunityOwnedDate'].isna()]), '/', len(df))\n",
    "print('Nombre de lignes avec une DeletionDate nulle:',\n",
    "      len(df[df['DeletionDate'].isna()]), '/', len(df))"
   ]
  },
  {
   "cell_type": "markdown",
   "id": "315e2a19",
   "metadata": {},
   "source": [
    "Je renseigne les LastEditDate manquantes avec la CreationDate."
   ]
  },
  {
   "cell_type": "code",
   "execution_count": 4,
   "id": "ab1755bf",
   "metadata": {},
   "outputs": [
    {
     "name": "stdout",
     "output_type": "stream",
     "text": [
      "Nombre de lignes avec une LastEditDate nulle: 0 / 188065\n"
     ]
    }
   ],
   "source": [
    "df.loc[df['LastEditDate'].isna(), 'LastEditDate'] = df['CreationDate']\n",
    "print('Nombre de lignes avec une LastEditDate nulle:',\n",
    "      len(df[df['LastEditDate'].isna()]), '/', len(df))"
   ]
  },
  {
   "cell_type": "code",
   "execution_count": 5,
   "id": "09985ccc",
   "metadata": {},
   "outputs": [
    {
     "name": "stdout",
     "output_type": "stream",
     "text": [
      "(188065, 22)\n",
      "Index(['Id', 'PostTypeId', 'AcceptedAnswerId', 'ParentId', 'CreationDate',\n",
      "       'Score', 'ViewCount', 'Body', 'OwnerUserId', 'OwnerDisplayName',\n",
      "       'LastEditorUserId', 'LastEditorDisplayName', 'LastEditDate',\n",
      "       'LastActivityDate', 'Title', 'Tags', 'AnswerCount', 'CommentCount',\n",
      "       'FavoriteCount', 'ClosedDate', 'CommunityOwnedDate', 'ContentLicense'],\n",
      "      dtype='object')\n"
     ]
    }
   ],
   "source": [
    "df.drop('DeletionDate', axis=1, inplace=True)\n",
    "print(df.shape)\n",
    "print(df.columns)"
   ]
  },
  {
   "cell_type": "code",
   "execution_count": 6,
   "id": "412c58db",
   "metadata": {},
   "outputs": [
    {
     "name": "stdout",
     "output_type": "stream",
     "text": [
      "[1]\n"
     ]
    }
   ],
   "source": [
    "print(df['PostTypeId'].unique())"
   ]
  },
  {
   "cell_type": "markdown",
   "id": "74e57f0d",
   "metadata": {},
   "source": [
    "Je supprime la colonne 'PostTypeId' qui vaut toujours '1'."
   ]
  },
  {
   "cell_type": "code",
   "execution_count": 7,
   "id": "caae4a21",
   "metadata": {},
   "outputs": [
    {
     "name": "stdout",
     "output_type": "stream",
     "text": [
      "(188065, 21)\n",
      "Index(['Id', 'AcceptedAnswerId', 'ParentId', 'CreationDate', 'Score',\n",
      "       'ViewCount', 'Body', 'OwnerUserId', 'OwnerDisplayName',\n",
      "       'LastEditorUserId', 'LastEditorDisplayName', 'LastEditDate',\n",
      "       'LastActivityDate', 'Title', 'Tags', 'AnswerCount', 'CommentCount',\n",
      "       'FavoriteCount', 'ClosedDate', 'CommunityOwnedDate', 'ContentLicense'],\n",
      "      dtype='object')\n"
     ]
    }
   ],
   "source": [
    "df.drop('PostTypeId', axis=1, inplace=True)\n",
    "print(df.shape)\n",
    "print(df.columns)"
   ]
  },
  {
   "cell_type": "code",
   "execution_count": 8,
   "id": "fa673476",
   "metadata": {},
   "outputs": [
    {
     "name": "stdout",
     "output_type": "stream",
     "text": [
      "[nan]\n"
     ]
    }
   ],
   "source": [
    "print(df['ParentId'].unique())"
   ]
  },
  {
   "cell_type": "markdown",
   "id": "fdfff691",
   "metadata": {},
   "source": [
    "Je supprime la colonne ParentId qui n'est jamais renseignée dans nos données."
   ]
  },
  {
   "cell_type": "code",
   "execution_count": 9,
   "id": "da5d03fd",
   "metadata": {},
   "outputs": [
    {
     "name": "stdout",
     "output_type": "stream",
     "text": [
      "(188065, 20)\n",
      "Index(['Id', 'AcceptedAnswerId', 'CreationDate', 'Score', 'ViewCount', 'Body',\n",
      "       'OwnerUserId', 'OwnerDisplayName', 'LastEditorUserId',\n",
      "       'LastEditorDisplayName', 'LastEditDate', 'LastActivityDate', 'Title',\n",
      "       'Tags', 'AnswerCount', 'CommentCount', 'FavoriteCount', 'ClosedDate',\n",
      "       'CommunityOwnedDate', 'ContentLicense'],\n",
      "      dtype='object')\n"
     ]
    }
   ],
   "source": [
    "df.drop('ParentId', axis=1, inplace=True)\n",
    "print(df.shape)\n",
    "print(df.columns)"
   ]
  },
  {
   "cell_type": "code",
   "execution_count": 10,
   "id": "f86aa414",
   "metadata": {},
   "outputs": [
    {
     "name": "stdout",
     "output_type": "stream",
     "text": [
      "['CC BY-SA 4.0' 'CC BY-SA 3.0' 'CC BY-SA 2.5']\n"
     ]
    }
   ],
   "source": [
    "print(df['ContentLicense'].unique())"
   ]
  },
  {
   "cell_type": "markdown",
   "id": "76c333fe",
   "metadata": {},
   "source": [
    "J'examine le taux de remplissage des colonnes restantes."
   ]
  },
  {
   "cell_type": "code",
   "execution_count": 13,
   "id": "d2fc865a",
   "metadata": {},
   "outputs": [
    {
     "data": {
      "image/png": "[encoded data removed]",
      "text/plain": [
       "<Figure size 432x288 with 1 Axes>"
      ]
     },
     "metadata": {
      "needs_background": "light"
     },
     "output_type": "display_data"
    },
    {
     "name": "stdout",
     "output_type": "stream",
     "text": [
      "                       pourcentage_manquant\n",
      "OwnerDisplayName                  92.071890\n",
      "ClosedDate                        93.707495\n",
      "LastEditorDisplayName             93.997288\n",
      "CommunityOwnedDate                99.127429\n"
     ]
    }
   ],
   "source": [
    "def show_missing_data(data, pourcentage_manquant):\n",
    "    percent_missing = data.isnull().sum() * 100 / len(data)\n",
    "    missing_values = pd.DataFrame({'pourcentage_manquant': percent_missing})\n",
    "    missing_values.sort_values('pourcentage_manquant', inplace=True)\n",
    "    ax1 = missing_values[\"pourcentage_manquant\"].plot(kind='bar')\n",
    "    ax1.xaxis.set_visible(False)\n",
    "    plt.ylabel(\"pourcentage de valeurs manquantes\")\n",
    "    plt.show()\n",
    "    print(missing_values[missing_values[\"pourcentage_manquant\"] > pourcentage_manquant])\n",
    "    \n",
    "show_missing_data(df, 1)"
   ]
  },
  {
   "cell_type": "markdown",
   "id": "c1d996de",
   "metadata": {},
   "source": [
    "Je supprime les 4 colonnes dont le taux de remplissage est inférieur à 10%, les autres colonnes étant très bien renseignées."
   ]
  },
  {
   "cell_type": "code",
   "execution_count": 14,
   "id": "7db51ac0",
   "metadata": {},
   "outputs": [
    {
     "name": "stdout",
     "output_type": "stream",
     "text": [
      "(188065, 16)\n",
      "Index(['Id', 'AcceptedAnswerId', 'CreationDate', 'Score', 'ViewCount', 'Body',\n",
      "       'OwnerUserId', 'LastEditorUserId', 'LastEditDate', 'LastActivityDate',\n",
      "       'Title', 'Tags', 'AnswerCount', 'CommentCount', 'FavoriteCount',\n",
      "       'ContentLicense'],\n",
      "      dtype='object')\n"
     ]
    }
   ],
   "source": [
    "df.drop(['OwnerDisplayName', 'ClosedDate',\n",
    "         'LastEditorDisplayName', 'CommunityOwnedDate'],\n",
    "        axis=1, inplace=True)\n",
    "print(df.shape)\n",
    "print(df.columns)"
   ]
  },
  {
   "cell_type": "code",
   "execution_count": 22,
   "id": "724361e4",
   "metadata": {
    "scrolled": false
   },
   "outputs": [
    {
     "name": "stdout",
     "output_type": "stream",
     "text": [
      "Score :\n",
      " [   11    12    13 ... 18427 23231 25869] \n",
      "\n"
     ]
    },
    {
     "data": {
      "image/png": "[encoded data removed]",
      "text/plain": [
       "<Figure size 1600x800 with 1 Axes>"
      ]
     },
     "metadata": {},
     "output_type": "display_data"
    },
    {
     "name": "stdout",
     "output_type": "stream",
     "text": [
      "AnswerCount :\n",
      " [  2   3   4   5   6   7   8   9  10  11  12  13  14  15  16  17  18  19\n",
      "  20  21  22  23  24  25  26  27  28  29  30  31  32  33  34  35  36  37\n",
      "  38  39  40  41  42  43  44  45  46  47  48  49  50  51  52  53  54  55\n",
      "  56  57  58  59  60  61  62  63  64  65  67  68  69  71  72  73  74  75\n",
      "  76  77  78  80  82  83  84  85  86  87  88  90  97  99 100 103 105 106\n",
      " 108 112 114 118 121 135 182] \n",
      "\n"
     ]
    },
    {
     "data": {
      "image/png": "[encoded data removed]",
      "text/plain": [
       "<Figure size 1000x600 with 1 Axes>"
      ]
     },
     "metadata": {},
     "output_type": "display_data"
    },
    {
     "name": "stdout",
     "output_type": "stream",
     "text": [
      "ContentLicense :\n",
      " ['CC BY-SA 2.5' 'CC BY-SA 3.0' 'CC BY-SA 4.0'] \n",
      "\n"
     ]
    },
    {
     "data": {
      "image/png": "[encoded data removed]",
      "text/plain": [
       "<Figure size 1000x600 with 1 Axes>"
      ]
     },
     "metadata": {},
     "output_type": "display_data"
    }
   ],
   "source": [
    "def show_distribution_col(data, col):\n",
    "    plt.rcParams['figure.figsize']=(10,6)\n",
    "    uniques = data[~data[col].isna()][col].unique()\n",
    "    uniques.sort()\n",
    "    print(col, \":\\n\", uniques, \"\\n\")\n",
    "    if col in ['Score', '---', '----']:\n",
    "        sns.displot(df, x=col, bins=30, height=8, aspect=2)\n",
    "        #plt.locator_params(axis='x', nbins=20) # pour une question de lisibilité\n",
    "    else:\n",
    "        # certaines colonnes sont à trier en fonction de l'index\n",
    "        if col in ['AnswerCount', 'Score', 'ContentLicense', '-----']:\n",
    "            groups_count = data[~data[col].isna()][col].value_counts(normalize=True, sort=False).sort_index(ascending=True)\n",
    "        else:\n",
    "            groups_count = data[~data[col].isna()][col].value_counts(normalize=True, sort=True)\n",
    "        groups_count.plot(kind='bar')\n",
    "        plt.xlabel(col)\n",
    "    plt.show()\n",
    "    plt.rcdefaults()\n",
    "    \n",
    "show_distribution_col(df, 'Score')\n",
    "show_distribution_col(df, 'AnswerCount')\n",
    "show_distribution_col(df, 'ContentLicense')"
   ]
  }
 ],
 "metadata": {
  "kernelspec": {
   "display_name": "Python 3",
   "language": "python",
   "name": "python3"
  },
  "language_info": {
   "codemirror_mode": {
    "name": "ipython",
    "version": 3
   },
   "file_extension": ".py",
   "mimetype": "text/x-python",
   "name": "python",
   "nbconvert_exporter": "python",
   "pygments_lexer": "ipython3",
   "version": "3.8.8"
  }
 },
 "nbformat": 4,
 "nbformat_minor": 5
}
