{
 "cells": [
  {
   "cell_type": "code",
   "execution_count": 9,
   "metadata": {
    "executionInfo": {
     "elapsed": 2776,
     "status": "ok",
     "timestamp": 1636723281798,
     "user": {
      "displayName": "Julien Gremillot",
      "photoUrl": "https://lh3.googleusercontent.com/a-/AOh14GgbRVaiHnz8aFcITd5CV2Uacmm08EV3uIW2j8otfs8=s64",
      "userId": "05279943077271021606"
     },
     "user_tz": -60
    },
    "id": "Owtox-n70FS-"
   },
   "outputs": [],
   "source": [
    "from google.colab import drive\n",
    "from tensorflow.keras.models import Sequential\n",
    "from tensorflow.keras.layers import Conv2D, MaxPooling2D, Flatten, Dense,\\\n",
    "    Rescaling, RandomFlip, RandomRotation, RandomZoom, Dropout\n",
    "from tensorflow.keras.optimizers import Adam\n",
    "from tensorflow.keras.applications.vgg16 import VGG16, preprocess_input,\\\n",
    " decode_predictions\n",
    "from tensorflow.keras.preprocessing.image import load_img, img_to_array,\\\n",
    " ImageDataGenerator\n",
    "from tensorflow.keras import Model\n",
    "from tensorflow.keras.utils import image_dataset_from_directory\n",
    "from tensorflow.keras.losses import SparseCategoricalCrossentropy\n",
    "from tensorflow.keras.callbacks import EarlyStopping\n",
    "from tensorflow.data import AUTOTUNE\n",
    "from sklearn.model_selection import train_test_split\n",
    "import numpy as np\n",
    "import os\n",
    "from PIL import Image\n",
    "import matplotlib.pyplot as plt\n",
    "from tqdm import tqdm\n",
    "import tensorflow as tf\n",
    "\n",
    "!pip install -q -U keras-tuner\n",
    "import keras_tuner as kt\n"
   ]
  },
  {
   "cell_type": "code",
   "execution_count": 2,
   "metadata": {
    "colab": {
     "base_uri": "https://localhost:8080/"
    },
    "executionInfo": {
     "elapsed": 25436,
     "status": "ok",
     "timestamp": 1636723138593,
     "user": {
      "displayName": "Julien Gremillot",
      "photoUrl": "https://lh3.googleusercontent.com/a-/AOh14GgbRVaiHnz8aFcITd5CV2Uacmm08EV3uIW2j8otfs8=s64",
      "userId": "05279943077271021606"
     },
     "user_tz": -60
    },
    "id": "RZRFX3mJ_rHw",
    "outputId": "f3f3321c-187c-41a3-a980-ef6201f9b90e"
   },
   "outputs": [
    {
     "name": "stdout",
     "output_type": "stream",
     "text": [
      "Mounted at /content/gdrive\n",
      "Répertoire de travail courant : /content/gdrive/MyDrive/Colab Notebooks\n"
     ]
    }
   ],
   "source": [
    "drive.mount(\"/content/gdrive\", force_remount=False)\n",
    "os.chdir(\"/content/gdrive/MyDrive/Colab Notebooks\")\n",
    "print(\"Répertoire de travail courant : %s\" % os.getcwd())"
   ]
  },
  {
   "cell_type": "code",
   "execution_count": 3,
   "metadata": {
    "executionInfo": {
     "elapsed": 6,
     "status": "ok",
     "timestamp": 1636723138594,
     "user": {
      "displayName": "Julien Gremillot",
      "photoUrl": "https://lh3.googleusercontent.com/a-/AOh14GgbRVaiHnz8aFcITd5CV2Uacmm08EV3uIW2j8otfs8=s64",
      "userId": "05279943077271021606"
     },
     "user_tz": -60
    },
    "id": "LSTjFq70AGG_"
   },
   "outputs": [],
   "source": [
    "# images du dataset\n",
    "dataset_dir = \"/content/gdrive/MyDrive/Colab Notebooks/images\"\n",
    "width, height = 224, 224"
   ]
  },
  {
   "cell_type": "code",
   "execution_count": 4,
   "metadata": {
    "colab": {
     "base_uri": "https://localhost:8080/"
    },
    "executionInfo": {
     "elapsed": 30750,
     "status": "ok",
     "timestamp": 1636723169339,
     "user": {
      "displayName": "Julien Gremillot",
      "photoUrl": "https://lh3.googleusercontent.com/a-/AOh14GgbRVaiHnz8aFcITd5CV2Uacmm08EV3uIW2j8otfs8=s64",
      "userId": "05279943077271021606"
     },
     "user_tz": -60
    },
    "id": "M2eHdzQdvB2v",
    "outputId": "eef03b6a-6342-405e-e07e-87a5fbb766e0"
   },
   "outputs": [
    {
     "name": "stdout",
     "output_type": "stream",
     "text": [
      "Found 20580 files belonging to 120 classes.\n",
      "Using 16464 files for training.\n"
     ]
    }
   ],
   "source": [
    "batch_size = 32\n",
    "train_ds = image_dataset_from_directory(\n",
    "  dataset_dir,\n",
    "  validation_split=0.2,\n",
    "  subset=\"training\",\n",
    "  seed=123,\n",
    "  image_size=(height, width),\n",
    "  batch_size=batch_size)"
   ]
  },
  {
   "cell_type": "code",
   "execution_count": 5,
   "metadata": {
    "colab": {
     "base_uri": "https://localhost:8080/"
    },
    "executionInfo": {
     "elapsed": 21,
     "status": "ok",
     "timestamp": 1636723169341,
     "user": {
      "displayName": "Julien Gremillot",
      "photoUrl": "https://lh3.googleusercontent.com/a-/AOh14GgbRVaiHnz8aFcITd5CV2Uacmm08EV3uIW2j8otfs8=s64",
      "userId": "05279943077271021606"
     },
     "user_tz": -60
    },
    "id": "0j838VOFvTAS",
    "outputId": "5712a9ae-f507-45b9-fbd2-cdb59667f144"
   },
   "outputs": [
    {
     "name": "stdout",
     "output_type": "stream",
     "text": [
      "['n02085620-Chihuahua', 'n02085782-Japanese_spaniel', 'n02085936-Maltese_dog', 'n02086079-Pekinese', 'n02086240-Shih-Tzu', 'n02086646-Blenheim_spaniel', 'n02086910-papillon', 'n02087046-toy_terrier', 'n02087394-Rhodesian_ridgeback', 'n02088094-Afghan_hound', 'n02088238-basset', 'n02088364-beagle', 'n02088466-bloodhound', 'n02088632-bluetick', 'n02089078-black-and-tan_coonhound', 'n02089867-Walker_hound', 'n02089973-English_foxhound', 'n02090379-redbone', 'n02090622-borzoi', 'n02090721-Irish_wolfhound', 'n02091032-Italian_greyhound', 'n02091134-whippet', 'n02091244-Ibizan_hound', 'n02091467-Norwegian_elkhound', 'n02091635-otterhound', 'n02091831-Saluki', 'n02092002-Scottish_deerhound', 'n02092339-Weimaraner', 'n02093256-Staffordshire_bullterrier', 'n02093428-American_Staffordshire_terrier', 'n02093647-Bedlington_terrier', 'n02093754-Border_terrier', 'n02093859-Kerry_blue_terrier', 'n02093991-Irish_terrier', 'n02094114-Norfolk_terrier', 'n02094258-Norwich_terrier', 'n02094433-Yorkshire_terrier', 'n02095314-wire-haired_fox_terrier', 'n02095570-Lakeland_terrier', 'n02095889-Sealyham_terrier', 'n02096051-Airedale', 'n02096177-cairn', 'n02096294-Australian_terrier', 'n02096437-Dandie_Dinmont', 'n02096585-Boston_bull', 'n02097047-miniature_schnauzer', 'n02097130-giant_schnauzer', 'n02097209-standard_schnauzer', 'n02097298-Scotch_terrier', 'n02097474-Tibetan_terrier', 'n02097658-silky_terrier', 'n02098105-soft-coated_wheaten_terrier', 'n02098286-West_Highland_white_terrier', 'n02098413-Lhasa', 'n02099267-flat-coated_retriever', 'n02099429-curly-coated_retriever', 'n02099601-golden_retriever', 'n02099712-Labrador_retriever', 'n02099849-Chesapeake_Bay_retriever', 'n02100236-German_short-haired_pointer', 'n02100583-vizsla', 'n02100735-English_setter', 'n02100877-Irish_setter', 'n02101006-Gordon_setter', 'n02101388-Brittany_spaniel', 'n02101556-clumber', 'n02102040-English_springer', 'n02102177-Welsh_springer_spaniel', 'n02102318-cocker_spaniel', 'n02102480-Sussex_spaniel', 'n02102973-Irish_water_spaniel', 'n02104029-kuvasz', 'n02104365-schipperke', 'n02105056-groenendael', 'n02105162-malinois', 'n02105251-briard', 'n02105412-kelpie', 'n02105505-komondor', 'n02105641-Old_English_sheepdog', 'n02105855-Shetland_sheepdog', 'n02106030-collie', 'n02106166-Border_collie', 'n02106382-Bouvier_des_Flandres', 'n02106550-Rottweiler', 'n02106662-German_shepherd', 'n02107142-Doberman', 'n02107312-miniature_pinscher', 'n02107574-Greater_Swiss_Mountain_dog', 'n02107683-Bernese_mountain_dog', 'n02107908-Appenzeller', 'n02108000-EntleBucher', 'n02108089-boxer', 'n02108422-bull_mastiff', 'n02108551-Tibetan_mastiff', 'n02108915-French_bulldog', 'n02109047-Great_Dane', 'n02109525-Saint_Bernard', 'n02109961-Eskimo_dog', 'n02110063-malamute', 'n02110185-Siberian_husky', 'n02110627-affenpinscher', 'n02110806-basenji', 'n02110958-pug', 'n02111129-Leonberg', 'n02111277-Newfoundland', 'n02111500-Great_Pyrenees', 'n02111889-Samoyed', 'n02112018-Pomeranian', 'n02112137-chow', 'n02112350-keeshond', 'n02112706-Brabancon_griffon', 'n02113023-Pembroke', 'n02113186-Cardigan', 'n02113624-toy_poodle', 'n02113712-miniature_poodle', 'n02113799-standard_poodle', 'n02113978-Mexican_hairless', 'n02115641-dingo', 'n02115913-dhole', 'n02116738-African_hunting_dog']\n"
     ]
    }
   ],
   "source": [
    "class_names = train_ds.class_names\n",
    "print(class_names)"
   ]
  },
  {
   "cell_type": "code",
   "execution_count": 6,
   "metadata": {
    "colab": {
     "base_uri": "https://localhost:8080/"
    },
    "executionInfo": {
     "elapsed": 712,
     "status": "ok",
     "timestamp": 1636723170048,
     "user": {
      "displayName": "Julien Gremillot",
      "photoUrl": "https://lh3.googleusercontent.com/a-/AOh14GgbRVaiHnz8aFcITd5CV2Uacmm08EV3uIW2j8otfs8=s64",
      "userId": "05279943077271021606"
     },
     "user_tz": -60
    },
    "id": "jdsBY4VBvVo5",
    "outputId": "619d854e-0f8e-49be-adcc-4fc2f511eba2"
   },
   "outputs": [
    {
     "name": "stdout",
     "output_type": "stream",
     "text": [
      "Found 20580 files belonging to 120 classes.\n",
      "Using 4116 files for validation.\n"
     ]
    }
   ],
   "source": [
    "val_ds = image_dataset_from_directory(\n",
    "  dataset_dir,\n",
    "  validation_split=0.2,\n",
    "  subset=\"validation\",\n",
    "  seed=123,\n",
    "  image_size=(height, width),\n",
    "  batch_size=batch_size)"
   ]
  },
  {
   "cell_type": "code",
   "execution_count": 10,
   "metadata": {
    "executionInfo": {
     "elapsed": 805,
     "status": "ok",
     "timestamp": 1636723289760,
     "user": {
      "displayName": "Julien Gremillot",
      "photoUrl": "https://lh3.googleusercontent.com/a-/AOh14GgbRVaiHnz8aFcITd5CV2Uacmm08EV3uIW2j8otfs8=s64",
      "userId": "05279943077271021606"
     },
     "user_tz": -60
    },
    "id": "WoIdZI67wlM7"
   },
   "outputs": [],
   "source": [
    "def model_builder(hp):\n",
    "\n",
    "    hp_filters = hp.Choice(\n",
    "        'num_filters',\n",
    "        values=[16, 32, 64],\n",
    "        default=64,\n",
    "    )\n",
    "\n",
    "    # Tune the learning rate for the optimizer\n",
    "    # Un premier test avec 0.01, 0.001 ou 0.0001 m'a donné 0.01\n",
    "    hp_learning_rate = hp.Float(\n",
    "        'learning_rate',\n",
    "        min_value=1e-5,\n",
    "        max_value=1e-2,\n",
    "        sampling='LOG',\n",
    "        default=1e-3\n",
    "    )\n",
    "\n",
    "    # Tune the number of units in the first Dense layer\n",
    "    # Choose an optimal value between 32-512\n",
    "    # Deux premiers test entre 32-512 m'a donné 256 & 352\n",
    "    hp_units = hp.Int('units', min_value=240, max_value=400, step=32)\n",
    "\n",
    "    # Teste différentes méthodes d'activation\n",
    "    hp_activation = hp.Choice(\n",
    "        'dense_activation',\n",
    "        values=['relu', 'tanh', 'sigmoid'],\n",
    "        default='relu'\n",
    "    )\n",
    "\n",
    "    hp_dropout_rate = hp.Float(\n",
    "        'dropout_1',\n",
    "        min_value=0.0,\n",
    "        max_value=0.5,\n",
    "        default=0.25,\n",
    "        step=0.05,\n",
    "    )\n",
    "    \n",
    "    model = Sequential()\n",
    "    model.add(Conv2D(hp_filters, 3, padding='same', activation=hp_activation))\n",
    "    model.add(MaxPooling2D())\n",
    "    model.add(Conv2D(hp_filters, 3, padding='same', activation=hp_activation))\n",
    "    model.add(MaxPooling2D())\n",
    "    model.add(Conv2D(hp_filters, 3, padding='same', activation=hp_activation))\n",
    "    model.add(MaxPooling2D())\n",
    "    model.add(Dropout(hp_dropout_rate))\n",
    "    model.add(Flatten(input_shape=(width, height, 3)))\n",
    "    model.add(Dense(units=hp_units, activation=hp_activation))\n",
    "    model.add(Dense(len(class_names)))\n",
    "    model.compile(optimizer=Adam(learning_rate=hp_learning_rate),\n",
    "                loss=SparseCategoricalCrossentropy(from_logits=True),\n",
    "                metrics=['accuracy'])\n",
    "    return model"
   ]
  },
  {
   "cell_type": "code",
   "execution_count": 11,
   "metadata": {
    "executionInfo": {
     "elapsed": 805,
     "status": "ok",
     "timestamp": 1636723293411,
     "user": {
      "displayName": "Julien Gremillot",
      "photoUrl": "https://lh3.googleusercontent.com/a-/AOh14GgbRVaiHnz8aFcITd5CV2Uacmm08EV3uIW2j8otfs8=s64",
      "userId": "05279943077271021606"
     },
     "user_tz": -60
    },
    "id": "4z3ZJ6mfxIHX"
   },
   "outputs": [],
   "source": [
    "tuner = kt.Hyperband(model_builder,\n",
    "                     objective='val_accuracy',\n",
    "                     max_epochs=10,\n",
    "                     factor=3,\n",
    "                     directory='keras_tuner',\n",
    "                     project_name='dogs')"
   ]
  },
  {
   "cell_type": "code",
   "execution_count": 12,
   "metadata": {
    "executionInfo": {
     "elapsed": 805,
     "status": "ok",
     "timestamp": 1636723298829,
     "user": {
      "displayName": "Julien Gremillot",
      "photoUrl": "https://lh3.googleusercontent.com/a-/AOh14GgbRVaiHnz8aFcITd5CV2Uacmm08EV3uIW2j8otfs8=s64",
      "userId": "05279943077271021606"
     },
     "user_tz": -60
    },
    "id": "Z4MoUdiPxOmB"
   },
   "outputs": [],
   "source": [
    "stop_early = EarlyStopping(monitor='val_loss', patience=5)"
   ]
  },
  {
   "cell_type": "code",
   "execution_count": 10,
   "metadata": {
    "executionInfo": {
     "elapsed": 65,
     "status": "ok",
     "timestamp": 1636715312344,
     "user": {
      "displayName": "Julien Gremillot",
      "photoUrl": "https://lh3.googleusercontent.com/a-/AOh14GgbRVaiHnz8aFcITd5CV2Uacmm08EV3uIW2j8otfs8=s64",
      "userId": "05279943077271021606"
     },
     "user_tz": -60
    },
    "id": "umjwaIMsxr31"
   },
   "outputs": [],
   "source": [
    "#train_ds = train_ds.cache().shuffle(1000).prefetch(buffer_size=AUTOTUNE)\n",
    "#val_ds = val_ds.cache().prefetch(buffer_size=AUTOTUNE)"
   ]
  },
  {
   "cell_type": "code",
   "execution_count": 11,
   "metadata": {
    "executionInfo": {
     "elapsed": 66,
     "status": "ok",
     "timestamp": 1636715312346,
     "user": {
      "displayName": "Julien Gremillot",
      "photoUrl": "https://lh3.googleusercontent.com/a-/AOh14GgbRVaiHnz8aFcITd5CV2Uacmm08EV3uIW2j8otfs8=s64",
      "userId": "05279943077271021606"
     },
     "user_tz": -60
    },
    "id": "kLKcBB5Oyn41"
   },
   "outputs": [],
   "source": [
    "#img_train = []\n",
    "#label_train = []\n",
    "#for image_batch, labels_batch in train_ds:\n",
    "#  img_train.append(image_batch)\n",
    "#  label_train.append(labels_batch)"
   ]
  },
  {
   "cell_type": "code",
   "execution_count": 12,
   "metadata": {
    "executionInfo": {
     "elapsed": 67,
     "status": "ok",
     "timestamp": 1636715312348,
     "user": {
      "displayName": "Julien Gremillot",
      "photoUrl": "https://lh3.googleusercontent.com/a-/AOh14GgbRVaiHnz8aFcITd5CV2Uacmm08EV3uIW2j8otfs8=s64",
      "userId": "05279943077271021606"
     },
     "user_tz": -60
    },
    "id": "0jhja3evy9uE"
   },
   "outputs": [],
   "source": [
    "#import tensorflow_datasets as tfds\n",
    "#train_ds_numpy = tfds.as_numpy(train_ds)"
   ]
  },
  {
   "cell_type": "code",
   "execution_count": 13,
   "metadata": {
    "colab": {
     "base_uri": "https://localhost:8080/"
    },
    "executionInfo": {
     "elapsed": 1431152,
     "status": "ok",
     "timestamp": 1636724731995,
     "user": {
      "displayName": "Julien Gremillot",
      "photoUrl": "https://lh3.googleusercontent.com/a-/AOh14GgbRVaiHnz8aFcITd5CV2Uacmm08EV3uIW2j8otfs8=s64",
      "userId": "05279943077271021606"
     },
     "user_tz": -60
    },
    "id": "0KmVhx-57H0_",
    "outputId": "f7aec64e-7065-4be8-cf44-1220c71d1aea"
   },
   "outputs": [
    {
     "name": "stderr",
     "output_type": "stream",
     "text": [
      " 50%|████▉     | 257/515 [23:50<23:56,  5.57s/it]"
     ]
    },
    {
     "name": "stdout",
     "output_type": "stream",
     "text": [
      "img_train: (8256, 224, 224, 3)\n",
      "label_train: (8256,)\n"
     ]
    },
    {
     "name": "stderr",
     "output_type": "stream",
     "text": [
      "\n"
     ]
    }
   ],
   "source": [
    "img_train = None\n",
    "label_train = None\n",
    "i = 0\n",
    "for image_batch, labels_batch in tqdm(train_ds):\n",
    "    if img_train == None:\n",
    "        img_train = image_batch\n",
    "        label_train = labels_batch\n",
    "    else:\n",
    "        img_train = tf.concat(axis=0, values = [img_train, image_batch])\n",
    "        label_train = tf.concat(axis=0, values = [label_train, labels_batch])\n",
    "    i = i + 1\n",
    "    if i > (len(train_ds) * 0.5):  ## on s'arrête à 50% des données car plantage\n",
    "        break\n",
    "print(\"img_train:\", img_train.shape)\n",
    "print(\"label_train:\", label_train.shape)"
   ]
  },
  {
   "cell_type": "code",
   "execution_count": 14,
   "metadata": {
    "colab": {
     "base_uri": "https://localhost:8080/"
    },
    "executionInfo": {
     "elapsed": 916199,
     "status": "ok",
     "timestamp": 1636725648177,
     "user": {
      "displayName": "Julien Gremillot",
      "photoUrl": "https://lh3.googleusercontent.com/a-/AOh14GgbRVaiHnz8aFcITd5CV2Uacmm08EV3uIW2j8otfs8=s64",
      "userId": "05279943077271021606"
     },
     "user_tz": -60
    },
    "id": "mnZu6GsVxbsL",
    "outputId": "55c50f70-ed04-49e7-d386-68830a3d4f6a"
   },
   "outputs": [
    {
     "name": "stdout",
     "output_type": "stream",
     "text": [
      "Trial 30 Complete [00h 00m 44s]\n",
      "val_accuracy: 0.012711863964796066\n",
      "\n",
      "Best val_accuracy So Far: 0.07808716595172882\n",
      "Total elapsed time: 00h 15m 16s\n",
      "INFO:tensorflow:Oracle triggered exit\n",
      "\n",
      "The hyperparameter search is complete. The optimal number of units in the first densely-connected\n",
      "layer is 336 and the optimal learning rate for the optimizer\n",
      "is 1.606120839072308e-05.\n",
      "\n"
     ]
    }
   ],
   "source": [
    "tuner.search(img_train, label_train, epochs=50, validation_split=0.2, callbacks=[stop_early])\n",
    "\n",
    "# Get the optimal hyperparameters\n",
    "best_hps=tuner.get_best_hyperparameters(num_trials=1)[0]\n",
    "\n",
    "print(f\"\"\"\n",
    "The hyperparameter search is complete. The optimal number of units in the first densely-connected\n",
    "layer is {best_hps.get('units')} and the optimal learning rate for the optimizer\n",
    "is {best_hps.get('learning_rate')}.\n",
    "\"\"\")"
   ]
  },
  {
   "cell_type": "code",
   "execution_count": 16,
   "metadata": {
    "colab": {
     "base_uri": "https://localhost:8080/"
    },
    "executionInfo": {
     "elapsed": 381,
     "status": "ok",
     "timestamp": 1636725807076,
     "user": {
      "displayName": "Julien Gremillot",
      "photoUrl": "https://lh3.googleusercontent.com/a-/AOh14GgbRVaiHnz8aFcITd5CV2Uacmm08EV3uIW2j8otfs8=s64",
      "userId": "05279943077271021606"
     },
     "user_tz": -60
    },
    "id": "yQgVdL3Dc9qB",
    "outputId": "ebb19c28-30c1-46b6-ab57-5894858fd059"
   },
   "outputs": [
    {
     "name": "stdout",
     "output_type": "stream",
     "text": [
      "num_filters :  64\n",
      "learning_rate :  1.606120839072308e-05\n",
      "units :  336\n",
      "dense_activation :  tanh\n",
      "dropout_1 :  0.35000000000000003\n"
     ]
    }
   ],
   "source": [
    "print('num_filters : ', best_hps.get('num_filters'))\n",
    "print('learning_rate : ', best_hps.get('learning_rate'))\n",
    "print('units : ', best_hps.get('units'))\n",
    "print('dense_activation : ', best_hps.get('dense_activation'))\n",
    "print('dropout_1 : ', best_hps.get('dropout_1'))"
   ]
  },
  {
   "cell_type": "markdown",
   "metadata": {
    "id": "_Yw70bCC2dYQ"
   },
   "source": [
    "On essaie d'entrainer le modèle avec ces hyper paramètres."
   ]
  },
  {
   "cell_type": "code",
   "execution_count": 18,
   "metadata": {
    "executionInfo": {
     "elapsed": 814,
     "status": "ok",
     "timestamp": 1636726063367,
     "user": {
      "displayName": "Julien Gremillot",
      "photoUrl": "https://lh3.googleusercontent.com/a-/AOh14GgbRVaiHnz8aFcITd5CV2Uacmm08EV3uIW2j8otfs8=s64",
      "userId": "05279943077271021606"
     },
     "user_tz": -60
    },
    "id": "KrU5BTy6ebJs"
   },
   "outputs": [],
   "source": [
    "data_augmentation = Sequential(\n",
    "  [\n",
    "    RandomFlip(\"horizontal\", input_shape=(height, width, 3)),\n",
    "    RandomRotation(0.1),\n",
    "    RandomZoom(0.1),\n",
    "  ]\n",
    ")"
   ]
  },
  {
   "cell_type": "code",
   "execution_count": 19,
   "metadata": {
    "colab": {
     "base_uri": "https://localhost:8080/",
     "height": 1000
    },
    "executionInfo": {
     "elapsed": 2583186,
     "status": "ok",
     "timestamp": 1636728650041,
     "user": {
      "displayName": "Julien Gremillot",
      "photoUrl": "https://lh3.googleusercontent.com/a-/AOh14GgbRVaiHnz8aFcITd5CV2Uacmm08EV3uIW2j8otfs8=s64",
      "userId": "05279943077271021606"
     },
     "user_tz": -60
    },
    "id": "sOhRw5dHdqVk",
    "outputId": "cbc20cec-e873-44ea-b0b8-04626860c774"
   },
   "outputs": [
    {
     "name": "stdout",
     "output_type": "stream",
     "text": [
      "Epoch 1/15\n",
      "515/515 [==============================] - 2156s 4s/step - loss: 4.7736 - accuracy: 0.0155 - val_loss: 4.7329 - val_accuracy: 0.0204\n",
      "Epoch 2/15\n",
      "515/515 [==============================] - 30s 58ms/step - loss: 4.6507 - accuracy: 0.0270 - val_loss: 4.5645 - val_accuracy: 0.0374\n",
      "Epoch 3/15\n",
      "515/515 [==============================] - 30s 57ms/step - loss: 4.4596 - accuracy: 0.0446 - val_loss: 4.4369 - val_accuracy: 0.0445\n",
      "Epoch 4/15\n",
      "515/515 [==============================] - 29s 57ms/step - loss: 4.3283 - accuracy: 0.0573 - val_loss: 4.3498 - val_accuracy: 0.0578\n",
      "Epoch 5/15\n",
      "515/515 [==============================] - 30s 57ms/step - loss: 4.2467 - accuracy: 0.0680 - val_loss: 4.2984 - val_accuracy: 0.0603\n",
      "Epoch 6/15\n",
      "515/515 [==============================] - 29s 56ms/step - loss: 4.1873 - accuracy: 0.0782 - val_loss: 4.2796 - val_accuracy: 0.0644\n",
      "Epoch 7/15\n",
      "515/515 [==============================] - 29s 56ms/step - loss: 4.1451 - accuracy: 0.0856 - val_loss: 4.2612 - val_accuracy: 0.0700\n",
      "Epoch 8/15\n",
      "515/515 [==============================] - 29s 57ms/step - loss: 4.1040 - accuracy: 0.0903 - val_loss: 4.2323 - val_accuracy: 0.0739\n",
      "Epoch 9/15\n",
      "515/515 [==============================] - 30s 57ms/step - loss: 4.0701 - accuracy: 0.0960 - val_loss: 4.2058 - val_accuracy: 0.0751\n",
      "Epoch 10/15\n",
      "515/515 [==============================] - 29s 56ms/step - loss: 4.0374 - accuracy: 0.0995 - val_loss: 4.2024 - val_accuracy: 0.0787\n",
      "Epoch 11/15\n",
      "515/515 [==============================] - 29s 57ms/step - loss: 4.0060 - accuracy: 0.1011 - val_loss: 4.2038 - val_accuracy: 0.0746\n",
      "Epoch 12/15\n",
      "515/515 [==============================] - 30s 57ms/step - loss: 3.9812 - accuracy: 0.1105 - val_loss: 4.1527 - val_accuracy: 0.0836\n",
      "Epoch 13/15\n",
      "515/515 [==============================] - 30s 57ms/step - loss: 3.9487 - accuracy: 0.1136 - val_loss: 4.1608 - val_accuracy: 0.0850\n",
      "Epoch 14/15\n",
      "515/515 [==============================] - 30s 57ms/step - loss: 3.9215 - accuracy: 0.1194 - val_loss: 4.1423 - val_accuracy: 0.0850\n",
      "Epoch 15/15\n",
      "515/515 [==============================] - 29s 57ms/step - loss: 3.8985 - accuracy: 0.1226 - val_loss: 4.1375 - val_accuracy: 0.0853\n"
     ]
    },
    {
     "data": {
      "image/png": "[encoded data removed]",
      "text/plain": [
       "<Figure size 576x576 with 2 Axes>"
      ]
     },
     "metadata": {
      "needs_background": "light"
     },
     "output_type": "display_data"
    }
   ],
   "source": [
    "model = Sequential([\n",
    "  data_augmentation,\n",
    "  Rescaling(1./255),\n",
    "  Conv2D(64, 3, padding='same', activation='relu'),\n",
    "  MaxPooling2D(),\n",
    "  Conv2D(64, 3, padding='same', activation='relu'),\n",
    "  MaxPooling2D(),\n",
    "  Conv2D(64, 3, padding='same', activation='relu'),\n",
    "  MaxPooling2D(),\n",
    "  Dropout(0.35),\n",
    "  Flatten(),\n",
    "  Dense(336, activation='tanh'),\n",
    "  Dense(len(class_names))\n",
    "])\n",
    "model.compile(optimizer=Adam(learning_rate=1.606120839072308e-05),\n",
    "              loss=tf.keras.losses.SparseCategoricalCrossentropy(from_logits=True),\n",
    "              metrics=['accuracy'])\n",
    "epochs = 15\n",
    "history = model.fit(\n",
    "  train_ds,\n",
    "  validation_data=val_ds,\n",
    "  epochs=epochs\n",
    ")\n",
    "acc = history.history['accuracy']\n",
    "val_acc = history.history['val_accuracy']\n",
    "\n",
    "loss = history.history['loss']\n",
    "val_loss = history.history['val_loss']\n",
    "\n",
    "epochs_range = range(epochs)\n",
    "\n",
    "plt.figure(figsize=(8, 8))\n",
    "plt.subplot(1, 2, 1)\n",
    "plt.plot(epochs_range, acc, label='Training Accuracy')\n",
    "plt.plot(epochs_range, val_acc, label='Validation Accuracy')\n",
    "plt.legend(loc='lower right')\n",
    "plt.title('Training and Validation Accuracy')\n",
    "\n",
    "plt.subplot(1, 2, 2)\n",
    "plt.plot(epochs_range, loss, label='Training Loss')\n",
    "plt.plot(epochs_range, val_loss, label='Validation Loss')\n",
    "plt.legend(loc='upper right')\n",
    "plt.title('Training and Validation Loss')\n",
    "plt.show()"
   ]
  },
  {
   "cell_type": "code",
   "execution_count": 20,
   "metadata": {
    "colab": {
     "base_uri": "https://localhost:8080/"
    },
    "executionInfo": {
     "elapsed": 811,
     "status": "ok",
     "timestamp": 1636732730570,
     "user": {
      "displayName": "Julien Gremillot",
      "photoUrl": "https://lh3.googleusercontent.com/a-/AOh14GgbRVaiHnz8aFcITd5CV2Uacmm08EV3uIW2j8otfs8=s64",
      "userId": "05279943077271021606"
     },
     "user_tz": -60
    },
    "id": "jHJJVr4k32wl",
    "outputId": "cd04ba22-079b-4048-cdae-0285b773609b"
   },
   "outputs": [
    {
     "data": {
      "text/plain": [
       "<keras.engine.sequential.Sequential at 0x7f2da2155050>"
      ]
     },
     "execution_count": 20,
     "metadata": {},
     "output_type": "execute_result"
    }
   ],
   "source": []
  },
  {
   "cell_type": "code",
   "execution_count": null,
   "metadata": {
    "colab": {
     "base_uri": "https://localhost:8080/"
    },
    "executionInfo": {
     "elapsed": 95963,
     "status": "ok",
     "timestamp": 1636715836231,
     "user": {
      "displayName": "Julien Gremillot",
      "photoUrl": "https://lh3.googleusercontent.com/a-/AOh14GgbRVaiHnz8aFcITd5CV2Uacmm08EV3uIW2j8otfs8=s64",
      "userId": "05279943077271021606"
     },
     "user_tz": -60
    },
    "id": "Xm0vEVc9TFh0",
    "outputId": "f5d74640-3f35-4529-e06c-59742bfd7fa3"
   },
   "outputs": [
    {
     "name": "stdout",
     "output_type": "stream",
     "text": [
      "Trial 30 Complete [00h 00m 33s]\n",
      "val_accuracy: 0.010895883664488792\n",
      "\n",
      "Best val_accuracy So Far: 0.013317191042006016\n",
      "Total elapsed time: 00h 08m 29s\n",
      "INFO:tensorflow:Oracle triggered exit\n",
      "\n",
      "The hyperparameter search is complete. The optimal number of units in the first densely-connected\n",
      "layer is 256 and the optimal learning rate for the optimizer\n",
      "is 0.01.\n",
      "\n"
     ]
    }
   ],
   "source": [
    "tuner.search(img_train, label_train, epochs=50, validation_split=0.2, callbacks=[stop_early])\n",
    "\n",
    "# Get the optimal hyperparameters\n",
    "best_hps=tuner.get_best_hyperparameters(num_trials=1)[0]\n",
    "\n",
    "print(f\"\"\"\n",
    "The hyperparameter search is complete. The optimal number of units in the first densely-connected\n",
    "layer is {best_hps.get('units')} and the optimal learning rate for the optimizer\n",
    "is {best_hps.get('learning_rate')}.\n",
    "\"\"\")"
   ]
  }
 ],
 "metadata": {
  "accelerator": "GPU",
  "colab": {
   "authorship_tag": "ABX9TyPvgkXYxeNan9bT/8h7P9xE",
   "collapsed_sections": [],
   "machine_shape": "hm",
   "name": "Classez des images à l'aide d'algorithmes de Deep Learning.ipynb",
   "provenance": []
  },
  "kernelspec": {
   "display_name": "Python 3",
   "language": "python",
   "name": "python3"
  },
  "language_info": {
   "codemirror_mode": {
    "name": "ipython",
    "version": 3
   },
   "file_extension": ".py",
   "mimetype": "text/x-python",
   "name": "python",
   "nbconvert_exporter": "python",
   "pygments_lexer": "ipython3",
   "version": "3.8.8"
  }
 },
 "nbformat": 4,
 "nbformat_minor": 1
}
