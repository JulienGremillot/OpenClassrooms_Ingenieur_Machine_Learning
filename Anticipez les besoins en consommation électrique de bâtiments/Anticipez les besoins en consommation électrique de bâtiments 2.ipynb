{
 "cells": [
  {
   "cell_type": "code",
   "execution_count": 1,
   "id": "436b41ba",
   "metadata": {},
   "outputs": [],
   "source": [
    "# Je regroupe les imports en début de notebook\n",
    "import os\n",
    "import time\n",
    "import pandas as pd\n",
    "import numpy as np\n",
    "import matplotlib.pyplot as plt\n",
    "import matplotlib.cm as cm\n",
    "from sklearn.compose import ColumnTransformer\n",
    "from sklearn.preprocessing import StandardScaler\n",
    "from sklearn import neighbors\n",
    "from sklearn.dummy import DummyRegressor\n",
    "from sklearn.metrics import mean_absolute_error, mean_squared_error, mean_absolute_percentage_error, r2_score\n",
    "from sklearn.model_selection import train_test_split, GridSearchCV, ParameterGrid\n",
    "from sklearn.linear_model import Ridge, Lasso, LinearRegression\n",
    "from sklearn.ensemble import GradientBoostingRegressor, RandomForestRegressor\n",
    "import xgboost as xgb # installation : conda install -c conda-forge xgboost\n",
    "\n",
    "# Je me positionne dans mon répertoire de travail personnel\n",
    "os.chdir(\"C:\\\\Users\\\\Julien Gremillot\\\\OneDrive\\\\Documents\\\\OpenClassrooms\\\\Jupyter\")\n",
    "os.getcwd()\n",
    "\n",
    "# Lecture du fichier CSV\n",
    "data = pd.read_csv(\"building-energy-model-data.csv\", sep=',') # séparateur = virgule"
   ]
  },
  {
   "cell_type": "code",
   "execution_count": 2,
   "id": "efa9ca7f",
   "metadata": {},
   "outputs": [
    {
     "name": "stdout",
     "output_type": "stream",
     "text": [
      "['CouncilDistrictCode', 'NumberofBuildings', 'NumberofFloors', 'PropertyGFAParking', 'PropertyGFABuilding(s)', 'SecondLargestPropertyUseTypeGFA', 'ThirdLargestPropertyUseTypeGFA', 'ENERGYSTARScore', 'Latitude', 'Longitude', 'age', 'consommation', 'emissions', '0', '1', '2', '3', '4', '5', '6', '7', '8', '9', '10', '11', '12', '13', '14', '15', '16', '17', '18', '19', '20', '21', '22', '23', '24', '25', '26', '27', '28', '29', '30', '31', '32', '33', '34', '35', '36', '37', '38', '39', '40', '41', '42', '43', '44', '45', '46', '47', '48', '49', '50', '51', '52', '53', '54', '55', '56', '57', '58', '59', '60', '61', '62', '63', '0.1', '1.1', '2.1', '3.1', '0.2', '1.2', '2.2', '3.2', '4.1', '5.1', '6.1', '7.1', '8.1', '9.1', '10.1', '11.1', '12.1', '13.1', '14.1', '15.1', '16.1', '17.1', '18.1', '19.1', '20.1', '0.3', '1.3', '2.3', '3.3', '4.2', '5.2', '6.2', '7.2', '8.2', '9.2', '10.2', '11.2', '0.4', '1.4', '2.4']\n"
     ]
    }
   ],
   "source": [
    "print(data.columns.tolist())"
   ]
  },
  {
   "cell_type": "code",
   "execution_count": 3,
   "id": "bd4fbd02",
   "metadata": {},
   "outputs": [
    {
     "name": "stdout",
     "output_type": "stream",
     "text": [
      "index_consommation = 11 \n",
      "index_emissions = 12\n"
     ]
    }
   ],
   "source": [
    "index_consommation = -1\n",
    "index_emissions = -1\n",
    "for i in range(len(data.columns)):\n",
    "    if data.iloc[:, i].name == 'consommation':\n",
    "        index_consommation = i\n",
    "    if data.iloc[:, i].name == 'emissions':\n",
    "        index_emissions = i\n",
    "print('index_consommation =', index_consommation, '\\nindex_emissions =', index_emissions)"
   ]
  },
  {
   "cell_type": "code",
   "execution_count": 4,
   "id": "5216e6a6",
   "metadata": {},
   "outputs": [
    {
     "name": "stdout",
     "output_type": "stream",
     "text": [
      "Données initiales : (1687, 117)\n",
      "Features : (1687, 115)\n",
      "Targets : (1687,) & (1687,)\n",
      "['CouncilDistrictCode', 'NumberofBuildings', 'NumberofFloors', 'PropertyGFAParking', 'PropertyGFABuilding(s)', 'SecondLargestPropertyUseTypeGFA', 'ThirdLargestPropertyUseTypeGFA', 'ENERGYSTARScore', 'Latitude', 'Longitude', 'age', '0', '1', '2', '3', '4', '5', '6', '7', '8', '9', '10', '11', '12', '13', '14', '15', '16', '17', '18', '19', '20', '21', '22', '23', '24', '25', '26', '27', '28', '29', '30', '31', '32', '33', '34', '35', '36', '37', '38', '39', '40', '41', '42', '43', '44', '45', '46', '47', '48', '49', '50', '51', '52', '53', '54', '55', '56', '57', '58', '59', '60', '61', '62', '63', '0.1', '1.1', '2.1', '3.1', '0.2', '1.2', '2.2', '3.2', '4.1', '5.1', '6.1', '7.1', '8.1', '9.1', '10.1', '11.1', '12.1', '13.1', '14.1', '15.1', '16.1', '17.1', '18.1', '19.1', '20.1', '0.3', '1.3', '2.3', '3.3', '4.2', '5.2', '6.2', '7.2', '8.2', '9.2', '10.2', '11.2', '0.4', '1.4', '2.4'] \n",
      " 0    16.107916\n",
      "1    15.691287\n",
      "2    16.634519\n",
      "3    15.314463\n",
      "4    16.354152\n",
      "Name: consommation, dtype: float64 \n",
      " 0    4.234251\n",
      "1    3.855241\n",
      "2    4.760805\n",
      "3    4.902976\n",
      "4    5.424598\n",
      "Name: emissions, dtype: float64\n"
     ]
    }
   ],
   "source": [
    "# On récupère les features d'un côté...\n",
    "X = pd.concat([data.iloc[:,:index_consommation], data.iloc[:,index_emissions+1:]], axis = 1)\n",
    "\n",
    "# et les targets de l'autre\n",
    "y_consommation = data.iloc[:,index_consommation]\n",
    "y_emissions = data.iloc[:,index_emissions]\n",
    "\n",
    "print(\"Données initiales :\", data.shape)\n",
    "print(\"Features :\", X.shape)\n",
    "print(\"Targets :\", y_consommation.shape, \"&\", y_emissions.shape)\n",
    "print(X.columns.tolist(), \"\\n\", y_consommation.head(), \"\\n\", y_emissions.head())"
   ]
  },
  {
   "cell_type": "markdown",
   "id": "1e30f9e9",
   "metadata": {},
   "source": [
    "On commence par définir nos jeux de données pour le modèle de prédiction de la consommation d'énergie (y_consommation) et on standardise les données."
   ]
  },
  {
   "cell_type": "code",
   "execution_count": 5,
   "id": "efdfe924",
   "metadata": {},
   "outputs": [],
   "source": [
    "X_train, X_test, y_train, y_test = train_test_split(X, y_consommation, test_size=0.2)\n",
    "ct = ColumnTransformer([\n",
    "        ('transformer_categ_columns', StandardScaler(), \n",
    "           ['CouncilDistrictCode', 'NumberofBuildings', 'NumberofFloors', 'PropertyGFAParking', \n",
    "            'PropertyGFABuilding(s)', 'SecondLargestPropertyUseTypeGFA', 'ThirdLargestPropertyUseTypeGFA', \n",
    "            'ENERGYSTARScore', 'Latitude', 'Longitude', 'age'])\n",
    "    ], remainder='passthrough').fit(X_train)\n",
    "\n",
    "X_train_std = ct.transform(X_train)\n",
    "X_test_std = ct.transform(X_test)"
   ]
  },
  {
   "cell_type": "code",
   "execution_count": 6,
   "id": "432c3eaa",
   "metadata": {},
   "outputs": [
    {
     "data": {
      "text/html": [
       "<div>\n",
       "<style scoped>\n",
       "    .dataframe tbody tr th:only-of-type {\n",
       "        vertical-align: middle;\n",
       "    }\n",
       "\n",
       "    .dataframe tbody tr th {\n",
       "        vertical-align: top;\n",
       "    }\n",
       "\n",
       "    .dataframe thead th {\n",
       "        text-align: right;\n",
       "    }\n",
       "</style>\n",
       "<table border=\"1\" class=\"dataframe\">\n",
       "  <thead>\n",
       "    <tr style=\"text-align: right;\">\n",
       "      <th></th>\n",
       "      <th>CouncilDistrictCode</th>\n",
       "      <th>NumberofBuildings</th>\n",
       "      <th>NumberofFloors</th>\n",
       "      <th>PropertyGFAParking</th>\n",
       "      <th>PropertyGFABuilding(s)</th>\n",
       "      <th>SecondLargestPropertyUseTypeGFA</th>\n",
       "      <th>ThirdLargestPropertyUseTypeGFA</th>\n",
       "      <th>ENERGYSTARScore</th>\n",
       "      <th>Latitude</th>\n",
       "      <th>Longitude</th>\n",
       "      <th>...</th>\n",
       "      <th>5.2</th>\n",
       "      <th>6.2</th>\n",
       "      <th>7.2</th>\n",
       "      <th>8.2</th>\n",
       "      <th>9.2</th>\n",
       "      <th>10.2</th>\n",
       "      <th>11.2</th>\n",
       "      <th>0.4</th>\n",
       "      <th>1.4</th>\n",
       "      <th>2.4</th>\n",
       "    </tr>\n",
       "  </thead>\n",
       "  <tbody>\n",
       "    <tr>\n",
       "      <th>101</th>\n",
       "      <td>7</td>\n",
       "      <td>1.0</td>\n",
       "      <td>1.0</td>\n",
       "      <td>0</td>\n",
       "      <td>60696</td>\n",
       "      <td>0.0</td>\n",
       "      <td>0.0</td>\n",
       "      <td>73.0</td>\n",
       "      <td>47.62395</td>\n",
       "      <td>-122.35077</td>\n",
       "      <td>...</td>\n",
       "      <td>0.0</td>\n",
       "      <td>1.0</td>\n",
       "      <td>0.0</td>\n",
       "      <td>0.0</td>\n",
       "      <td>0.0</td>\n",
       "      <td>0.0</td>\n",
       "      <td>0.0</td>\n",
       "      <td>0.0</td>\n",
       "      <td>0.0</td>\n",
       "      <td>0.0</td>\n",
       "    </tr>\n",
       "    <tr>\n",
       "      <th>1281</th>\n",
       "      <td>1</td>\n",
       "      <td>1.0</td>\n",
       "      <td>1.0</td>\n",
       "      <td>0</td>\n",
       "      <td>40265</td>\n",
       "      <td>0.0</td>\n",
       "      <td>0.0</td>\n",
       "      <td>19.0</td>\n",
       "      <td>47.52254</td>\n",
       "      <td>-122.36627</td>\n",
       "      <td>...</td>\n",
       "      <td>0.0</td>\n",
       "      <td>0.0</td>\n",
       "      <td>0.0</td>\n",
       "      <td>0.0</td>\n",
       "      <td>0.0</td>\n",
       "      <td>0.0</td>\n",
       "      <td>0.0</td>\n",
       "      <td>0.0</td>\n",
       "      <td>0.0</td>\n",
       "      <td>0.0</td>\n",
       "    </tr>\n",
       "    <tr>\n",
       "      <th>1103</th>\n",
       "      <td>5</td>\n",
       "      <td>1.0</td>\n",
       "      <td>1.0</td>\n",
       "      <td>0</td>\n",
       "      <td>30160</td>\n",
       "      <td>0.0</td>\n",
       "      <td>0.0</td>\n",
       "      <td>73.0</td>\n",
       "      <td>47.72083</td>\n",
       "      <td>-122.29979</td>\n",
       "      <td>...</td>\n",
       "      <td>0.0</td>\n",
       "      <td>0.0</td>\n",
       "      <td>1.0</td>\n",
       "      <td>0.0</td>\n",
       "      <td>0.0</td>\n",
       "      <td>0.0</td>\n",
       "      <td>0.0</td>\n",
       "      <td>1.0</td>\n",
       "      <td>0.0</td>\n",
       "      <td>0.0</td>\n",
       "    </tr>\n",
       "    <tr>\n",
       "      <th>1097</th>\n",
       "      <td>3</td>\n",
       "      <td>1.0</td>\n",
       "      <td>1.0</td>\n",
       "      <td>0</td>\n",
       "      <td>274568</td>\n",
       "      <td>135954.0</td>\n",
       "      <td>0.0</td>\n",
       "      <td>52.0</td>\n",
       "      <td>47.60862</td>\n",
       "      <td>-122.32372</td>\n",
       "      <td>...</td>\n",
       "      <td>0.0</td>\n",
       "      <td>0.0</td>\n",
       "      <td>0.0</td>\n",
       "      <td>0.0</td>\n",
       "      <td>0.0</td>\n",
       "      <td>0.0</td>\n",
       "      <td>0.0</td>\n",
       "      <td>0.0</td>\n",
       "      <td>1.0</td>\n",
       "      <td>0.0</td>\n",
       "    </tr>\n",
       "    <tr>\n",
       "      <th>734</th>\n",
       "      <td>6</td>\n",
       "      <td>1.0</td>\n",
       "      <td>2.0</td>\n",
       "      <td>0</td>\n",
       "      <td>23931</td>\n",
       "      <td>0.0</td>\n",
       "      <td>0.0</td>\n",
       "      <td>88.0</td>\n",
       "      <td>47.67572</td>\n",
       "      <td>-122.32850</td>\n",
       "      <td>...</td>\n",
       "      <td>0.0</td>\n",
       "      <td>0.0</td>\n",
       "      <td>0.0</td>\n",
       "      <td>0.0</td>\n",
       "      <td>1.0</td>\n",
       "      <td>0.0</td>\n",
       "      <td>0.0</td>\n",
       "      <td>1.0</td>\n",
       "      <td>0.0</td>\n",
       "      <td>0.0</td>\n",
       "    </tr>\n",
       "    <tr>\n",
       "      <th>...</th>\n",
       "      <td>...</td>\n",
       "      <td>...</td>\n",
       "      <td>...</td>\n",
       "      <td>...</td>\n",
       "      <td>...</td>\n",
       "      <td>...</td>\n",
       "      <td>...</td>\n",
       "      <td>...</td>\n",
       "      <td>...</td>\n",
       "      <td>...</td>\n",
       "      <td>...</td>\n",
       "      <td>...</td>\n",
       "      <td>...</td>\n",
       "      <td>...</td>\n",
       "      <td>...</td>\n",
       "      <td>...</td>\n",
       "      <td>...</td>\n",
       "      <td>...</td>\n",
       "      <td>...</td>\n",
       "      <td>...</td>\n",
       "      <td>...</td>\n",
       "    </tr>\n",
       "    <tr>\n",
       "      <th>991</th>\n",
       "      <td>1</td>\n",
       "      <td>1.0</td>\n",
       "      <td>1.0</td>\n",
       "      <td>0</td>\n",
       "      <td>22000</td>\n",
       "      <td>0.0</td>\n",
       "      <td>0.0</td>\n",
       "      <td>14.0</td>\n",
       "      <td>47.51918</td>\n",
       "      <td>-122.31957</td>\n",
       "      <td>...</td>\n",
       "      <td>0.0</td>\n",
       "      <td>0.0</td>\n",
       "      <td>0.0</td>\n",
       "      <td>0.0</td>\n",
       "      <td>0.0</td>\n",
       "      <td>0.0</td>\n",
       "      <td>0.0</td>\n",
       "      <td>0.0</td>\n",
       "      <td>0.0</td>\n",
       "      <td>0.0</td>\n",
       "    </tr>\n",
       "    <tr>\n",
       "      <th>1376</th>\n",
       "      <td>7</td>\n",
       "      <td>1.0</td>\n",
       "      <td>4.0</td>\n",
       "      <td>0</td>\n",
       "      <td>39030</td>\n",
       "      <td>6685.0</td>\n",
       "      <td>0.0</td>\n",
       "      <td>99.0</td>\n",
       "      <td>47.59979</td>\n",
       "      <td>-122.33318</td>\n",
       "      <td>...</td>\n",
       "      <td>0.0</td>\n",
       "      <td>0.0</td>\n",
       "      <td>0.0</td>\n",
       "      <td>0.0</td>\n",
       "      <td>0.0</td>\n",
       "      <td>0.0</td>\n",
       "      <td>0.0</td>\n",
       "      <td>0.0</td>\n",
       "      <td>0.0</td>\n",
       "      <td>0.0</td>\n",
       "    </tr>\n",
       "    <tr>\n",
       "      <th>125</th>\n",
       "      <td>6</td>\n",
       "      <td>4.0</td>\n",
       "      <td>5.0</td>\n",
       "      <td>0</td>\n",
       "      <td>285333</td>\n",
       "      <td>148865.0</td>\n",
       "      <td>0.0</td>\n",
       "      <td>14.0</td>\n",
       "      <td>47.66737</td>\n",
       "      <td>-122.37956</td>\n",
       "      <td>...</td>\n",
       "      <td>0.0</td>\n",
       "      <td>0.0</td>\n",
       "      <td>0.0</td>\n",
       "      <td>0.0</td>\n",
       "      <td>0.0</td>\n",
       "      <td>0.0</td>\n",
       "      <td>0.0</td>\n",
       "      <td>0.0</td>\n",
       "      <td>0.0</td>\n",
       "      <td>0.0</td>\n",
       "    </tr>\n",
       "    <tr>\n",
       "      <th>724</th>\n",
       "      <td>4</td>\n",
       "      <td>1.0</td>\n",
       "      <td>2.0</td>\n",
       "      <td>0</td>\n",
       "      <td>20384</td>\n",
       "      <td>0.0</td>\n",
       "      <td>0.0</td>\n",
       "      <td>16.0</td>\n",
       "      <td>47.66461</td>\n",
       "      <td>-122.30142</td>\n",
       "      <td>...</td>\n",
       "      <td>0.0</td>\n",
       "      <td>0.0</td>\n",
       "      <td>0.0</td>\n",
       "      <td>1.0</td>\n",
       "      <td>0.0</td>\n",
       "      <td>0.0</td>\n",
       "      <td>0.0</td>\n",
       "      <td>0.0</td>\n",
       "      <td>0.0</td>\n",
       "      <td>0.0</td>\n",
       "    </tr>\n",
       "    <tr>\n",
       "      <th>303</th>\n",
       "      <td>7</td>\n",
       "      <td>1.0</td>\n",
       "      <td>8.0</td>\n",
       "      <td>0</td>\n",
       "      <td>60660</td>\n",
       "      <td>4800.0</td>\n",
       "      <td>0.0</td>\n",
       "      <td>73.0</td>\n",
       "      <td>47.60953</td>\n",
       "      <td>-122.33647</td>\n",
       "      <td>...</td>\n",
       "      <td>0.0</td>\n",
       "      <td>0.0</td>\n",
       "      <td>0.0</td>\n",
       "      <td>0.0</td>\n",
       "      <td>0.0</td>\n",
       "      <td>0.0</td>\n",
       "      <td>0.0</td>\n",
       "      <td>0.0</td>\n",
       "      <td>0.0</td>\n",
       "      <td>0.0</td>\n",
       "    </tr>\n",
       "  </tbody>\n",
       "</table>\n",
       "<p>1349 rows × 115 columns</p>\n",
       "</div>"
      ],
      "text/plain": [
       "      CouncilDistrictCode  NumberofBuildings  NumberofFloors  \\\n",
       "101                     7                1.0             1.0   \n",
       "1281                    1                1.0             1.0   \n",
       "1103                    5                1.0             1.0   \n",
       "1097                    3                1.0             1.0   \n",
       "734                     6                1.0             2.0   \n",
       "...                   ...                ...             ...   \n",
       "991                     1                1.0             1.0   \n",
       "1376                    7                1.0             4.0   \n",
       "125                     6                4.0             5.0   \n",
       "724                     4                1.0             2.0   \n",
       "303                     7                1.0             8.0   \n",
       "\n",
       "      PropertyGFAParking  PropertyGFABuilding(s)  \\\n",
       "101                    0                   60696   \n",
       "1281                   0                   40265   \n",
       "1103                   0                   30160   \n",
       "1097                   0                  274568   \n",
       "734                    0                   23931   \n",
       "...                  ...                     ...   \n",
       "991                    0                   22000   \n",
       "1376                   0                   39030   \n",
       "125                    0                  285333   \n",
       "724                    0                   20384   \n",
       "303                    0                   60660   \n",
       "\n",
       "      SecondLargestPropertyUseTypeGFA  ThirdLargestPropertyUseTypeGFA  \\\n",
       "101                               0.0                             0.0   \n",
       "1281                              0.0                             0.0   \n",
       "1103                              0.0                             0.0   \n",
       "1097                         135954.0                             0.0   \n",
       "734                               0.0                             0.0   \n",
       "...                               ...                             ...   \n",
       "991                               0.0                             0.0   \n",
       "1376                           6685.0                             0.0   \n",
       "125                          148865.0                             0.0   \n",
       "724                               0.0                             0.0   \n",
       "303                            4800.0                             0.0   \n",
       "\n",
       "      ENERGYSTARScore  Latitude  Longitude  ...  5.2  6.2  7.2  8.2  9.2  \\\n",
       "101              73.0  47.62395 -122.35077  ...  0.0  1.0  0.0  0.0  0.0   \n",
       "1281             19.0  47.52254 -122.36627  ...  0.0  0.0  0.0  0.0  0.0   \n",
       "1103             73.0  47.72083 -122.29979  ...  0.0  0.0  1.0  0.0  0.0   \n",
       "1097             52.0  47.60862 -122.32372  ...  0.0  0.0  0.0  0.0  0.0   \n",
       "734              88.0  47.67572 -122.32850  ...  0.0  0.0  0.0  0.0  1.0   \n",
       "...               ...       ...        ...  ...  ...  ...  ...  ...  ...   \n",
       "991              14.0  47.51918 -122.31957  ...  0.0  0.0  0.0  0.0  0.0   \n",
       "1376             99.0  47.59979 -122.33318  ...  0.0  0.0  0.0  0.0  0.0   \n",
       "125              14.0  47.66737 -122.37956  ...  0.0  0.0  0.0  0.0  0.0   \n",
       "724              16.0  47.66461 -122.30142  ...  0.0  0.0  0.0  1.0  0.0   \n",
       "303              73.0  47.60953 -122.33647  ...  0.0  0.0  0.0  0.0  0.0   \n",
       "\n",
       "      10.2  11.2  0.4  1.4  2.4  \n",
       "101    0.0   0.0  0.0  0.0  0.0  \n",
       "1281   0.0   0.0  0.0  0.0  0.0  \n",
       "1103   0.0   0.0  1.0  0.0  0.0  \n",
       "1097   0.0   0.0  0.0  1.0  0.0  \n",
       "734    0.0   0.0  1.0  0.0  0.0  \n",
       "...    ...   ...  ...  ...  ...  \n",
       "991    0.0   0.0  0.0  0.0  0.0  \n",
       "1376   0.0   0.0  0.0  0.0  0.0  \n",
       "125    0.0   0.0  0.0  0.0  0.0  \n",
       "724    0.0   0.0  0.0  0.0  0.0  \n",
       "303    0.0   0.0  0.0  0.0  0.0  \n",
       "\n",
       "[1349 rows x 115 columns]"
      ]
     },
     "execution_count": 6,
     "metadata": {},
     "output_type": "execute_result"
    }
   ],
   "source": [
    "X_train"
   ]
  },
  {
   "cell_type": "code",
   "execution_count": 7,
   "id": "8dbcd0d8",
   "metadata": {},
   "outputs": [
    {
     "data": {
      "text/plain": [
       "array([[ 1.18369832, -0.06635024, -0.53338632, ...,  0.        ,\n",
       "         0.        ,  0.        ],\n",
       "       [-1.53581749, -0.06635024, -0.53338632, ...,  0.        ,\n",
       "         0.        ,  0.        ],\n",
       "       [ 0.27719305, -0.06635024, -0.53338632, ...,  1.        ,\n",
       "         0.        ,  0.        ],\n",
       "       ...,\n",
       "       [ 0.73044568,  0.86600886,  0.16181962, ...,  0.        ,\n",
       "         0.        ,  0.        ],\n",
       "       [-0.17605959, -0.06635024, -0.35958483, ...,  0.        ,\n",
       "         0.        ,  0.        ],\n",
       "       [ 1.18369832, -0.06635024,  0.68322407, ...,  0.        ,\n",
       "         0.        ,  0.        ]])"
      ]
     },
     "execution_count": 7,
     "metadata": {},
     "output_type": "execute_result"
    }
   ],
   "source": [
    "X_train_std"
   ]
  },
  {
   "cell_type": "markdown",
   "id": "d35719c3",
   "metadata": {},
   "source": [
    "Ici on définit une première fonction qui va nous afficher les différentes mesures de qualité d'après les prédictions de nos modèles et une seconde fonction qui va entrainer le modèle du type passé en paramètre, faire des prédictions et appeler la première méthode pour afficher les résultats de ce modèle."
   ]
  },
  {
   "cell_type": "code",
   "execution_count": 8,
   "id": "3a353537",
   "metadata": {},
   "outputs": [],
   "source": [
    "mean_absolute_errors = {}\n",
    "mean_squared_errors = {}\n",
    "root_mean_squared_errors = {}\n",
    "rmpses = {}\n",
    "mean_absolute_percentage_errors = {}\n",
    "r2_scores = {}\n",
    "fit_times = {}\n",
    "predict_times = {}\n",
    "\n",
    "def fit_predict_and_show_metrics(model, Xtrain, Xtest, ytrain, ytest, model_name):\n",
    "    \"\"\"\n",
    "    Réalise l'entrainement du modèle et la prédiction sur les données de test,\n",
    "    puis calcule les métriques d'évaluation\n",
    "    \"\"\"\n",
    "    tps1 = time.time()\n",
    "    model.fit(Xtrain, ytrain)\n",
    "    tps2 = time.time()\n",
    "    ypred = model.predict(Xtest)\n",
    "    fit_times[model_name] = tps2 - tps1\n",
    "    predict_times[model_name] = time.time() - tps2\n",
    "    mean_absolute_errors[model_name] = mean_absolute_error(ytest, ypred)\n",
    "    mean_squared_errors[model_name] = mean_squared_error(ytest, ypred)\n",
    "    root_mean_squared_errors[model_name] = np.sqrt(mean_squared_errors[model_name])\n",
    "    rmpses[model_name] = np.sqrt(np.mean(np.square(((ytest - ypred) / ytest))))\n",
    "    mean_absolute_percentage_errors[model_name] = mean_absolute_percentage_error(ytest, ypred)\n",
    "    r2_scores[model_name] = r2_score(ytest, ypred)\n",
    "    print(\"mean_absolute_error : {:.2f}\".format(mean_absolute_errors[model_name]))\n",
    "    print(\"mean_squared_error : {:.2f}\".format(mean_squared_errors[model_name]))\n",
    "    print(\"root_mean_squared_error : {:.2f}\".format(root_mean_squared_errors[model_name]))\n",
    "    print(\"rmpse : {:.2f}\".format(rmpses[model_name]))\n",
    "    print(\"mean_absolute_percentage_error : {:.2f}\".format(mean_absolute_percentage_errors[model_name]))\n",
    "    print(\"r2_score : {:.2f}\".format(r2_scores[model_name]))"
   ]
  },
  {
   "cell_type": "markdown",
   "id": "3b184faa",
   "metadata": {},
   "source": [
    "On commence par entrainer un modèle \"Dummy\" (qui renvoie toujours la médiane) afin d'avoir une base de comparaison des autres résultats"
   ]
  },
  {
   "cell_type": "code",
   "execution_count": 9,
   "id": "86c42757",
   "metadata": {},
   "outputs": [
    {
     "name": "stdout",
     "output_type": "stream",
     "text": [
      "mean_absolute_error : 1.02\n",
      "mean_squared_error : 1.80\n",
      "root_mean_squared_error : 1.34\n",
      "rmpse : 0.09\n",
      "mean_absolute_percentage_error : 0.07\n",
      "r2_score : -0.00\n"
     ]
    }
   ],
   "source": [
    "dummy_regressor = DummyRegressor(strategy=\"median\")\n",
    "fit_predict_and_show_metrics(dummy_regressor, X_train_std, X_test_std, y_train, y_test, 'DummyRegressor')"
   ]
  },
  {
   "cell_type": "markdown",
   "id": "78c6ed13",
   "metadata": {},
   "source": [
    "Puis on affiche les scores pour un modèle de régression linéaire et ses dérivées Ridge et Lasso :"
   ]
  },
  {
   "cell_type": "code",
   "execution_count": 10,
   "id": "bb33b4f7",
   "metadata": {},
   "outputs": [
    {
     "name": "stdout",
     "output_type": "stream",
     "text": [
      "mean_absolute_error : 0.62\n",
      "mean_squared_error : 0.63\n",
      "root_mean_squared_error : 0.80\n",
      "rmpse : 0.05\n",
      "mean_absolute_percentage_error : 0.04\n",
      "r2_score : 0.65\n"
     ]
    }
   ],
   "source": [
    "linear_regression = LinearRegression()   \n",
    "fit_predict_and_show_metrics(linear_regression, X_train, X_test, y_train, y_test, 'LinearRegression')"
   ]
  },
  {
   "cell_type": "code",
   "execution_count": 11,
   "id": "8b4619e4",
   "metadata": {},
   "outputs": [
    {
     "name": "stdout",
     "output_type": "stream",
     "text": [
      "mean_absolute_error : 0.62\n",
      "mean_squared_error : 0.63\n",
      "root_mean_squared_error : 0.79\n",
      "rmpse : 0.05\n",
      "mean_absolute_percentage_error : 0.04\n",
      "r2_score : 0.65\n"
     ]
    }
   ],
   "source": [
    "ridge = Ridge(random_state=123)\n",
    "fit_predict_and_show_metrics(ridge, X_train_std, X_test_std, y_train, y_test, 'Ridge')"
   ]
  },
  {
   "cell_type": "code",
   "execution_count": 12,
   "id": "a93a1754",
   "metadata": {},
   "outputs": [
    {
     "name": "stdout",
     "output_type": "stream",
     "text": [
      "mean_absolute_error : 1.04\n",
      "mean_squared_error : 1.79\n",
      "root_mean_squared_error : 1.34\n",
      "rmpse : 0.09\n",
      "mean_absolute_percentage_error : 0.07\n",
      "r2_score : -0.00\n"
     ]
    }
   ],
   "source": [
    "lasso = Lasso(random_state=123)\n",
    "fit_predict_and_show_metrics(lasso, X_train_std, X_test_std, y_train, y_test, 'Lasso')"
   ]
  },
  {
   "cell_type": "markdown",
   "id": "6a26be22",
   "metadata": {},
   "source": [
    "Pour ces 3 modèles linéaires, on constate que les scores sont \"catastrophiques\" : moins bons que le modèle Dummy utilisé comme référence.\n",
    "\n",
    "On va donc tester 3 autres types de modèles non-linéaires : le Gradient, le Random Forest et le Gradient Boosting."
   ]
  },
  {
   "cell_type": "code",
   "execution_count": 13,
   "id": "32e127cc",
   "metadata": {},
   "outputs": [
    {
     "name": "stdout",
     "output_type": "stream",
     "text": [
      "mean_absolute_error : 0.44\n",
      "mean_squared_error : 0.39\n",
      "root_mean_squared_error : 0.62\n",
      "rmpse : 0.04\n",
      "mean_absolute_percentage_error : 0.03\n",
      "r2_score : 0.78\n",
      "---\n",
      "mean_absolute_error : 0.47\n",
      "mean_squared_error : 0.46\n",
      "root_mean_squared_error : 0.68\n",
      "rmpse : 0.05\n",
      "mean_absolute_percentage_error : 0.03\n",
      "r2_score : 0.74\n",
      "---\n",
      "mean_absolute_error : 0.47\n",
      "mean_squared_error : 0.42\n",
      "root_mean_squared_error : 0.65\n",
      "rmpse : 0.04\n",
      "mean_absolute_percentage_error : 0.03\n",
      "r2_score : 0.76\n"
     ]
    },
    {
     "name": "stderr",
     "output_type": "stream",
     "text": [
      "C:\\anaconda\\lib\\site-packages\\xgboost\\data.py:112: UserWarning: Use subset (sliced data) of np.ndarray is not recommended because it will generate extra copies and increase memory consumption\n",
      "  warnings.warn(\n"
     ]
    }
   ],
   "source": [
    "gradient_boosting_regressor = GradientBoostingRegressor(random_state=123)\n",
    "fit_predict_and_show_metrics(gradient_boosting_regressor, X_train, X_test, y_train, y_test, 'GradientBoostingRegressor')\n",
    "print(\"---\")\n",
    "random_forest_regressor = RandomForestRegressor(random_state=123)\n",
    "fit_predict_and_show_metrics(random_forest_regressor, X_train, X_test, y_train, y_test, 'RandomForestRegressor')\n",
    "print(\"---\")\n",
    "xgb_regressor = xgb.XGBRegressor(random_state=123)\n",
    "fit_predict_and_show_metrics(xgb_regressor, X_train, X_test, y_train, y_test, 'XGBRegressor')"
   ]
  },
  {
   "cell_type": "code",
   "execution_count": 14,
   "id": "35bf1159",
   "metadata": {},
   "outputs": [
    {
     "data": {
      "text/plain": [
       "{'alpha': 0.9,\n",
       " 'ccp_alpha': 0.0,\n",
       " 'criterion': 'friedman_mse',\n",
       " 'init': None,\n",
       " 'learning_rate': 0.1,\n",
       " 'loss': 'ls',\n",
       " 'max_depth': 3,\n",
       " 'max_features': None,\n",
       " 'max_leaf_nodes': None,\n",
       " 'min_impurity_decrease': 0.0,\n",
       " 'min_impurity_split': None,\n",
       " 'min_samples_leaf': 1,\n",
       " 'min_samples_split': 2,\n",
       " 'min_weight_fraction_leaf': 0.0,\n",
       " 'n_estimators': 100,\n",
       " 'n_iter_no_change': None,\n",
       " 'random_state': 123,\n",
       " 'subsample': 1.0,\n",
       " 'tol': 0.0001,\n",
       " 'validation_fraction': 0.1,\n",
       " 'verbose': 0,\n",
       " 'warm_start': False}"
      ]
     },
     "execution_count": 14,
     "metadata": {},
     "output_type": "execute_result"
    }
   ],
   "source": [
    "gradient_boosting_regressor.get_params()"
   ]
  },
  {
   "cell_type": "markdown",
   "id": "26c3dd0a",
   "metadata": {},
   "source": [
    "D'après les chiffres obtenus, le modèle du Gradient est le plus performant avec un score R2 de 92%.\n",
    "Nous allons donc essayer d'afiner ce résultat en modifiant ses paramètres."
   ]
  },
  {
   "cell_type": "code",
   "execution_count": 15,
   "id": "f5cd3add",
   "metadata": {},
   "outputs": [
    {
     "name": "stdout",
     "output_type": "stream",
     "text": [
      "Nombre de combinaisons de paramètres étudiées : 192\n"
     ]
    },
    {
     "name": "stderr",
     "output_type": "stream",
     "text": [
      "C:\\anaconda\\lib\\site-packages\\sklearn\\model_selection\\_search.py:918: UserWarning: One or more of the test scores are non-finite: [ 3.32307526e-01  3.36811371e-01  3.30599784e-01             nan\n",
      "  4.84292574e-01  4.81008817e-01  4.72467387e-01             nan\n",
      "  7.09470241e-01  7.08476959e-01  6.91927937e-01             nan\n",
      "  3.59667638e-01  3.69708824e-01  3.59031713e-01             nan\n",
      "  5.22379951e-01  5.29541443e-01  5.17269450e-01             nan\n",
      "  7.34628299e-01  7.45078861e-01  7.29697650e-01             nan\n",
      "  3.89702234e-01  4.13741052e-01  4.04577182e-01             nan\n",
      "  5.62002045e-01  5.87380554e-01  5.81512048e-01             nan\n",
      "  7.49628206e-01  7.68927884e-01  7.56239080e-01             nan\n",
      "  4.04377953e-01  4.44309678e-01  4.51161699e-01             nan\n",
      "  5.83673143e-01  6.22481625e-01  6.17436834e-01             nan\n",
      "  7.59329321e-01  7.63542506e-01  7.30337040e-01             nan\n",
      "  6.86597069e-01  7.08639565e-01  6.95390121e-01             nan\n",
      "  7.07550143e-01  7.51781562e-01  7.45357243e-01             nan\n",
      "  7.08815972e-01  7.68310996e-01  7.69419457e-01             nan\n",
      "  6.97397217e-01  7.39396066e-01  7.31415517e-01             nan\n",
      "  7.06071628e-01  7.61927950e-01  7.59969846e-01             nan\n",
      "  6.90390318e-01  7.55468872e-01  7.59367294e-01             nan\n",
      "  7.12904441e-01  7.54456035e-01  7.55941295e-01             nan\n",
      "  7.12248661e-01  7.63296065e-01  7.67477833e-01             nan\n",
      "  6.73185009e-01  7.51408925e-01  7.61927962e-01             nan\n",
      "  7.22325719e-01  7.41297621e-01  7.26740654e-01             nan\n",
      "  6.92874581e-01  7.42813881e-01  7.29897296e-01             nan\n",
      "  6.20484954e-01  7.42190251e-01  7.30964078e-01             nan\n",
      "  6.96520605e-01  7.47487769e-01  7.45811559e-01             nan\n",
      "  6.70049688e-01  7.57792778e-01  7.65675355e-01             nan\n",
      "  5.90785248e-01  7.38415686e-01  7.51916121e-01             nan\n",
      "  6.56832343e-01  7.47756598e-01  7.54104515e-01             nan\n",
      "  6.57824683e-01  7.53842925e-01  7.60982397e-01             nan\n",
      "  5.04624419e-01  7.28738058e-01  7.46048936e-01             nan\n",
      "  6.15045791e-01  7.44567314e-01  7.59443277e-01             nan\n",
      "  5.58772821e-01  7.36097130e-01  7.56328884e-01             nan\n",
      "  2.24370027e-01  7.27111046e-01  7.48489639e-01             nan\n",
      "  5.49932994e-01  7.25152375e-01  7.17606174e-01             nan\n",
      "  4.54720691e-01  7.24580273e-01  7.17726231e-01             nan\n",
      "  1.03461723e-01  7.24578448e-01  7.17719884e-01             nan\n",
      "  4.81143880e-01  7.22742004e-01  7.48199370e-01             nan\n",
      "  2.89848749e-01  7.05743679e-01  7.47321837e-01             nan\n",
      " -6.61921015e+00  6.54977367e-01  6.98427850e-01             nan\n",
      "  1.73618541e-01  6.89626413e-01  7.17981778e-01             nan\n",
      " -8.06040746e-01  6.44950140e-01  7.06137446e-01             nan\n",
      " -1.74124651e+02  5.90320251e-01  6.86534567e-01             nan\n",
      " -1.34958022e+00  6.34349497e-01  7.09567034e-01             nan\n",
      " -1.07345480e+01  6.17886970e-01  7.08957293e-01             nan\n",
      " -4.80254166e+05  6.12209327e-01  7.07707137e-01             nan\n",
      " -1.01407864e+01  5.87059915e-01  7.01608848e-01             nan\n",
      " -3.07553175e+02  5.87973841e-01  7.01610226e-01             nan\n",
      " -1.85446833e+13  5.87928804e-01  7.01610263e-01             nan]\n",
      "  warnings.warn(\n"
     ]
    },
    {
     "name": "stdout",
     "output_type": "stream",
     "text": [
      "best estimator : GradientBoostingRegressor(max_depth=2, n_estimators=500, random_state=123,\n",
      "                          subsample=1)\n",
      "best score : 0.7694194568220477\n",
      "best params : {'learning_rate': 0.1, 'max_depth': 2, 'n_estimators': 500, 'subsample': 1}\n",
      "\n",
      "Temps de traitement total : 74.29287242889404 secondes\n"
     ]
    }
   ],
   "source": [
    "def show_best_params_cv(estimator, parameters, X_train, y_train):\n",
    "    tps1 = time.time()\n",
    "    print(\"Nombre de combinaisons de paramètres étudiées :\", len(ParameterGrid(parameters)))\n",
    "    grid_search_cv = GridSearchCV(estimator = estimator, param_grid = parameters, cv = 3, n_jobs=-1)\n",
    "    grid_search_cv.fit(X_train, y_train)\n",
    "    print(\"best estimator :\", grid_search_cv.best_estimator_)\n",
    "    print(\"best score :\", grid_search_cv.best_score_)\n",
    "    print(\"best params :\", grid_search_cv.best_params_)\n",
    "    tps2 = time.time()\n",
    "    print(\"\\nTemps de traitement total :\", tps2 - tps1, \"secondes\")\n",
    "    \n",
    "gradient_boosting_regressor_parameters = {\n",
    "    'learning_rate': [ 0.01, 0.1, 0.2, 0.5 ],\n",
    "    'subsample'    : [ 0.1, 0.5, 1, 2 ],\n",
    "    'n_estimators' : [ 50, 100, 500 ],\n",
    "    'max_depth'    : [ 2, 3, 5, 10 ]\n",
    "}\n",
    "show_best_params_cv(GradientBoostingRegressor(random_state=123), gradient_boosting_regressor_parameters, X_train, y_train)"
   ]
  },
  {
   "cell_type": "markdown",
   "id": "3c3a49e5",
   "metadata": {},
   "source": [
    "On ré-exécute le Gradient avec les meilleurs paramètres trouvés sur le jeu de test afin de vérifier son score via la méthode précédente."
   ]
  },
  {
   "cell_type": "code",
   "execution_count": 16,
   "id": "d9ae2465",
   "metadata": {},
   "outputs": [
    {
     "name": "stdout",
     "output_type": "stream",
     "text": [
      "mean_absolute_error : 0.44\n",
      "mean_squared_error : 0.38\n",
      "root_mean_squared_error : 0.62\n",
      "rmpse : 0.04\n",
      "mean_absolute_percentage_error : 0.03\n",
      "r2_score : 0.79\n"
     ]
    }
   ],
   "source": [
    "gradient_boosting_regressor = GradientBoostingRegressor(learning_rate=0.01, max_depth=5, n_estimators=500,\n",
    "                          random_state=123, subsample=0.5)\n",
    "fit_predict_and_show_metrics(gradient_boosting_regressor, X_train, X_test, y_train, y_test, 'GradientBoostingRegressor')"
   ]
  },
  {
   "cell_type": "markdown",
   "id": "1c84c0c9",
   "metadata": {},
   "source": [
    "On essaie d'affiner les résultats du Random Forest, pour voir s'il dépasse le Gradient avec des meilleurs paramètres."
   ]
  },
  {
   "cell_type": "code",
   "execution_count": 17,
   "id": "7c634615",
   "metadata": {},
   "outputs": [
    {
     "data": {
      "text/plain": [
       "{'bootstrap': True,\n",
       " 'ccp_alpha': 0.0,\n",
       " 'criterion': 'mse',\n",
       " 'max_depth': None,\n",
       " 'max_features': 'auto',\n",
       " 'max_leaf_nodes': None,\n",
       " 'max_samples': None,\n",
       " 'min_impurity_decrease': 0.0,\n",
       " 'min_impurity_split': None,\n",
       " 'min_samples_leaf': 1,\n",
       " 'min_samples_split': 2,\n",
       " 'min_weight_fraction_leaf': 0.0,\n",
       " 'n_estimators': 100,\n",
       " 'n_jobs': None,\n",
       " 'oob_score': False,\n",
       " 'random_state': 123,\n",
       " 'verbose': 0,\n",
       " 'warm_start': False}"
      ]
     },
     "execution_count": 17,
     "metadata": {},
     "output_type": "execute_result"
    }
   ],
   "source": [
    "random_forest_regressor.get_params()"
   ]
  },
  {
   "cell_type": "code",
   "execution_count": 18,
   "id": "f8c26596",
   "metadata": {},
   "outputs": [
    {
     "name": "stdout",
     "output_type": "stream",
     "text": [
      "Nombre de combinaisons de paramètres étudiées : 216\n"
     ]
    },
    {
     "name": "stderr",
     "output_type": "stream",
     "text": [
      "C:\\anaconda\\lib\\site-packages\\sklearn\\model_selection\\_search.py:918: UserWarning: One or more of the test scores are non-finite: [       nan        nan        nan 0.73247787 0.73239462 0.73120899\n",
      " 0.73251662 0.73284863 0.73184464        nan        nan        nan\n",
      " 0.72544311 0.72447151 0.72416281 0.72544311 0.72447151 0.72416281\n",
      "        nan        nan        nan 0.71272585 0.71241165 0.71138521\n",
      " 0.71272585 0.71241165 0.71138521        nan        nan        nan\n",
      " 0.73247787 0.73239462 0.73120899 0.73251662 0.73284863 0.73184464\n",
      "        nan        nan        nan 0.72544311 0.72447151 0.72416281\n",
      " 0.72544311 0.72447151 0.72416281        nan        nan        nan\n",
      " 0.71272585 0.71241165 0.71138521 0.71272585 0.71241165 0.71138521\n",
      "        nan        nan        nan 0.73247787 0.73239462 0.73120899\n",
      " 0.73251662 0.73284863 0.73184464        nan        nan        nan\n",
      " 0.72544311 0.72447151 0.72416281 0.72544311 0.72447151 0.72416281\n",
      "        nan        nan        nan 0.71272585 0.71241165 0.71138521\n",
      " 0.71272585 0.71241165 0.71138521        nan        nan        nan\n",
      " 0.73247787 0.73239462 0.73120899 0.73251662 0.73284863 0.73184464\n",
      "        nan        nan        nan 0.72544311 0.72447151 0.72416281\n",
      " 0.72544311 0.72447151 0.72416281        nan        nan        nan\n",
      " 0.71272585 0.71241165 0.71138521 0.71272585 0.71241165 0.71138521\n",
      "        nan        nan        nan 0.55110829 0.5522866  0.55127312\n",
      " 0.54778267 0.54759517 0.54746346        nan        nan        nan\n",
      " 0.55106229 0.55114937 0.55096158 0.55106229 0.55114937 0.55096158\n",
      "        nan        nan        nan 0.54602367 0.54582201 0.5459761\n",
      " 0.54602367 0.54582201 0.5459761         nan        nan        nan\n",
      " 0.55110829 0.5522866  0.55127312 0.54778267 0.54759517 0.54746346\n",
      "        nan        nan        nan 0.55106229 0.55114937 0.55096158\n",
      " 0.55106229 0.55114937 0.55096158        nan        nan        nan\n",
      " 0.54602367 0.54582201 0.5459761  0.54602367 0.54582201 0.5459761\n",
      "        nan        nan        nan 0.55110829 0.5522866  0.55127312\n",
      " 0.54778267 0.54759517 0.54746346        nan        nan        nan\n",
      " 0.55106229 0.55114937 0.55096158 0.55106229 0.55114937 0.55096158\n",
      "        nan        nan        nan 0.54602367 0.54582201 0.5459761\n",
      " 0.54602367 0.54582201 0.5459761         nan        nan        nan\n",
      " 0.55110829 0.5522866  0.55127312 0.54778267 0.54759517 0.54746346\n",
      "        nan        nan        nan 0.55106229 0.55114937 0.55096158\n",
      " 0.55106229 0.55114937 0.55096158        nan        nan        nan\n",
      " 0.54602367 0.54582201 0.5459761  0.54602367 0.54582201 0.5459761 ]\n",
      "  warnings.warn(\n"
     ]
    },
    {
     "name": "stdout",
     "output_type": "stream",
     "text": [
      "best estimator : RandomForestRegressor(min_samples_split=3, n_estimators=200, random_state=123)\n",
      "best score : 0.7328486321334508\n",
      "best params : {'bootstrap': True, 'max_depth': None, 'min_samples_leaf': 1, 'min_samples_split': 3, 'n_estimators': 200}\n",
      "\n",
      "Temps de traitement total : 331.37966561317444 secondes\n"
     ]
    }
   ],
   "source": [
    "random_forest_parameters = {\n",
    "    'bootstrap': [True, False],\n",
    "    'max_depth': [None, 50, 60, 80],\n",
    "    'min_samples_leaf': [1, 2, 3],\n",
    "    'min_samples_split': [1, 2, 3],\n",
    "    'n_estimators': [100, 200, 500]\n",
    "}\n",
    "show_best_params_cv(RandomForestRegressor(random_state=123), random_forest_parameters, X_train, y_train)"
   ]
  },
  {
   "cell_type": "code",
   "execution_count": 19,
   "id": "46b2ff24",
   "metadata": {},
   "outputs": [
    {
     "name": "stdout",
     "output_type": "stream",
     "text": [
      "mean_absolute_error : 0.47\n",
      "mean_squared_error : 0.47\n",
      "root_mean_squared_error : 0.68\n",
      "rmpse : 0.05\n",
      "mean_absolute_percentage_error : 0.03\n",
      "r2_score : 0.74\n"
     ]
    }
   ],
   "source": [
    "random_forest_regressor = RandomForestRegressor(n_estimators=500, random_state=123)\n",
    "fit_predict_and_show_metrics(random_forest_regressor, X_train, X_test, y_train, y_test, 'RandomForestRegressor')"
   ]
  },
  {
   "cell_type": "code",
   "execution_count": 20,
   "id": "f8ec8724",
   "metadata": {},
   "outputs": [
    {
     "data": {
      "text/plain": [
       "{'objective': 'reg:squarederror',\n",
       " 'base_score': 0.5,\n",
       " 'booster': 'gbtree',\n",
       " 'colsample_bylevel': 1,\n",
       " 'colsample_bynode': 1,\n",
       " 'colsample_bytree': 1,\n",
       " 'gamma': 0,\n",
       " 'gpu_id': -1,\n",
       " 'importance_type': 'gain',\n",
       " 'interaction_constraints': '',\n",
       " 'learning_rate': 0.300000012,\n",
       " 'max_delta_step': 0,\n",
       " 'max_depth': 6,\n",
       " 'min_child_weight': 1,\n",
       " 'missing': nan,\n",
       " 'monotone_constraints': '()',\n",
       " 'n_estimators': 100,\n",
       " 'n_jobs': 8,\n",
       " 'num_parallel_tree': 1,\n",
       " 'random_state': 123,\n",
       " 'reg_alpha': 0,\n",
       " 'reg_lambda': 1,\n",
       " 'scale_pos_weight': 1,\n",
       " 'subsample': 1,\n",
       " 'tree_method': 'exact',\n",
       " 'validate_parameters': 1,\n",
       " 'verbosity': None}"
      ]
     },
     "execution_count": 20,
     "metadata": {},
     "output_type": "execute_result"
    }
   ],
   "source": [
    "xgb_regressor.get_params()"
   ]
  },
  {
   "cell_type": "code",
   "execution_count": 21,
   "id": "c675827e",
   "metadata": {},
   "outputs": [
    {
     "name": "stdout",
     "output_type": "stream",
     "text": [
      "Nombre de combinaisons de paramètres étudiées : 2187\n"
     ]
    },
    {
     "name": "stderr",
     "output_type": "stream",
     "text": [
      "C:\\anaconda\\lib\\site-packages\\sklearn\\model_selection\\_search.py:918: UserWarning: One or more of the test scores are non-finite: [-0.16240707 -0.14954814         nan ...         nan         nan\n",
      "         nan]\n",
      "  warnings.warn(\n"
     ]
    },
    {
     "name": "stdout",
     "output_type": "stream",
     "text": [
      "best estimator : XGBRegressor(base_score=0.5, booster='gbtree', colsample_bylevel=1,\n",
      "             colsample_bynode=1, colsample_bytree=1, gamma=1, gpu_id=-1,\n",
      "             importance_type='gain', interaction_constraints='',\n",
      "             learning_rate=0.05, max_delta_step=0, max_depth=10,\n",
      "             min_child_weight=1, missing=nan, monotone_constraints='()',\n",
      "             n_estimators=200, n_jobs=8, num_parallel_tree=1, random_state=123,\n",
      "             reg_alpha=0, reg_lambda=1, scale_pos_weight=1, subsample=0.5,\n",
      "             tree_method='exact', validate_parameters=1, verbosity=None)\n",
      "best score : 0.7777017619657568\n",
      "best params : {'colsample_bytree': 1, 'gamma': 1, 'learning_rate': 0.05, 'max_depth': 10, 'min_child_weight': 1, 'n_estimators': 200, 'subsample': 0.5}\n",
      "\n",
      "Temps de traitement total : 1017.7536821365356 secondes\n"
     ]
    }
   ],
   "source": [
    "xgb_regressor_parameters = {\n",
    "    'gamma':[ 0, 0.5, 1 ],\n",
    "    'learning_rate': [ .05, .1, .3 ],\n",
    "    'max_depth': [ 2, 6, 10 ],\n",
    "    'min_child_weight': [ 1, 5, 10 ],\n",
    "    'subsample': [ 0.5, 1, 2 ],\n",
    "    'colsample_bytree': [ 0.5, 1, 2 ],\n",
    "    'n_estimators': [ 50, 100, 200 ]\n",
    "}\n",
    "show_best_params_cv(xgb.XGBRegressor(random_state=123), xgb_regressor_parameters, X_train, y_train)"
   ]
  },
  {
   "cell_type": "code",
   "execution_count": 22,
   "id": "fb49b956",
   "metadata": {},
   "outputs": [
    {
     "name": "stdout",
     "output_type": "stream",
     "text": [
      "mean_absolute_error : 0.43\n",
      "mean_squared_error : 0.37\n",
      "root_mean_squared_error : 0.61\n",
      "rmpse : 0.04\n",
      "mean_absolute_percentage_error : 0.03\n",
      "r2_score : 0.79\n"
     ]
    },
    {
     "name": "stderr",
     "output_type": "stream",
     "text": [
      "C:\\anaconda\\lib\\site-packages\\xgboost\\data.py:112: UserWarning: Use subset (sliced data) of np.ndarray is not recommended because it will generate extra copies and increase memory consumption\n",
      "  warnings.warn(\n"
     ]
    }
   ],
   "source": [
    "xgb_regressor = xgb.XGBRegressor(base_score=0.5, booster='gbtree', colsample_bylevel=1,\n",
    "             colsample_bynode=1, colsample_bytree=1, gamma=0, gpu_id=-1,\n",
    "             importance_type='gain', interaction_constraints='',\n",
    "             learning_rate=0.1, max_delta_step=0, max_depth=6,\n",
    "             min_child_weight=5, monotone_constraints='()',\n",
    "             n_estimators=100, n_jobs=8, num_parallel_tree=1, random_state=123,\n",
    "             reg_alpha=0, reg_lambda=1, scale_pos_weight=1, subsample=1,\n",
    "             tree_method='exact', validate_parameters=1, verbosity=None)\n",
    "\n",
    "fit_predict_and_show_metrics(xgb_regressor, X_train, X_test, y_train, y_test, 'XGBRegressor')"
   ]
  },
  {
   "cell_type": "markdown",
   "id": "8cc3e8f6",
   "metadata": {},
   "source": [
    "Comparaison des scores obtenus pour chaque modèle"
   ]
  },
  {
   "cell_type": "code",
   "execution_count": 23,
   "id": "5f309095",
   "metadata": {
    "scrolled": false
   },
   "outputs": [
    {
     "data": {
      "image/png": "[encoded data removed]",
      "text/plain": [
       "<Figure size 864x432 with 1 Axes>"
      ]
     },
     "metadata": {
      "needs_background": "light"
     },
     "output_type": "display_data"
    },
    {
     "data": {
      "image/png": "[encoded data removed]",
      "text/plain": [
       "<Figure size 864x432 with 1 Axes>"
      ]
     },
     "metadata": {
      "needs_background": "light"
     },
     "output_type": "display_data"
    },
    {
     "data": {
      "image/png": "[encoded data removed]",
      "text/plain": [
       "<Figure size 864x432 with 1 Axes>"
      ]
     },
     "metadata": {
      "needs_background": "light"
     },
     "output_type": "display_data"
    },
    {
     "data": {
      "image/png": "[encoded data removed]",
      "text/plain": [
       "<Figure size 864x432 with 1 Axes>"
      ]
     },
     "metadata": {
      "needs_background": "light"
     },
     "output_type": "display_data"
    },
    {
     "data": {
      "image/png": "[encoded data removed]",
      "text/plain": [
       "<Figure size 864x432 with 1 Axes>"
      ]
     },
     "metadata": {
      "needs_background": "light"
     },
     "output_type": "display_data"
    }
   ],
   "source": [
    "metrics = {\n",
    "    'mean_absolute_error': mean_absolute_errors,\n",
    "    'root_mean_squared_error': root_mean_squared_errors,\n",
    "    'r2_score': r2_scores,\n",
    "    'fit_times': fit_times,\n",
    "    'predict_times': predict_times\n",
    "}\n",
    "width = 20\n",
    "x = width * 5\n",
    "for metric in metrics.keys():\n",
    "    fig, ax = plt.subplots(figsize=(12,6))\n",
    "    x_decalage = x - 5*width/2\n",
    "    for model_name, color in zip(metrics[metric].keys(), cm.Set1.colors):\n",
    "        ax.bar(x_decalage, metrics[metric][model_name], width, label=model_name, color=color)\n",
    "        x_decalage = x_decalage + width\n",
    "    x = x + width * 5\n",
    "    ax.set_title('Comparaison des ' + metric + ' pour chaque modèle')\n",
    "    ax.axes.get_xaxis().set_visible(False)\n",
    "    ax.legend()\n",
    "    plt.show()\n"
   ]
  },
  {
   "cell_type": "markdown",
   "id": "b36a72aa",
   "metadata": {},
   "source": [
    "On refait maintenant l'exercice avec la seconde target : les émissions de gaz à effet de serre."
   ]
  },
  {
   "cell_type": "code",
   "execution_count": 27,
   "id": "deda87b0",
   "metadata": {},
   "outputs": [
    {
     "name": "stdout",
     "output_type": "stream",
     "text": [
      "mean_absolute_error : 1.13\n",
      "mean_squared_error : 2.17\n",
      "root_mean_squared_error : 1.47\n",
      "rmpse : 3.65\n",
      "mean_absolute_percentage_error : 0.88\n",
      "r2_score : -0.00\n",
      "---\n",
      "mean_absolute_error : 0.82\n",
      "mean_squared_error : 1.07\n",
      "root_mean_squared_error : 1.03\n",
      "rmpse : 2.24\n",
      "mean_absolute_percentage_error : 0.57\n",
      "r2_score : 0.51\n",
      "---\n",
      "mean_absolute_error : 0.81\n",
      "mean_squared_error : 1.04\n",
      "root_mean_squared_error : 1.02\n",
      "rmpse : 2.26\n",
      "mean_absolute_percentage_error : 0.57\n",
      "r2_score : 0.52\n",
      "---\n",
      "mean_absolute_error : 1.13\n",
      "mean_squared_error : 2.17\n",
      "root_mean_squared_error : 1.47\n",
      "rmpse : 3.68\n",
      "mean_absolute_percentage_error : 0.89\n",
      "r2_score : -0.00\n"
     ]
    }
   ],
   "source": [
    "X_train, X_test, y_train, y_test = train_test_split(X, y_emissions, test_size=0.2)\n",
    "ct = ColumnTransformer([\n",
    "        ('transformer_categ_columns', StandardScaler(), \n",
    "           ['CouncilDistrictCode', 'NumberofBuildings', 'NumberofFloors', 'PropertyGFAParking', \n",
    "            'PropertyGFABuilding(s)', 'SecondLargestPropertyUseTypeGFA', 'ThirdLargestPropertyUseTypeGFA', \n",
    "            'ENERGYSTARScore', 'Latitude', 'Longitude', 'age'])\n",
    "    ], remainder='passthrough').fit(X_train)\n",
    "X_train_std = ct.transform(X_train)\n",
    "X_test_std = ct.transform(X_test)\n",
    "\n",
    "mean_absolute_errors = {}\n",
    "mean_squared_errors = {}\n",
    "root_mean_squared_errors = {}\n",
    "rmpses = {}\n",
    "mean_absolute_percentage_errors = {}\n",
    "r2_scores = {}\n",
    "fit_times = {}\n",
    "predict_times = {}\n",
    "\n",
    "dummy_regressor = DummyRegressor(strategy=\"median\")\n",
    "fit_predict_and_show_metrics(dummy_regressor, X_train_std, X_test_std, y_train, y_test, 'DummyRegressor')\n",
    "print(\"---\")\n",
    "linear_regression = LinearRegression()   \n",
    "fit_predict_and_show_metrics(linear_regression, X_train, X_test, y_train, y_test, 'LinearRegression')\n",
    "print(\"---\")\n",
    "ridge = Ridge(random_state=123)\n",
    "fit_predict_and_show_metrics(ridge, X_train_std, X_test_std, y_train, y_test, 'Ridge')\n",
    "print(\"---\")\n",
    "lasso = Lasso(random_state=123)\n",
    "fit_predict_and_show_metrics(lasso, X_train_std, X_test_std, y_train, y_test, 'Lasso')"
   ]
  },
  {
   "cell_type": "code",
   "execution_count": 25,
   "id": "0c609171",
   "metadata": {
    "scrolled": false
   },
   "outputs": [
    {
     "name": "stdout",
     "output_type": "stream",
     "text": [
      "Nombre de combinaisons de paramètres étudiées : 192\n"
     ]
    },
    {
     "name": "stderr",
     "output_type": "stream",
     "text": [
      "C:\\anaconda\\lib\\site-packages\\joblib\\externals\\loky\\process_executor.py:688: UserWarning: A worker stopped while some jobs were given to the executor. This can be caused by a too short worker timeout or by a memory leak.\n",
      "  warnings.warn(\n",
      "C:\\anaconda\\lib\\site-packages\\sklearn\\model_selection\\_search.py:918: UserWarning: One or more of the test scores are non-finite: [ 2.51679582e-01  2.61035028e-01  2.57248396e-01             nan\n",
      "  3.68805871e-01  3.78798831e-01  3.69905070e-01             nan\n",
      "  5.95718493e-01  5.96987605e-01  5.72314875e-01             nan\n",
      "  2.87304048e-01  3.06358231e-01  3.03206106e-01             nan\n",
      "  4.15590757e-01  4.39201469e-01  4.30644740e-01             nan\n",
      "  6.25875960e-01  6.37693953e-01  6.13482389e-01             nan\n",
      "  3.15744529e-01  3.52341365e-01  3.49867278e-01             nan\n",
      "  4.58560382e-01  4.98950497e-01  4.91811285e-01             nan\n",
      "  6.43150961e-01  6.60325899e-01  6.42231799e-01             nan\n",
      "  3.33148207e-01  3.83653441e-01  3.78177647e-01             nan\n",
      "  4.85016577e-01  5.34731287e-01  5.07778481e-01             nan\n",
      "  6.52593986e-01  6.58670607e-01  5.89489952e-01             nan\n",
      "  5.82899618e-01  6.02205695e-01  5.73789504e-01             nan\n",
      "  6.14959502e-01  6.43505710e-01  6.27865228e-01             nan\n",
      "  5.70156444e-01  6.45637482e-01  6.47451307e-01             nan\n",
      "  5.98312087e-01  6.29091391e-01  6.14299487e-01             nan\n",
      "  6.16386872e-01  6.56437639e-01  6.47472630e-01             nan\n",
      "  5.46701157e-01  6.41483328e-01  6.38775989e-01             nan\n",
      "  5.90885933e-01  6.48274189e-01  6.41539565e-01             nan\n",
      "  5.86818884e-01  6.54027199e-01  6.51857081e-01             nan\n",
      "  5.12807648e-01  6.39796293e-01  6.31294741e-01             nan\n",
      "  5.75017427e-01  6.28574059e-01  5.86647080e-01             nan\n",
      "  5.35524046e-01  6.29364848e-01  5.88594743e-01             nan\n",
      "  4.88304775e-01  6.27044010e-01  5.89743231e-01             nan\n",
      "  5.92362278e-01  6.37500498e-01  6.32446164e-01             nan\n",
      "  5.85827361e-01  6.49702858e-01  6.59769634e-01             nan\n",
      "  4.23560906e-01  6.19668733e-01  6.32346571e-01             nan\n",
      "  5.39591013e-01  6.54320453e-01  6.52472373e-01             nan\n",
      "  4.96387429e-01  6.42700493e-01  6.59840891e-01             nan\n",
      "  2.92940803e-01  6.09178675e-01  6.26123446e-01             nan\n",
      "  5.15040779e-01  6.23982570e-01  6.38068790e-01             nan\n",
      "  4.05502390e-01  6.12550689e-01  6.28310222e-01             nan\n",
      " -5.44445540e-02  5.97893809e-01  6.10978531e-01             nan\n",
      "  3.40745033e-01  5.94354585e-01  5.78080323e-01             nan\n",
      "  1.34719653e-01  5.90736685e-01  5.78672825e-01             nan\n",
      " -4.84288789e-01  5.90605536e-01  5.78790960e-01             nan\n",
      "  8.70665736e-02  5.98008938e-01  6.27179970e-01             nan\n",
      " -1.26805224e-01  5.71546548e-01  6.07556161e-01             nan\n",
      " -1.28914954e+01  4.66641504e-01  5.47786129e-01             nan\n",
      " -2.63308677e-01  5.10732586e-01  6.25422829e-01             nan\n",
      " -1.44956568e+00  4.45650555e-01  6.06500005e-01             nan\n",
      " -3.08735446e+02  4.10200534e-01  5.82409883e-01             nan\n",
      " -1.87972986e+00  4.16261016e-01  5.73710089e-01             nan\n",
      " -1.20596047e+01  3.81398935e-01  5.63166941e-01             nan\n",
      " -6.48409940e+05  3.68854959e-01  5.59406736e-01             nan\n",
      " -1.60367593e+01  3.51068232e-01  5.44262570e-01             nan\n",
      " -3.00410600e+02  3.52197417e-01  5.44287344e-01             nan\n",
      " -1.29368678e+13  3.52170623e-01  5.44286928e-01             nan]\n",
      "  warnings.warn(\n"
     ]
    },
    {
     "name": "stdout",
     "output_type": "stream",
     "text": [
      "best estimator : GradientBoostingRegressor(learning_rate=0.01, max_depth=5, n_estimators=500,\n",
      "                          random_state=123, subsample=0.5)\n",
      "best score : 0.6603258986715316\n",
      "best params : {'learning_rate': 0.01, 'max_depth': 5, 'n_estimators': 500, 'subsample': 0.5}\n",
      "\n",
      "Temps de traitement total : 40064.07036995888 secondes\n",
      "Nombre de combinaisons de paramètres étudiées : 216\n"
     ]
    },
    {
     "name": "stderr",
     "output_type": "stream",
     "text": [
      "C:\\anaconda\\lib\\site-packages\\sklearn\\model_selection\\_search.py:918: UserWarning: One or more of the test scores are non-finite: [       nan        nan        nan 0.6233061  0.62443925 0.62473075\n",
      " 0.62119979 0.6234589  0.62446308        nan        nan        nan\n",
      " 0.61041887 0.61285684 0.61235981 0.61041887 0.61285684 0.61235981\n",
      "        nan        nan        nan 0.59936317 0.60190808 0.60358878\n",
      " 0.59936317 0.60190808 0.60358878        nan        nan        nan\n",
      " 0.6233061  0.62443925 0.62473075 0.62119979 0.6234589  0.62446308\n",
      "        nan        nan        nan 0.61041887 0.61285684 0.61235981\n",
      " 0.61041887 0.61285684 0.61235981        nan        nan        nan\n",
      " 0.59936317 0.60190808 0.60358878 0.59936317 0.60190808 0.60358878\n",
      "        nan        nan        nan 0.6233061  0.62443925 0.62473075\n",
      " 0.62119979 0.6234589  0.62446308        nan        nan        nan\n",
      " 0.61041887 0.61285684 0.61235981 0.61041887 0.61285684 0.61235981\n",
      "        nan        nan        nan 0.59936317 0.60190808 0.60358878\n",
      " 0.59936317 0.60190808 0.60358878        nan        nan        nan\n",
      " 0.6233061  0.62443925 0.62473075 0.62119979 0.6234589  0.62446308\n",
      "        nan        nan        nan 0.61041887 0.61285684 0.61235981\n",
      " 0.61041887 0.61285684 0.61235981        nan        nan        nan\n",
      " 0.59936317 0.60190808 0.60358878 0.59936317 0.60190808 0.60358878\n",
      "        nan        nan        nan 0.34486589 0.34509655 0.34560926\n",
      " 0.34849543 0.34870434 0.34765294        nan        nan        nan\n",
      " 0.32618362 0.32526781 0.32508295 0.32618362 0.32526781 0.32508295\n",
      "        nan        nan        nan 0.38828735 0.38812877 0.38795276\n",
      " 0.38828735 0.38812877 0.38795276        nan        nan        nan\n",
      " 0.34486589 0.34509655 0.34560926 0.34849543 0.34870434 0.34765294\n",
      "        nan        nan        nan 0.32618362 0.32526781 0.32508295\n",
      " 0.32618362 0.32526781 0.32508295        nan        nan        nan\n",
      " 0.38828735 0.38812877 0.38795276 0.38828735 0.38812877 0.38795276\n",
      "        nan        nan        nan 0.34486589 0.34509655 0.34560926\n",
      " 0.34849543 0.34870434 0.34765294        nan        nan        nan\n",
      " 0.32618362 0.32526781 0.32508295 0.32618362 0.32526781 0.32508295\n",
      "        nan        nan        nan 0.38828735 0.38812877 0.38795276\n",
      " 0.38828735 0.38812877 0.38795276        nan        nan        nan\n",
      " 0.34486589 0.34509655 0.34560926 0.34849543 0.34870434 0.34765294\n",
      "        nan        nan        nan 0.32618362 0.32526781 0.32508295\n",
      " 0.32618362 0.32526781 0.32508295        nan        nan        nan\n",
      " 0.38828735 0.38812877 0.38795276 0.38828735 0.38812877 0.38795276]\n",
      "  warnings.warn(\n"
     ]
    },
    {
     "name": "stdout",
     "output_type": "stream",
     "text": [
      "best estimator : RandomForestRegressor(n_estimators=500, random_state=123)\n",
      "best score : 0.6247307506103736\n",
      "best params : {'bootstrap': True, 'max_depth': None, 'min_samples_leaf': 1, 'min_samples_split': 2, 'n_estimators': 500}\n",
      "\n",
      "Temps de traitement total : 331.90262174606323 secondes\n",
      "Nombre de combinaisons de paramètres étudiées : 2187\n"
     ]
    },
    {
     "name": "stderr",
     "output_type": "stream",
     "text": [
      "C:\\anaconda\\lib\\site-packages\\sklearn\\model_selection\\_search.py:918: UserWarning: One or more of the test scores are non-finite: [0.46571949 0.44365215        nan ...        nan        nan        nan]\n",
      "  warnings.warn(\n"
     ]
    },
    {
     "name": "stdout",
     "output_type": "stream",
     "text": [
      "best estimator : XGBRegressor(base_score=0.5, booster='gbtree', colsample_bylevel=1,\n",
      "             colsample_bynode=1, colsample_bytree=0.5, gamma=1, gpu_id=-1,\n",
      "             importance_type='gain', interaction_constraints='',\n",
      "             learning_rate=0.05, max_delta_step=0, max_depth=6,\n",
      "             min_child_weight=1, missing=nan, monotone_constraints='()',\n",
      "             n_estimators=200, n_jobs=8, num_parallel_tree=1, random_state=123,\n",
      "             reg_alpha=0, reg_lambda=1, scale_pos_weight=1, subsample=0.5,\n",
      "             tree_method='exact', validate_parameters=1, verbosity=None)\n",
      "best score : 0.671592897846988\n",
      "best params : {'colsample_bytree': 0.5, 'gamma': 1, 'learning_rate': 0.05, 'max_depth': 6, 'min_child_weight': 1, 'n_estimators': 200, 'subsample': 0.5}\n",
      "\n",
      "Temps de traitement total : 741.2533979415894 secondes\n"
     ]
    }
   ],
   "source": [
    "show_best_params_cv(GradientBoostingRegressor(random_state=123), gradient_boosting_regressor_parameters, X_train, y_train)\n",
    "show_best_params_cv(RandomForestRegressor(random_state=123), random_forest_parameters, X_train, y_train)\n",
    "show_best_params_cv(xgb.XGBRegressor(random_state=123), xgb_regressor_parameters, X_train, y_train)"
   ]
  },
  {
   "cell_type": "code",
   "execution_count": 28,
   "id": "44547ddc",
   "metadata": {},
   "outputs": [
    {
     "name": "stdout",
     "output_type": "stream",
     "text": [
      "mean_absolute_error : 0.65\n",
      "mean_squared_error : 0.69\n",
      "root_mean_squared_error : 0.83\n",
      "rmpse : 1.66\n",
      "mean_absolute_percentage_error : 0.43\n",
      "r2_score : 0.68\n",
      "---\n",
      "mean_absolute_error : 0.65\n",
      "mean_squared_error : 0.71\n",
      "root_mean_squared_error : 0.84\n",
      "rmpse : 1.62\n",
      "mean_absolute_percentage_error : 0.43\n",
      "r2_score : 0.67\n",
      "---\n",
      "mean_absolute_error : 0.66\n",
      "mean_squared_error : 0.71\n",
      "root_mean_squared_error : 0.85\n",
      "rmpse : 1.61\n",
      "mean_absolute_percentage_error : 0.43\n",
      "r2_score : 0.67\n"
     ]
    },
    {
     "name": "stderr",
     "output_type": "stream",
     "text": [
      "C:\\anaconda\\lib\\site-packages\\xgboost\\data.py:112: UserWarning: Use subset (sliced data) of np.ndarray is not recommended because it will generate extra copies and increase memory consumption\n",
      "  warnings.warn(\n"
     ]
    }
   ],
   "source": [
    "gradient_boosting_regressor = GradientBoostingRegressor(learning_rate=0.01, max_depth=5, n_estimators=500,\n",
    "                          random_state=123, subsample=0.5)\n",
    "fit_predict_and_show_metrics(gradient_boosting_regressor, X_train_std, X_test_std, y_train, y_test, 'GradientBoostingRegressor')\n",
    "print(\"---\")\n",
    "random_forest_regressor = RandomForestRegressor(n_estimators=500, random_state=123)\n",
    "fit_predict_and_show_metrics(random_forest_regressor, X_train_std, X_test_std, y_train, y_test, 'RandomForestRegressor')\n",
    "print(\"---\")\n",
    "xgb_regressor = xgb.XGBRegressor(base_score=0.5, booster='gbtree', colsample_bylevel=1,\n",
    "             colsample_bynode=1, colsample_bytree=0.5, gamma=1, gpu_id=-1,\n",
    "             importance_type='gain', interaction_constraints='',\n",
    "             learning_rate=0.05, max_delta_step=0, max_depth=6,\n",
    "             min_child_weight=1, monotone_constraints='()',\n",
    "             n_estimators=200, n_jobs=8, num_parallel_tree=1, random_state=123,\n",
    "             reg_alpha=0, reg_lambda=1, scale_pos_weight=1, subsample=0.5,\n",
    "             tree_method='exact', validate_parameters=1, verbosity=None)\n",
    "fit_predict_and_show_metrics(xgb_regressor, X_train_std, X_test_std, y_train, y_test, 'XGBRegressor')"
   ]
  },
  {
   "cell_type": "code",
   "execution_count": 29,
   "id": "0824bfa7",
   "metadata": {},
   "outputs": [
    {
     "data": {
      "image/png": "[encoded data removed]",
      "text/plain": [
       "<Figure size 864x432 with 1 Axes>"
      ]
     },
     "metadata": {
      "needs_background": "light"
     },
     "output_type": "display_data"
    },
    {
     "data": {
      "image/png": "[encoded data removed]",
      "text/plain": [
       "<Figure size 864x432 with 1 Axes>"
      ]
     },
     "metadata": {
      "needs_background": "light"
     },
     "output_type": "display_data"
    },
    {
     "data": {
      "image/png": "[encoded data removed]",
      "text/plain": [
       "<Figure size 864x432 with 1 Axes>"
      ]
     },
     "metadata": {
      "needs_background": "light"
     },
     "output_type": "display_data"
    },
    {
     "data": {
      "image/png": "[encoded data removed]",
      "text/plain": [
       "<Figure size 864x432 with 1 Axes>"
      ]
     },
     "metadata": {
      "needs_background": "light"
     },
     "output_type": "display_data"
    },
    {
     "data": {
      "image/png": "[encoded data removed]",
      "text/plain": [
       "<Figure size 864x432 with 1 Axes>"
      ]
     },
     "metadata": {
      "needs_background": "light"
     },
     "output_type": "display_data"
    }
   ],
   "source": [
    "width = 20\n",
    "x = width * 5\n",
    "for metric in metrics.keys():\n",
    "    fig, ax = plt.subplots(figsize=(12,6))\n",
    "    x_decalage = x - 5*width/2\n",
    "    for model_name, color in zip(metrics[metric].keys(), cm.Set1.colors):\n",
    "        ax.bar(x_decalage, metrics[metric][model_name], width, label=model_name, color=color)\n",
    "        x_decalage = x_decalage + width\n",
    "    x = x + width * 5\n",
    "    ax.set_title('Comparaison des ' + metric + ' pour chaque modèle')\n",
    "    ax.axes.get_xaxis().set_visible(False)\n",
    "    ax.legend()\n",
    "    plt.show()"
   ]
  }
 ],
 "metadata": {
  "kernelspec": {
   "display_name": "Python 3",
   "language": "python",
   "name": "python3"
  },
  "language_info": {
   "codemirror_mode": {
    "name": "ipython",
    "version": 3
   },
   "file_extension": ".py",
   "mimetype": "text/x-python",
   "name": "python",
   "nbconvert_exporter": "python",
   "pygments_lexer": "ipython3",
   "version": "3.8.8"
  }
 },
 "nbformat": 4,
 "nbformat_minor": 5
}
