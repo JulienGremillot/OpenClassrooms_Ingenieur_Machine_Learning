{
 "cells": [
  {
   "cell_type": "code",
   "execution_count": 1,
   "id": "17844be4",
   "metadata": {
    "_cell_guid": "b1076dfc-b9ad-4769-8c92-a6c4dae69d19",
    "_uuid": "8f2839f25d086af736a60e9eeb907d3b93b6e0e5",
    "execution": {
     "iopub.execute_input": "2021-12-20T05:01:05.930262Z",
     "iopub.status.busy": "2021-12-20T05:01:05.927630Z",
     "iopub.status.idle": "2021-12-20T05:01:19.258503Z",
     "shell.execute_reply": "2021-12-20T05:01:19.257870Z",
     "shell.execute_reply.started": "2021-12-20T04:36:03.594698Z"
    },
    "papermill": {
     "duration": 13.343617,
     "end_time": "2021-12-20T05:01:19.258729",
     "exception": false,
     "start_time": "2021-12-20T05:01:05.915112",
     "status": "completed"
    },
    "tags": []
   },
   "outputs": [
    {
     "name": "stdout",
     "output_type": "stream",
     "text": [
      "shape data:  (9912, 14)\n",
      "Found 9912 validated image filenames.\n"
     ]
    }
   ],
   "source": [
    "import pandas as pd\n",
    "data = pd.read_csv(\"/kaggle/input/petfinder-pawpularity-score/train.csv\", sep=',')\n",
    "data['Id'] = data['Id'] + '.jpg'\n",
    "data = data.rename(columns={'Id': 'filename'})\n",
    "print(\"shape data: \", data.shape)\n",
    "\n",
    "dataset_dir = '/kaggle/input/petfinder-pawpularity-score/train'\n",
    "width, height = 224, 224\n",
    "batch_size = 32\n",
    "\n",
    "from tensorflow.keras.preprocessing.image import ImageDataGenerator\n",
    "data_generator = ImageDataGenerator(\n",
    "    rescale=1.0 / 255,\n",
    "    rotation_range=5,\n",
    "    width_shift_range=0.1,\n",
    "    height_shift_range=0.1,\n",
    "    brightness_range=(0.75, 1),\n",
    "    shear_range=0.1,\n",
    "    zoom_range=[0.75, 1],\n",
    "    horizontal_flip=True,\n",
    "    validation_split=0.2\n",
    ")\n",
    "\n",
    "data_generator = data_generator.flow_from_dataframe(\n",
    "    dataframe=data,\n",
    "    directory=dataset_dir,\n",
    "    x_col=\"filename\",\n",
    "    y_col=\"Pawpularity\",\n",
    "    class_mode=\"raw\",  # \"raw\" pour les regressions\n",
    "    target_size=(width, height),\n",
    "    batch_size=batch_size,\n",
    "    shuffle=False\n",
    ")"
   ]
  },
  {
   "cell_type": "code",
   "execution_count": 2,
   "id": "8a9794de",
   "metadata": {
    "execution": {
     "iopub.execute_input": "2021-12-20T05:01:19.282956Z",
     "iopub.status.busy": "2021-12-20T05:01:19.282161Z",
     "iopub.status.idle": "2021-12-20T05:01:45.387811Z",
     "shell.execute_reply": "2021-12-20T05:01:45.387232Z",
     "shell.execute_reply.started": "2021-12-20T04:36:18.000631Z"
    },
    "papermill": {
     "duration": 26.124563,
     "end_time": "2021-12-20T05:01:45.387982",
     "exception": false,
     "start_time": "2021-12-20T05:01:19.263419",
     "status": "completed"
    },
    "tags": []
   },
   "outputs": [
    {
     "name": "stderr",
     "output_type": "stream",
     "text": [
      "\n",
      "User settings:\n",
      "\n",
      "   KMP_AFFINITY=granularity=fine,verbose,compact,1,0\n",
      "   KMP_BLOCKTIME=0\n",
      "   KMP_SETTINGS=1\n",
      "   KMP_WARNINGS=0\n",
      "\n",
      "Effective settings:\n",
      "\n",
      "   KMP_ABORT_DELAY=0\n",
      "   KMP_ADAPTIVE_LOCK_PROPS='1,1024'\n",
      "   KMP_ALIGN_ALLOC=64\n",
      "   KMP_ALL_THREADPRIVATE=128\n",
      "   KMP_ATOMIC_MODE=2\n",
      "   KMP_BLOCKTIME=0\n",
      "   KMP_CPUINFO_FILE: value is not defined\n",
      "   KMP_DETERMINISTIC_REDUCTION=false\n",
      "   KMP_DEVICE_THREAD_LIMIT=2147483647\n",
      "   KMP_DISP_NUM_BUFFERS=7\n",
      "   KMP_DUPLICATE_LIB_OK=false\n",
      "   KMP_ENABLE_TASK_THROTTLING=true\n",
      "   KMP_FORCE_REDUCTION: value is not defined\n",
      "   KMP_FOREIGN_THREADS_THREADPRIVATE=true\n",
      "   KMP_FORKJOIN_BARRIER='2,2'\n",
      "   KMP_FORKJOIN_BARRIER_PATTERN='hyper,hyper'\n",
      "   KMP_GTID_MODE=3\n",
      "   KMP_HANDLE_SIGNALS=false\n",
      "   KMP_HOT_TEAMS_MAX_LEVEL=1\n",
      "   KMP_HOT_TEAMS_MODE=0\n",
      "   KMP_INIT_AT_FORK=true\n",
      "   KMP_LIBRARY=throughput\n",
      "   KMP_LOCK_KIND=queuing\n",
      "   KMP_MALLOC_POOL_INCR=1M\n",
      "   KMP_NUM_LOCKS_IN_BLOCK=1\n",
      "   KMP_PLAIN_BARRIER='2,2'\n",
      "   KMP_PLAIN_BARRIER_PATTERN='hyper,hyper'\n",
      "   KMP_REDUCTION_BARRIER='1,1'\n",
      "   KMP_REDUCTION_BARRIER_PATTERN='hyper,hyper'\n",
      "   KMP_SCHEDULE='static,balanced;guided,iterative'\n",
      "   KMP_SETTINGS=true\n",
      "   KMP_SPIN_BACKOFF_PARAMS='4096,100'\n",
      "   KMP_STACKOFFSET=64\n",
      "   KMP_STACKPAD=0\n",
      "   KMP_STACKSIZE=8M\n",
      "   KMP_STORAGE_MAP=false\n",
      "   KMP_TASKING=2\n",
      "   KMP_TASKLOOP_MIN_TASKS=0\n",
      "   KMP_TASK_STEALING_CONSTRAINT=1\n",
      "   KMP_TEAMS_THREAD_LIMIT=4\n",
      "   KMP_TOPOLOGY_METHOD=all\n",
      "   KMP_USE_YIELD=1\n",
      "   KMP_VERSION=false\n",
      "   KMP_WARNINGS=false\n",
      "   OMP_AFFINITY_FORMAT='OMP: pid %P tid %i thread %n bound to OS proc set {%A}'\n",
      "   OMP_ALLOCATOR=omp_default_mem_alloc\n",
      "   OMP_CANCELLATION=false\n",
      "   OMP_DEFAULT_DEVICE=0\n",
      "   OMP_DISPLAY_AFFINITY=false\n",
      "   OMP_DISPLAY_ENV=false\n",
      "   OMP_DYNAMIC=false\n",
      "   OMP_MAX_ACTIVE_LEVELS=1\n",
      "   OMP_MAX_TASK_PRIORITY=0\n",
      "   OMP_NESTED: deprecated; max-active-levels-var=1\n",
      "   OMP_NUM_THREADS: value is not defined\n",
      "   OMP_PLACES: value is not defined\n",
      "   OMP_PROC_BIND='intel'\n",
      "   OMP_SCHEDULE='static'\n",
      "   OMP_STACKSIZE=8M\n",
      "   OMP_TARGET_OFFLOAD=DEFAULT\n",
      "   OMP_THREAD_LIMIT=2147483647\n",
      "   OMP_WAIT_POLICY=PASSIVE\n",
      "   KMP_AFFINITY='verbose,warnings,respect,granularity=fine,compact,1,0'\n",
      "\n",
      "2021-12-20 05:01:19.579271: I tensorflow/core/common_runtime/process_util.cc:146] Creating new thread pool with default inter op setting: 2. Tune using inter_op_parallelism_threads for best performance.\n"
     ]
    }
   ],
   "source": [
    "import sys\n",
    "import os\n",
    "sys.path.insert(0, \"/kaggle/input/efnetv2src/efficientnet-v2-keras-main\")\n",
    "sys.path.append('../input/tfkeras-efficientnetsv2/')\n",
    "\n",
    "from efficientnet_v2 import EfficientNetV2XL\n",
    "from tensorflow.keras import Input, Model\n",
    "from tensorflow.keras.layers import Dense, GlobalAveragePooling2D, BatchNormalization, Dropout\n",
    "from tensorflow.keras.metrics import MeanAbsoluteError, MeanAbsolutePercentageError\n",
    "import tensorflow_addons as tfa\n",
    "\n",
    "efficientnet = EfficientNetV2XL(\n",
    "    include_top=False,\n",
    "    weights='../input/tfkeras-efficientnetsv2/21_ft1k_notop/efficientnetv2-xl-21k-ft1k_notop.h5', \n",
    "    input_shape=(height, width, 3)\n",
    ")\n",
    "\n",
    "efficientnet.trainable = False\n",
    "\n",
    "radam = tfa.optimizers.RectifiedAdam(learning_rate=0.001)\n",
    "optimizer = tfa.optimizers.Lookahead(radam, sync_period=6, slow_step_size=0.5)\n",
    "\n",
    "efficientnet.compile(\n",
    "    optimizer=optimizer,\n",
    "    loss=\"mean_absolute_error\",\n",
    "    metrics=[MeanAbsoluteError(), MeanAbsolutePercentageError()]\n",
    ")"
   ]
  },
  {
   "cell_type": "code",
   "execution_count": 3,
   "id": "f3279f5f",
   "metadata": {
    "execution": {
     "iopub.execute_input": "2021-12-20T05:01:45.410761Z",
     "iopub.status.busy": "2021-12-20T05:01:45.409450Z",
     "iopub.status.idle": "2021-12-20T07:25:54.474862Z",
     "shell.execute_reply": "2021-12-20T07:25:54.473857Z",
     "shell.execute_reply.started": "2021-12-20T04:52:26.411748Z"
    },
    "papermill": {
     "duration": 8649.081378,
     "end_time": "2021-12-20T07:25:54.475226",
     "exception": false,
     "start_time": "2021-12-20T05:01:45.393848",
     "status": "completed"
    },
    "tags": []
   },
   "outputs": [
    {
     "name": "stderr",
     "output_type": "stream",
     "text": [
      "  0%|          | 0/310 [00:00<?, ?it/s]2021-12-20 05:01:46.532578: I tensorflow/compiler/mlir/mlir_graph_optimization_pass.cc:185] None of the MLIR Optimization Passes are enabled (registered 2)\n",
      "100%|██████████| 310/310 [2:24:08<00:00, 27.90s/it]\n"
     ]
    }
   ],
   "source": [
    "import tensorflow as tf\n",
    "def preprocess(image):  \n",
    "    return (tf.cast(image, dtype=tf.float32) - 128.00) / 128.00\n",
    "\n",
    "X_csvPath = \"/kaggle/working/X_features.csv\"\n",
    "y_csvPath = \"/kaggle/working/y_targets.csv\"\n",
    "\n",
    "from tqdm import tqdm\n",
    "X_csv = open(X_csvPath, \"w\")\n",
    "y_csv = open(y_csvPath, \"w\")\n",
    "batch_nb = 0\n",
    "data_generator.reset()\n",
    "for images, scores in tqdm(data_generator):  # renvoie des batchs de 32\n",
    "    idx = (data_generator.batch_index - 1) * batch_size\n",
    "    for i in range(images.shape[0]):\n",
    "        image = images[i, :, :, :]  # i-ème image\n",
    "        filename = data_generator.filenames[idx + i]\n",
    "        score = scores[i]\n",
    "        img = preprocess(image.reshape(1, width, height, 3))\n",
    "        img_features = efficientnet.predict(img)\n",
    "        # Features: (1, 7, 7, 1280) (62720,)\n",
    "        features_vec = \",\".join([str(v) for v in img_features.flatten()])\n",
    "        existing_cols = data[data['filename'] == filename]\n",
    "        target_col = existing_cols['Pawpularity'].to_csv(header=False, index=False)\n",
    "        existing_cols = existing_cols.drop(labels=['filename', 'Pawpularity'], axis=1)\n",
    "        existing_cols = existing_cols.to_csv(header=False, index=False).rstrip()  # (i == 0 and idx == 0)\n",
    "        X_csv.write(\"{},{}\\n\".format(existing_cols, features_vec))\n",
    "        y_csv.write(target_col)\n",
    "    if batch_nb > len(data) / batch_size:\n",
    "        break\n",
    "    batch_nb = batch_nb + 1\n",
    "X_csv.close()\n",
    "y_csv.close()"
   ]
  }
 ],
 "metadata": {
  "kernelspec": {
   "display_name": "Python 3",
   "language": "python",
   "name": "python3"
  },
  "language_info": {
   "codemirror_mode": {
    "name": "ipython",
    "version": 3
   },
   "file_extension": ".py",
   "mimetype": "text/x-python",
   "name": "python",
   "nbconvert_exporter": "python",
   "pygments_lexer": "ipython3",
   "version": "3.7.12"
  },
  "papermill": {
   "default_parameters": {},
   "duration": 8703.008657,
   "end_time": "2021-12-20T07:25:57.667068",
   "environment_variables": {},
   "exception": null,
   "input_path": "__notebook__.ipynb",
   "output_path": "__notebook__.ipynb",
   "parameters": {},
   "start_time": "2021-12-20T05:00:54.658411",
   "version": "2.3.3"
  }
 },
 "nbformat": 4,
 "nbformat_minor": 5
}
