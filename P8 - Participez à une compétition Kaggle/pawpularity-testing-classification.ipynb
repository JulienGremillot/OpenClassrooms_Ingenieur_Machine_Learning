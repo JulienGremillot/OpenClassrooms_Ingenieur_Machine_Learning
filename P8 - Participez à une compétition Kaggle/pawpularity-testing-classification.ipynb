{
 "cells": [
  {
   "cell_type": "code",
   "execution_count": 1,
   "id": "f1506cab",
   "metadata": {
    "_cell_guid": "b1076dfc-b9ad-4769-8c92-a6c4dae69d19",
    "_uuid": "8f2839f25d086af736a60e9eeb907d3b93b6e0e5",
    "execution": {
     "iopub.execute_input": "2021-12-24T11:45:51.318403Z",
     "iopub.status.busy": "2021-12-24T11:45:51.316884Z",
     "iopub.status.idle": "2021-12-24T11:45:51.380531Z",
     "shell.execute_reply": "2021-12-24T11:45:51.380965Z",
     "shell.execute_reply.started": "2021-12-24T09:55:05.512825Z"
    },
    "papermill": {
     "duration": 0.089962,
     "end_time": "2021-12-24T11:45:51.381203",
     "exception": false,
     "start_time": "2021-12-24T11:45:51.291241",
     "status": "completed"
    },
    "tags": []
   },
   "outputs": [
    {
     "data": {
      "text/html": [
       "<div>\n",
       "<style scoped>\n",
       "    .dataframe tbody tr th:only-of-type {\n",
       "        vertical-align: middle;\n",
       "    }\n",
       "\n",
       "    .dataframe tbody tr th {\n",
       "        vertical-align: top;\n",
       "    }\n",
       "\n",
       "    .dataframe thead th {\n",
       "        text-align: right;\n",
       "    }\n",
       "</style>\n",
       "<table border=\"1\" class=\"dataframe\">\n",
       "  <thead>\n",
       "    <tr style=\"text-align: right;\">\n",
       "      <th></th>\n",
       "      <th>filename</th>\n",
       "      <th>Pawpularity</th>\n",
       "    </tr>\n",
       "  </thead>\n",
       "  <tbody>\n",
       "    <tr>\n",
       "      <th>0</th>\n",
       "      <td>0007de18844b0dbbb5e1f607da0606e0.jpg</td>\n",
       "      <td>63</td>\n",
       "    </tr>\n",
       "    <tr>\n",
       "      <th>1</th>\n",
       "      <td>0009c66b9439883ba2750fb825e1d7db.jpg</td>\n",
       "      <td>42</td>\n",
       "    </tr>\n",
       "    <tr>\n",
       "      <th>2</th>\n",
       "      <td>0013fd999caf9a3efe1352ca1b0d937e.jpg</td>\n",
       "      <td>28</td>\n",
       "    </tr>\n",
       "    <tr>\n",
       "      <th>3</th>\n",
       "      <td>0018df346ac9c1d8413cfcc888ca8246.jpg</td>\n",
       "      <td>15</td>\n",
       "    </tr>\n",
       "    <tr>\n",
       "      <th>4</th>\n",
       "      <td>001dc955e10590d3ca4673f034feeef2.jpg</td>\n",
       "      <td>72</td>\n",
       "    </tr>\n",
       "    <tr>\n",
       "      <th>...</th>\n",
       "      <td>...</td>\n",
       "      <td>...</td>\n",
       "    </tr>\n",
       "    <tr>\n",
       "      <th>9907</th>\n",
       "      <td>ffbfa0383c34dc513c95560d6e1fdb57.jpg</td>\n",
       "      <td>15</td>\n",
       "    </tr>\n",
       "    <tr>\n",
       "      <th>9908</th>\n",
       "      <td>ffcc8532d76436fc79e50eb2e5238e45.jpg</td>\n",
       "      <td>70</td>\n",
       "    </tr>\n",
       "    <tr>\n",
       "      <th>9909</th>\n",
       "      <td>ffdf2e8673a1da6fb80342fa3b119a20.jpg</td>\n",
       "      <td>20</td>\n",
       "    </tr>\n",
       "    <tr>\n",
       "      <th>9910</th>\n",
       "      <td>fff19e2ce11718548fa1c5d039a5192a.jpg</td>\n",
       "      <td>20</td>\n",
       "    </tr>\n",
       "    <tr>\n",
       "      <th>9911</th>\n",
       "      <td>fff8e47c766799c9e12f3cb3d66ad228.jpg</td>\n",
       "      <td>30</td>\n",
       "    </tr>\n",
       "  </tbody>\n",
       "</table>\n",
       "<p>9912 rows × 2 columns</p>\n",
       "</div>"
      ],
      "text/plain": [
       "                                  filename  Pawpularity\n",
       "0     0007de18844b0dbbb5e1f607da0606e0.jpg           63\n",
       "1     0009c66b9439883ba2750fb825e1d7db.jpg           42\n",
       "2     0013fd999caf9a3efe1352ca1b0d937e.jpg           28\n",
       "3     0018df346ac9c1d8413cfcc888ca8246.jpg           15\n",
       "4     001dc955e10590d3ca4673f034feeef2.jpg           72\n",
       "...                                    ...          ...\n",
       "9907  ffbfa0383c34dc513c95560d6e1fdb57.jpg           15\n",
       "9908  ffcc8532d76436fc79e50eb2e5238e45.jpg           70\n",
       "9909  ffdf2e8673a1da6fb80342fa3b119a20.jpg           20\n",
       "9910  fff19e2ce11718548fa1c5d039a5192a.jpg           20\n",
       "9911  fff8e47c766799c9e12f3cb3d66ad228.jpg           30\n",
       "\n",
       "[9912 rows x 2 columns]"
      ]
     },
     "execution_count": 1,
     "metadata": {},
     "output_type": "execute_result"
    }
   ],
   "source": [
    "import pandas as pd\n",
    "data = pd.read_csv(\"/kaggle/input/petfinder-pawpularity-score/train.csv\", sep=',')\n",
    "data['Id'] = data['Id'] + '.jpg'\n",
    "data = data.rename(columns={'Id': 'filename'})\n",
    "data = data.drop(columns=['Subject Focus', 'Eyes', 'Face', 'Near', 'Action', 'Accessory', 'Group', 'Collage', 'Human', 'Occlusion', 'Info', 'Blur'])\n",
    "data"
   ]
  },
  {
   "cell_type": "markdown",
   "id": "ab48bbca",
   "metadata": {
    "papermill": {
     "duration": 0.012268,
     "end_time": "2021-12-24T11:45:51.408168",
     "exception": false,
     "start_time": "2021-12-24T11:45:51.395900",
     "status": "completed"
    },
    "tags": []
   },
   "source": [
    "On copie les fichiers du dataset dans une arbo de type classification"
   ]
  },
  {
   "cell_type": "code",
   "execution_count": 2,
   "id": "71c81b59",
   "metadata": {
    "execution": {
     "iopub.execute_input": "2021-12-24T11:45:51.458504Z",
     "iopub.status.busy": "2021-12-24T11:45:51.457509Z",
     "iopub.status.idle": "2021-12-24T11:46:37.188012Z",
     "shell.execute_reply": "2021-12-24T11:46:37.186972Z",
     "shell.execute_reply.started": "2021-12-24T09:55:05.607805Z"
    },
    "papermill": {
     "duration": 45.763901,
     "end_time": "2021-12-24T11:46:37.188200",
     "exception": false,
     "start_time": "2021-12-24T11:45:51.424299",
     "status": "completed"
    },
    "tags": []
   },
   "outputs": [],
   "source": [
    "dataset_dir = '/kaggle/input/petfinder-pawpularity-score/train'\n",
    "width, height = 512, 512\n",
    "batch_size = 32\n",
    "nb_classes = 5\n",
    "\n",
    "import os\n",
    "path = \"/kaggle/working/data\"\n",
    "if not os.path.exists(path):\n",
    "    os.mkdir(path)\n",
    "\n",
    "from shutil import copyfile\n",
    "for i in range(nb_classes):\n",
    "    mini = i * int(100 / nb_classes)\n",
    "    maxi = (i + 1) * int(100 / nb_classes)\n",
    "    class_data = data[(data['Pawpularity'] > mini) & (data['Pawpularity'] <= maxi)]\n",
    "    class_dir = os.path.join(path, str(mini) + '-' + str(maxi))\n",
    "    os.mkdir(class_dir)\n",
    "    for filename in class_data['filename']:\n",
    "        src = os.path.join(dataset_dir, filename)\n",
    "        dst = os.path.join(class_dir, filename)\n",
    "        copyfile(src, dst)"
   ]
  },
  {
   "cell_type": "code",
   "execution_count": 3,
   "id": "a01a0ebc",
   "metadata": {
    "execution": {
     "iopub.execute_input": "2021-12-24T11:46:37.234918Z",
     "iopub.status.busy": "2021-12-24T11:46:37.234070Z",
     "iopub.status.idle": "2021-12-24T11:46:45.586829Z",
     "shell.execute_reply": "2021-12-24T11:46:45.587377Z",
     "shell.execute_reply.started": "2021-12-24T09:55:49.527885Z"
    },
    "papermill": {
     "duration": 8.37856,
     "end_time": "2021-12-24T11:46:45.587583",
     "exception": false,
     "start_time": "2021-12-24T11:46:37.209023",
     "status": "completed"
    },
    "tags": []
   },
   "outputs": [
    {
     "name": "stdout",
     "output_type": "stream",
     "text": [
      "Found 9912 files belonging to 5 classes.\n",
      "Using 7930 files for training.\n"
     ]
    },
    {
     "name": "stderr",
     "output_type": "stream",
     "text": [
      "2021-12-24 11:46:42.968345: I tensorflow/stream_executor/cuda/cuda_gpu_executor.cc:937] successful NUMA node read from SysFS had negative value (-1), but there must be at least one NUMA node, so returning NUMA node zero\n",
      "2021-12-24 11:46:43.063161: I tensorflow/stream_executor/cuda/cuda_gpu_executor.cc:937] successful NUMA node read from SysFS had negative value (-1), but there must be at least one NUMA node, so returning NUMA node zero\n",
      "2021-12-24 11:46:43.063830: I tensorflow/stream_executor/cuda/cuda_gpu_executor.cc:937] successful NUMA node read from SysFS had negative value (-1), but there must be at least one NUMA node, so returning NUMA node zero\n",
      "2021-12-24 11:46:43.066671: I tensorflow/core/platform/cpu_feature_guard.cc:142] This TensorFlow binary is optimized with oneAPI Deep Neural Network Library (oneDNN) to use the following CPU instructions in performance-critical operations:  AVX2 AVX512F FMA\n",
      "To enable them in other operations, rebuild TensorFlow with the appropriate compiler flags.\n",
      "2021-12-24 11:46:43.067857: I tensorflow/stream_executor/cuda/cuda_gpu_executor.cc:937] successful NUMA node read from SysFS had negative value (-1), but there must be at least one NUMA node, so returning NUMA node zero\n",
      "2021-12-24 11:46:43.068782: I tensorflow/stream_executor/cuda/cuda_gpu_executor.cc:937] successful NUMA node read from SysFS had negative value (-1), but there must be at least one NUMA node, so returning NUMA node zero\n",
      "2021-12-24 11:46:43.069570: I tensorflow/stream_executor/cuda/cuda_gpu_executor.cc:937] successful NUMA node read from SysFS had negative value (-1), but there must be at least one NUMA node, so returning NUMA node zero\n",
      "2021-12-24 11:46:44.875006: I tensorflow/stream_executor/cuda/cuda_gpu_executor.cc:937] successful NUMA node read from SysFS had negative value (-1), but there must be at least one NUMA node, so returning NUMA node zero\n",
      "2021-12-24 11:46:44.875839: I tensorflow/stream_executor/cuda/cuda_gpu_executor.cc:937] successful NUMA node read from SysFS had negative value (-1), but there must be at least one NUMA node, so returning NUMA node zero\n",
      "2021-12-24 11:46:44.876503: I tensorflow/stream_executor/cuda/cuda_gpu_executor.cc:937] successful NUMA node read from SysFS had negative value (-1), but there must be at least one NUMA node, so returning NUMA node zero\n",
      "2021-12-24 11:46:44.877080: I tensorflow/core/common_runtime/gpu/gpu_device.cc:1510] Created device /job:localhost/replica:0/task:0/device:GPU:0 with 15403 MB memory:  -> device: 0, name: Tesla P100-PCIE-16GB, pci bus id: 0000:00:04.0, compute capability: 6.0\n"
     ]
    },
    {
     "name": "stdout",
     "output_type": "stream",
     "text": [
      "Found 9912 files belonging to 5 classes.\n",
      "Using 1982 files for validation.\n"
     ]
    }
   ],
   "source": [
    "from tensorflow.keras.utils import image_dataset_from_directory\n",
    "train_ds = image_dataset_from_directory(\n",
    "  path,\n",
    "  validation_split=0.2,\n",
    "  subset=\"training\",\n",
    "  seed=99,\n",
    "  image_size=(height, width),\n",
    "  batch_size=batch_size)\n",
    "val_ds = image_dataset_from_directory(\n",
    "  path,\n",
    "  validation_split=0.2,\n",
    "  subset=\"validation\",\n",
    "  seed=99,\n",
    "  image_size=(height, width),\n",
    "  batch_size=batch_size)"
   ]
  },
  {
   "cell_type": "code",
   "execution_count": 4,
   "id": "1bf24b51",
   "metadata": {
    "execution": {
     "iopub.execute_input": "2021-12-24T11:46:45.622044Z",
     "iopub.status.busy": "2021-12-24T11:46:45.621407Z",
     "iopub.status.idle": "2021-12-24T11:46:45.624161Z",
     "shell.execute_reply": "2021-12-24T11:46:45.623705Z",
     "shell.execute_reply.started": "2021-12-24T09:55:59.287750Z"
    },
    "papermill": {
     "duration": 0.022003,
     "end_time": "2021-12-24T11:46:45.624265",
     "exception": false,
     "start_time": "2021-12-24T11:46:45.602262",
     "status": "completed"
    },
    "tags": []
   },
   "outputs": [],
   "source": [
    "from tensorflow.keras.callbacks import EarlyStopping, ModelCheckpoint\n",
    "early_stopping_callback = EarlyStopping(\n",
    "    monitor=\"accuracy\",\n",
    "    min_delta=1,  # sous les 1% de mieux, on patiente\n",
    "    patience=10,  # on patiente max 10 epochs\n",
    "    verbose=2,\n",
    "    mode=\"min\",\n",
    "    restore_best_weights=True\n",
    ")\n",
    "model_checkpoint_callback = ModelCheckpoint(\n",
    "    'efficientNet_reg.h5',\n",
    "    monitor=\"accuracy\",\n",
    "    verbose=0,\n",
    "    save_best_only=True,\n",
    "    mode=\"min\",\n",
    "    save_freq=\"epoch\"\n",
    ")\n",
    "callbacks = [early_stopping_callback, model_checkpoint_callback]"
   ]
  },
  {
   "cell_type": "code",
   "execution_count": 5,
   "id": "767859ab",
   "metadata": {
    "execution": {
     "iopub.execute_input": "2021-12-24T11:46:45.658635Z",
     "iopub.status.busy": "2021-12-24T11:46:45.658128Z",
     "iopub.status.idle": "2021-12-24T11:46:45.703417Z",
     "shell.execute_reply": "2021-12-24T11:46:45.702786Z",
     "shell.execute_reply.started": "2021-12-24T09:55:59.306648Z"
    },
    "papermill": {
     "duration": 0.065724,
     "end_time": "2021-12-24T11:46:45.703530",
     "exception": false,
     "start_time": "2021-12-24T11:46:45.637806",
     "status": "completed"
    },
    "tags": []
   },
   "outputs": [],
   "source": [
    "import sys\n",
    "import os\n",
    "sys.path.insert(0, \"/kaggle/input/efnetv2src/efficientnet-v2-keras-main\")\n",
    "sys.path.append('../input/tfkeras-efficientnetsv2/')\n",
    "from efficientnet_v2 import EfficientNetV2XL"
   ]
  },
  {
   "cell_type": "code",
   "execution_count": 6,
   "id": "a5856dba",
   "metadata": {
    "execution": {
     "iopub.execute_input": "2021-12-24T11:46:45.736054Z",
     "iopub.status.busy": "2021-12-24T11:46:45.735450Z",
     "iopub.status.idle": "2021-12-24T11:46:45.938444Z",
     "shell.execute_reply": "2021-12-24T11:46:45.938887Z",
     "shell.execute_reply.started": "2021-12-24T09:55:59.400762Z"
    },
    "papermill": {
     "duration": 0.22199,
     "end_time": "2021-12-24T11:46:45.939017",
     "exception": false,
     "start_time": "2021-12-24T11:46:45.717027",
     "status": "completed"
    },
    "tags": []
   },
   "outputs": [],
   "source": [
    "from tensorflow.keras.models import Sequential\n",
    "from tensorflow.keras.layers import RandomFlip, RandomRotation, RandomZoom, RandomTranslation, RandomContrast\n",
    "data_augmentation = Sequential([\n",
    "  RandomFlip(\"horizontal\", input_shape=(height, width, 3)),\n",
    "  RandomRotation(factor=0.4, fill_mode=\"wrap\"),\n",
    "  RandomZoom(0.2),\n",
    "  RandomTranslation(height_factor=0.2, width_factor=0.2, fill_mode=\"wrap\"),\n",
    "  RandomContrast(factor=0.2)\n",
    "])"
   ]
  },
  {
   "cell_type": "code",
   "execution_count": 7,
   "id": "37cf0d2c",
   "metadata": {
    "execution": {
     "iopub.execute_input": "2021-12-24T11:46:45.974212Z",
     "iopub.status.busy": "2021-12-24T11:46:45.973215Z",
     "iopub.status.idle": "2021-12-24T11:47:08.272234Z",
     "shell.execute_reply": "2021-12-24T11:47:08.271716Z",
     "shell.execute_reply.started": "2021-12-24T09:55:59.683037Z"
    },
    "papermill": {
     "duration": 22.319966,
     "end_time": "2021-12-24T11:47:08.272372",
     "exception": false,
     "start_time": "2021-12-24T11:46:45.952406",
     "status": "completed"
    },
    "tags": []
   },
   "outputs": [],
   "source": [
    "from tensorflow.keras import Input, Model\n",
    "from tensorflow.keras.layers import Dense, GlobalAveragePooling2D, BatchNormalization, Dropout\n",
    "from tensorflow.keras.metrics import MeanAbsoluteError, MeanAbsolutePercentageError\n",
    "from tensorflow.keras.losses import SparseCategoricalCrossentropy\n",
    "import tensorflow_addons as tfa\n",
    "\n",
    "efficientnet = EfficientNetV2XL(\n",
    "    include_top=False,\n",
    "    weights='../input/tfkeras-efficientnetsv2/21_ft1k_notop/efficientnetv2-xl-21k-ft1k_notop.h5', \n",
    "    input_shape=(height, width, 3),\n",
    "    classes=nb_classes\n",
    ")\n",
    "efficientnet.trainable = False\n",
    "\n",
    "inputs = Input(shape=(height, width, 3))\n",
    "x = data_augmentation(inputs)\n",
    "x = efficientnet(x, training=False)\n",
    "x = GlobalAveragePooling2D()(x)\n",
    "x = BatchNormalization()(x)\n",
    "x = Dropout(0.2)(x)\n",
    "class1 = Dense(1920, activation='relu')(x)\n",
    "outputs = Dense(nb_classes, activation='softmax')(class1)\n",
    "efficientnet = Model(inputs, outputs)\n",
    "\n",
    "radam = tfa.optimizers.RectifiedAdam(learning_rate=0.01)\n",
    "optimizer = tfa.optimizers.Lookahead(radam, sync_period=6, slow_step_size=0.5)\n",
    "\n",
    "efficientnet.compile(optimizer=optimizer,\n",
    "              loss=SparseCategoricalCrossentropy(),\n",
    "              metrics=['accuracy'])"
   ]
  },
  {
   "cell_type": "code",
   "execution_count": 8,
   "id": "238f81f1",
   "metadata": {
    "execution": {
     "iopub.execute_input": "2021-12-24T11:47:08.311874Z",
     "iopub.status.busy": "2021-12-24T11:47:08.311300Z",
     "iopub.status.idle": "2021-12-24T13:09:11.295030Z",
     "shell.execute_reply": "2021-12-24T13:09:11.293680Z",
     "shell.execute_reply.started": "2021-12-24T09:56:28.241523Z"
    },
    "papermill": {
     "duration": 4923.008974,
     "end_time": "2021-12-24T13:09:11.295161",
     "exception": false,
     "start_time": "2021-12-24T11:47:08.286187",
     "status": "completed"
    },
    "tags": []
   },
   "outputs": [
    {
     "name": "stdout",
     "output_type": "stream",
     "text": [
      "Epoch 1/100\n"
     ]
    },
    {
     "name": "stderr",
     "output_type": "stream",
     "text": [
      "2021-12-24 11:47:19.015356: I tensorflow/compiler/mlir/mlir_graph_optimization_pass.cc:185] None of the MLIR Optimization Passes are enabled (registered 2)\n",
      "2021-12-24 11:47:35.755880: I tensorflow/stream_executor/cuda/cuda_dnn.cc:369] Loaded cuDNN version 8005\n"
     ]
    },
    {
     "name": "stdout",
     "output_type": "stream",
     "text": [
      "248/248 [==============================] - 477s 2s/step - loss: 1.9677 - accuracy: 0.3961 - val_loss: 1.5647 - val_accuracy: 0.3951\n"
     ]
    },
    {
     "name": "stderr",
     "output_type": "stream",
     "text": [
      "/opt/conda/lib/python3.7/site-packages/keras/utils/generic_utils.py:497: CustomMaskWarning: Custom mask layers require a config and must override get_config. When loading, the custom mask layer must be passed to the custom_objects argument.\n",
      "  category=CustomMaskWarning)\n"
     ]
    },
    {
     "name": "stdout",
     "output_type": "stream",
     "text": [
      "Epoch 2/100\n",
      "248/248 [==============================] - 436s 2s/step - loss: 1.5117 - accuracy: 0.4401 - val_loss: 1.4606 - val_accuracy: 0.4945\n",
      "Epoch 3/100\n",
      "248/248 [==============================] - 437s 2s/step - loss: 1.4189 - accuracy: 0.4767 - val_loss: 1.4363 - val_accuracy: 0.5106\n",
      "Epoch 4/100\n",
      "248/248 [==============================] - 437s 2s/step - loss: 1.3721 - accuracy: 0.5008 - val_loss: 1.3711 - val_accuracy: 0.5197\n",
      "Epoch 5/100\n",
      "248/248 [==============================] - 438s 2s/step - loss: 1.3548 - accuracy: 0.5045 - val_loss: 1.3322 - val_accuracy: 0.5217\n",
      "Epoch 6/100\n",
      "248/248 [==============================] - 437s 2s/step - loss: 1.3389 - accuracy: 0.5115 - val_loss: 1.3229 - val_accuracy: 0.5126\n",
      "Epoch 7/100\n",
      "248/248 [==============================] - 438s 2s/step - loss: 1.3265 - accuracy: 0.5122 - val_loss: 1.3199 - val_accuracy: 0.5197\n",
      "Epoch 8/100\n",
      "248/248 [==============================] - 438s 2s/step - loss: 1.3168 - accuracy: 0.5132 - val_loss: 1.4061 - val_accuracy: 0.5217\n",
      "Epoch 9/100\n",
      "248/248 [==============================] - 438s 2s/step - loss: 1.3137 - accuracy: 0.5134 - val_loss: 1.2965 - val_accuracy: 0.5217\n",
      "Epoch 10/100\n",
      "248/248 [==============================] - 438s 2s/step - loss: 1.3086 - accuracy: 0.5144 - val_loss: 1.2950 - val_accuracy: 0.5217\n",
      "Epoch 11/100\n",
      "248/248 [==============================] - 438s 2s/step - loss: 1.3065 - accuracy: 0.5144 - val_loss: 1.2981 - val_accuracy: 0.5227\n",
      "Restoring model weights from the end of the best epoch.\n",
      "Epoch 00011: early stopping\n"
     ]
    }
   ],
   "source": [
    "epochs = 100\n",
    "history_efficientnet = efficientnet.fit(\n",
    "    train_ds,\n",
    "    validation_data=val_ds,\n",
    "    epochs=epochs,\n",
    "    callbacks=callbacks\n",
    ")"
   ]
  },
  {
   "cell_type": "code",
   "execution_count": 9,
   "id": "dcbc9e93",
   "metadata": {
    "execution": {
     "iopub.execute_input": "2021-12-24T13:09:12.714191Z",
     "iopub.status.busy": "2021-12-24T13:09:12.713520Z",
     "iopub.status.idle": "2021-12-24T13:09:12.716177Z",
     "shell.execute_reply": "2021-12-24T13:09:12.716570Z",
     "shell.execute_reply.started": "2021-12-24T11:19:01.089382Z"
    },
    "papermill": {
     "duration": 0.714481,
     "end_time": "2021-12-24T13:09:12.716697",
     "exception": false,
     "start_time": "2021-12-24T13:09:12.002216",
     "status": "completed"
    },
    "tags": []
   },
   "outputs": [
    {
     "data": {
      "text/plain": [
       "{'loss': [1.9677069187164307,\n",
       "  1.5116671323776245,\n",
       "  1.4188792705535889,\n",
       "  1.3721328973770142,\n",
       "  1.354760766029358,\n",
       "  1.3388954401016235,\n",
       "  1.326451301574707,\n",
       "  1.3167507648468018,\n",
       "  1.3137227296829224,\n",
       "  1.3086063861846924,\n",
       "  1.3065433502197266],\n",
       " 'accuracy': [0.3960908055305481,\n",
       "  0.44010087847709656,\n",
       "  0.47667086124420166,\n",
       "  0.5007566213607788,\n",
       "  0.5045397281646729,\n",
       "  0.5114753842353821,\n",
       "  0.5122320055961609,\n",
       "  0.5132408738136292,\n",
       "  0.5133669376373291,\n",
       "  0.5143758058547974,\n",
       "  0.5143758058547974],\n",
       " 'val_loss': [1.5647315979003906,\n",
       "  1.4605754613876343,\n",
       "  1.436259150505066,\n",
       "  1.3710553646087646,\n",
       "  1.3322033882141113,\n",
       "  1.3228809833526611,\n",
       "  1.3199291229248047,\n",
       "  1.4061362743377686,\n",
       "  1.2965447902679443,\n",
       "  1.2950139045715332,\n",
       "  1.2980897426605225],\n",
       " 'val_accuracy': [0.39505550265312195,\n",
       "  0.49445006251335144,\n",
       "  0.5105953812599182,\n",
       "  0.5196771025657654,\n",
       "  0.5216952562332153,\n",
       "  0.5126135349273682,\n",
       "  0.5196771025657654,\n",
       "  0.5216952562332153,\n",
       "  0.5216952562332153,\n",
       "  0.5216952562332153,\n",
       "  0.5227043628692627]}"
      ]
     },
     "execution_count": 9,
     "metadata": {},
     "output_type": "execute_result"
    }
   ],
   "source": [
    "history_efficientnet.history"
   ]
  },
  {
   "cell_type": "code",
   "execution_count": 10,
   "id": "6010eaa7",
   "metadata": {
    "execution": {
     "iopub.execute_input": "2021-12-24T13:09:14.182010Z",
     "iopub.status.busy": "2021-12-24T13:09:14.181478Z",
     "iopub.status.idle": "2021-12-24T13:09:15.238788Z",
     "shell.execute_reply": "2021-12-24T13:09:15.238365Z",
     "shell.execute_reply.started": "2021-12-24T11:19:01.104087Z"
    },
    "papermill": {
     "duration": 1.771484,
     "end_time": "2021-12-24T13:09:15.238933",
     "exception": false,
     "start_time": "2021-12-24T13:09:13.467449",
     "status": "completed"
    },
    "tags": []
   },
   "outputs": [
    {
     "data": {
      "image/png": "[encoded data removed]",
      "text/plain": [
       "<Figure size 720x360 with 2 Axes>"
      ]
     },
     "metadata": {
      "needs_background": "light"
     },
     "output_type": "display_data"
    }
   ],
   "source": [
    "import matplotlib.pyplot as plt\n",
    "\n",
    "dict1 = {\n",
    "    \"accuracy\": history_efficientnet.history[\"accuracy\"],\n",
    "    \"type\": \"training\"\n",
    "}\n",
    "dict2 = {\n",
    "    \"accuracy\": history_efficientnet.history[\"accuracy\"],\n",
    "    \"type\": \"validation\"\n",
    "}\n",
    "s1 = pd.DataFrame(dict1)\n",
    "s2 = pd.DataFrame(dict2)\n",
    "df = pd.concat([s1, s2], axis=0).reset_index()\n",
    "import seaborn as sns\n",
    "grid = sns.relplot(\n",
    "    data=df,\n",
    "    x=df[\"index\"],\n",
    "    y=\"accuracy\",\n",
    "    col=\"type\",\n",
    "    kind=\"line\"\n",
    ")\n",
    "for ax in grid.axes.flat:\n",
    "    ax.set(xlabel=\"Epoch\")\n",
    "plt.show()"
   ]
  },
  {
   "cell_type": "code",
   "execution_count": 11,
   "id": "039d9f06",
   "metadata": {
    "execution": {
     "iopub.execute_input": "2021-12-24T13:09:16.664696Z",
     "iopub.status.busy": "2021-12-24T13:09:16.663644Z",
     "iopub.status.idle": "2021-12-24T13:09:16.665668Z",
     "shell.execute_reply": "2021-12-24T13:09:16.666112Z",
     "shell.execute_reply.started": "2021-12-24T11:19:02.393270Z"
    },
    "papermill": {
     "duration": 0.715712,
     "end_time": "2021-12-24T13:09:16.666250",
     "exception": false,
     "start_time": "2021-12-24T13:09:15.950538",
     "status": "completed"
    },
    "tags": []
   },
   "outputs": [],
   "source": [
    "import tensorflow as tf\n",
    "def preprocess(image):\n",
    "    return (tf.cast(image, dtype=tf.float32) - 128.00) / 128.00"
   ]
  },
  {
   "cell_type": "code",
   "execution_count": 12,
   "id": "4500dd28",
   "metadata": {
    "execution": {
     "iopub.execute_input": "2021-12-24T13:09:18.814892Z",
     "iopub.status.busy": "2021-12-24T13:09:18.814236Z",
     "iopub.status.idle": "2021-12-24T13:09:18.817024Z",
     "shell.execute_reply": "2021-12-24T13:09:18.817445Z",
     "shell.execute_reply.started": "2021-12-24T11:19:02.401980Z"
    },
    "papermill": {
     "duration": 1.124161,
     "end_time": "2021-12-24T13:09:18.817579",
     "exception": false,
     "start_time": "2021-12-24T13:09:17.693418",
     "status": "completed"
    },
    "tags": []
   },
   "outputs": [
    {
     "data": {
      "text/plain": [
       "['0-20', '20-40', '40-60', '60-80', '80-100']"
      ]
     },
     "execution_count": 12,
     "metadata": {},
     "output_type": "execute_result"
    }
   ],
   "source": [
    "train_ds.class_names"
   ]
  },
  {
   "cell_type": "code",
   "execution_count": 13,
   "id": "aecd6c92",
   "metadata": {
    "execution": {
     "iopub.execute_input": "2021-12-24T13:09:20.248114Z",
     "iopub.status.busy": "2021-12-24T13:09:20.247565Z",
     "iopub.status.idle": "2021-12-24T13:09:27.728702Z",
     "shell.execute_reply": "2021-12-24T13:09:27.728240Z",
     "shell.execute_reply.started": "2021-12-24T11:38:18.072325Z"
    },
    "papermill": {
     "duration": 8.1986,
     "end_time": "2021-12-24T13:09:27.728851",
     "exception": false,
     "start_time": "2021-12-24T13:09:19.530251",
     "status": "completed"
    },
    "tags": []
   },
   "outputs": [],
   "source": [
    "import os\n",
    "import numpy as np\n",
    "from PIL import Image\n",
    "test_dir = '/kaggle/input/petfinder-pawpularity-score/test'\n",
    "ids = []\n",
    "pawpularities = []\n",
    "for test_image in os.listdir(test_dir):\n",
    "    image_path = os.path.join(test_dir, test_image)\n",
    "    id_image = test_image.split('.')[0]\n",
    "    ids.append(id_image)\n",
    "    img = Image.open(image_path) \n",
    "    img = img.resize((width, height))\n",
    "    img = preprocess(np.array(img).reshape(1, width, height, 3))\n",
    "    preds = efficientnet.predict(img)\n",
    "    top_indice = preds[0].argsort()[-1]\n",
    "    result = train_ds.class_names[top_indice]\n",
    "    pawpularities.append(result)"
   ]
  },
  {
   "cell_type": "code",
   "execution_count": 14,
   "id": "badbeddb",
   "metadata": {
    "execution": {
     "iopub.execute_input": "2021-12-24T13:09:29.219717Z",
     "iopub.status.busy": "2021-12-24T13:09:29.218707Z",
     "iopub.status.idle": "2021-12-24T13:09:29.754280Z",
     "shell.execute_reply": "2021-12-24T13:09:29.754953Z",
     "shell.execute_reply.started": "2021-12-24T11:38:30.938364Z"
    },
    "papermill": {
     "duration": 1.317647,
     "end_time": "2021-12-24T13:09:29.755107",
     "exception": false,
     "start_time": "2021-12-24T13:09:28.437460",
     "status": "completed"
    },
    "tags": []
   },
   "outputs": [
    {
     "name": "stdout",
     "output_type": "stream",
     "text": [
      "RMSE for CatBoost:  20.470036456990314\n",
      "Execution time for CatBoost (in Seconds): 0.16500210762023926\n",
      "r2_score : -0.00\n"
     ]
    }
   ],
   "source": [
    "data = pd.read_csv(\"/kaggle/input/petfinder-pawpularity-score/train.csv\", sep=',')\n",
    "X = data.drop(columns=['Id', 'Pawpularity'])\n",
    "y = data['Pawpularity']\n",
    "from sklearn.model_selection import train_test_split, GridSearchCV, ParameterGrid\n",
    "X_train, X_test, y_train, y_test = train_test_split(X, y, test_size=0.20, \n",
    "                                                    random_state=1)\n",
    "from catboost import CatBoostRegressor\n",
    "import time\n",
    "start = time.time()\n",
    "\n",
    "cb = CatBoostRegressor(depth=5,\n",
    "                       learning_rate=0.01,\n",
    "                       n_estimators=50,\n",
    "                       loss_function='RMSE',\n",
    "                       task_type='CPU',\n",
    "                       verbose=False)\n",
    "\n",
    "cb.fit(X_train, y_train)\n",
    "y_pred = cb.predict(X_test)\n",
    "\n",
    "import numpy as np\n",
    "from sklearn.metrics import r2_score\n",
    "from sklearn.metrics import mean_squared_error as mse\n",
    "\n",
    "cb_rmse = np.sqrt(mse(y_test, y_pred))\n",
    "print(\"RMSE for CatBoost: \", np.mean(cb_rmse))\n",
    "\n",
    "end = time.time()\n",
    "diff = end - start\n",
    "print('Execution time for CatBoost (in Seconds):', diff)\n",
    "\n",
    "print(\"r2_score : {:.2f}\".format(r2_score(y_test, y_pred)))"
   ]
  },
  {
   "cell_type": "code",
   "execution_count": 15,
   "id": "cf1469f0",
   "metadata": {
    "execution": {
     "iopub.execute_input": "2021-12-24T13:09:31.227573Z",
     "iopub.status.busy": "2021-12-24T13:09:31.226743Z",
     "iopub.status.idle": "2021-12-24T13:09:32.439067Z",
     "shell.execute_reply": "2021-12-24T13:09:32.438605Z",
     "shell.execute_reply.started": "2021-12-24T11:40:42.721431Z"
    },
    "papermill": {
     "duration": 1.976144,
     "end_time": "2021-12-24T13:09:32.439196",
     "exception": false,
     "start_time": "2021-12-24T13:09:30.463052",
     "status": "completed"
    },
    "tags": []
   },
   "outputs": [
    {
     "name": "stdout",
     "output_type": "stream",
     "text": [
      "                                 Id Pawpularity\n",
      "0  c978013571258ed6d4637f6e8cc9d6a3       20-40\n",
      "1  4e429cead1848a298432a0acad014c9d       20-40\n",
      "2  43a2262d7738e3d420d453815151079e       20-40\n",
      "3  8f49844c382931444e68dffbe20228f4       20-40\n",
      "4  4128bae22183829d2b5fea10effdb0c3       20-40\n",
      "5  80bc3ccafcc51b66303c2c263aa38486       20-40\n",
      "6  e0de453c1bffc20c22b072b34b54e50f       20-40\n",
      "7  b03f7041962238a7c9d6537e22f9b017       20-40\n",
      "shape X_sub:  (8, 12)\n"
     ]
    }
   ],
   "source": [
    "sub_df = pd.read_csv(\"/kaggle/input/petfinder-pawpularity-score/test.csv\", sep=',')\n",
    "X_sub = sub_df.drop(columns=['Id'])\n",
    "\n",
    "test_dir = '/kaggle/input/petfinder-pawpularity-score/test'\n",
    "ids = []\n",
    "pawpularities = []\n",
    "for test_image in os.listdir(test_dir):\n",
    "    image_path = os.path.join(test_dir, test_image)\n",
    "    id_image = test_image.split('.')[0]\n",
    "    ids.append(id_image)\n",
    "    img = Image.open(image_path) \n",
    "    img = img.resize((width, height))\n",
    "    img = preprocess(np.array(img).reshape(1, width, height, 3))\n",
    "    preds = efficientnet.predict(img)\n",
    "    top_indice = preds[0].argsort()[-1]\n",
    "    result = train_ds.class_names[top_indice]\n",
    "    pawpularities.append(result)\n",
    "\n",
    "img_dict = {\n",
    "    'Id': ids,\n",
    "    'Pawpularity': pawpularities\n",
    "}\n",
    "img_df = pd.DataFrame(img_dict)\n",
    "print(img_df)\n",
    "\n",
    "print(\"shape X_sub: \", X_sub.shape)\n",
    "y_sub = cb.predict(X_sub)\n",
    "y_sub = [round(x) for x in y_sub]\n",
    "sub_df['Pawpularity'] = y_sub\n",
    "sub_df = sub_df.drop(columns=['Subject Focus', 'Eyes', 'Face', 'Near', 'Action', 'Accessory', 'Group', 'Collage', 'Human', 'Occlusion', 'Info', 'Blur'])"
   ]
  },
  {
   "cell_type": "code",
   "execution_count": 16,
   "id": "52046777",
   "metadata": {
    "execution": {
     "iopub.execute_input": "2021-12-24T13:09:33.904749Z",
     "iopub.status.busy": "2021-12-24T13:09:33.903314Z",
     "iopub.status.idle": "2021-12-24T13:09:33.915059Z",
     "shell.execute_reply": "2021-12-24T13:09:33.914615Z",
     "shell.execute_reply.started": "2021-12-24T11:44:36.821550Z"
    },
    "papermill": {
     "duration": 0.748001,
     "end_time": "2021-12-24T13:09:33.915175",
     "exception": false,
     "start_time": "2021-12-24T13:09:33.167174",
     "status": "completed"
    },
    "tags": []
   },
   "outputs": [
    {
     "name": "stdout",
     "output_type": "stream",
     "text": [
      "                                 Id  Pawpularity\n",
      "0  4128bae22183829d2b5fea10effdb0c3           39\n",
      "1  43a2262d7738e3d420d453815151079e           38\n",
      "2  4e429cead1848a298432a0acad014c9d           38\n",
      "3  80bc3ccafcc51b66303c2c263aa38486           37\n",
      "4  8f49844c382931444e68dffbe20228f4           37\n",
      "5  b03f7041962238a7c9d6537e22f9b017           39\n",
      "6  c978013571258ed6d4637f6e8cc9d6a3           38\n",
      "7  e0de453c1bffc20c22b072b34b54e50f           37\n",
      "39 20 40\n",
      "=> 39\n",
      "38 20 40\n",
      "=> 38\n",
      "38 20 40\n",
      "=> 38\n",
      "37 20 40\n",
      "=> 37\n",
      "37 20 40\n",
      "=> 37\n",
      "39 20 40\n",
      "=> 39\n",
      "38 20 40\n",
      "=> 38\n",
      "37 20 40\n",
      "=> 37\n",
      "                                 Id  Pawpularity\n",
      "0  4128bae22183829d2b5fea10effdb0c3           39\n",
      "1  43a2262d7738e3d420d453815151079e           38\n",
      "2  4e429cead1848a298432a0acad014c9d           38\n",
      "3  80bc3ccafcc51b66303c2c263aa38486           37\n",
      "4  8f49844c382931444e68dffbe20228f4           37\n",
      "5  b03f7041962238a7c9d6537e22f9b017           39\n",
      "6  c978013571258ed6d4637f6e8cc9d6a3           38\n",
      "7  e0de453c1bffc20c22b072b34b54e50f           37\n"
     ]
    }
   ],
   "source": [
    "print(sub_df)\n",
    "for id_img in sub_df['Id']:\n",
    "    result = img_df[img_df['Id'] == id_img]['Pawpularity']\n",
    "    result = result.values[0]\n",
    "    mini = int(result.split('-')[0])\n",
    "    maxi = int(result.split('-')[1])\n",
    "    p = sub_df[sub_df['Id'] == id_img]['Pawpularity'].values[0]\n",
    "    print(p, mini, maxi)\n",
    "    if p < mini:\n",
    "        p = int(round(p + (mini - p) / 4))\n",
    "    if p > maxi:\n",
    "        p = int(round(p - (p - maxi) / 4))\n",
    "    print(\"=>\", p)\n",
    "    sub_df.at[sub_df['Id'] == id_img, 'Pawpularity'] = p\n",
    "    \n",
    "print(sub_df)\n",
    "sub_df.to_csv('submission.csv', index=False, sep=',')"
   ]
  }
 ],
 "metadata": {
  "kernelspec": {
   "display_name": "Python 3",
   "language": "python",
   "name": "python3"
  },
  "language_info": {
   "codemirror_mode": {
    "name": "ipython",
    "version": 3
   },
   "file_extension": ".py",
   "mimetype": "text/x-python",
   "name": "python",
   "nbconvert_exporter": "python",
   "pygments_lexer": "ipython3",
   "version": "3.7.12"
  },
  "papermill": {
   "default_parameters": {},
   "duration": 5034.310261,
   "end_time": "2021-12-24T13:09:37.669066",
   "environment_variables": {},
   "exception": null,
   "input_path": "__notebook__.ipynb",
   "output_path": "__notebook__.ipynb",
   "parameters": {},
   "start_time": "2021-12-24T11:45:43.358805",
   "version": "2.3.3"
  }
 },
 "nbformat": 4,
 "nbformat_minor": 5
}
