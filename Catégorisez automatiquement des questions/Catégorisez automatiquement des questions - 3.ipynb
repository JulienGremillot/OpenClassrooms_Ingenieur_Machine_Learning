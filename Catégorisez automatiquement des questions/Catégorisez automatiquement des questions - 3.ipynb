{
 "cells": [
  {
   "cell_type": "code",
   "execution_count": 3,
   "id": "362a6124",
   "metadata": {},
   "outputs": [],
   "source": [
    "import os\n",
    "import pandas as pd"
   ]
  },
  {
   "cell_type": "code",
   "execution_count": 2,
   "id": "be9ad57c",
   "metadata": {},
   "outputs": [],
   "source": [
    "# Je me positionne dans mon répertoire de travail personnel\n",
    "os.chdir(\"C:\\\\Users\\\\Julien Gremillot\\\\OneDrive\\\\Documents\\\\\" +\n",
    "         \"OpenClassrooms\\\\github\\\\\" +\n",
    "         \"OpenClassrooms_Ingenieur_Machine_Learning\\\\\" +\n",
    "         \"Catégorisez automatiquement des questions\")"
   ]
  },
  {
   "cell_type": "code",
   "execution_count": 11,
   "id": "dea81a74",
   "metadata": {},
   "outputs": [],
   "source": [
    "# Lecture du CSV\n",
    "df = pd.read_csv('txt_and_tags.csv')\n",
    "# petit contournement de l'erreur d'avoir sauvegardé en texte\n",
    "df['txt'] = [txt.replace(\"['\", \"\").replace(\"']\", \"\").split(\"', '\") for txt in df['txt']]\n",
    "df['tags_filtered'] = [txt.replace(\"['\", \"\").replace(\"']\", \"\").split(\"', '\") for txt in df['tags_filtered']]"
   ]
  },
  {
   "cell_type": "code",
   "execution_count": 12,
   "id": "c6dda5da",
   "metadata": {},
   "outputs": [
    {
     "data": {
      "text/html": [
       "<div>\n",
       "<style scoped>\n",
       "    .dataframe tbody tr th:only-of-type {\n",
       "        vertical-align: middle;\n",
       "    }\n",
       "\n",
       "    .dataframe tbody tr th {\n",
       "        vertical-align: top;\n",
       "    }\n",
       "\n",
       "    .dataframe thead th {\n",
       "        text-align: right;\n",
       "    }\n",
       "</style>\n",
       "<table border=\"1\" class=\"dataframe\">\n",
       "  <thead>\n",
       "    <tr style=\"text-align: right;\">\n",
       "      <th></th>\n",
       "      <th>txt</th>\n",
       "      <th>tags_filtered</th>\n",
       "    </tr>\n",
       "  </thead>\n",
       "  <tbody>\n",
       "    <tr>\n",
       "      <th>0</th>\n",
       "      <td>[convert, decimal, double, c, want, use, track...</td>\n",
       "      <td>[c#]</td>\n",
       "    </tr>\n",
       "    <tr>\n",
       "      <th>1</th>\n",
       "      <td>[width, collapse, percentage, width, child, el...</td>\n",
       "      <td>[css, html]</td>\n",
       "    </tr>\n",
       "    <tr>\n",
       "      <th>2</th>\n",
       "      <td>[calculate, someone, age, based, datetime, typ...</td>\n",
       "      <td>[c#, .net]</td>\n",
       "    </tr>\n",
       "    <tr>\n",
       "      <th>3</th>\n",
       "      <td>[calculate, relative, time, c, given, specific...</td>\n",
       "      <td>[c#]</td>\n",
       "    </tr>\n",
       "    <tr>\n",
       "      <th>4</th>\n",
       "      <td>[binary, data, mysql, store, binary, data, mysql]</td>\n",
       "      <td>[mysql, database]</td>\n",
       "    </tr>\n",
       "    <tr>\n",
       "      <th>...</th>\n",
       "      <td>...</td>\n",
       "      <td>...</td>\n",
       "    </tr>\n",
       "    <tr>\n",
       "      <th>139037</th>\n",
       "      <td>[access, n, th, element, array, php, embarrass...</td>\n",
       "      <td>[php]</td>\n",
       "    </tr>\n",
       "    <tr>\n",
       "      <th>139038</th>\n",
       "      <td>[c, vector, int, size_type, variable, point, d...</td>\n",
       "      <td>[c++]</td>\n",
       "    </tr>\n",
       "    <tr>\n",
       "      <th>139039</th>\n",
       "      <td>[get, code, coverage, report, using, jest, way...</td>\n",
       "      <td>[javascript]</td>\n",
       "    </tr>\n",
       "    <tr>\n",
       "      <th>139040</th>\n",
       "      <td>[unable, type, visual, studio, unable, edit, f...</td>\n",
       "      <td>[c#, visual-studio, asp.net]</td>\n",
       "    </tr>\n",
       "    <tr>\n",
       "      <th>139041</th>\n",
       "      <td>[get, google, analytics, credentials, without,...</td>\n",
       "      <td>[python]</td>\n",
       "    </tr>\n",
       "  </tbody>\n",
       "</table>\n",
       "<p>139042 rows × 2 columns</p>\n",
       "</div>"
      ],
      "text/plain": [
       "                                                      txt  \\\n",
       "0       [convert, decimal, double, c, want, use, track...   \n",
       "1       [width, collapse, percentage, width, child, el...   \n",
       "2       [calculate, someone, age, based, datetime, typ...   \n",
       "3       [calculate, relative, time, c, given, specific...   \n",
       "4       [binary, data, mysql, store, binary, data, mysql]   \n",
       "...                                                   ...   \n",
       "139037  [access, n, th, element, array, php, embarrass...   \n",
       "139038  [c, vector, int, size_type, variable, point, d...   \n",
       "139039  [get, code, coverage, report, using, jest, way...   \n",
       "139040  [unable, type, visual, studio, unable, edit, f...   \n",
       "139041  [get, google, analytics, credentials, without,...   \n",
       "\n",
       "                       tags_filtered  \n",
       "0                               [c#]  \n",
       "1                        [css, html]  \n",
       "2                         [c#, .net]  \n",
       "3                               [c#]  \n",
       "4                  [mysql, database]  \n",
       "...                              ...  \n",
       "139037                         [php]  \n",
       "139038                         [c++]  \n",
       "139039                  [javascript]  \n",
       "139040  [c#, visual-studio, asp.net]  \n",
       "139041                      [python]  \n",
       "\n",
       "[139042 rows x 2 columns]"
      ]
     },
     "execution_count": 12,
     "metadata": {},
     "output_type": "execute_result"
    }
   ],
   "source": [
    "df"
   ]
  },
  {
   "cell_type": "code",
   "execution_count": 13,
   "id": "b965a3f5",
   "metadata": {},
   "outputs": [
    {
     "data": {
      "text/plain": [
       "'convert'"
      ]
     },
     "execution_count": 13,
     "metadata": {},
     "output_type": "execute_result"
    }
   ],
   "source": [
    "df['txt'][0][0]"
   ]
  },
  {
   "cell_type": "code",
   "execution_count": 14,
   "id": "43a8f0c6",
   "metadata": {},
   "outputs": [
    {
     "data": {
      "text/plain": [
       "'c#'"
      ]
     },
     "execution_count": 14,
     "metadata": {},
     "output_type": "execute_result"
    }
   ],
   "source": [
    "df['tags_filtered'][0][0]"
   ]
  }
 ],
 "metadata": {
  "kernelspec": {
   "display_name": "Python 3",
   "language": "python",
   "name": "python3"
  },
  "language_info": {
   "codemirror_mode": {
    "name": "ipython",
    "version": 3
   },
   "file_extension": ".py",
   "mimetype": "text/x-python",
   "name": "python",
   "nbconvert_exporter": "python",
   "pygments_lexer": "ipython3",
   "version": "3.8.8"
  }
 },
 "nbformat": 4,
 "nbformat_minor": 5
}
