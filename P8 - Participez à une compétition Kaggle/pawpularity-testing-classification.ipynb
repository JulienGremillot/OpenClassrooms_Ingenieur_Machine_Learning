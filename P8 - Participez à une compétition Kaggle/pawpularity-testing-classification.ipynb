{
 "cells": [
  {
   "cell_type": "code",
   "execution_count": 1,
   "id": "a7e10f58",
   "metadata": {
    "_cell_guid": "b1076dfc-b9ad-4769-8c92-a6c4dae69d19",
    "_uuid": "8f2839f25d086af736a60e9eeb907d3b93b6e0e5",
    "execution": {
     "iopub.execute_input": "2021-12-24T15:24:38.118766Z",
     "iopub.status.busy": "2021-12-24T15:24:38.116610Z",
     "iopub.status.idle": "2021-12-24T15:24:38.227373Z",
     "shell.execute_reply": "2021-12-24T15:24:38.226289Z",
     "shell.execute_reply.started": "2021-12-24T09:55:05.512825Z"
    },
    "papermill": {
     "duration": 0.16163,
     "end_time": "2021-12-24T15:24:38.227644",
     "exception": false,
     "start_time": "2021-12-24T15:24:38.066014",
     "status": "completed"
    },
    "tags": []
   },
   "outputs": [
    {
     "data": {
      "text/html": [
       "<div>\n",
       "<style scoped>\n",
       "    .dataframe tbody tr th:only-of-type {\n",
       "        vertical-align: middle;\n",
       "    }\n",
       "\n",
       "    .dataframe tbody tr th {\n",
       "        vertical-align: top;\n",
       "    }\n",
       "\n",
       "    .dataframe thead th {\n",
       "        text-align: right;\n",
       "    }\n",
       "</style>\n",
       "<table border=\"1\" class=\"dataframe\">\n",
       "  <thead>\n",
       "    <tr style=\"text-align: right;\">\n",
       "      <th></th>\n",
       "      <th>filename</th>\n",
       "      <th>Pawpularity</th>\n",
       "    </tr>\n",
       "  </thead>\n",
       "  <tbody>\n",
       "    <tr>\n",
       "      <th>0</th>\n",
       "      <td>0007de18844b0dbbb5e1f607da0606e0.jpg</td>\n",
       "      <td>63</td>\n",
       "    </tr>\n",
       "    <tr>\n",
       "      <th>1</th>\n",
       "      <td>0009c66b9439883ba2750fb825e1d7db.jpg</td>\n",
       "      <td>42</td>\n",
       "    </tr>\n",
       "    <tr>\n",
       "      <th>2</th>\n",
       "      <td>0013fd999caf9a3efe1352ca1b0d937e.jpg</td>\n",
       "      <td>28</td>\n",
       "    </tr>\n",
       "    <tr>\n",
       "      <th>3</th>\n",
       "      <td>0018df346ac9c1d8413cfcc888ca8246.jpg</td>\n",
       "      <td>15</td>\n",
       "    </tr>\n",
       "    <tr>\n",
       "      <th>4</th>\n",
       "      <td>001dc955e10590d3ca4673f034feeef2.jpg</td>\n",
       "      <td>72</td>\n",
       "    </tr>\n",
       "    <tr>\n",
       "      <th>...</th>\n",
       "      <td>...</td>\n",
       "      <td>...</td>\n",
       "    </tr>\n",
       "    <tr>\n",
       "      <th>9907</th>\n",
       "      <td>ffbfa0383c34dc513c95560d6e1fdb57.jpg</td>\n",
       "      <td>15</td>\n",
       "    </tr>\n",
       "    <tr>\n",
       "      <th>9908</th>\n",
       "      <td>ffcc8532d76436fc79e50eb2e5238e45.jpg</td>\n",
       "      <td>70</td>\n",
       "    </tr>\n",
       "    <tr>\n",
       "      <th>9909</th>\n",
       "      <td>ffdf2e8673a1da6fb80342fa3b119a20.jpg</td>\n",
       "      <td>20</td>\n",
       "    </tr>\n",
       "    <tr>\n",
       "      <th>9910</th>\n",
       "      <td>fff19e2ce11718548fa1c5d039a5192a.jpg</td>\n",
       "      <td>20</td>\n",
       "    </tr>\n",
       "    <tr>\n",
       "      <th>9911</th>\n",
       "      <td>fff8e47c766799c9e12f3cb3d66ad228.jpg</td>\n",
       "      <td>30</td>\n",
       "    </tr>\n",
       "  </tbody>\n",
       "</table>\n",
       "<p>9912 rows × 2 columns</p>\n",
       "</div>"
      ],
      "text/plain": [
       "                                  filename  Pawpularity\n",
       "0     0007de18844b0dbbb5e1f607da0606e0.jpg           63\n",
       "1     0009c66b9439883ba2750fb825e1d7db.jpg           42\n",
       "2     0013fd999caf9a3efe1352ca1b0d937e.jpg           28\n",
       "3     0018df346ac9c1d8413cfcc888ca8246.jpg           15\n",
       "4     001dc955e10590d3ca4673f034feeef2.jpg           72\n",
       "...                                    ...          ...\n",
       "9907  ffbfa0383c34dc513c95560d6e1fdb57.jpg           15\n",
       "9908  ffcc8532d76436fc79e50eb2e5238e45.jpg           70\n",
       "9909  ffdf2e8673a1da6fb80342fa3b119a20.jpg           20\n",
       "9910  fff19e2ce11718548fa1c5d039a5192a.jpg           20\n",
       "9911  fff8e47c766799c9e12f3cb3d66ad228.jpg           30\n",
       "\n",
       "[9912 rows x 2 columns]"
      ]
     },
     "execution_count": 1,
     "metadata": {},
     "output_type": "execute_result"
    }
   ],
   "source": [
    "import pandas as pd\n",
    "data = pd.read_csv(\"/kaggle/input/petfinder-pawpularity-score/train.csv\", sep=',')\n",
    "data['Id'] = data['Id'] + '.jpg'\n",
    "data = data.rename(columns={'Id': 'filename'})\n",
    "data = data.drop(columns=['Subject Focus', 'Eyes', 'Face', 'Near', 'Action', 'Accessory', 'Group', 'Collage', 'Human', 'Occlusion', 'Info', 'Blur'])\n",
    "data"
   ]
  },
  {
   "cell_type": "markdown",
   "id": "7f57c9f7",
   "metadata": {
    "papermill": {
     "duration": 0.039973,
     "end_time": "2021-12-24T15:24:38.322181",
     "exception": false,
     "start_time": "2021-12-24T15:24:38.282208",
     "status": "completed"
    },
    "tags": []
   },
   "source": [
    "On copie les fichiers du dataset dans une arbo de type classification"
   ]
  },
  {
   "cell_type": "code",
   "execution_count": 2,
   "id": "d970c20d",
   "metadata": {
    "execution": {
     "iopub.execute_input": "2021-12-24T15:24:38.408939Z",
     "iopub.status.busy": "2021-12-24T15:24:38.407699Z",
     "iopub.status.idle": "2021-12-24T15:25:28.948615Z",
     "shell.execute_reply": "2021-12-24T15:25:28.947921Z",
     "shell.execute_reply.started": "2021-12-24T09:55:05.607805Z"
    },
    "papermill": {
     "duration": 50.590045,
     "end_time": "2021-12-24T15:25:28.948773",
     "exception": false,
     "start_time": "2021-12-24T15:24:38.358728",
     "status": "completed"
    },
    "tags": []
   },
   "outputs": [],
   "source": [
    "dataset_dir = '/kaggle/input/petfinder-pawpularity-score/train'\n",
    "width, height = 512, 512\n",
    "batch_size = 32\n",
    "nb_classes = 5\n",
    "\n",
    "import os\n",
    "path = \"/kaggle/working/data\"\n",
    "if not os.path.exists(path):\n",
    "    os.mkdir(path)\n",
    "\n",
    "from shutil import copyfile\n",
    "for i in range(nb_classes):\n",
    "    mini = i * int(100 / nb_classes)\n",
    "    maxi = (i + 1) * int(100 / nb_classes)\n",
    "    class_data = data[(data['Pawpularity'] > mini) & (data['Pawpularity'] <= maxi)]\n",
    "    class_dir = os.path.join(path, str(mini) + '-' + str(maxi))\n",
    "    os.mkdir(class_dir)\n",
    "    for filename in class_data['filename']:\n",
    "        src = os.path.join(dataset_dir, filename)\n",
    "        dst = os.path.join(class_dir, filename)\n",
    "        copyfile(src, dst)"
   ]
  },
  {
   "cell_type": "code",
   "execution_count": 3,
   "id": "26b71196",
   "metadata": {
    "execution": {
     "iopub.execute_input": "2021-12-24T15:25:28.988852Z",
     "iopub.status.busy": "2021-12-24T15:25:28.987830Z",
     "iopub.status.idle": "2021-12-24T15:25:38.577224Z",
     "shell.execute_reply": "2021-12-24T15:25:38.576625Z",
     "shell.execute_reply.started": "2021-12-24T09:55:49.527885Z"
    },
    "papermill": {
     "duration": 9.611146,
     "end_time": "2021-12-24T15:25:38.577400",
     "exception": false,
     "start_time": "2021-12-24T15:25:28.966254",
     "status": "completed"
    },
    "tags": []
   },
   "outputs": [
    {
     "name": "stdout",
     "output_type": "stream",
     "text": [
      "Found 9912 files belonging to 5 classes.\n",
      "Using 7930 files for training.\n"
     ]
    },
    {
     "name": "stderr",
     "output_type": "stream",
     "text": [
      "2021-12-24 15:25:35.466646: I tensorflow/stream_executor/cuda/cuda_gpu_executor.cc:937] successful NUMA node read from SysFS had negative value (-1), but there must be at least one NUMA node, so returning NUMA node zero\n",
      "2021-12-24 15:25:35.576353: I tensorflow/stream_executor/cuda/cuda_gpu_executor.cc:937] successful NUMA node read from SysFS had negative value (-1), but there must be at least one NUMA node, so returning NUMA node zero\n",
      "2021-12-24 15:25:35.577376: I tensorflow/stream_executor/cuda/cuda_gpu_executor.cc:937] successful NUMA node read from SysFS had negative value (-1), but there must be at least one NUMA node, so returning NUMA node zero\n",
      "2021-12-24 15:25:35.581453: I tensorflow/core/platform/cpu_feature_guard.cc:142] This TensorFlow binary is optimized with oneAPI Deep Neural Network Library (oneDNN) to use the following CPU instructions in performance-critical operations:  AVX2 FMA\n",
      "To enable them in other operations, rebuild TensorFlow with the appropriate compiler flags.\n",
      "2021-12-24 15:25:35.582835: I tensorflow/stream_executor/cuda/cuda_gpu_executor.cc:937] successful NUMA node read from SysFS had negative value (-1), but there must be at least one NUMA node, so returning NUMA node zero\n",
      "2021-12-24 15:25:35.583888: I tensorflow/stream_executor/cuda/cuda_gpu_executor.cc:937] successful NUMA node read from SysFS had negative value (-1), but there must be at least one NUMA node, so returning NUMA node zero\n",
      "2021-12-24 15:25:35.584955: I tensorflow/stream_executor/cuda/cuda_gpu_executor.cc:937] successful NUMA node read from SysFS had negative value (-1), but there must be at least one NUMA node, so returning NUMA node zero\n",
      "2021-12-24 15:25:37.824517: I tensorflow/stream_executor/cuda/cuda_gpu_executor.cc:937] successful NUMA node read from SysFS had negative value (-1), but there must be at least one NUMA node, so returning NUMA node zero\n",
      "2021-12-24 15:25:37.825695: I tensorflow/stream_executor/cuda/cuda_gpu_executor.cc:937] successful NUMA node read from SysFS had negative value (-1), but there must be at least one NUMA node, so returning NUMA node zero\n",
      "2021-12-24 15:25:37.826652: I tensorflow/stream_executor/cuda/cuda_gpu_executor.cc:937] successful NUMA node read from SysFS had negative value (-1), but there must be at least one NUMA node, so returning NUMA node zero\n",
      "2021-12-24 15:25:37.827539: I tensorflow/core/common_runtime/gpu/gpu_device.cc:1510] Created device /job:localhost/replica:0/task:0/device:GPU:0 with 15403 MB memory:  -> device: 0, name: Tesla P100-PCIE-16GB, pci bus id: 0000:00:04.0, compute capability: 6.0\n"
     ]
    },
    {
     "name": "stdout",
     "output_type": "stream",
     "text": [
      "Found 9912 files belonging to 5 classes.\n",
      "Using 1982 files for validation.\n"
     ]
    }
   ],
   "source": [
    "from tensorflow.keras.utils import image_dataset_from_directory\n",
    "train_ds = image_dataset_from_directory(\n",
    "  path,\n",
    "  validation_split=0.2,\n",
    "  subset=\"training\",\n",
    "  seed=99,\n",
    "  image_size=(height, width),\n",
    "  batch_size=batch_size)\n",
    "val_ds = image_dataset_from_directory(\n",
    "  path,\n",
    "  validation_split=0.2,\n",
    "  subset=\"validation\",\n",
    "  seed=99,\n",
    "  image_size=(height, width),\n",
    "  batch_size=batch_size)"
   ]
  },
  {
   "cell_type": "code",
   "execution_count": 4,
   "id": "faa0d1dd",
   "metadata": {
    "execution": {
     "iopub.execute_input": "2021-12-24T15:25:38.620171Z",
     "iopub.status.busy": "2021-12-24T15:25:38.618956Z",
     "iopub.status.idle": "2021-12-24T15:25:38.622910Z",
     "shell.execute_reply": "2021-12-24T15:25:38.623417Z",
     "shell.execute_reply.started": "2021-12-24T09:55:59.28775Z"
    },
    "papermill": {
     "duration": 0.027917,
     "end_time": "2021-12-24T15:25:38.623559",
     "exception": false,
     "start_time": "2021-12-24T15:25:38.595642",
     "status": "completed"
    },
    "tags": []
   },
   "outputs": [],
   "source": [
    "from tensorflow.keras.callbacks import EarlyStopping, ModelCheckpoint\n",
    "early_stopping_callback = EarlyStopping(\n",
    "    monitor=\"accuracy\",\n",
    "    min_delta=1,  # sous les 1% de mieux, on patiente\n",
    "    patience=10,  # on patiente max 10 epochs\n",
    "    verbose=2,\n",
    "    mode=\"min\",\n",
    "    restore_best_weights=True\n",
    ")\n",
    "model_checkpoint_callback = ModelCheckpoint(\n",
    "    'efficientNet_reg.h5',\n",
    "    monitor=\"accuracy\",\n",
    "    verbose=0,\n",
    "    save_best_only=True,\n",
    "    mode=\"min\",\n",
    "    save_freq=\"epoch\"\n",
    ")\n",
    "callbacks = [early_stopping_callback, model_checkpoint_callback]"
   ]
  },
  {
   "cell_type": "code",
   "execution_count": 5,
   "id": "a30a390a",
   "metadata": {
    "execution": {
     "iopub.execute_input": "2021-12-24T15:25:38.670166Z",
     "iopub.status.busy": "2021-12-24T15:25:38.669408Z",
     "iopub.status.idle": "2021-12-24T15:25:38.726474Z",
     "shell.execute_reply": "2021-12-24T15:25:38.726983Z",
     "shell.execute_reply.started": "2021-12-24T09:55:59.306648Z"
    },
    "papermill": {
     "duration": 0.086271,
     "end_time": "2021-12-24T15:25:38.727178",
     "exception": false,
     "start_time": "2021-12-24T15:25:38.640907",
     "status": "completed"
    },
    "tags": []
   },
   "outputs": [],
   "source": [
    "import sys\n",
    "import os\n",
    "sys.path.insert(0, \"/kaggle/input/efnetv2src/efficientnet-v2-keras-main\")\n",
    "sys.path.append('../input/tfkeras-efficientnetsv2/')\n",
    "from efficientnet_v2 import EfficientNetV2XL"
   ]
  },
  {
   "cell_type": "code",
   "execution_count": 6,
   "id": "8bef74c0",
   "metadata": {
    "execution": {
     "iopub.execute_input": "2021-12-24T15:25:38.769918Z",
     "iopub.status.busy": "2021-12-24T15:25:38.766980Z",
     "iopub.status.idle": "2021-12-24T15:25:39.039042Z",
     "shell.execute_reply": "2021-12-24T15:25:39.038453Z",
     "shell.execute_reply.started": "2021-12-24T09:55:59.400762Z"
    },
    "papermill": {
     "duration": 0.293413,
     "end_time": "2021-12-24T15:25:39.039205",
     "exception": false,
     "start_time": "2021-12-24T15:25:38.745792",
     "status": "completed"
    },
    "tags": []
   },
   "outputs": [],
   "source": [
    "from tensorflow.keras.models import Sequential\n",
    "from tensorflow.keras.layers import RandomFlip, RandomRotation, RandomZoom, RandomTranslation, RandomContrast\n",
    "data_augmentation = Sequential([\n",
    "  RandomFlip(\"horizontal\", input_shape=(height, width, 3)),\n",
    "  RandomRotation(factor=0.4, fill_mode=\"wrap\"),\n",
    "  RandomZoom(0.2),\n",
    "  RandomTranslation(height_factor=0.2, width_factor=0.2, fill_mode=\"wrap\"),\n",
    "  RandomContrast(factor=0.2)\n",
    "])"
   ]
  },
  {
   "cell_type": "code",
   "execution_count": 7,
   "id": "94d30c04",
   "metadata": {
    "execution": {
     "iopub.execute_input": "2021-12-24T15:25:39.079852Z",
     "iopub.status.busy": "2021-12-24T15:25:39.078795Z",
     "iopub.status.idle": "2021-12-24T15:26:04.572881Z",
     "shell.execute_reply": "2021-12-24T15:26:04.573831Z",
     "shell.execute_reply.started": "2021-12-24T09:55:59.683037Z"
    },
    "papermill": {
     "duration": 25.516578,
     "end_time": "2021-12-24T15:26:04.574137",
     "exception": false,
     "start_time": "2021-12-24T15:25:39.057559",
     "status": "completed"
    },
    "tags": []
   },
   "outputs": [],
   "source": [
    "from tensorflow.keras import Input, Model\n",
    "from tensorflow.keras.layers import Dense, GlobalAveragePooling2D, BatchNormalization, Dropout\n",
    "from tensorflow.keras.metrics import MeanAbsoluteError, MeanAbsolutePercentageError\n",
    "from tensorflow.keras.losses import SparseCategoricalCrossentropy\n",
    "import tensorflow_addons as tfa\n",
    "\n",
    "efficientnet = EfficientNetV2XL(\n",
    "    include_top=False,\n",
    "    weights='../input/tfkeras-efficientnetsv2/21_ft1k_notop/efficientnetv2-xl-21k-ft1k_notop.h5', \n",
    "    input_shape=(height, width, 3),\n",
    "    classes=nb_classes\n",
    ")\n",
    "efficientnet.trainable = False\n",
    "\n",
    "inputs = Input(shape=(height, width, 3))\n",
    "x = data_augmentation(inputs)\n",
    "x = efficientnet(x, training=False)\n",
    "x = GlobalAveragePooling2D()(x)\n",
    "x = BatchNormalization()(x)\n",
    "x = Dropout(0.2)(x)\n",
    "class1 = Dense(1920, activation='relu')(x)\n",
    "outputs = Dense(nb_classes, activation='softmax')(class1)\n",
    "efficientnet = Model(inputs, outputs)\n",
    "\n",
    "radam = tfa.optimizers.RectifiedAdam(learning_rate=0.01)\n",
    "optimizer = tfa.optimizers.Lookahead(radam, sync_period=6, slow_step_size=0.5)\n",
    "\n",
    "efficientnet.compile(optimizer=optimizer,\n",
    "              loss=SparseCategoricalCrossentropy(),\n",
    "              metrics=['accuracy'])"
   ]
  },
  {
   "cell_type": "code",
   "execution_count": 8,
   "id": "189a5eef",
   "metadata": {
    "execution": {
     "iopub.execute_input": "2021-12-24T15:26:04.649293Z",
     "iopub.status.busy": "2021-12-24T15:26:04.647155Z",
     "iopub.status.idle": "2021-12-24T16:52:44.951468Z",
     "shell.execute_reply": "2021-12-24T16:52:44.949937Z",
     "shell.execute_reply.started": "2021-12-24T09:56:28.241523Z"
    },
    "papermill": {
     "duration": 5200.345827,
     "end_time": "2021-12-24T16:52:44.951621",
     "exception": false,
     "start_time": "2021-12-24T15:26:04.605794",
     "status": "completed"
    },
    "tags": []
   },
   "outputs": [
    {
     "name": "stdout",
     "output_type": "stream",
     "text": [
      "Epoch 1/100\n"
     ]
    },
    {
     "name": "stderr",
     "output_type": "stream",
     "text": [
      "2021-12-24 15:26:19.361892: I tensorflow/compiler/mlir/mlir_graph_optimization_pass.cc:185] None of the MLIR Optimization Passes are enabled (registered 2)\n",
      "2021-12-24 15:26:41.512230: I tensorflow/stream_executor/cuda/cuda_dnn.cc:369] Loaded cuDNN version 8005\n"
     ]
    },
    {
     "name": "stdout",
     "output_type": "stream",
     "text": [
      "248/248 [==============================] - 494s 2s/step - loss: 1.9515 - accuracy: 0.3936 - val_loss: 1.6405 - val_accuracy: 0.3214\n"
     ]
    },
    {
     "name": "stderr",
     "output_type": "stream",
     "text": [
      "/opt/conda/lib/python3.7/site-packages/keras/utils/generic_utils.py:497: CustomMaskWarning: Custom mask layers require a config and must override get_config. When loading, the custom mask layer must be passed to the custom_objects argument.\n",
      "  category=CustomMaskWarning)\n"
     ]
    },
    {
     "name": "stdout",
     "output_type": "stream",
     "text": [
      "Epoch 2/100\n",
      "248/248 [==============================] - 441s 2s/step - loss: 1.5130 - accuracy: 0.4390 - val_loss: 1.5545 - val_accuracy: 0.5071\n",
      "Epoch 3/100\n",
      "248/248 [==============================] - 442s 2s/step - loss: 1.4205 - accuracy: 0.4731 - val_loss: 1.4417 - val_accuracy: 0.5212\n",
      "Epoch 4/100\n",
      "248/248 [==============================] - 442s 2s/step - loss: 1.3716 - accuracy: 0.5047 - val_loss: 1.3910 - val_accuracy: 0.5116\n",
      "Epoch 5/100\n",
      "248/248 [==============================] - 445s 2s/step - loss: 1.3554 - accuracy: 0.5084 - val_loss: 1.3379 - val_accuracy: 0.5197\n",
      "Epoch 6/100\n",
      "248/248 [==============================] - 442s 2s/step - loss: 1.3329 - accuracy: 0.5117 - val_loss: 1.3168 - val_accuracy: 0.5212\n",
      "Epoch 7/100\n",
      "248/248 [==============================] - 444s 2s/step - loss: 1.3235 - accuracy: 0.5124 - val_loss: 1.3182 - val_accuracy: 0.5202\n",
      "Epoch 8/100\n",
      "248/248 [==============================] - 442s 2s/step - loss: 1.3216 - accuracy: 0.5127 - val_loss: 1.3502 - val_accuracy: 0.5030\n",
      "Epoch 9/100\n",
      "248/248 [==============================] - 444s 2s/step - loss: 1.3155 - accuracy: 0.5145 - val_loss: 1.2970 - val_accuracy: 0.5217\n",
      "Epoch 10/100\n",
      "248/248 [==============================] - 443s 2s/step - loss: 1.3096 - accuracy: 0.5146 - val_loss: 1.2994 - val_accuracy: 0.5207\n",
      "Epoch 11/100\n",
      "248/248 [==============================] - 443s 2s/step - loss: 1.3065 - accuracy: 0.5151 - val_loss: 1.3159 - val_accuracy: 0.5106\n",
      "Restoring model weights from the end of the best epoch.\n",
      "Epoch 00011: early stopping\n"
     ]
    }
   ],
   "source": [
    "epochs = 100\n",
    "history_efficientnet = efficientnet.fit(\n",
    "    train_ds,\n",
    "    validation_data=val_ds,\n",
    "    epochs=epochs,\n",
    "    callbacks=callbacks\n",
    ")"
   ]
  },
  {
   "cell_type": "code",
   "execution_count": 9,
   "id": "4c819cc2",
   "metadata": {
    "execution": {
     "iopub.execute_input": "2021-12-24T16:52:46.716627Z",
     "iopub.status.busy": "2021-12-24T16:52:46.715486Z",
     "iopub.status.idle": "2021-12-24T16:52:46.720574Z",
     "shell.execute_reply": "2021-12-24T16:52:46.719910Z",
     "shell.execute_reply.started": "2021-12-24T11:19:01.089382Z"
    },
    "papermill": {
     "duration": 0.900455,
     "end_time": "2021-12-24T16:52:46.720718",
     "exception": false,
     "start_time": "2021-12-24T16:52:45.820263",
     "status": "completed"
    },
    "tags": []
   },
   "outputs": [
    {
     "data": {
      "text/plain": [
       "{'loss': [1.951527714729309,\n",
       "  1.5129846334457397,\n",
       "  1.4204820394515991,\n",
       "  1.3715840578079224,\n",
       "  1.3554441928863525,\n",
       "  1.332891821861267,\n",
       "  1.3235245943069458,\n",
       "  1.321589708328247,\n",
       "  1.3154975175857544,\n",
       "  1.3095518350601196,\n",
       "  1.30648934841156],\n",
       " 'accuracy': [0.3935687243938446,\n",
       "  0.43896594643592834,\n",
       "  0.4731399714946747,\n",
       "  0.5046658515930176,\n",
       "  0.5084488987922668,\n",
       "  0.5117276310920715,\n",
       "  0.5123581290245056,\n",
       "  0.512736439704895,\n",
       "  0.5145018696784973,\n",
       "  0.514627993106842,\n",
       "  0.5151324272155762],\n",
       " 'val_loss': [1.6404861211776733,\n",
       "  1.5545486211776733,\n",
       "  1.441666841506958,\n",
       "  1.3910144567489624,\n",
       "  1.337875485420227,\n",
       "  1.3168295621871948,\n",
       "  1.3182319402694702,\n",
       "  1.350171446800232,\n",
       "  1.2970472574234009,\n",
       "  1.2994139194488525,\n",
       "  1.3158636093139648],\n",
       " 'val_accuracy': [0.3213925361633301,\n",
       "  0.5070635676383972,\n",
       "  0.5211907029151917,\n",
       "  0.5116044282913208,\n",
       "  0.5196771025657654,\n",
       "  0.5211907029151917,\n",
       "  0.5201816558837891,\n",
       "  0.5030272603034973,\n",
       "  0.5216952562332153,\n",
       "  0.520686149597168,\n",
       "  0.5105953812599182]}"
      ]
     },
     "execution_count": 9,
     "metadata": {},
     "output_type": "execute_result"
    }
   ],
   "source": [
    "history_efficientnet.history"
   ]
  },
  {
   "cell_type": "code",
   "execution_count": 10,
   "id": "611c9e16",
   "metadata": {
    "execution": {
     "iopub.execute_input": "2021-12-24T16:52:48.552735Z",
     "iopub.status.busy": "2021-12-24T16:52:48.551959Z",
     "iopub.status.idle": "2021-12-24T16:52:50.048184Z",
     "shell.execute_reply": "2021-12-24T16:52:50.048780Z",
     "shell.execute_reply.started": "2021-12-24T11:19:01.104087Z"
    },
    "papermill": {
     "duration": 2.412581,
     "end_time": "2021-12-24T16:52:50.049040",
     "exception": false,
     "start_time": "2021-12-24T16:52:47.636459",
     "status": "completed"
    },
    "tags": []
   },
   "outputs": [
    {
     "data": {
      "image/png": "[encoded data removed]",
      "text/plain": [
       "<Figure size 720x360 with 2 Axes>"
      ]
     },
     "metadata": {
      "needs_background": "light"
     },
     "output_type": "display_data"
    }
   ],
   "source": [
    "import matplotlib.pyplot as plt\n",
    "\n",
    "dict1 = {\n",
    "    \"accuracy\": history_efficientnet.history[\"accuracy\"],\n",
    "    \"type\": \"training\"\n",
    "}\n",
    "dict2 = {\n",
    "    \"accuracy\": history_efficientnet.history[\"accuracy\"],\n",
    "    \"type\": \"validation\"\n",
    "}\n",
    "s1 = pd.DataFrame(dict1)\n",
    "s2 = pd.DataFrame(dict2)\n",
    "df = pd.concat([s1, s2], axis=0).reset_index()\n",
    "import seaborn as sns\n",
    "grid = sns.relplot(\n",
    "    data=df,\n",
    "    x=df[\"index\"],\n",
    "    y=\"accuracy\",\n",
    "    col=\"type\",\n",
    "    kind=\"line\"\n",
    ")\n",
    "for ax in grid.axes.flat:\n",
    "    ax.set(xlabel=\"Epoch\")\n",
    "plt.show()"
   ]
  },
  {
   "cell_type": "code",
   "execution_count": 11,
   "id": "f3b828a9",
   "metadata": {
    "execution": {
     "iopub.execute_input": "2021-12-24T16:52:51.784969Z",
     "iopub.status.busy": "2021-12-24T16:52:51.783872Z",
     "iopub.status.idle": "2021-12-24T16:52:51.787322Z",
     "shell.execute_reply": "2021-12-24T16:52:51.786784Z",
     "shell.execute_reply.started": "2021-12-24T11:19:02.39327Z"
    },
    "papermill": {
     "duration": 0.87542,
     "end_time": "2021-12-24T16:52:51.787448",
     "exception": false,
     "start_time": "2021-12-24T16:52:50.912028",
     "status": "completed"
    },
    "tags": []
   },
   "outputs": [],
   "source": [
    "import tensorflow as tf\n",
    "def preprocess(image):\n",
    "    return (tf.cast(image, dtype=tf.float32) - 128.00) / 128.00"
   ]
  },
  {
   "cell_type": "code",
   "execution_count": 12,
   "id": "e64e5b3c",
   "metadata": {
    "execution": {
     "iopub.execute_input": "2021-12-24T16:52:53.607660Z",
     "iopub.status.busy": "2021-12-24T16:52:53.606850Z",
     "iopub.status.idle": "2021-12-24T16:52:53.610161Z",
     "shell.execute_reply": "2021-12-24T16:52:53.610658Z",
     "shell.execute_reply.started": "2021-12-24T11:19:02.40198Z"
    },
    "papermill": {
     "duration": 0.91565,
     "end_time": "2021-12-24T16:52:53.610807",
     "exception": false,
     "start_time": "2021-12-24T16:52:52.695157",
     "status": "completed"
    },
    "tags": []
   },
   "outputs": [
    {
     "data": {
      "text/plain": [
       "['0-20', '20-40', '40-60', '60-80', '80-100']"
      ]
     },
     "execution_count": 12,
     "metadata": {},
     "output_type": "execute_result"
    }
   ],
   "source": [
    "train_ds.class_names"
   ]
  },
  {
   "cell_type": "code",
   "execution_count": 13,
   "id": "9b4000a6",
   "metadata": {
    "execution": {
     "iopub.execute_input": "2021-12-24T16:52:55.510864Z",
     "iopub.status.busy": "2021-12-24T16:52:55.509880Z",
     "iopub.status.idle": "2021-12-24T16:53:05.258235Z",
     "shell.execute_reply": "2021-12-24T16:53:05.257499Z",
     "shell.execute_reply.started": "2021-12-24T11:38:18.072325Z"
    },
    "papermill": {
     "duration": 10.757944,
     "end_time": "2021-12-24T16:53:05.258388",
     "exception": false,
     "start_time": "2021-12-24T16:52:54.500444",
     "status": "completed"
    },
    "tags": []
   },
   "outputs": [],
   "source": [
    "import os\n",
    "import numpy as np\n",
    "from PIL import Image\n",
    "test_dir = '/kaggle/input/petfinder-pawpularity-score/test'\n",
    "ids = []\n",
    "pawpularities = []\n",
    "for test_image in os.listdir(test_dir):\n",
    "    image_path = os.path.join(test_dir, test_image)\n",
    "    id_image = test_image.split('.')[0]\n",
    "    ids.append(id_image)\n",
    "    img = Image.open(image_path) \n",
    "    img = img.resize((width, height))\n",
    "    img = preprocess(np.array(img).reshape(1, width, height, 3))\n",
    "    preds = efficientnet.predict(img)\n",
    "    top_indice = preds[0].argsort()[-1]\n",
    "    result = train_ds.class_names[top_indice]\n",
    "    pawpularities.append(result)"
   ]
  },
  {
   "cell_type": "code",
   "execution_count": 14,
   "id": "c8f7e7df",
   "metadata": {
    "execution": {
     "iopub.execute_input": "2021-12-24T16:53:06.992969Z",
     "iopub.status.busy": "2021-12-24T16:53:06.992130Z",
     "iopub.status.idle": "2021-12-24T16:53:07.542431Z",
     "shell.execute_reply": "2021-12-24T16:53:07.541638Z",
     "shell.execute_reply.started": "2021-12-24T11:38:30.938364Z"
    },
    "papermill": {
     "duration": 1.42617,
     "end_time": "2021-12-24T16:53:07.542578",
     "exception": false,
     "start_time": "2021-12-24T16:53:06.116408",
     "status": "completed"
    },
    "tags": []
   },
   "outputs": [
    {
     "name": "stdout",
     "output_type": "stream",
     "text": [
      "RMSE for CatBoost:  20.470036456990314\n",
      "Execution time for CatBoost (in Seconds): 0.18465614318847656\n",
      "r2_score : -0.00\n"
     ]
    }
   ],
   "source": [
    "data = pd.read_csv(\"/kaggle/input/petfinder-pawpularity-score/train.csv\", sep=',')\n",
    "X = data.drop(columns=['Id', 'Pawpularity'])\n",
    "y = data['Pawpularity']\n",
    "from sklearn.model_selection import train_test_split, GridSearchCV, ParameterGrid\n",
    "X_train, X_test, y_train, y_test = train_test_split(X, y, test_size=0.20, \n",
    "                                                    random_state=1)\n",
    "from catboost import CatBoostRegressor\n",
    "import time\n",
    "start = time.time()\n",
    "\n",
    "cb = CatBoostRegressor(depth=5,\n",
    "                       learning_rate=0.01,\n",
    "                       n_estimators=50,\n",
    "                       loss_function='RMSE',\n",
    "                       task_type='CPU',\n",
    "                       verbose=False)\n",
    "\n",
    "cb.fit(X_train, y_train)\n",
    "y_pred = cb.predict(X_test)\n",
    "\n",
    "import numpy as np\n",
    "from sklearn.metrics import r2_score\n",
    "from sklearn.metrics import mean_squared_error as mse\n",
    "\n",
    "cb_rmse = np.sqrt(mse(y_test, y_pred))\n",
    "print(\"RMSE for CatBoost: \", np.mean(cb_rmse))\n",
    "\n",
    "end = time.time()\n",
    "diff = end - start\n",
    "print('Execution time for CatBoost (in Seconds):', diff)\n",
    "\n",
    "print(\"r2_score : {:.2f}\".format(r2_score(y_test, y_pred)))"
   ]
  },
  {
   "cell_type": "code",
   "execution_count": 15,
   "id": "c80aaf3d",
   "metadata": {
    "execution": {
     "iopub.execute_input": "2021-12-24T16:53:09.263878Z",
     "iopub.status.busy": "2021-12-24T16:53:09.263249Z",
     "iopub.status.idle": "2021-12-24T16:53:10.527526Z",
     "shell.execute_reply": "2021-12-24T16:53:10.528271Z",
     "shell.execute_reply.started": "2021-12-24T11:40:42.721431Z"
    },
    "papermill": {
     "duration": 2.132198,
     "end_time": "2021-12-24T16:53:10.528479",
     "exception": false,
     "start_time": "2021-12-24T16:53:08.396281",
     "status": "completed"
    },
    "tags": []
   },
   "outputs": [
    {
     "name": "stdout",
     "output_type": "stream",
     "text": [
      "                                 Id Pawpularity\n",
      "0  c978013571258ed6d4637f6e8cc9d6a3        0-20\n",
      "1  4e429cead1848a298432a0acad014c9d        0-20\n",
      "2  43a2262d7738e3d420d453815151079e        0-20\n",
      "3  8f49844c382931444e68dffbe20228f4        0-20\n",
      "4  4128bae22183829d2b5fea10effdb0c3        0-20\n",
      "5  80bc3ccafcc51b66303c2c263aa38486        0-20\n",
      "6  e0de453c1bffc20c22b072b34b54e50f        0-20\n",
      "7  b03f7041962238a7c9d6537e22f9b017        0-20\n",
      "shape X_sub:  (8, 12)\n"
     ]
    }
   ],
   "source": [
    "sub_df = pd.read_csv(\"/kaggle/input/petfinder-pawpularity-score/test.csv\", sep=',')\n",
    "X_sub = sub_df.drop(columns=['Id'])\n",
    "\n",
    "test_dir = '/kaggle/input/petfinder-pawpularity-score/test'\n",
    "ids = []\n",
    "pawpularities = []\n",
    "for test_image in os.listdir(test_dir):\n",
    "    image_path = os.path.join(test_dir, test_image)\n",
    "    id_image = test_image.split('.')[0]\n",
    "    ids.append(id_image)\n",
    "    img = Image.open(image_path) \n",
    "    img = img.resize((width, height))\n",
    "    img = preprocess(np.array(img).reshape(1, width, height, 3))\n",
    "    preds = efficientnet.predict(img)\n",
    "    top_indice = preds[0].argsort()[-1]\n",
    "    result = train_ds.class_names[top_indice]\n",
    "    pawpularities.append(result)\n",
    "\n",
    "img_dict = {\n",
    "    'Id': ids,\n",
    "    'Pawpularity': pawpularities\n",
    "}\n",
    "img_df = pd.DataFrame(img_dict)\n",
    "print(img_df)\n",
    "\n",
    "print(\"shape X_sub: \", X_sub.shape)\n",
    "y_sub = cb.predict(X_sub)\n",
    "y_sub = [round(x) for x in y_sub]\n",
    "sub_df['Pawpularity'] = y_sub\n",
    "sub_df = sub_df.drop(columns=['Subject Focus', 'Eyes', 'Face', 'Near', 'Action', 'Accessory', 'Group', 'Collage', 'Human', 'Occlusion', 'Info', 'Blur'])"
   ]
  },
  {
   "cell_type": "code",
   "execution_count": 16,
   "id": "f4444b16",
   "metadata": {
    "execution": {
     "iopub.execute_input": "2021-12-24T16:53:12.602352Z",
     "iopub.status.busy": "2021-12-24T16:53:12.595250Z",
     "iopub.status.idle": "2021-12-24T16:53:12.635780Z",
     "shell.execute_reply": "2021-12-24T16:53:12.636548Z",
     "shell.execute_reply.started": "2021-12-24T11:44:36.82155Z"
    },
    "papermill": {
     "duration": 0.928645,
     "end_time": "2021-12-24T16:53:12.636734",
     "exception": false,
     "start_time": "2021-12-24T16:53:11.708089",
     "status": "completed"
    },
    "tags": []
   },
   "outputs": [
    {
     "name": "stdout",
     "output_type": "stream",
     "text": [
      "                                 Id  Pawpularity\n",
      "0  4128bae22183829d2b5fea10effdb0c3           39\n",
      "1  43a2262d7738e3d420d453815151079e           38\n",
      "2  4e429cead1848a298432a0acad014c9d           38\n",
      "3  80bc3ccafcc51b66303c2c263aa38486           37\n",
      "4  8f49844c382931444e68dffbe20228f4           37\n",
      "5  b03f7041962238a7c9d6537e22f9b017           39\n",
      "6  c978013571258ed6d4637f6e8cc9d6a3           38\n",
      "7  e0de453c1bffc20c22b072b34b54e50f           37\n",
      "39 0 20\n",
      "=> 34\n",
      "38 0 20\n",
      "=> 34\n",
      "38 0 20\n",
      "=> 34\n",
      "37 0 20\n",
      "=> 33\n",
      "37 0 20\n",
      "=> 33\n",
      "39 0 20\n",
      "=> 34\n",
      "38 0 20\n",
      "=> 34\n",
      "37 0 20\n",
      "=> 33\n",
      "                                 Id  Pawpularity\n",
      "0  4128bae22183829d2b5fea10effdb0c3           34\n",
      "1  43a2262d7738e3d420d453815151079e           34\n",
      "2  4e429cead1848a298432a0acad014c9d           34\n",
      "3  80bc3ccafcc51b66303c2c263aa38486           33\n",
      "4  8f49844c382931444e68dffbe20228f4           33\n",
      "5  b03f7041962238a7c9d6537e22f9b017           34\n",
      "6  c978013571258ed6d4637f6e8cc9d6a3           34\n",
      "7  e0de453c1bffc20c22b072b34b54e50f           33\n"
     ]
    }
   ],
   "source": [
    "print(sub_df)\n",
    "for id_img in sub_df['Id']:\n",
    "    result = img_df[img_df['Id'] == id_img]['Pawpularity']\n",
    "    result = result.values[0]\n",
    "    mini = int(result.split('-')[0])\n",
    "    maxi = int(result.split('-')[1])\n",
    "    p = sub_df[sub_df['Id'] == id_img]['Pawpularity'].values[0]\n",
    "    print(p, mini, maxi)\n",
    "    if p < mini:\n",
    "        p = int(round(p + (mini - p) / 4))\n",
    "    if p > maxi:\n",
    "        p = int(round(p - (p - maxi) / 4))\n",
    "    print(\"=>\", p)\n",
    "    sub_df.at[sub_df['Id'] == id_img, 'Pawpularity'] = p\n",
    "    \n",
    "print(sub_df)\n",
    "sub_df.to_csv('submission.csv', index=False, sep=',')"
   ]
  },
  {
   "cell_type": "code",
   "execution_count": 17,
   "id": "a1467c96",
   "metadata": {
    "execution": {
     "iopub.execute_input": "2021-12-24T16:53:14.362836Z",
     "iopub.status.busy": "2021-12-24T16:53:14.361687Z",
     "iopub.status.idle": "2021-12-24T16:53:14.793719Z",
     "shell.execute_reply": "2021-12-24T16:53:14.793090Z"
    },
    "papermill": {
     "duration": 1.287867,
     "end_time": "2021-12-24T16:53:14.793861",
     "exception": false,
     "start_time": "2021-12-24T16:53:13.505994",
     "status": "completed"
    },
    "tags": []
   },
   "outputs": [],
   "source": [
    "import shutil\n",
    "import os\n",
    "\n",
    "os.remove('efficientNet_reg.h5')\n",
    "shutil.rmtree(\"/kaggle/working/data\")\n",
    "shutil.rmtree(\"catboost_info\")"
   ]
  }
 ],
 "metadata": {
  "kernelspec": {
   "display_name": "Python 3",
   "language": "python",
   "name": "python3"
  },
  "language_info": {
   "codemirror_mode": {
    "name": "ipython",
    "version": 3
   },
   "file_extension": ".py",
   "mimetype": "text/x-python",
   "name": "python",
   "nbconvert_exporter": "python",
   "pygments_lexer": "ipython3",
   "version": "3.7.12"
  },
  "papermill": {
   "default_parameters": {},
   "duration": 5330.474551,
   "end_time": "2021-12-24T16:53:18.818105",
   "environment_variables": {},
   "exception": null,
   "input_path": "__notebook__.ipynb",
   "output_path": "__notebook__.ipynb",
   "parameters": {},
   "start_time": "2021-12-24T15:24:28.343554",
   "version": "2.3.3"
  }
 },
 "nbformat": 4,
 "nbformat_minor": 5
}
