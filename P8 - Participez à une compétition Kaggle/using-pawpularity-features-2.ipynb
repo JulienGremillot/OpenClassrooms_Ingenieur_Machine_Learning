{
 "cells": [
  {
   "cell_type": "code",
   "execution_count": 1,
   "id": "3c35b3dc",
   "metadata": {
    "_cell_guid": "b1076dfc-b9ad-4769-8c92-a6c4dae69d19",
    "_uuid": "8f2839f25d086af736a60e9eeb907d3b93b6e0e5",
    "execution": {
     "iopub.execute_input": "2021-12-20T22:13:11.662431Z",
     "iopub.status.busy": "2021-12-20T22:13:11.660611Z",
     "iopub.status.idle": "2021-12-20T22:13:59.464608Z",
     "shell.execute_reply": "2021-12-20T22:13:59.463872Z",
     "shell.execute_reply.started": "2021-12-20T17:18:43.791532Z"
    },
    "papermill": {
     "duration": 47.832499,
     "end_time": "2021-12-20T22:13:59.464780",
     "exception": false,
     "start_time": "2021-12-20T22:13:11.632281",
     "status": "completed"
    },
    "tags": []
   },
   "outputs": [
    {
     "name": "stdout",
     "output_type": "stream",
     "text": [
      "Temps écoulé : 47.73\n"
     ]
    },
    {
     "data": {
      "text/html": [
       "<div>\n",
       "<style scoped>\n",
       "    .dataframe tbody tr th:only-of-type {\n",
       "        vertical-align: middle;\n",
       "    }\n",
       "\n",
       "    .dataframe tbody tr th {\n",
       "        vertical-align: top;\n",
       "    }\n",
       "\n",
       "    .dataframe thead th {\n",
       "        text-align: right;\n",
       "    }\n",
       "</style>\n",
       "<table border=\"1\" class=\"dataframe\">\n",
       "  <thead>\n",
       "    <tr style=\"text-align: right;\">\n",
       "      <th></th>\n",
       "      <th>0</th>\n",
       "      <th>1</th>\n",
       "      <th>2</th>\n",
       "      <th>3</th>\n",
       "      <th>4</th>\n",
       "      <th>5</th>\n",
       "      <th>6</th>\n",
       "      <th>7</th>\n",
       "      <th>8</th>\n",
       "      <th>9</th>\n",
       "      <th>...</th>\n",
       "      <th>62722</th>\n",
       "      <th>62723</th>\n",
       "      <th>62724</th>\n",
       "      <th>62725</th>\n",
       "      <th>62726</th>\n",
       "      <th>62727</th>\n",
       "      <th>62728</th>\n",
       "      <th>62729</th>\n",
       "      <th>62730</th>\n",
       "      <th>62731</th>\n",
       "    </tr>\n",
       "  </thead>\n",
       "  <tbody>\n",
       "    <tr>\n",
       "      <th>0</th>\n",
       "      <td>0</td>\n",
       "      <td>1</td>\n",
       "      <td>1</td>\n",
       "      <td>1</td>\n",
       "      <td>0</td>\n",
       "      <td>0</td>\n",
       "      <td>1</td>\n",
       "      <td>0</td>\n",
       "      <td>0</td>\n",
       "      <td>0</td>\n",
       "      <td>...</td>\n",
       "      <td>-1.688457e-11</td>\n",
       "      <td>-0.002236</td>\n",
       "      <td>-0.019697</td>\n",
       "      <td>6.138978</td>\n",
       "      <td>37.496304</td>\n",
       "      <td>-7.124449e-10</td>\n",
       "      <td>2.135291</td>\n",
       "      <td>-0.000004</td>\n",
       "      <td>-1.635739e-14</td>\n",
       "      <td>-0.159953</td>\n",
       "    </tr>\n",
       "    <tr>\n",
       "      <th>1</th>\n",
       "      <td>0</td>\n",
       "      <td>1</td>\n",
       "      <td>1</td>\n",
       "      <td>0</td>\n",
       "      <td>0</td>\n",
       "      <td>0</td>\n",
       "      <td>0</td>\n",
       "      <td>0</td>\n",
       "      <td>0</td>\n",
       "      <td>0</td>\n",
       "      <td>...</td>\n",
       "      <td>-1.468612e-11</td>\n",
       "      <td>-0.000810</td>\n",
       "      <td>-0.009978</td>\n",
       "      <td>6.797769</td>\n",
       "      <td>36.680656</td>\n",
       "      <td>-4.828979e-10</td>\n",
       "      <td>1.992804</td>\n",
       "      <td>-0.000002</td>\n",
       "      <td>-1.420318e-14</td>\n",
       "      <td>-0.120112</td>\n",
       "    </tr>\n",
       "    <tr>\n",
       "      <th>2</th>\n",
       "      <td>0</td>\n",
       "      <td>1</td>\n",
       "      <td>1</td>\n",
       "      <td>1</td>\n",
       "      <td>0</td>\n",
       "      <td>0</td>\n",
       "      <td>0</td>\n",
       "      <td>0</td>\n",
       "      <td>1</td>\n",
       "      <td>1</td>\n",
       "      <td>...</td>\n",
       "      <td>-9.352968e-11</td>\n",
       "      <td>-0.004833</td>\n",
       "      <td>-0.020676</td>\n",
       "      <td>7.370453</td>\n",
       "      <td>39.557130</td>\n",
       "      <td>-1.420247e-09</td>\n",
       "      <td>2.103800</td>\n",
       "      <td>-0.000012</td>\n",
       "      <td>-2.998134e-14</td>\n",
       "      <td>-0.196348</td>\n",
       "    </tr>\n",
       "    <tr>\n",
       "      <th>3</th>\n",
       "      <td>0</td>\n",
       "      <td>1</td>\n",
       "      <td>1</td>\n",
       "      <td>1</td>\n",
       "      <td>0</td>\n",
       "      <td>0</td>\n",
       "      <td>0</td>\n",
       "      <td>0</td>\n",
       "      <td>0</td>\n",
       "      <td>0</td>\n",
       "      <td>...</td>\n",
       "      <td>-3.073597e-11</td>\n",
       "      <td>-0.002168</td>\n",
       "      <td>-0.016478</td>\n",
       "      <td>6.751638</td>\n",
       "      <td>38.550850</td>\n",
       "      <td>-7.190994e-10</td>\n",
       "      <td>2.122260</td>\n",
       "      <td>-0.000005</td>\n",
       "      <td>-1.738771e-14</td>\n",
       "      <td>-0.168751</td>\n",
       "    </tr>\n",
       "    <tr>\n",
       "      <th>4</th>\n",
       "      <td>0</td>\n",
       "      <td>0</td>\n",
       "      <td>0</td>\n",
       "      <td>1</td>\n",
       "      <td>0</td>\n",
       "      <td>0</td>\n",
       "      <td>1</td>\n",
       "      <td>0</td>\n",
       "      <td>0</td>\n",
       "      <td>0</td>\n",
       "      <td>...</td>\n",
       "      <td>-1.126881e-11</td>\n",
       "      <td>-0.002349</td>\n",
       "      <td>-0.015439</td>\n",
       "      <td>5.904394</td>\n",
       "      <td>37.275562</td>\n",
       "      <td>-4.514170e-10</td>\n",
       "      <td>2.095064</td>\n",
       "      <td>-0.000005</td>\n",
       "      <td>-3.069000e-14</td>\n",
       "      <td>-0.153185</td>\n",
       "    </tr>\n",
       "    <tr>\n",
       "      <th>...</th>\n",
       "      <td>...</td>\n",
       "      <td>...</td>\n",
       "      <td>...</td>\n",
       "      <td>...</td>\n",
       "      <td>...</td>\n",
       "      <td>...</td>\n",
       "      <td>...</td>\n",
       "      <td>...</td>\n",
       "      <td>...</td>\n",
       "      <td>...</td>\n",
       "      <td>...</td>\n",
       "      <td>...</td>\n",
       "      <td>...</td>\n",
       "      <td>...</td>\n",
       "      <td>...</td>\n",
       "      <td>...</td>\n",
       "      <td>...</td>\n",
       "      <td>...</td>\n",
       "      <td>...</td>\n",
       "      <td>...</td>\n",
       "      <td>...</td>\n",
       "    </tr>\n",
       "    <tr>\n",
       "      <th>9939</th>\n",
       "      <td>0</td>\n",
       "      <td>1</td>\n",
       "      <td>1</td>\n",
       "      <td>1</td>\n",
       "      <td>0</td>\n",
       "      <td>0</td>\n",
       "      <td>0</td>\n",
       "      <td>0</td>\n",
       "      <td>0</td>\n",
       "      <td>0</td>\n",
       "      <td>...</td>\n",
       "      <td>-1.218977e-10</td>\n",
       "      <td>-0.005017</td>\n",
       "      <td>-0.027896</td>\n",
       "      <td>7.828807</td>\n",
       "      <td>39.470863</td>\n",
       "      <td>-1.347306e-09</td>\n",
       "      <td>2.221529</td>\n",
       "      <td>-0.000014</td>\n",
       "      <td>-4.130087e-14</td>\n",
       "      <td>-0.208505</td>\n",
       "    </tr>\n",
       "    <tr>\n",
       "      <th>9940</th>\n",
       "      <td>0</td>\n",
       "      <td>1</td>\n",
       "      <td>1</td>\n",
       "      <td>0</td>\n",
       "      <td>0</td>\n",
       "      <td>0</td>\n",
       "      <td>0</td>\n",
       "      <td>0</td>\n",
       "      <td>0</td>\n",
       "      <td>0</td>\n",
       "      <td>...</td>\n",
       "      <td>-1.308031e-11</td>\n",
       "      <td>-0.002139</td>\n",
       "      <td>-0.014797</td>\n",
       "      <td>6.319387</td>\n",
       "      <td>38.301490</td>\n",
       "      <td>-6.742156e-10</td>\n",
       "      <td>1.845331</td>\n",
       "      <td>-0.000004</td>\n",
       "      <td>-1.582974e-14</td>\n",
       "      <td>-0.139827</td>\n",
       "    </tr>\n",
       "    <tr>\n",
       "      <th>9941</th>\n",
       "      <td>0</td>\n",
       "      <td>0</td>\n",
       "      <td>1</td>\n",
       "      <td>1</td>\n",
       "      <td>0</td>\n",
       "      <td>0</td>\n",
       "      <td>0</td>\n",
       "      <td>0</td>\n",
       "      <td>0</td>\n",
       "      <td>0</td>\n",
       "      <td>...</td>\n",
       "      <td>-5.323584e-11</td>\n",
       "      <td>-0.002414</td>\n",
       "      <td>-0.022607</td>\n",
       "      <td>7.020040</td>\n",
       "      <td>38.955620</td>\n",
       "      <td>-1.417024e-09</td>\n",
       "      <td>1.985678</td>\n",
       "      <td>-0.000006</td>\n",
       "      <td>-1.653711e-14</td>\n",
       "      <td>-0.161103</td>\n",
       "    </tr>\n",
       "    <tr>\n",
       "      <th>9942</th>\n",
       "      <td>0</td>\n",
       "      <td>1</td>\n",
       "      <td>1</td>\n",
       "      <td>1</td>\n",
       "      <td>0</td>\n",
       "      <td>0</td>\n",
       "      <td>0</td>\n",
       "      <td>0</td>\n",
       "      <td>0</td>\n",
       "      <td>0</td>\n",
       "      <td>...</td>\n",
       "      <td>-1.190707e-12</td>\n",
       "      <td>-0.000292</td>\n",
       "      <td>-0.002824</td>\n",
       "      <td>6.478369</td>\n",
       "      <td>32.678135</td>\n",
       "      <td>-2.304934e-11</td>\n",
       "      <td>2.553012</td>\n",
       "      <td>-0.000001</td>\n",
       "      <td>-7.332549e-14</td>\n",
       "      <td>-0.072156</td>\n",
       "    </tr>\n",
       "    <tr>\n",
       "      <th>9943</th>\n",
       "      <td>0</td>\n",
       "      <td>1</td>\n",
       "      <td>1</td>\n",
       "      <td>1</td>\n",
       "      <td>0</td>\n",
       "      <td>0</td>\n",
       "      <td>0</td>\n",
       "      <td>0</td>\n",
       "      <td>0</td>\n",
       "      <td>0</td>\n",
       "      <td>...</td>\n",
       "      <td>-5.313188e-12</td>\n",
       "      <td>-0.001208</td>\n",
       "      <td>-0.007961</td>\n",
       "      <td>6.087301</td>\n",
       "      <td>36.571815</td>\n",
       "      <td>-4.125133e-10</td>\n",
       "      <td>1.865329</td>\n",
       "      <td>-0.000003</td>\n",
       "      <td>-3.234705e-14</td>\n",
       "      <td>-0.115121</td>\n",
       "    </tr>\n",
       "  </tbody>\n",
       "</table>\n",
       "<p>9944 rows × 62732 columns</p>\n",
       "</div>"
      ],
      "text/plain": [
       "      0      1      2      3      4      5      6      7      8      9      \\\n",
       "0         0      1      1      1      0      0      1      0      0      0   \n",
       "1         0      1      1      0      0      0      0      0      0      0   \n",
       "2         0      1      1      1      0      0      0      0      1      1   \n",
       "3         0      1      1      1      0      0      0      0      0      0   \n",
       "4         0      0      0      1      0      0      1      0      0      0   \n",
       "...     ...    ...    ...    ...    ...    ...    ...    ...    ...    ...   \n",
       "9939      0      1      1      1      0      0      0      0      0      0   \n",
       "9940      0      1      1      0      0      0      0      0      0      0   \n",
       "9941      0      0      1      1      0      0      0      0      0      0   \n",
       "9942      0      1      1      1      0      0      0      0      0      0   \n",
       "9943      0      1      1      1      0      0      0      0      0      0   \n",
       "\n",
       "      ...         62722     62723     62724     62725      62726  \\\n",
       "0     ... -1.688457e-11 -0.002236 -0.019697  6.138978  37.496304   \n",
       "1     ... -1.468612e-11 -0.000810 -0.009978  6.797769  36.680656   \n",
       "2     ... -9.352968e-11 -0.004833 -0.020676  7.370453  39.557130   \n",
       "3     ... -3.073597e-11 -0.002168 -0.016478  6.751638  38.550850   \n",
       "4     ... -1.126881e-11 -0.002349 -0.015439  5.904394  37.275562   \n",
       "...   ...           ...       ...       ...       ...        ...   \n",
       "9939  ... -1.218977e-10 -0.005017 -0.027896  7.828807  39.470863   \n",
       "9940  ... -1.308031e-11 -0.002139 -0.014797  6.319387  38.301490   \n",
       "9941  ... -5.323584e-11 -0.002414 -0.022607  7.020040  38.955620   \n",
       "9942  ... -1.190707e-12 -0.000292 -0.002824  6.478369  32.678135   \n",
       "9943  ... -5.313188e-12 -0.001208 -0.007961  6.087301  36.571815   \n",
       "\n",
       "             62727     62728     62729         62730     62731  \n",
       "0    -7.124449e-10  2.135291 -0.000004 -1.635739e-14 -0.159953  \n",
       "1    -4.828979e-10  1.992804 -0.000002 -1.420318e-14 -0.120112  \n",
       "2    -1.420247e-09  2.103800 -0.000012 -2.998134e-14 -0.196348  \n",
       "3    -7.190994e-10  2.122260 -0.000005 -1.738771e-14 -0.168751  \n",
       "4    -4.514170e-10  2.095064 -0.000005 -3.069000e-14 -0.153185  \n",
       "...            ...       ...       ...           ...       ...  \n",
       "9939 -1.347306e-09  2.221529 -0.000014 -4.130087e-14 -0.208505  \n",
       "9940 -6.742156e-10  1.845331 -0.000004 -1.582974e-14 -0.139827  \n",
       "9941 -1.417024e-09  1.985678 -0.000006 -1.653711e-14 -0.161103  \n",
       "9942 -2.304934e-11  2.553012 -0.000001 -7.332549e-14 -0.072156  \n",
       "9943 -4.125133e-10  1.865329 -0.000003 -3.234705e-14 -0.115121  \n",
       "\n",
       "[9944 rows x 62732 columns]"
      ]
     },
     "execution_count": 1,
     "metadata": {},
     "output_type": "execute_result"
    }
   ],
   "source": [
    "import pandas as pd\n",
    "import pickle\n",
    "import time\n",
    "\n",
    "X_path = \"/kaggle/input/pawpularity-features-pickle/X_features.pkl\"\n",
    "debut = time.time()\n",
    "df = pickle.load(open(X_path, 'rb'))\n",
    "print(\"Temps écoulé : {:.2f}\".format(time.time() - debut))\n",
    "df"
   ]
  },
  {
   "cell_type": "code",
   "execution_count": 2,
   "id": "70444553",
   "metadata": {
    "execution": {
     "iopub.execute_input": "2021-12-20T22:13:59.501776Z",
     "iopub.status.busy": "2021-12-20T22:13:59.500925Z",
     "iopub.status.idle": "2021-12-21T00:31:07.092954Z",
     "shell.execute_reply": "2021-12-21T00:31:07.094978Z",
     "shell.execute_reply.started": "2021-12-20T17:36:00.969701Z"
    },
    "papermill": {
     "duration": 8227.618733,
     "end_time": "2021-12-21T00:31:07.096783",
     "exception": false,
     "start_time": "2021-12-20T22:13:59.478050",
     "status": "completed"
    },
    "tags": []
   },
   "outputs": [
    {
     "name": "stdout",
     "output_type": "stream",
     "text": [
      "> Matrice de corrélation 0 calculée\n",
      "  Temps écoulé : 667.29\n",
      "  Nb colonnes à supprimer : 2322\n",
      "> Matrice de corrélation 1 calculée\n",
      "  Temps écoulé : 663.78\n",
      "  Nb colonnes à supprimer : 4936\n",
      "> Matrice de corrélation 2 calculée\n",
      "  Temps écoulé : 661.42\n",
      "  Nb colonnes à supprimer : 6798\n",
      "> Matrice de corrélation 3 calculée\n",
      "  Temps écoulé : 667.47\n",
      "  Nb colonnes à supprimer : 8894\n",
      "> Matrice de corrélation 4 calculée\n",
      "  Temps écoulé : 662.43\n",
      "  Nb colonnes à supprimer : 10414\n",
      "> Matrice de corrélation 5 calculée\n",
      "  Temps écoulé : 661.63\n",
      "  Nb colonnes à supprimer : 11935\n",
      "> Matrice de corrélation 6 calculée\n",
      "  Temps écoulé : 661.90\n",
      "  Nb colonnes à supprimer : 13229\n",
      "> Matrice de corrélation 7 calculée\n",
      "  Temps écoulé : 661.93\n",
      "  Nb colonnes à supprimer : 14777\n",
      "> Matrice de corrélation 8 calculée\n",
      "  Temps écoulé : 663.62\n",
      "  Nb colonnes à supprimer : 16250\n",
      "> Matrice de corrélation 9 calculée\n",
      "  Temps écoulé : 661.68\n",
      "  Nb colonnes à supprimer : 18346\n",
      "> Matrice de corrélation 10 calculée\n",
      "  Temps écoulé : 662.21\n",
      "  Nb colonnes à supprimer : 20553\n",
      "> Matrice de corrélation 11 calculée\n",
      "  Temps écoulé : 664.30\n",
      "  Nb colonnes à supprimer : 22934\n",
      "> Matrice de corrélation 12 calculée\n",
      "  Temps écoulé : 197.76\n",
      "  Nb colonnes à supprimer : 24847\n"
     ]
    }
   ],
   "source": [
    "import numpy as np\n",
    "\n",
    "# En expérimentant, réaliser une matrice de corrélation sur 5000 colonnes\n",
    "# est faisable en 10mn environ : le mieux est d'itérer sur l'ensemble des\n",
    "# colonnes pour supprimer les corrélations par \"lot\"\n",
    "\n",
    "step = 5000\n",
    "correlated_features = []\n",
    "for i in range(13):\n",
    "    debut = time.time()\n",
    "    sub_df = df[df.columns[i * step:][:step]]\n",
    "    correlation_matrix = sub_df.corr()\n",
    "    print(\"> Matrice de corrélation\", i, \"calculée\")\n",
    "    print(\"  Temps écoulé : {:.2f}\".format(time.time() - debut))\n",
    "    upper = correlation_matrix.where(np.triu(np.ones(correlation_matrix.shape), k=1).astype(np.bool))\n",
    "    for column in upper.columns:\n",
    "        if any(upper[column] > 0.8):\n",
    "            correlated_features.append(column)\n",
    "    print(\"  Nb colonnes à supprimer :\", len(correlated_features))\n",
    "\n",
    "df.drop(labels=correlated_features, axis=1, inplace=True)\n",
    "df.to_pickle(\"X_features_cleaned.pkl\")\n",
    "pickle.dump(correlated_features, open(\"correlated_features.pkl\", \"wb\"))"
   ]
  },
  {
   "cell_type": "code",
   "execution_count": 3,
   "id": "21953924",
   "metadata": {
    "execution": {
     "iopub.execute_input": "2021-12-21T00:31:07.282918Z",
     "iopub.status.busy": "2021-12-21T00:31:07.281680Z",
     "iopub.status.idle": "2021-12-21T00:31:07.289601Z",
     "shell.execute_reply": "2021-12-21T00:31:07.290334Z",
     "shell.execute_reply.started": "2021-12-20T19:58:50.350233Z"
    },
    "papermill": {
     "duration": 0.123671,
     "end_time": "2021-12-21T00:31:07.290524",
     "exception": false,
     "start_time": "2021-12-21T00:31:07.166853",
     "status": "completed"
    },
    "tags": []
   },
   "outputs": [
    {
     "data": {
      "text/plain": [
       "(9944, 37885)"
      ]
     },
     "execution_count": 3,
     "metadata": {},
     "output_type": "execute_result"
    }
   ],
   "source": [
    "df.shape"
   ]
  },
  {
   "cell_type": "code",
   "execution_count": 4,
   "id": "7023796b",
   "metadata": {
    "execution": {
     "iopub.execute_input": "2021-12-21T00:31:21.008895Z",
     "iopub.status.busy": "2021-12-21T00:31:21.007975Z",
     "iopub.status.idle": "2021-12-21T01:54:02.211555Z",
     "shell.execute_reply": "2021-12-21T01:54:02.214508Z",
     "shell.execute_reply.started": "2021-12-20T19:59:01.674122Z"
    },
    "papermill": {
     "duration": 4974.904259,
     "end_time": "2021-12-21T01:54:02.215478",
     "exception": false,
     "start_time": "2021-12-21T00:31:07.311219",
     "status": "completed"
    },
    "tags": []
   },
   "outputs": [
    {
     "name": "stdout",
     "output_type": "stream",
     "text": [
      "> Matrice de corrélation 0 calculée\n",
      "  Temps écoulé : 667.37\n",
      "  Nb colonnes à supprimer : 217\n",
      "> Matrice de corrélation 1 calculée\n",
      "  Temps écoulé : 662.95\n",
      "  Nb colonnes à supprimer : 298\n",
      "> Matrice de corrélation 2 calculée\n",
      "  Temps écoulé : 668.06\n",
      "  Nb colonnes à supprimer : 411\n",
      "> Matrice de corrélation 3 calculée\n",
      "  Temps écoulé : 663.28\n",
      "  Nb colonnes à supprimer : 594\n",
      "> Matrice de corrélation 4 calculée\n",
      "  Temps écoulé : 674.80\n",
      "  Nb colonnes à supprimer : 630\n",
      "> Matrice de corrélation 5 calculée\n",
      "  Temps écoulé : 673.51\n",
      "  Nb colonnes à supprimer : 688\n",
      "> Matrice de corrélation 6 calculée\n",
      "  Temps écoulé : 672.13\n",
      "  Nb colonnes à supprimer : 778\n",
      "> Matrice de corrélation 7 calculée\n",
      "  Temps écoulé : 221.86\n",
      "  Nb colonnes à supprimer : 792\n"
     ]
    }
   ],
   "source": [
    "correlated_features_2 = []\n",
    "for i in range(round(df.shape[1] / step)):\n",
    "    debut = time.time()\n",
    "    sub_df = df[df.columns[i * step:][:step]]\n",
    "    correlation_matrix = sub_df.corr()\n",
    "    print(\"> Matrice de corrélation\", i, \"calculée\")\n",
    "    print(\"  Temps écoulé : {:.2f}\".format(time.time() - debut))\n",
    "    upper = correlation_matrix.where(np.triu(np.ones(correlation_matrix.shape), k=1).astype(np.bool))\n",
    "    for column in upper.columns:\n",
    "        if any(upper[column] > 0.8):\n",
    "            correlated_features_2.append(column)\n",
    "    print(\"  Nb colonnes à supprimer :\", len(correlated_features_2))\n",
    "\n",
    "df.drop(labels=correlated_features_2, axis=1, inplace=True)\n",
    "df.to_pickle(\"X_features_cleaned_2.pkl\")\n",
    "pickle.dump(correlated_features_2, open(\"correlated_features_2.pkl\", \"wb\"))"
   ]
  },
  {
   "cell_type": "code",
   "execution_count": 5,
   "id": "5bb8e137",
   "metadata": {
    "execution": {
     "iopub.execute_input": "2021-12-21T01:54:02.608615Z",
     "iopub.status.busy": "2021-12-21T01:54:02.605420Z",
     "iopub.status.idle": "2021-12-21T01:54:02.620923Z",
     "shell.execute_reply": "2021-12-21T01:54:02.622108Z",
     "shell.execute_reply.started": "2021-12-20T21:25:58.078875Z"
    },
    "papermill": {
     "duration": 0.323006,
     "end_time": "2021-12-21T01:54:02.622494",
     "exception": false,
     "start_time": "2021-12-21T01:54:02.299488",
     "status": "completed"
    },
    "tags": []
   },
   "outputs": [
    {
     "data": {
      "text/plain": [
       "(9944, 37093)"
      ]
     },
     "execution_count": 5,
     "metadata": {},
     "output_type": "execute_result"
    }
   ],
   "source": [
    "df.shape"
   ]
  },
  {
   "cell_type": "code",
   "execution_count": 6,
   "id": "985b6596",
   "metadata": {
    "execution": {
     "iopub.execute_input": "2021-12-21T01:54:03.404449Z",
     "iopub.status.busy": "2021-12-21T01:54:03.403422Z",
     "iopub.status.idle": "2021-12-21T01:54:03.460819Z",
     "shell.execute_reply": "2021-12-21T01:54:03.463443Z",
     "shell.execute_reply.started": "2021-12-20T21:26:33.081280Z"
    },
    "papermill": {
     "duration": 0.30217,
     "end_time": "2021-12-21T01:54:03.463701",
     "exception": false,
     "start_time": "2021-12-21T01:54:03.161531",
     "status": "completed"
    },
    "tags": []
   },
   "outputs": [
    {
     "data": {
      "text/plain": [
       "(9944, 1)"
      ]
     },
     "execution_count": 6,
     "metadata": {},
     "output_type": "execute_result"
    }
   ],
   "source": [
    "y_path = \"/kaggle/input/pawpularity-features-targets/y_targets.csv\"\n",
    "df_target = pd.read_csv(y_path, header=None)\n",
    "df_target.shape"
   ]
  },
  {
   "cell_type": "code",
   "execution_count": 7,
   "id": "24ce1a38",
   "metadata": {
    "execution": {
     "iopub.execute_input": "2021-12-21T01:54:18.540833Z",
     "iopub.status.busy": "2021-12-21T01:54:18.539709Z",
     "iopub.status.idle": "2021-12-21T01:54:26.957348Z",
     "shell.execute_reply": "2021-12-21T01:54:26.956540Z",
     "shell.execute_reply.started": "2021-12-20T21:26:59.928099Z"
    },
    "papermill": {
     "duration": 10.067642,
     "end_time": "2021-12-21T01:54:26.957513",
     "exception": false,
     "start_time": "2021-12-21T01:54:16.889871",
     "status": "completed"
    },
    "tags": []
   },
   "outputs": [],
   "source": [
    "from sklearn.model_selection import train_test_split\n",
    "X_train, X_test, y_train, y_test = train_test_split(df, df_target, test_size=0.2, random_state=42)"
   ]
  },
  {
   "cell_type": "code",
   "execution_count": 8,
   "id": "a3739c3b",
   "metadata": {
    "execution": {
     "iopub.execute_input": "2021-12-21T01:54:27.018425Z",
     "iopub.status.busy": "2021-12-21T01:54:27.017750Z",
     "iopub.status.idle": "2021-12-21T01:54:27.154470Z",
     "shell.execute_reply": "2021-12-21T01:54:27.155027Z",
     "shell.execute_reply.started": "2021-12-20T21:27:26.412291Z"
    },
    "papermill": {
     "duration": 0.169978,
     "end_time": "2021-12-21T01:54:27.155209",
     "exception": false,
     "start_time": "2021-12-21T01:54:26.985231",
     "status": "completed"
    },
    "tags": []
   },
   "outputs": [
    {
     "name": "stdout",
     "output_type": "stream",
     "text": [
      "6238.28515625\n",
      "6238.28515625\n"
     ]
    }
   ],
   "source": [
    "# free memory\n",
    "import os, psutil, gc\n",
    "def usage():\n",
    "    process = psutil.Process(os.getpid())\n",
    "    print(process.memory_info()[0] / float(2 ** 20))\n",
    "usage()\n",
    "del df\n",
    "del df_target\n",
    "gc.collect()\n",
    "usage()"
   ]
  },
  {
   "cell_type": "code",
   "execution_count": 9,
   "id": "f875e7b3",
   "metadata": {
    "execution": {
     "iopub.execute_input": "2021-12-21T01:54:27.212131Z",
     "iopub.status.busy": "2021-12-21T01:54:27.211443Z",
     "iopub.status.idle": "2021-12-21T01:54:27.217966Z",
     "shell.execute_reply": "2021-12-21T01:54:27.217204Z",
     "shell.execute_reply.started": "2021-12-20T21:27:41.884148Z"
    },
    "papermill": {
     "duration": 0.036082,
     "end_time": "2021-12-21T01:54:27.218158",
     "exception": false,
     "start_time": "2021-12-21T01:54:27.182076",
     "status": "completed"
    },
    "tags": []
   },
   "outputs": [
    {
     "name": "stdout",
     "output_type": "stream",
     "text": [
      "(7955, 37093) (1989, 37093) (7955, 1) (1989, 1)\n"
     ]
    }
   ],
   "source": [
    "print(X_train.shape, X_test.shape, y_train.shape, y_test.shape)"
   ]
  },
  {
   "cell_type": "code",
   "execution_count": 10,
   "id": "eba04bcd",
   "metadata": {
    "execution": {
     "iopub.execute_input": "2021-12-21T01:54:27.276883Z",
     "iopub.status.busy": "2021-12-21T01:54:27.276239Z",
     "iopub.status.idle": "2021-12-21T02:44:59.196690Z",
     "shell.execute_reply": "2021-12-21T02:44:59.197377Z"
    },
    "papermill": {
     "duration": 3031.951441,
     "end_time": "2021-12-21T02:44:59.197897",
     "exception": false,
     "start_time": "2021-12-21T01:54:27.246456",
     "status": "completed"
    },
    "tags": []
   },
   "outputs": [
    {
     "data": {
      "text/plain": [
       "XGBRegressor(base_score=0.5, booster='gbtree', colsample_bylevel=1,\n",
       "             colsample_bynode=1, colsample_bytree=1, enable_categorical=False,\n",
       "             gamma=0, gpu_id=-1, importance_type=None,\n",
       "             interaction_constraints='', learning_rate=0.300000012,\n",
       "             max_delta_step=0, max_depth=6, min_child_weight=1, missing=nan,\n",
       "             monotone_constraints='()', n_estimators=100, n_jobs=4,\n",
       "             num_parallel_tree=1, predictor='auto', random_state=123,\n",
       "             reg_alpha=0, reg_lambda=1, scale_pos_weight=1, subsample=1,\n",
       "             tree_method='exact', validate_parameters=1, verbosity=None)"
      ]
     },
     "execution_count": 10,
     "metadata": {},
     "output_type": "execute_result"
    }
   ],
   "source": [
    "import xgboost as xgb\n",
    "xgb_regressor = xgb.XGBRegressor(random_state=123)\n",
    "xgb_regressor.fit(X_train, y_train)"
   ]
  },
  {
   "cell_type": "code",
   "execution_count": 11,
   "id": "103b8328",
   "metadata": {
    "execution": {
     "iopub.execute_input": "2021-12-21T02:44:59.259386Z",
     "iopub.status.busy": "2021-12-21T02:44:59.258386Z",
     "iopub.status.idle": "2021-12-21T02:44:59.325903Z",
     "shell.execute_reply": "2021-12-21T02:44:59.326551Z"
    },
    "papermill": {
     "duration": 0.100255,
     "end_time": "2021-12-21T02:44:59.326744",
     "exception": false,
     "start_time": "2021-12-21T02:44:59.226489",
     "status": "completed"
    },
    "tags": []
   },
   "outputs": [],
   "source": [
    "pickle.dump(xgb_regressor, open(\"xgb_regressor.pkl\", \"wb\"))"
   ]
  },
  {
   "cell_type": "code",
   "execution_count": 12,
   "id": "62f15613",
   "metadata": {
    "execution": {
     "iopub.execute_input": "2021-12-21T02:44:59.388199Z",
     "iopub.status.busy": "2021-12-21T02:44:59.387492Z",
     "iopub.status.idle": "2021-12-21T02:45:12.629707Z",
     "shell.execute_reply": "2021-12-21T02:45:12.626489Z"
    },
    "papermill": {
     "duration": 13.275953,
     "end_time": "2021-12-21T02:45:12.632536",
     "exception": true,
     "start_time": "2021-12-21T02:44:59.356583",
     "status": "failed"
    },
    "tags": []
   },
   "outputs": [
    {
     "ename": "NameError",
     "evalue": "name 'mean_absolute_error' is not defined",
     "output_type": "error",
     "traceback": [
      "\u001b[0;31m---------------------------------------------------------------------------\u001b[0m",
      "\u001b[0;31mNameError\u001b[0m                                 Traceback (most recent call last)",
      "\u001b[0;32m/tmp/ipykernel_20/3615491764.py\u001b[0m in \u001b[0;36m<module>\u001b[0;34m\u001b[0m\n\u001b[1;32m      1\u001b[0m \u001b[0my_pred\u001b[0m \u001b[0;34m=\u001b[0m \u001b[0mxgb_regressor\u001b[0m\u001b[0;34m.\u001b[0m\u001b[0mpredict\u001b[0m\u001b[0;34m(\u001b[0m\u001b[0mX_test\u001b[0m\u001b[0;34m)\u001b[0m\u001b[0;34m\u001b[0m\u001b[0;34m\u001b[0m\u001b[0m\n\u001b[1;32m      2\u001b[0m \u001b[0;34m\u001b[0m\u001b[0m\n\u001b[0;32m----> 3\u001b[0;31m \u001b[0mprint\u001b[0m\u001b[0;34m(\u001b[0m\u001b[0;34m\"mean_absolute_error : {:.2f}\"\u001b[0m\u001b[0;34m.\u001b[0m\u001b[0mformat\u001b[0m\u001b[0;34m(\u001b[0m\u001b[0mmean_absolute_error\u001b[0m\u001b[0;34m(\u001b[0m\u001b[0my_test\u001b[0m\u001b[0;34m,\u001b[0m \u001b[0my_pred\u001b[0m\u001b[0;34m)\u001b[0m\u001b[0;34m)\u001b[0m\u001b[0;34m)\u001b[0m\u001b[0;34m\u001b[0m\u001b[0;34m\u001b[0m\u001b[0m\n\u001b[0m\u001b[1;32m      4\u001b[0m \u001b[0mmse\u001b[0m \u001b[0;34m=\u001b[0m \u001b[0mmean_squared_error\u001b[0m\u001b[0;34m(\u001b[0m\u001b[0my_test\u001b[0m\u001b[0;34m,\u001b[0m \u001b[0my_pred\u001b[0m\u001b[0;34m)\u001b[0m\u001b[0;34m\u001b[0m\u001b[0;34m\u001b[0m\u001b[0m\n\u001b[1;32m      5\u001b[0m \u001b[0mprint\u001b[0m\u001b[0;34m(\u001b[0m\u001b[0;34m\"mean_squared_error : {:.2f}\"\u001b[0m\u001b[0;34m.\u001b[0m\u001b[0mformat\u001b[0m\u001b[0;34m(\u001b[0m\u001b[0mmse\u001b[0m\u001b[0;34m)\u001b[0m\u001b[0;34m)\u001b[0m\u001b[0;34m\u001b[0m\u001b[0;34m\u001b[0m\u001b[0m\n",
      "\u001b[0;31mNameError\u001b[0m: name 'mean_absolute_error' is not defined"
     ]
    }
   ],
   "source": [
    "y_pred = xgb_regressor.predict(X_test)\n",
    "\n",
    "print(\"mean_absolute_error : {:.2f}\".format(mean_absolute_error(y_test, y_pred)))\n",
    "mse = mean_squared_error(y_test, y_pred)\n",
    "print(\"mean_squared_error : {:.2f}\".format(mse))\n",
    "print(\"root_mean_squared_error : {:.2f}\".format(np.sqrt(mse)))\n",
    "print(\"rmpse : {:.2f}\".format(np.sqrt(np.mean(np.square(((y_test - y_pred) / y_test))))))\n",
    "print(\"mean_absolute_percentage_error : {:.2f}\".format(mean_absolute_percentage_error(y_test, y_pred)))\n",
    "print(\"r2_score : {:.2f}\".format(r2_score(y_test, y_pred)))"
   ]
  },
  {
   "cell_type": "code",
   "execution_count": null,
   "id": "701aecad",
   "metadata": {
    "papermill": {
     "duration": null,
     "end_time": null,
     "exception": null,
     "start_time": null,
     "status": "pending"
    },
    "tags": []
   },
   "outputs": [],
   "source": [
    "import os\n",
    "from PIL import Image\n",
    "\n",
    "test_dir = '/kaggle/input/petfinder-pawpularity-score/test'\n",
    "\n",
    "test_df = pd.read_csv(\"/kaggle/input/petfinder-pawpularity-score/test.csv\", sep=',')\n",
    "test_df['Id'] = test_df['Id'] + '.jpg'\n",
    "test_df = test_df.rename(columns={'Id': 'filename'})\n",
    "print(\"shape test_df: \", test_df.shape)\n",
    "\n",
    "width, height = 224, 224\n",
    "batch_size = 32\n",
    "\n",
    "import sys\n",
    "import os\n",
    "sys.path.insert(0, \"/kaggle/input/efnetv2src/efficientnet-v2-keras-main\")\n",
    "sys.path.append('../input/tfkeras-efficientnetsv2/')\n",
    "\n",
    "from efficientnet_v2 import EfficientNetV2XL\n",
    "from tensorflow.keras import Input, Model\n",
    "from tensorflow.keras.layers import Dense, GlobalAveragePooling2D, BatchNormalization, Dropout\n",
    "from tensorflow.keras.metrics import MeanAbsoluteError, MeanAbsolutePercentageError\n",
    "import tensorflow_addons as tfa\n",
    "\n",
    "efficientnet = EfficientNetV2XL(\n",
    "    include_top=False,\n",
    "    weights='../input/tfkeras-efficientnetsv2/21_ft1k_notop/efficientnetv2-xl-21k-ft1k_notop.h5', \n",
    "    input_shape=(height, width, 3)\n",
    ")\n",
    "\n",
    "efficientnet.trainable = False\n",
    "\n",
    "radam = tfa.optimizers.RectifiedAdam(learning_rate=0.001)\n",
    "optimizer = tfa.optimizers.Lookahead(radam, sync_period=6, slow_step_size=0.5)\n",
    "\n",
    "efficientnet.compile(\n",
    "    optimizer=optimizer,\n",
    "    loss=\"mean_absolute_error\",\n",
    "    metrics=[MeanAbsoluteError(), MeanAbsolutePercentageError()]\n",
    ")\n",
    "\n",
    "import tensorflow as tf\n",
    "def preprocess(image):  \n",
    "    return (tf.cast(image, dtype=tf.float32) - 128.00) / 128.00\n",
    "\n",
    "ids = []\n",
    "pawpularities = []\n",
    "for test_image in os.listdir(test_dir):\n",
    "    image_path = os.path.join(test_dir, test_image)\n",
    "    id_image = test_image.split('.')[0]\n",
    "    ids.append(id_image)\n",
    "    img = Image.open(image_path) \n",
    "    img = img.resize((width, height))\n",
    "    img = preprocess(np.array(img).reshape(1, width, height, 3))\n",
    "    # on fait la prediction avec EfficientNet\n",
    "    img_features = efficientnet.predict(img)\n",
    "    features_vec = \",\".join([str(v) for v in img_features.flatten()])\n",
    "    # on supprime les colonnes corrélées\n",
    "    features_vec = np.delete(features_vec, correlated_features)\n",
    "    features_vec = np.delete(features_vec, correlated_features_2)\n",
    "    # on récupère les colonnes existantes\n",
    "    existing_cols = test_df[test_df['filename'] == test_image]\n",
    "    existing_cols = existing_cols.drop(labels=['filename'], axis=1)\n",
    "    existing_cols = existing_cols.to_csv(header=False, index=False).rstrip()\n",
    "    X_pred = []\n",
    "    X_pred.append(\"{},{}\\n\".format(existing_cols, features_vec))\n",
    "    # on fait la prediction finale\n",
    "    y_pred = xgb_regressor.predict(X_pred)\n",
    "    # on ajoute ça à la liste des prédictions\n",
    "    pawpularities.append(y_pred[0])\n",
    "\n",
    "submission_dict = {\n",
    "    'Id': ids,\n",
    "    'Pawpularity': pawpularities\n",
    "}\n",
    "submission_df = pd.DataFrame(submission_dict)\n",
    "print(submission_df)\n",
    "submission_df.to_csv('submission.csv', index=False, sep=',')"
   ]
  }
 ],
 "metadata": {
  "kernelspec": {
   "display_name": "Python 3",
   "language": "python",
   "name": "python3"
  },
  "language_info": {
   "codemirror_mode": {
    "name": "ipython",
    "version": 3
   },
   "file_extension": ".py",
   "mimetype": "text/x-python",
   "name": "python",
   "nbconvert_exporter": "python",
   "pygments_lexer": "ipython3",
   "version": "3.7.12"
  },
  "papermill": {
   "default_parameters": {},
   "duration": 16333.956158,
   "end_time": "2021-12-21T02:45:14.765039",
   "environment_variables": {},
   "exception": true,
   "input_path": "__notebook__.ipynb",
   "output_path": "__notebook__.ipynb",
   "parameters": {},
   "start_time": "2021-12-20T22:13:00.808881",
   "version": "2.3.3"
  }
 },
 "nbformat": 4,
 "nbformat_minor": 5
}
