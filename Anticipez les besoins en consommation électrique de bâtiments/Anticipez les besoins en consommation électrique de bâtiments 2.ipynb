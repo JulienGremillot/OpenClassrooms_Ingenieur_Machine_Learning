{
 "cells": [
  {
   "cell_type": "code",
   "execution_count": 33,
   "id": "436b41ba",
   "metadata": {},
   "outputs": [],
   "source": [
    "# Je regroupe les imports en début de notebook\n",
    "import os\n",
    "import time\n",
    "import pandas as pd\n",
    "import numpy as np\n",
    "from sklearn import preprocessing\n",
    "from sklearn import neighbors\n",
    "from sklearn.dummy import DummyRegressor\n",
    "from sklearn.metrics import mean_absolute_error, mean_squared_error, mean_absolute_percentage_error, r2_score\n",
    "from sklearn.model_selection import train_test_split, GridSearchCV\n",
    "from sklearn.linear_model import Ridge, Lasso, LinearRegression\n",
    "from sklearn.ensemble import GradientBoostingRegressor, RandomForestRegressor\n",
    "import xgboost as xgb # installation : conda install -c conda-forge xgboost\n",
    "\n",
    "# Je me positionne dans mon répertoire de travail personnel\n",
    "os.chdir(\"C:\\\\Users\\\\Julien Gremillot\\\\OneDrive\\\\Documents\\\\OpenClassrooms\\\\Jupyter\")\n",
    "os.getcwd()\n",
    "\n",
    "# Lecture du fichier CSV\n",
    "data = pd.read_csv(\"building-energy-model-data.csv\", sep=',') # séparateur = virgule"
   ]
  },
  {
   "cell_type": "code",
   "execution_count": 2,
   "id": "efa9ca7f",
   "metadata": {},
   "outputs": [
    {
     "data": {
      "text/plain": [
       "Index(['CouncilDistrictCode', 'NumberofBuildings', 'NumberofFloors',\n",
       "       'PropertyGFAParking', 'PropertyGFABuilding(s)',\n",
       "       'SecondLargestPropertyUseTypeGFA', 'ThirdLargestPropertyUseTypeGFA',\n",
       "       'Latitude', 'Longitude', 'ZipCode',\n",
       "       ...\n",
       "       '5.2', '6.2', '7.2', '8.2', '9.2', '10.2', '11.2', '0.4', '1.4', '2.4'],\n",
       "      dtype='object', length=117)"
      ]
     },
     "execution_count": 2,
     "metadata": {},
     "output_type": "execute_result"
    }
   ],
   "source": [
    "data.columns"
   ]
  },
  {
   "cell_type": "code",
   "execution_count": 3,
   "id": "bd4fbd02",
   "metadata": {},
   "outputs": [
    {
     "name": "stdout",
     "output_type": "stream",
     "text": [
      "index_consommation = 11 \n",
      "index_emissions = 12\n"
     ]
    }
   ],
   "source": [
    "index_consommation = -1\n",
    "index_emissions = -1\n",
    "for i in range(len(data.columns)):\n",
    "    if data.iloc[:, i].name == 'consommation':\n",
    "        index_consommation = i\n",
    "    if data.iloc[:, i].name == 'emissions':\n",
    "        index_emissions = i\n",
    "print('index_consommation =', index_consommation, '\\nindex_emissions =', index_emissions)"
   ]
  },
  {
   "cell_type": "code",
   "execution_count": 4,
   "id": "5216e6a6",
   "metadata": {},
   "outputs": [],
   "source": [
    "# On récupère les features d'un côté...\n",
    "X = pd.concat([data.iloc[:,:index_consommation - 1], data.iloc[:,index_emissions:]], axis = 1)\n",
    "\n",
    "# et les targets de l'autre\n",
    "y_consommation = data.iloc[:,index_consommation]\n",
    "y_emissions = data.iloc[:,index_emissions]"
   ]
  },
  {
   "cell_type": "code",
   "execution_count": 5,
   "id": "35a7b537",
   "metadata": {},
   "outputs": [
    {
     "name": "stdout",
     "output_type": "stream",
     "text": [
      "Index(['CouncilDistrictCode', 'NumberofBuildings', 'NumberofFloors',\n",
      "       'PropertyGFAParking', 'PropertyGFABuilding(s)',\n",
      "       'SecondLargestPropertyUseTypeGFA', 'ThirdLargestPropertyUseTypeGFA',\n",
      "       'Latitude', 'Longitude', 'ZipCode',\n",
      "       ...\n",
      "       '5.2', '6.2', '7.2', '8.2', '9.2', '10.2', '11.2', '0.4', '1.4', '2.4'],\n",
      "      dtype='object', length=115) 0    16.107916\n",
      "1    15.691287\n",
      "2    16.634519\n",
      "3    15.314463\n",
      "4    16.354152\n",
      "Name: consommation, dtype: float64 0    4.234251\n",
      "1    3.855241\n",
      "2    4.760805\n",
      "3    4.902976\n",
      "4    5.424598\n",
      "Name: emissions, dtype: float64\n"
     ]
    }
   ],
   "source": [
    "print(X.columns, y_consommation.head(), y_emissions.head())"
   ]
  },
  {
   "cell_type": "markdown",
   "id": "1e30f9e9",
   "metadata": {},
   "source": [
    "On commence définir nos jeux de données pour le modèle de prédiction de la consommation d'énergie"
   ]
  },
  {
   "cell_type": "code",
   "execution_count": 6,
   "id": "efdfe924",
   "metadata": {},
   "outputs": [],
   "source": [
    "X_train, X_test, y_train, y_test = train_test_split(X, y_consommation, test_size=0.2)\n",
    "\n",
    "std_scale = preprocessing.StandardScaler().fit(X_train)\n",
    "X_train_std = std_scale.transform(X_train)\n",
    "X_test_std = std_scale.transform(X_test)"
   ]
  },
  {
   "cell_type": "code",
   "execution_count": 7,
   "id": "432c3eaa",
   "metadata": {},
   "outputs": [
    {
     "data": {
      "text/html": [
       "<div>\n",
       "<style scoped>\n",
       "    .dataframe tbody tr th:only-of-type {\n",
       "        vertical-align: middle;\n",
       "    }\n",
       "\n",
       "    .dataframe tbody tr th {\n",
       "        vertical-align: top;\n",
       "    }\n",
       "\n",
       "    .dataframe thead th {\n",
       "        text-align: right;\n",
       "    }\n",
       "</style>\n",
       "<table border=\"1\" class=\"dataframe\">\n",
       "  <thead>\n",
       "    <tr style=\"text-align: right;\">\n",
       "      <th></th>\n",
       "      <th>CouncilDistrictCode</th>\n",
       "      <th>NumberofBuildings</th>\n",
       "      <th>NumberofFloors</th>\n",
       "      <th>PropertyGFAParking</th>\n",
       "      <th>PropertyGFABuilding(s)</th>\n",
       "      <th>SecondLargestPropertyUseTypeGFA</th>\n",
       "      <th>ThirdLargestPropertyUseTypeGFA</th>\n",
       "      <th>Latitude</th>\n",
       "      <th>Longitude</th>\n",
       "      <th>ZipCode</th>\n",
       "      <th>...</th>\n",
       "      <th>5.2</th>\n",
       "      <th>6.2</th>\n",
       "      <th>7.2</th>\n",
       "      <th>8.2</th>\n",
       "      <th>9.2</th>\n",
       "      <th>10.2</th>\n",
       "      <th>11.2</th>\n",
       "      <th>0.4</th>\n",
       "      <th>1.4</th>\n",
       "      <th>2.4</th>\n",
       "    </tr>\n",
       "  </thead>\n",
       "  <tbody>\n",
       "    <tr>\n",
       "      <th>12</th>\n",
       "      <td>5</td>\n",
       "      <td>1.0</td>\n",
       "      <td>1.0</td>\n",
       "      <td>0</td>\n",
       "      <td>21633</td>\n",
       "      <td>0.0</td>\n",
       "      <td>0.0</td>\n",
       "      <td>47.729694</td>\n",
       "      <td>-122.345432</td>\n",
       "      <td>98133</td>\n",
       "      <td>...</td>\n",
       "      <td>0.0</td>\n",
       "      <td>0.0</td>\n",
       "      <td>0.0</td>\n",
       "      <td>0.0</td>\n",
       "      <td>1.0</td>\n",
       "      <td>0.0</td>\n",
       "      <td>0.0</td>\n",
       "      <td>1.0</td>\n",
       "      <td>0.0</td>\n",
       "      <td>0.0</td>\n",
       "    </tr>\n",
       "    <tr>\n",
       "      <th>958</th>\n",
       "      <td>4</td>\n",
       "      <td>1.0</td>\n",
       "      <td>3.0</td>\n",
       "      <td>0</td>\n",
       "      <td>33176</td>\n",
       "      <td>15000.0</td>\n",
       "      <td>0.0</td>\n",
       "      <td>47.632450</td>\n",
       "      <td>-122.325290</td>\n",
       "      <td>98102</td>\n",
       "      <td>...</td>\n",
       "      <td>1.0</td>\n",
       "      <td>0.0</td>\n",
       "      <td>0.0</td>\n",
       "      <td>0.0</td>\n",
       "      <td>0.0</td>\n",
       "      <td>0.0</td>\n",
       "      <td>0.0</td>\n",
       "      <td>0.0</td>\n",
       "      <td>0.0</td>\n",
       "      <td>0.0</td>\n",
       "    </tr>\n",
       "    <tr>\n",
       "      <th>1437</th>\n",
       "      <td>4</td>\n",
       "      <td>1.0</td>\n",
       "      <td>2.0</td>\n",
       "      <td>0</td>\n",
       "      <td>78401</td>\n",
       "      <td>9940.0</td>\n",
       "      <td>4960.0</td>\n",
       "      <td>47.664500</td>\n",
       "      <td>-122.312240</td>\n",
       "      <td>98105</td>\n",
       "      <td>...</td>\n",
       "      <td>0.0</td>\n",
       "      <td>0.0</td>\n",
       "      <td>0.0</td>\n",
       "      <td>1.0</td>\n",
       "      <td>0.0</td>\n",
       "      <td>0.0</td>\n",
       "      <td>0.0</td>\n",
       "      <td>1.0</td>\n",
       "      <td>0.0</td>\n",
       "      <td>0.0</td>\n",
       "    </tr>\n",
       "    <tr>\n",
       "      <th>540</th>\n",
       "      <td>7</td>\n",
       "      <td>1.0</td>\n",
       "      <td>5.0</td>\n",
       "      <td>117867</td>\n",
       "      <td>133177</td>\n",
       "      <td>12717.0</td>\n",
       "      <td>0.0</td>\n",
       "      <td>47.612870</td>\n",
       "      <td>-122.350220</td>\n",
       "      <td>98121</td>\n",
       "      <td>...</td>\n",
       "      <td>0.0</td>\n",
       "      <td>0.0</td>\n",
       "      <td>0.0</td>\n",
       "      <td>0.0</td>\n",
       "      <td>0.0</td>\n",
       "      <td>0.0</td>\n",
       "      <td>0.0</td>\n",
       "      <td>0.0</td>\n",
       "      <td>0.0</td>\n",
       "      <td>0.0</td>\n",
       "    </tr>\n",
       "    <tr>\n",
       "      <th>1446</th>\n",
       "      <td>7</td>\n",
       "      <td>1.0</td>\n",
       "      <td>1.0</td>\n",
       "      <td>0</td>\n",
       "      <td>21420</td>\n",
       "      <td>5000.0</td>\n",
       "      <td>2000.0</td>\n",
       "      <td>47.601350</td>\n",
       "      <td>-122.333270</td>\n",
       "      <td>98104</td>\n",
       "      <td>...</td>\n",
       "      <td>0.0</td>\n",
       "      <td>0.0</td>\n",
       "      <td>0.0</td>\n",
       "      <td>0.0</td>\n",
       "      <td>0.0</td>\n",
       "      <td>0.0</td>\n",
       "      <td>0.0</td>\n",
       "      <td>0.0</td>\n",
       "      <td>0.0</td>\n",
       "      <td>0.0</td>\n",
       "    </tr>\n",
       "    <tr>\n",
       "      <th>...</th>\n",
       "      <td>...</td>\n",
       "      <td>...</td>\n",
       "      <td>...</td>\n",
       "      <td>...</td>\n",
       "      <td>...</td>\n",
       "      <td>...</td>\n",
       "      <td>...</td>\n",
       "      <td>...</td>\n",
       "      <td>...</td>\n",
       "      <td>...</td>\n",
       "      <td>...</td>\n",
       "      <td>...</td>\n",
       "      <td>...</td>\n",
       "      <td>...</td>\n",
       "      <td>...</td>\n",
       "      <td>...</td>\n",
       "      <td>...</td>\n",
       "      <td>...</td>\n",
       "      <td>...</td>\n",
       "      <td>...</td>\n",
       "      <td>...</td>\n",
       "    </tr>\n",
       "    <tr>\n",
       "      <th>954</th>\n",
       "      <td>7</td>\n",
       "      <td>1.0</td>\n",
       "      <td>3.0</td>\n",
       "      <td>0</td>\n",
       "      <td>45864</td>\n",
       "      <td>0.0</td>\n",
       "      <td>0.0</td>\n",
       "      <td>47.619540</td>\n",
       "      <td>-122.358470</td>\n",
       "      <td>98119</td>\n",
       "      <td>...</td>\n",
       "      <td>0.0</td>\n",
       "      <td>1.0</td>\n",
       "      <td>0.0</td>\n",
       "      <td>0.0</td>\n",
       "      <td>0.0</td>\n",
       "      <td>0.0</td>\n",
       "      <td>0.0</td>\n",
       "      <td>1.0</td>\n",
       "      <td>0.0</td>\n",
       "      <td>0.0</td>\n",
       "    </tr>\n",
       "    <tr>\n",
       "      <th>1338</th>\n",
       "      <td>7</td>\n",
       "      <td>1.0</td>\n",
       "      <td>39.0</td>\n",
       "      <td>112124</td>\n",
       "      <td>962428</td>\n",
       "      <td>303000.0</td>\n",
       "      <td>141450.0</td>\n",
       "      <td>47.613760</td>\n",
       "      <td>-122.334450</td>\n",
       "      <td>98101</td>\n",
       "      <td>...</td>\n",
       "      <td>0.0</td>\n",
       "      <td>0.0</td>\n",
       "      <td>0.0</td>\n",
       "      <td>0.0</td>\n",
       "      <td>0.0</td>\n",
       "      <td>0.0</td>\n",
       "      <td>0.0</td>\n",
       "      <td>0.0</td>\n",
       "      <td>0.0</td>\n",
       "      <td>0.0</td>\n",
       "    </tr>\n",
       "    <tr>\n",
       "      <th>78</th>\n",
       "      <td>7</td>\n",
       "      <td>1.0</td>\n",
       "      <td>7.0</td>\n",
       "      <td>0</td>\n",
       "      <td>122810</td>\n",
       "      <td>26450.0</td>\n",
       "      <td>8000.0</td>\n",
       "      <td>47.611550</td>\n",
       "      <td>-122.341140</td>\n",
       "      <td>98101</td>\n",
       "      <td>...</td>\n",
       "      <td>0.0</td>\n",
       "      <td>0.0</td>\n",
       "      <td>0.0</td>\n",
       "      <td>0.0</td>\n",
       "      <td>0.0</td>\n",
       "      <td>0.0</td>\n",
       "      <td>0.0</td>\n",
       "      <td>1.0</td>\n",
       "      <td>0.0</td>\n",
       "      <td>0.0</td>\n",
       "    </tr>\n",
       "    <tr>\n",
       "      <th>1433</th>\n",
       "      <td>5</td>\n",
       "      <td>1.0</td>\n",
       "      <td>1.0</td>\n",
       "      <td>0</td>\n",
       "      <td>29400</td>\n",
       "      <td>0.0</td>\n",
       "      <td>0.0</td>\n",
       "      <td>47.708330</td>\n",
       "      <td>-122.344290</td>\n",
       "      <td>98133</td>\n",
       "      <td>...</td>\n",
       "      <td>0.0</td>\n",
       "      <td>0.0</td>\n",
       "      <td>0.0</td>\n",
       "      <td>0.0</td>\n",
       "      <td>1.0</td>\n",
       "      <td>0.0</td>\n",
       "      <td>0.0</td>\n",
       "      <td>0.0</td>\n",
       "      <td>0.0</td>\n",
       "      <td>0.0</td>\n",
       "    </tr>\n",
       "    <tr>\n",
       "      <th>435</th>\n",
       "      <td>5</td>\n",
       "      <td>1.0</td>\n",
       "      <td>2.0</td>\n",
       "      <td>0</td>\n",
       "      <td>302812</td>\n",
       "      <td>0.0</td>\n",
       "      <td>0.0</td>\n",
       "      <td>47.707590</td>\n",
       "      <td>-122.325500</td>\n",
       "      <td>98125</td>\n",
       "      <td>...</td>\n",
       "      <td>0.0</td>\n",
       "      <td>0.0</td>\n",
       "      <td>1.0</td>\n",
       "      <td>0.0</td>\n",
       "      <td>0.0</td>\n",
       "      <td>0.0</td>\n",
       "      <td>0.0</td>\n",
       "      <td>0.0</td>\n",
       "      <td>0.0</td>\n",
       "      <td>0.0</td>\n",
       "    </tr>\n",
       "  </tbody>\n",
       "</table>\n",
       "<p>1349 rows × 115 columns</p>\n",
       "</div>"
      ],
      "text/plain": [
       "      CouncilDistrictCode  NumberofBuildings  NumberofFloors  \\\n",
       "12                      5                1.0             1.0   \n",
       "958                     4                1.0             3.0   \n",
       "1437                    4                1.0             2.0   \n",
       "540                     7                1.0             5.0   \n",
       "1446                    7                1.0             1.0   \n",
       "...                   ...                ...             ...   \n",
       "954                     7                1.0             3.0   \n",
       "1338                    7                1.0            39.0   \n",
       "78                      7                1.0             7.0   \n",
       "1433                    5                1.0             1.0   \n",
       "435                     5                1.0             2.0   \n",
       "\n",
       "      PropertyGFAParking  PropertyGFABuilding(s)  \\\n",
       "12                     0                   21633   \n",
       "958                    0                   33176   \n",
       "1437                   0                   78401   \n",
       "540               117867                  133177   \n",
       "1446                   0                   21420   \n",
       "...                  ...                     ...   \n",
       "954                    0                   45864   \n",
       "1338              112124                  962428   \n",
       "78                     0                  122810   \n",
       "1433                   0                   29400   \n",
       "435                    0                  302812   \n",
       "\n",
       "      SecondLargestPropertyUseTypeGFA  ThirdLargestPropertyUseTypeGFA  \\\n",
       "12                                0.0                             0.0   \n",
       "958                           15000.0                             0.0   \n",
       "1437                           9940.0                          4960.0   \n",
       "540                           12717.0                             0.0   \n",
       "1446                           5000.0                          2000.0   \n",
       "...                               ...                             ...   \n",
       "954                               0.0                             0.0   \n",
       "1338                         303000.0                        141450.0   \n",
       "78                            26450.0                          8000.0   \n",
       "1433                              0.0                             0.0   \n",
       "435                               0.0                             0.0   \n",
       "\n",
       "       Latitude   Longitude  ZipCode  ...  5.2  6.2  7.2  8.2  9.2  10.2  \\\n",
       "12    47.729694 -122.345432    98133  ...  0.0  0.0  0.0  0.0  1.0   0.0   \n",
       "958   47.632450 -122.325290    98102  ...  1.0  0.0  0.0  0.0  0.0   0.0   \n",
       "1437  47.664500 -122.312240    98105  ...  0.0  0.0  0.0  1.0  0.0   0.0   \n",
       "540   47.612870 -122.350220    98121  ...  0.0  0.0  0.0  0.0  0.0   0.0   \n",
       "1446  47.601350 -122.333270    98104  ...  0.0  0.0  0.0  0.0  0.0   0.0   \n",
       "...         ...         ...      ...  ...  ...  ...  ...  ...  ...   ...   \n",
       "954   47.619540 -122.358470    98119  ...  0.0  1.0  0.0  0.0  0.0   0.0   \n",
       "1338  47.613760 -122.334450    98101  ...  0.0  0.0  0.0  0.0  0.0   0.0   \n",
       "78    47.611550 -122.341140    98101  ...  0.0  0.0  0.0  0.0  0.0   0.0   \n",
       "1433  47.708330 -122.344290    98133  ...  0.0  0.0  0.0  0.0  1.0   0.0   \n",
       "435   47.707590 -122.325500    98125  ...  0.0  0.0  1.0  0.0  0.0   0.0   \n",
       "\n",
       "      11.2  0.4  1.4  2.4  \n",
       "12     0.0  1.0  0.0  0.0  \n",
       "958    0.0  0.0  0.0  0.0  \n",
       "1437   0.0  1.0  0.0  0.0  \n",
       "540    0.0  0.0  0.0  0.0  \n",
       "1446   0.0  0.0  0.0  0.0  \n",
       "...    ...  ...  ...  ...  \n",
       "954    0.0  1.0  0.0  0.0  \n",
       "1338   0.0  0.0  0.0  0.0  \n",
       "78     0.0  1.0  0.0  0.0  \n",
       "1433   0.0  0.0  0.0  0.0  \n",
       "435    0.0  0.0  0.0  0.0  \n",
       "\n",
       "[1349 rows x 115 columns]"
      ]
     },
     "execution_count": 7,
     "metadata": {},
     "output_type": "execute_result"
    }
   ],
   "source": [
    "X_train"
   ]
  },
  {
   "cell_type": "code",
   "execution_count": 8,
   "id": "8dbcd0d8",
   "metadata": {},
   "outputs": [
    {
     "data": {
      "text/plain": [
       "array([[ 0.25402893, -0.12451079, -0.51221037, ...,  1.76431428,\n",
       "        -0.10603951, -0.09067098],\n",
       "       [-0.20410613, -0.12451079, -0.18442489, ..., -0.56679244,\n",
       "        -0.10603951, -0.09067098],\n",
       "       [-0.20410613, -0.12451079, -0.34831763, ...,  1.76431428,\n",
       "        -0.10603951, -0.09067098],\n",
       "       ...,\n",
       "       [ 1.17029907, -0.12451079,  0.47114607, ...,  1.76431428,\n",
       "        -0.10603951, -0.09067098],\n",
       "       [ 0.25402893, -0.12451079, -0.51221037, ..., -0.56679244,\n",
       "        -0.10603951, -0.09067098],\n",
       "       [ 0.25402893, -0.12451079, -0.34831763, ..., -0.56679244,\n",
       "        -0.10603951, -0.09067098]])"
      ]
     },
     "execution_count": 8,
     "metadata": {},
     "output_type": "execute_result"
    }
   ],
   "source": [
    "X_train_std"
   ]
  },
  {
   "cell_type": "markdown",
   "id": "d35719c3",
   "metadata": {},
   "source": [
    "Ici on définit une première fonction qui va nous afficher les différentes mesures de qualité d'après les prédictions de nos modèles et une seconde fonction qui va entrainer le modèle du type passé en paramètre, faire des prédictions et appeler la première méthode pour afficher les résultats de ce modèle."
   ]
  },
  {
   "cell_type": "code",
   "execution_count": 9,
   "id": "3a353537",
   "metadata": {},
   "outputs": [],
   "source": [
    "def show_metrics(ytest, ypred):\n",
    "    print(\"mean_absolute_error : {:.2f}\".format(mean_absolute_error(ytest, ypred)))\n",
    "    print(\"mean_squared_error : {:.2f}\".format(mean_squared_error(ytest, ypred)))\n",
    "    print(\"root_mean_squared_error : {:.2f}\".format(np.sqrt(mean_squared_error(ytest, ypred))))\n",
    "    print(\"rmpse : {:.2f}\".format(np.sqrt(np.mean(np.square(((ytest - ypred) / ytest))))))\n",
    "    print(\"mean_absolute_percentage_error : {:.2f}\".format(mean_absolute_percentage_error(ytest, ypred)))\n",
    "    print(\"r2_score : {:.2f}\".format(r2_score(ytest, ypred)))\n",
    "    \n",
    "def fit_predict_and_show_metrics(model, Xtrain, Xtest, ytrain, ytest):\n",
    "    model.fit(Xtrain, ytrain)\n",
    "    ypred = model.predict(Xtest)\n",
    "    show_metrics(ytest, ypred)"
   ]
  },
  {
   "cell_type": "markdown",
   "id": "3b184faa",
   "metadata": {},
   "source": [
    "On commence par entrainer un modèle \"Dummy\" (qui renvoie toujours la médiane) afin d'avoir une base de comparaison des autres résultats"
   ]
  },
  {
   "cell_type": "code",
   "execution_count": 10,
   "id": "86c42757",
   "metadata": {},
   "outputs": [
    {
     "name": "stdout",
     "output_type": "stream",
     "text": [
      "mean_absolute_error : 0.98\n",
      "mean_squared_error : 1.60\n",
      "root_mean_squared_error : 1.26\n",
      "rmpse : 0.09\n",
      "mean_absolute_percentage_error : 0.07\n",
      "r2_score : -0.00\n"
     ]
    }
   ],
   "source": [
    "dummy_regressor = DummyRegressor(strategy=\"median\")\n",
    "fit_predict_and_show_metrics(dummy_regressor, X_train_std, X_test_std, y_train, y_test)"
   ]
  },
  {
   "cell_type": "markdown",
   "id": "78c6ed13",
   "metadata": {},
   "source": [
    "Puis on affiche les scores pour un modèle de régression linéaire et ses dérivées Ridge et Lasso :"
   ]
  },
  {
   "cell_type": "code",
   "execution_count": 11,
   "id": "54260bff",
   "metadata": {},
   "outputs": [
    {
     "name": "stdout",
     "output_type": "stream",
     "text": [
      "mean_absolute_error : 0.35\n",
      "mean_squared_error : 0.31\n",
      "root_mean_squared_error : 0.56\n",
      "rmpse : 0.03\n",
      "mean_absolute_percentage_error : 0.02\n",
      "r2_score : 0.81\n"
     ]
    }
   ],
   "source": [
    "linear_regression = LinearRegression()\n",
    "fit_predict_and_show_metrics(linear_regression, X_train, X_test, y_train, y_test)"
   ]
  },
  {
   "cell_type": "code",
   "execution_count": 12,
   "id": "bb33b4f7",
   "metadata": {},
   "outputs": [
    {
     "name": "stdout",
     "output_type": "stream",
     "text": [
      "mean_absolute_error : 29172933.42\n",
      "mean_squared_error : 287515917106719904.00\n",
      "root_mean_squared_error : 536205107.31\n",
      "rmpse : 42027809.03\n",
      "mean_absolute_percentage_error : 2286493.70\n",
      "r2_score : -180201209070575936.00\n"
     ]
    }
   ],
   "source": [
    "linear_regression = LinearRegression()\n",
    "fit_predict_and_show_metrics(linear_regression, X_train_std, X_test_std, y_train, y_test) # HEUUUUUUUUUU ?????"
   ]
  },
  {
   "cell_type": "code",
   "execution_count": 13,
   "id": "8b4619e4",
   "metadata": {},
   "outputs": [
    {
     "name": "stdout",
     "output_type": "stream",
     "text": [
      "mean_absolute_error : 0.34\n",
      "mean_squared_error : 0.30\n",
      "root_mean_squared_error : 0.55\n",
      "rmpse : 0.03\n",
      "mean_absolute_percentage_error : 0.02\n",
      "r2_score : 0.81\n"
     ]
    }
   ],
   "source": [
    "ridge = Ridge(random_state=123)\n",
    "fit_predict_and_show_metrics(ridge, X_train, X_test, y_train, y_test)"
   ]
  },
  {
   "cell_type": "code",
   "execution_count": 14,
   "id": "a93a1754",
   "metadata": {},
   "outputs": [
    {
     "name": "stdout",
     "output_type": "stream",
     "text": [
      "mean_absolute_error : 0.73\n",
      "mean_squared_error : 2.68\n",
      "root_mean_squared_error : 1.64\n",
      "rmpse : 0.09\n",
      "mean_absolute_percentage_error : 0.05\n",
      "r2_score : -0.68\n"
     ]
    }
   ],
   "source": [
    "lasso = Lasso(random_state=123)\n",
    "fit_predict_and_show_metrics(lasso, X_train, X_test, y_train, y_test)"
   ]
  },
  {
   "cell_type": "markdown",
   "id": "6a26be22",
   "metadata": {},
   "source": [
    "De ces 3 modèles, on constate que c'est la variante Ridge qui présente les meilleurs résultats (score R2 le plus proche de 1), suivi de très prêt par la régression linéaire.\n",
    "\n",
    "On va tester également 2 autres types de modèles : le gradient et le random forest."
   ]
  },
  {
   "cell_type": "code",
   "execution_count": 39,
   "id": "32e127cc",
   "metadata": {},
   "outputs": [
    {
     "name": "stdout",
     "output_type": "stream",
     "text": [
      "mean_absolute_error : 0.25\n",
      "mean_squared_error : 0.13\n",
      "root_mean_squared_error : 0.36\n",
      "rmpse : 0.03\n",
      "mean_absolute_percentage_error : 0.02\n",
      "r2_score : 0.92\n",
      "---\n",
      "mean_absolute_error : 0.26\n",
      "mean_squared_error : 0.15\n",
      "root_mean_squared_error : 0.38\n",
      "rmpse : 0.03\n",
      "mean_absolute_percentage_error : 0.02\n",
      "r2_score : 0.91\n",
      "---\n",
      "mean_absolute_error : 0.27\n",
      "mean_squared_error : 0.15\n",
      "root_mean_squared_error : 0.38\n",
      "rmpse : 0.03\n",
      "mean_absolute_percentage_error : 0.02\n",
      "r2_score : 0.91\n"
     ]
    },
    {
     "name": "stderr",
     "output_type": "stream",
     "text": [
      "C:\\anaconda\\lib\\site-packages\\xgboost\\data.py:112: UserWarning: Use subset (sliced data) of np.ndarray is not recommended because it will generate extra copies and increase memory consumption\n",
      "  warnings.warn(\n"
     ]
    }
   ],
   "source": [
    "gradient_boosting_regressor = GradientBoostingRegressor(random_state=123)\n",
    "fit_predict_and_show_metrics(gradient_boosting_regressor, X_train, X_test, y_train, y_test)\n",
    "print(\"---\")\n",
    "random_forest_regressor = RandomForestRegressor(random_state=123)\n",
    "fit_predict_and_show_metrics(random_forest_regressor, X_train, X_test, y_train, y_test)\n",
    "print(\"---\")\n",
    "xgb_regressor = xgb.XGBRegressor(random_state=123)\n",
    "fit_predict_and_show_metrics(xgb_regressor, X_train, X_test, y_train, y_test)"
   ]
  },
  {
   "cell_type": "code",
   "execution_count": 40,
   "id": "35bf1159",
   "metadata": {},
   "outputs": [
    {
     "data": {
      "text/plain": [
       "{'alpha': 0.9,\n",
       " 'ccp_alpha': 0.0,\n",
       " 'criterion': 'friedman_mse',\n",
       " 'init': None,\n",
       " 'learning_rate': 0.1,\n",
       " 'loss': 'ls',\n",
       " 'max_depth': 3,\n",
       " 'max_features': None,\n",
       " 'max_leaf_nodes': None,\n",
       " 'min_impurity_decrease': 0.0,\n",
       " 'min_impurity_split': None,\n",
       " 'min_samples_leaf': 1,\n",
       " 'min_samples_split': 2,\n",
       " 'min_weight_fraction_leaf': 0.0,\n",
       " 'n_estimators': 100,\n",
       " 'n_iter_no_change': None,\n",
       " 'random_state': 123,\n",
       " 'subsample': 1.0,\n",
       " 'tol': 0.0001,\n",
       " 'validation_fraction': 0.1,\n",
       " 'verbose': 0,\n",
       " 'warm_start': False}"
      ]
     },
     "execution_count": 40,
     "metadata": {},
     "output_type": "execute_result"
    }
   ],
   "source": [
    "gradient_boosting_regressor.get_params()"
   ]
  },
  {
   "cell_type": "markdown",
   "id": "26c3dd0a",
   "metadata": {},
   "source": [
    "D'après les chiffres obtenus, le modèle du Gradient est le plus performant avec un score R2 de 92%.\n",
    "Nous allons donc essayer d'afiner ce résultat en modifiant ses paramètres."
   ]
  },
  {
   "cell_type": "code",
   "execution_count": 21,
   "id": "f5cd3add",
   "metadata": {},
   "outputs": [
    {
     "name": "stdout",
     "output_type": "stream",
     "text": [
      "best estimator : GradientBoostingRegressor(learning_rate=0.01, max_depth=8, n_estimators=1000,\n",
      "                          random_state=123, subsample=0.2)\n",
      "best score : 0.9180428893715404\n",
      "best params : {'learning_rate': 0.01, 'max_depth': 8, 'n_estimators': 1000, 'subsample': 0.2}\n",
      "\n",
      "Temps de traitement total : 275.19457268714905 secondes\n"
     ]
    }
   ],
   "source": [
    "tps1 = time.time()\n",
    "gradient_boosting_regressor = GradientBoostingRegressor(random_state=123)\n",
    "parameters = {\n",
    "    'learning_rate': [ 0.01, 0.02, 0.03, 0.04 ],\n",
    "    'subsample'    : [ 0.9, 0.5, 0.2, 0.1 ],\n",
    "    'n_estimators' : [ 100, 500, 1000, 1500 ],\n",
    "    'max_depth'    : [ 4, 6, 8, 10 ]\n",
    "}\n",
    "grid_search_cv = GridSearchCV(estimator = gradient_boosting_regressor, param_grid = parameters, cv = 2, n_jobs=-1)\n",
    "grid_search_cv.fit(X_train, y_train)\n",
    "print(\"best estimator :\", grid_search_cv.best_estimator_)\n",
    "print(\"best score :\", grid_search_cv.best_score_)\n",
    "print(\"best params :\", grid_search_cv.best_params_)\n",
    "tps2 = time.time()\n",
    "print(\"\\nTemps de traitement total :\", tps2 - tps1, \"secondes\")"
   ]
  },
  {
   "cell_type": "markdown",
   "id": "3c3a49e5",
   "metadata": {},
   "source": [
    "On ré-exécute le Gradient avec les meilleurs paramètres trouvés afin de vérifier son score via la méthode précédente."
   ]
  },
  {
   "cell_type": "code",
   "execution_count": 22,
   "id": "d9ae2465",
   "metadata": {},
   "outputs": [
    {
     "name": "stdout",
     "output_type": "stream",
     "text": [
      "mean_absolute_error : 0.25\n",
      "mean_squared_error : 0.14\n",
      "root_mean_squared_error : 0.37\n",
      "rmpse : 0.03\n",
      "mean_absolute_percentage_error : 0.02\n",
      "r2_score : 0.91\n"
     ]
    }
   ],
   "source": [
    "gradient_boosting_regressor = GradientBoostingRegressor(learning_rate=0.01, max_depth=8, n_estimators=1000,\n",
    "                          random_state=123, subsample=0.2)\n",
    "fit_predict_and_show_metrics(gradient_boosting_regressor, X_train, X_test, y_train, y_test)"
   ]
  },
  {
   "cell_type": "markdown",
   "id": "9073c192",
   "metadata": {},
   "source": [
    "MOINS BIEN QU'AVEC LES PARAMETRES PAR DEFAUT ???"
   ]
  },
  {
   "cell_type": "markdown",
   "id": "1c84c0c9",
   "metadata": {},
   "source": [
    "On essaie d'affiner les résultats du Random Forest qui obtenait le deuxième meilleur score lors de notre première comparaison, pour voir s'il dépasse le Gradient avec des meilleurs paramètres."
   ]
  },
  {
   "cell_type": "code",
   "execution_count": 30,
   "id": "f8c26596",
   "metadata": {},
   "outputs": [
    {
     "name": "stderr",
     "output_type": "stream",
     "text": [
      "C:\\anaconda\\lib\\site-packages\\sklearn\\model_selection\\_search.py:918: UserWarning: One or more of the test scores are non-finite: [       nan        nan        nan 0.90821843 0.90834224 0.90809414\n",
      " 0.90831379 0.90827367 0.90802417        nan        nan        nan\n",
      " 0.90920125 0.90930957 0.90926233 0.90920125 0.90930957 0.90926233\n",
      "        nan        nan        nan 0.90893858 0.90880437 0.90881245\n",
      " 0.90893858 0.90880437 0.90881245        nan        nan        nan\n",
      " 0.90821843 0.90834224 0.90809414 0.90831379 0.90827367 0.90802417\n",
      "        nan        nan        nan 0.90920125 0.90930957 0.90926233\n",
      " 0.90920125 0.90930957 0.90926233        nan        nan        nan\n",
      " 0.90893858 0.90880437 0.90881245 0.90893858 0.90880437 0.90881245\n",
      "        nan        nan        nan 0.90821843 0.90834224 0.90809414\n",
      " 0.90831379 0.90827367 0.90802417        nan        nan        nan\n",
      " 0.90920125 0.90930957 0.90926233 0.90920125 0.90930957 0.90926233\n",
      "        nan        nan        nan 0.90893858 0.90880437 0.90881245\n",
      " 0.90893858 0.90880437 0.90881245        nan        nan        nan\n",
      " 0.84921478 0.84945712 0.84946759 0.85031589 0.85048222 0.85043319\n",
      "        nan        nan        nan 0.85755328 0.85762017 0.85760786\n",
      " 0.85755328 0.85762017 0.85760786        nan        nan        nan\n",
      " 0.86385805 0.86383303 0.86382978 0.86385805 0.86383303 0.86382978\n",
      "        nan        nan        nan 0.84921478 0.84945712 0.84946759\n",
      " 0.85031589 0.85048222 0.85043319        nan        nan        nan\n",
      " 0.85755328 0.85762017 0.85760786 0.85755328 0.85762017 0.85760786\n",
      "        nan        nan        nan 0.86385805 0.86383303 0.86382978\n",
      " 0.86385805 0.86383303 0.86382978        nan        nan        nan\n",
      " 0.84921478 0.84945712 0.84946759 0.85031589 0.85048222 0.85043319\n",
      "        nan        nan        nan 0.85755328 0.85762017 0.85760786\n",
      " 0.85755328 0.85762017 0.85760786        nan        nan        nan\n",
      " 0.86385805 0.86383303 0.86382978 0.86385805 0.86383303 0.86382978]\n",
      "  warnings.warn(\n"
     ]
    },
    {
     "name": "stdout",
     "output_type": "stream",
     "text": [
      "best estimator : RandomForestRegressor(max_depth=50, min_samples_leaf=2, n_estimators=300,\n",
      "                      random_state=123)\n",
      "best score : 0.9093095747710763\n",
      "best params : {'bootstrap': True, 'max_depth': 50, 'max_features': 'auto', 'min_samples_leaf': 2, 'min_samples_split': 2, 'n_estimators': 300}\n",
      "\n",
      "Temps de traitement total : 325.37567615509033 secondes\n"
     ]
    }
   ],
   "source": [
    "tps1 = time.time()\n",
    "random_forest_regressor = RandomForestRegressor(random_state=123)\n",
    "parameters = {\n",
    "    'bootstrap': [True, False],\n",
    "    'max_depth': [50, 60, 80],\n",
    "    'max_features': ['auto'],\n",
    "    'min_samples_leaf': [1, 2, 3],\n",
    "    'min_samples_split': [1, 2, 3],\n",
    "    'n_estimators': [200, 300, 400]\n",
    "}\n",
    "grid_search_cv = GridSearchCV(estimator = random_forest_regressor, param_grid = parameters, cv = 3, n_jobs = -1)\n",
    "grid_search_cv.fit(X_train, y_train)\n",
    "print(\"best estimator :\", grid_search_cv.best_estimator_)\n",
    "print(\"best score :\", grid_search_cv.best_score_)\n",
    "print(\"best params :\", grid_search_cv.best_params_)\n",
    "tps2 = time.time()\n",
    "print(\"\\nTemps de traitement total :\", tps2 - tps1, \"secondes\")"
   ]
  },
  {
   "cell_type": "code",
   "execution_count": 36,
   "id": "46b2ff24",
   "metadata": {},
   "outputs": [
    {
     "name": "stdout",
     "output_type": "stream",
     "text": [
      "mean_absolute_error : 0.26\n",
      "mean_squared_error : 0.14\n",
      "root_mean_squared_error : 0.38\n",
      "rmpse : 0.03\n",
      "mean_absolute_percentage_error : 0.02\n",
      "r2_score : 0.91\n"
     ]
    }
   ],
   "source": [
    "random_forest_regressor = RandomForestRegressor(max_depth=50, min_samples_leaf=2, n_estimators=300,\n",
    "                      random_state=123)\n",
    "fit_predict_and_show_metrics(random_forest_regressor, X_train, X_test, y_train, y_test)"
   ]
  },
  {
   "cell_type": "code",
   "execution_count": 35,
   "id": "c675827e",
   "metadata": {},
   "outputs": [
    {
     "name": "stdout",
     "output_type": "stream",
     "text": [
      "[19:22:57] WARNING: d:\\bld\\xgboost-split_1619725139497\\work\\src\\objective\\regression_obj.cu:171: reg:linear is now deprecated in favor of reg:squarederror.\n",
      "[19:22:57] WARNING: ..\\src\\learner.cc:573: \n",
      "Parameters: { \"silent\" } might not be used.\n",
      "\n",
      "  This may not be accurate due to some parameters are only used in language bindings but\n",
      "  passed down to XGBoost core.  Or some parameters are not used but slip through this\n",
      "  verification. Please open an issue if you find above cases.\n",
      "\n",
      "\n",
      "best estimator : XGBRegressor(base_score=0.5, booster='gbtree', colsample_bylevel=1,\n",
      "             colsample_bynode=1, colsample_bytree=0.6, gamma=0.3, gpu_id=-1,\n",
      "             importance_type='gain', interaction_constraints='',\n",
      "             learning_rate=0.03, max_delta_step=0, max_depth=8,\n",
      "             min_child_weight=5, missing=nan, monotone_constraints='()',\n",
      "             n_estimators=500, n_jobs=4, nthread=4, num_parallel_tree=1,\n",
      "             objective='reg:linear', random_state=123, reg_alpha=0,\n",
      "             reg_lambda=1, scale_pos_weight=1, silent=1, subsample=0.9,\n",
      "             tree_method='exact', validate_parameters=1, verbosity=None)\n",
      "best score : 0.9181128318111208\n",
      "best params : {'colsample_bytree': 0.6, 'gamma': 0.3, 'learning_rate': 0.03, 'max_depth': 8, 'min_child_weight': 5, 'n_estimators': 500, 'nthread': 4, 'objective': 'reg:linear', 'silent': 1, 'subsample': 0.9}\n",
      "\n",
      "Temps de traitement total : 4470.434093952179 secondes\n"
     ]
    }
   ],
   "source": [
    "tps1 = time.time()\n",
    "xgb_regressor = xgb.XGBRegressor(random_state=123)\n",
    "parameters = {\n",
    "    'gamma':[ i/10.0 for i in range(3,6) ],\n",
    "    'nthread':[ 4 ],\n",
    "    'objective':[ 'reg:linear' ],\n",
    "    'learning_rate': [ .03, 0.05, .07 ],\n",
    "    'max_depth': [ 2, 4, 6, 8 ],\n",
    "    'min_child_weight': [4, 5],\n",
    "    'silent': [ 1 ],\n",
    "    'subsample': [ i/10.0 for i in range(6, 11) ],\n",
    "    'colsample_bytree': [ i/10.0 for i in range(6, 11) ],\n",
    "    'n_estimators': [ 500 ]\n",
    "}\n",
    "grid_search_cv = GridSearchCV(estimator = xgb_regressor, param_grid = parameters, cv = 3, n_jobs=-1)\n",
    "grid_search_cv.fit(X_train, y_train)\n",
    "print(\"best estimator :\", grid_search_cv.best_estimator_)\n",
    "print(\"best score :\", grid_search_cv.best_score_)\n",
    "print(\"best params :\", grid_search_cv.best_params_)\n",
    "tps2 = time.time()\n",
    "print(\"\\nTemps de traitement total :\", tps2 - tps1, \"secondes\")"
   ]
  },
  {
   "cell_type": "code",
   "execution_count": 38,
   "id": "fb49b956",
   "metadata": {},
   "outputs": [
    {
     "name": "stdout",
     "output_type": "stream",
     "text": [
      "[09:30:15] WARNING: d:\\bld\\xgboost-split_1619725139497\\work\\src\\objective\\regression_obj.cu:171: reg:linear is now deprecated in favor of reg:squarederror.\n",
      "[09:30:15] WARNING: ..\\src\\learner.cc:573: \n",
      "Parameters: { \"silent\" } might not be used.\n",
      "\n",
      "  This may not be accurate due to some parameters are only used in language bindings but\n",
      "  passed down to XGBoost core.  Or some parameters are not used but slip through this\n",
      "  verification. Please open an issue if you find above cases.\n",
      "\n",
      "\n",
      "mean_absolute_error : 0.25\n",
      "mean_squared_error : 0.12\n",
      "root_mean_squared_error : 0.35\n",
      "rmpse : 0.02\n",
      "mean_absolute_percentage_error : 0.02\n",
      "r2_score : 0.92\n"
     ]
    },
    {
     "name": "stderr",
     "output_type": "stream",
     "text": [
      "C:\\anaconda\\lib\\site-packages\\xgboost\\data.py:112: UserWarning: Use subset (sliced data) of np.ndarray is not recommended because it will generate extra copies and increase memory consumption\n",
      "  warnings.warn(\n"
     ]
    }
   ],
   "source": [
    "xgb_regressor = xgb.XGBRegressor(base_score=0.5, booster='gbtree', colsample_bylevel=1,\n",
    "             colsample_bynode=1, colsample_bytree=0.6, gamma=0.3, gpu_id=-1,\n",
    "             importance_type='gain', interaction_constraints='',\n",
    "             learning_rate=0.03, max_delta_step=0, max_depth=8,\n",
    "             min_child_weight=5, monotone_constraints='()',\n",
    "             n_estimators=500, n_jobs=4, nthread=4, num_parallel_tree=1,\n",
    "             objective='reg:linear', random_state=123, reg_alpha=0,\n",
    "             reg_lambda=1, scale_pos_weight=1, silent=1, subsample=0.9,\n",
    "             tree_method='exact', validate_parameters=1, verbosity=None)\n",
    "\n",
    "fit_predict_and_show_metrics(xgb_regressor, X_train, X_test, y_train, y_test)"
   ]
  }
 ],
 "metadata": {
  "kernelspec": {
   "display_name": "Python 3",
   "language": "python",
   "name": "python3"
  },
  "language_info": {
   "codemirror_mode": {
    "name": "ipython",
    "version": 3
   },
   "file_extension": ".py",
   "mimetype": "text/x-python",
   "name": "python",
   "nbconvert_exporter": "python",
   "pygments_lexer": "ipython3",
   "version": "3.8.8"
  }
 },
 "nbformat": 4,
 "nbformat_minor": 5
}
