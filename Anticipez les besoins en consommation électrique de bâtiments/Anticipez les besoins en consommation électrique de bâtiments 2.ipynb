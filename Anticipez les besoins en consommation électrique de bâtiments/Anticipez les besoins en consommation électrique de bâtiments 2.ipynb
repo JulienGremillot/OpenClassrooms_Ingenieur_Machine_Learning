{
 "cells": [
  {
   "cell_type": "code",
   "execution_count": 1,
   "id": "436b41ba",
   "metadata": {},
   "outputs": [],
   "source": [
    "# Je regroupe les imports en début de notebook\n",
    "import os\n",
    "import time\n",
    "import pandas as pd\n",
    "import numpy as np\n",
    "import matplotlib.pyplot as plt\n",
    "import matplotlib.cm as cm\n",
    "from sklearn.compose import ColumnTransformer\n",
    "from sklearn.preprocessing import StandardScaler\n",
    "from sklearn import neighbors\n",
    "from sklearn.dummy import DummyRegressor\n",
    "from sklearn.metrics import mean_absolute_error, mean_squared_error, mean_absolute_percentage_error, r2_score\n",
    "from sklearn.model_selection import train_test_split, GridSearchCV, ParameterGrid\n",
    "from sklearn.linear_model import Ridge, Lasso, LinearRegression\n",
    "from sklearn.ensemble import GradientBoostingRegressor, RandomForestRegressor\n",
    "import xgboost as xgb # installation : conda install -c conda-forge xgboost\n",
    "\n",
    "# Je me positionne dans mon répertoire de travail personnel\n",
    "os.chdir(\"C:\\\\Users\\\\Julien Gremillot\\\\OneDrive\\\\Documents\\\\OpenClassrooms\\\\Jupyter\")\n",
    "os.getcwd()\n",
    "\n",
    "# Lecture du fichier CSV\n",
    "data = pd.read_csv(\"building-energy-model-data.csv\", sep=',') # séparateur = virgule"
   ]
  },
  {
   "cell_type": "code",
   "execution_count": 2,
   "id": "efa9ca7f",
   "metadata": {},
   "outputs": [
    {
     "name": "stdout",
     "output_type": "stream",
     "text": [
      "['CouncilDistrictCode', 'NumberofBuildings', 'NumberofFloors', 'PropertyGFAParking', 'PropertyGFABuilding(s)', 'SecondLargestPropertyUseTypeGFA', 'ThirdLargestPropertyUseTypeGFA', 'ENERGYSTARScore', 'Latitude', 'Longitude', 'age', 'consommation', 'emissions', 'Office', 'Medical Office', 'Other', 'Retail Store', 'Non-Refrigerated Warehouse', 'K-12 School', 'Restaurant', 'Outpatient Rehabilitation/Physical Therapy', 'Automobile Dealership', 'Performing Arts', 'Hotel', 'Police Station', 'Other - Entertainment/Public Assembly', 'Library', 'Fitness Center/Health Club/Gym', 'Social/Meeting Hall', 'Courthouse', 'College/University', 'Self-Storage Facility', 'Other - Mall', 'Senior Care Community', 'Hospital (General Medical & Surgical)', 'Museum', 'Repair Services (Vehicle, Shoe, Locksmith, etc)', 'Other - Lodging/Residential', 'Residence Hall/Dormitory', 'Other/Specialty Hospital', 'Financial Office', 'Distribution Center', 'Parking', 'Multifamily Housing', 'Worship Facility', 'Data Center', 'Laboratory', 'Supermarket/Grocery Store', 'Urgent Care/Clinic/Other Outpatient', 'Other - Services', 'Strip Mall', 'Wholesale Club/Supercenter', 'Refrigerated Warehouse', 'Manufacturing/Industrial Plant', 'Other - Recreation', 'Lifestyle Center', 'Other - Public Services', 'Fire Station', 'Residential Care Facility', 'Bank Branch', 'Other - Education', 'Other - Restaurant/Bar', 'Food Service', 'Adult Education', 'Other - Utility', 'Movie Theater', 'Personal Services (Health/Beauty, Dry Cleaning, etc)', 'Pre-school/Daycare', 'Prison/Incarceration', 'Vocational School', 'Swimming Pool', 'Convenience Store without Gas Station', 'Enclosed Mall', 'Bar/Nightclub', 'Food Sales', 'Other - Technology/Science', 'Fast Food Restaurant', 'NonResidential', 'Campus', 'Nonresidential COS', 'SPS-District K-12', 'Nonresidential WA', 'Retail Store.1', 'Small- and Mid-Sized Office', 'Large Office', 'Non-Refrigerated Warehouse.1', 'Medical Office.1', 'Other.1', 'K-12 School.1', 'Worship Facility.1', 'Restaurant.1', 'Mixed Use Property', 'Hotel.1', 'University', 'Self-Storage Facility.1', 'Warehouse', 'Senior Care Community.1', 'Hospital', 'Residence Hall', 'Distribution Center.1', 'Supermarket / Grocery Store', 'Laboratory.1', 'Refrigerated Warehouse.1', 'Office.1', 'DOWNTOWN', 'LAKE UNION', 'GREATER DUWAMISH', 'EAST', 'NORTHWEST', 'SOUTHEAST', 'BALLARD', 'MAGNOLIA / QUEEN ANNE', 'NORTHEAST', 'NORTH', 'CENTRAL', 'SOUTHWEST', 'DELRIDGE', 'electricity', 'natural_gas', 'steam']\n"
     ]
    }
   ],
   "source": [
    "print(data.columns.tolist())"
   ]
  },
  {
   "cell_type": "code",
   "execution_count": 3,
   "id": "bd4fbd02",
   "metadata": {},
   "outputs": [
    {
     "name": "stdout",
     "output_type": "stream",
     "text": [
      "index_consommation = 11 \n",
      "index_emissions = 12\n"
     ]
    }
   ],
   "source": [
    "index_consommation = -1\n",
    "index_emissions = -1\n",
    "for i in range(len(data.columns)):\n",
    "    if data.iloc[:, i].name == 'consommation':\n",
    "        index_consommation = i\n",
    "    if data.iloc[:, i].name == 'emissions':\n",
    "        index_emissions = i\n",
    "print('index_consommation =', index_consommation, '\\nindex_emissions =', index_emissions)"
   ]
  },
  {
   "cell_type": "code",
   "execution_count": 4,
   "id": "5216e6a6",
   "metadata": {},
   "outputs": [
    {
     "name": "stdout",
     "output_type": "stream",
     "text": [
      "Données initiales : (1687, 120)\n",
      "Features : (1687, 118)\n",
      "Targets : (1687,) & (1687,)\n",
      "['CouncilDistrictCode', 'NumberofBuildings', 'NumberofFloors', 'PropertyGFAParking', 'PropertyGFABuilding(s)', 'SecondLargestPropertyUseTypeGFA', 'ThirdLargestPropertyUseTypeGFA', 'ENERGYSTARScore', 'Latitude', 'Longitude', 'age', 'Office', 'Medical Office', 'Other', 'Retail Store', 'Non-Refrigerated Warehouse', 'K-12 School', 'Restaurant', 'Outpatient Rehabilitation/Physical Therapy', 'Automobile Dealership', 'Performing Arts', 'Hotel', 'Police Station', 'Other - Entertainment/Public Assembly', 'Library', 'Fitness Center/Health Club/Gym', 'Social/Meeting Hall', 'Courthouse', 'College/University', 'Self-Storage Facility', 'Other - Mall', 'Senior Care Community', 'Hospital (General Medical & Surgical)', 'Museum', 'Repair Services (Vehicle, Shoe, Locksmith, etc)', 'Other - Lodging/Residential', 'Residence Hall/Dormitory', 'Other/Specialty Hospital', 'Financial Office', 'Distribution Center', 'Parking', 'Multifamily Housing', 'Worship Facility', 'Data Center', 'Laboratory', 'Supermarket/Grocery Store', 'Urgent Care/Clinic/Other Outpatient', 'Other - Services', 'Strip Mall', 'Wholesale Club/Supercenter', 'Refrigerated Warehouse', 'Manufacturing/Industrial Plant', 'Other - Recreation', 'Lifestyle Center', 'Other - Public Services', 'Fire Station', 'Residential Care Facility', 'Bank Branch', 'Other - Education', 'Other - Restaurant/Bar', 'Food Service', 'Adult Education', 'Other - Utility', 'Movie Theater', 'Personal Services (Health/Beauty, Dry Cleaning, etc)', 'Pre-school/Daycare', 'Prison/Incarceration', 'Vocational School', 'Swimming Pool', 'Convenience Store without Gas Station', 'Enclosed Mall', 'Bar/Nightclub', 'Food Sales', 'Other - Technology/Science', 'Fast Food Restaurant', 'NonResidential', 'Campus', 'Nonresidential COS', 'SPS-District K-12', 'Nonresidential WA', 'Retail Store.1', 'Small- and Mid-Sized Office', 'Large Office', 'Non-Refrigerated Warehouse.1', 'Medical Office.1', 'Other.1', 'K-12 School.1', 'Worship Facility.1', 'Restaurant.1', 'Mixed Use Property', 'Hotel.1', 'University', 'Self-Storage Facility.1', 'Warehouse', 'Senior Care Community.1', 'Hospital', 'Residence Hall', 'Distribution Center.1', 'Supermarket / Grocery Store', 'Laboratory.1', 'Refrigerated Warehouse.1', 'Office.1', 'DOWNTOWN', 'LAKE UNION', 'GREATER DUWAMISH', 'EAST', 'NORTHWEST', 'SOUTHEAST', 'BALLARD', 'MAGNOLIA / QUEEN ANNE', 'NORTHEAST', 'NORTH', 'CENTRAL', 'SOUTHWEST', 'DELRIDGE', 'electricity', 'natural_gas', 'steam'] \n",
      " 0    16.107916\n",
      "1    15.691287\n",
      "2    16.634519\n",
      "3    15.314463\n",
      "4    16.354152\n",
      "Name: consommation, dtype: float64 \n",
      " 0    4.234251\n",
      "1    3.855241\n",
      "2    4.760805\n",
      "3    4.902976\n",
      "4    5.424598\n",
      "Name: emissions, dtype: float64\n"
     ]
    }
   ],
   "source": [
    "# On récupère les features d'un côté...\n",
    "X = pd.concat([data.iloc[:,:index_consommation], data.iloc[:,index_emissions+1:]], axis = 1)\n",
    "\n",
    "# et les targets de l'autre\n",
    "y_consommation = data.iloc[:,index_consommation]\n",
    "y_emissions = data.iloc[:,index_emissions]\n",
    "\n",
    "print(\"Données initiales :\", data.shape)\n",
    "print(\"Features :\", X.shape)\n",
    "print(\"Targets :\", y_consommation.shape, \"&\", y_emissions.shape)\n",
    "print(X.columns.tolist(), \"\\n\", y_consommation.head(), \"\\n\", y_emissions.head())"
   ]
  },
  {
   "cell_type": "markdown",
   "id": "1e30f9e9",
   "metadata": {},
   "source": [
    "On commence par définir nos jeux de données pour le modèle de prédiction de la consommation d'énergie (y_consommation) et on standardise les données."
   ]
  },
  {
   "cell_type": "code",
   "execution_count": 5,
   "id": "efdfe924",
   "metadata": {},
   "outputs": [],
   "source": [
    "X_train, X_test, y_train, y_test = train_test_split(X, y_consommation, test_size=0.2)\n",
    "ct = ColumnTransformer([\n",
    "        ('transformer_categ_columns', StandardScaler(), \n",
    "           ['CouncilDistrictCode', 'NumberofBuildings', 'NumberofFloors', 'PropertyGFAParking', \n",
    "            'PropertyGFABuilding(s)', 'SecondLargestPropertyUseTypeGFA', 'ThirdLargestPropertyUseTypeGFA', \n",
    "            'ENERGYSTARScore', 'Latitude', 'Longitude', 'age'])\n",
    "    ], remainder='passthrough').fit(X_train)\n",
    "\n",
    "X_train_std = ct.transform(X_train)\n",
    "X_test_std = ct.transform(X_test)"
   ]
  },
  {
   "cell_type": "code",
   "execution_count": 6,
   "id": "432c3eaa",
   "metadata": {},
   "outputs": [
    {
     "data": {
      "text/html": [
       "<div>\n",
       "<style scoped>\n",
       "    .dataframe tbody tr th:only-of-type {\n",
       "        vertical-align: middle;\n",
       "    }\n",
       "\n",
       "    .dataframe tbody tr th {\n",
       "        vertical-align: top;\n",
       "    }\n",
       "\n",
       "    .dataframe thead th {\n",
       "        text-align: right;\n",
       "    }\n",
       "</style>\n",
       "<table border=\"1\" class=\"dataframe\">\n",
       "  <thead>\n",
       "    <tr style=\"text-align: right;\">\n",
       "      <th></th>\n",
       "      <th>CouncilDistrictCode</th>\n",
       "      <th>NumberofBuildings</th>\n",
       "      <th>NumberofFloors</th>\n",
       "      <th>PropertyGFAParking</th>\n",
       "      <th>PropertyGFABuilding(s)</th>\n",
       "      <th>SecondLargestPropertyUseTypeGFA</th>\n",
       "      <th>ThirdLargestPropertyUseTypeGFA</th>\n",
       "      <th>ENERGYSTARScore</th>\n",
       "      <th>Latitude</th>\n",
       "      <th>Longitude</th>\n",
       "      <th>...</th>\n",
       "      <th>BALLARD</th>\n",
       "      <th>MAGNOLIA / QUEEN ANNE</th>\n",
       "      <th>NORTHEAST</th>\n",
       "      <th>NORTH</th>\n",
       "      <th>CENTRAL</th>\n",
       "      <th>SOUTHWEST</th>\n",
       "      <th>DELRIDGE</th>\n",
       "      <th>electricity</th>\n",
       "      <th>natural_gas</th>\n",
       "      <th>steam</th>\n",
       "    </tr>\n",
       "  </thead>\n",
       "  <tbody>\n",
       "    <tr>\n",
       "      <th>864</th>\n",
       "      <td>6</td>\n",
       "      <td>1.0</td>\n",
       "      <td>3.0</td>\n",
       "      <td>0</td>\n",
       "      <td>53103</td>\n",
       "      <td>0.0</td>\n",
       "      <td>0.0</td>\n",
       "      <td>73.0</td>\n",
       "      <td>47.64975</td>\n",
       "      <td>-122.352890</td>\n",
       "      <td>...</td>\n",
       "      <td>1.0</td>\n",
       "      <td>0.0</td>\n",
       "      <td>0.0</td>\n",
       "      <td>0.0</td>\n",
       "      <td>0.0</td>\n",
       "      <td>0.0</td>\n",
       "      <td>0.0</td>\n",
       "      <td>1.0</td>\n",
       "      <td>0.0</td>\n",
       "      <td>0.0</td>\n",
       "    </tr>\n",
       "    <tr>\n",
       "      <th>1502</th>\n",
       "      <td>2</td>\n",
       "      <td>1.0</td>\n",
       "      <td>1.0</td>\n",
       "      <td>0</td>\n",
       "      <td>25620</td>\n",
       "      <td>0.0</td>\n",
       "      <td>0.0</td>\n",
       "      <td>82.0</td>\n",
       "      <td>47.54333</td>\n",
       "      <td>-122.327920</td>\n",
       "      <td>...</td>\n",
       "      <td>0.0</td>\n",
       "      <td>0.0</td>\n",
       "      <td>0.0</td>\n",
       "      <td>0.0</td>\n",
       "      <td>0.0</td>\n",
       "      <td>0.0</td>\n",
       "      <td>0.0</td>\n",
       "      <td>0.0</td>\n",
       "      <td>1.0</td>\n",
       "      <td>0.0</td>\n",
       "    </tr>\n",
       "    <tr>\n",
       "      <th>545</th>\n",
       "      <td>7</td>\n",
       "      <td>1.0</td>\n",
       "      <td>6.0</td>\n",
       "      <td>0</td>\n",
       "      <td>86204</td>\n",
       "      <td>13534.0</td>\n",
       "      <td>0.0</td>\n",
       "      <td>89.0</td>\n",
       "      <td>47.60223</td>\n",
       "      <td>-122.336020</td>\n",
       "      <td>...</td>\n",
       "      <td>0.0</td>\n",
       "      <td>0.0</td>\n",
       "      <td>0.0</td>\n",
       "      <td>0.0</td>\n",
       "      <td>0.0</td>\n",
       "      <td>0.0</td>\n",
       "      <td>0.0</td>\n",
       "      <td>1.0</td>\n",
       "      <td>0.0</td>\n",
       "      <td>0.0</td>\n",
       "    </tr>\n",
       "    <tr>\n",
       "      <th>589</th>\n",
       "      <td>7</td>\n",
       "      <td>1.0</td>\n",
       "      <td>13.0</td>\n",
       "      <td>74481</td>\n",
       "      <td>219322</td>\n",
       "      <td>70603.0</td>\n",
       "      <td>0.0</td>\n",
       "      <td>25.0</td>\n",
       "      <td>47.60582</td>\n",
       "      <td>-122.334640</td>\n",
       "      <td>...</td>\n",
       "      <td>0.0</td>\n",
       "      <td>0.0</td>\n",
       "      <td>0.0</td>\n",
       "      <td>0.0</td>\n",
       "      <td>0.0</td>\n",
       "      <td>0.0</td>\n",
       "      <td>0.0</td>\n",
       "      <td>1.0</td>\n",
       "      <td>0.0</td>\n",
       "      <td>0.0</td>\n",
       "    </tr>\n",
       "    <tr>\n",
       "      <th>31</th>\n",
       "      <td>7</td>\n",
       "      <td>1.0</td>\n",
       "      <td>41.0</td>\n",
       "      <td>196718</td>\n",
       "      <td>759392</td>\n",
       "      <td>0.0</td>\n",
       "      <td>0.0</td>\n",
       "      <td>43.0</td>\n",
       "      <td>47.61393</td>\n",
       "      <td>-122.338100</td>\n",
       "      <td>...</td>\n",
       "      <td>0.0</td>\n",
       "      <td>0.0</td>\n",
       "      <td>0.0</td>\n",
       "      <td>0.0</td>\n",
       "      <td>0.0</td>\n",
       "      <td>0.0</td>\n",
       "      <td>0.0</td>\n",
       "      <td>1.0</td>\n",
       "      <td>0.0</td>\n",
       "      <td>0.0</td>\n",
       "    </tr>\n",
       "    <tr>\n",
       "      <th>...</th>\n",
       "      <td>...</td>\n",
       "      <td>...</td>\n",
       "      <td>...</td>\n",
       "      <td>...</td>\n",
       "      <td>...</td>\n",
       "      <td>...</td>\n",
       "      <td>...</td>\n",
       "      <td>...</td>\n",
       "      <td>...</td>\n",
       "      <td>...</td>\n",
       "      <td>...</td>\n",
       "      <td>...</td>\n",
       "      <td>...</td>\n",
       "      <td>...</td>\n",
       "      <td>...</td>\n",
       "      <td>...</td>\n",
       "      <td>...</td>\n",
       "      <td>...</td>\n",
       "      <td>...</td>\n",
       "      <td>...</td>\n",
       "      <td>...</td>\n",
       "    </tr>\n",
       "    <tr>\n",
       "      <th>1053</th>\n",
       "      <td>1</td>\n",
       "      <td>1.0</td>\n",
       "      <td>1.0</td>\n",
       "      <td>0</td>\n",
       "      <td>24100</td>\n",
       "      <td>3500.0</td>\n",
       "      <td>0.0</td>\n",
       "      <td>22.0</td>\n",
       "      <td>47.55832</td>\n",
       "      <td>-122.352390</td>\n",
       "      <td>...</td>\n",
       "      <td>0.0</td>\n",
       "      <td>0.0</td>\n",
       "      <td>0.0</td>\n",
       "      <td>0.0</td>\n",
       "      <td>0.0</td>\n",
       "      <td>0.0</td>\n",
       "      <td>0.0</td>\n",
       "      <td>0.0</td>\n",
       "      <td>1.0</td>\n",
       "      <td>0.0</td>\n",
       "    </tr>\n",
       "    <tr>\n",
       "      <th>22</th>\n",
       "      <td>7</td>\n",
       "      <td>1.0</td>\n",
       "      <td>2.0</td>\n",
       "      <td>0</td>\n",
       "      <td>23000</td>\n",
       "      <td>0.0</td>\n",
       "      <td>0.0</td>\n",
       "      <td>73.0</td>\n",
       "      <td>47.63453</td>\n",
       "      <td>-122.375757</td>\n",
       "      <td>...</td>\n",
       "      <td>0.0</td>\n",
       "      <td>1.0</td>\n",
       "      <td>0.0</td>\n",
       "      <td>0.0</td>\n",
       "      <td>0.0</td>\n",
       "      <td>0.0</td>\n",
       "      <td>0.0</td>\n",
       "      <td>1.0</td>\n",
       "      <td>0.0</td>\n",
       "      <td>0.0</td>\n",
       "    </tr>\n",
       "    <tr>\n",
       "      <th>657</th>\n",
       "      <td>4</td>\n",
       "      <td>1.0</td>\n",
       "      <td>2.0</td>\n",
       "      <td>0</td>\n",
       "      <td>22220</td>\n",
       "      <td>0.0</td>\n",
       "      <td>0.0</td>\n",
       "      <td>90.0</td>\n",
       "      <td>47.67738</td>\n",
       "      <td>-122.289960</td>\n",
       "      <td>...</td>\n",
       "      <td>0.0</td>\n",
       "      <td>0.0</td>\n",
       "      <td>0.0</td>\n",
       "      <td>1.0</td>\n",
       "      <td>0.0</td>\n",
       "      <td>0.0</td>\n",
       "      <td>0.0</td>\n",
       "      <td>0.0</td>\n",
       "      <td>1.0</td>\n",
       "      <td>0.0</td>\n",
       "    </tr>\n",
       "    <tr>\n",
       "      <th>1332</th>\n",
       "      <td>5</td>\n",
       "      <td>1.0</td>\n",
       "      <td>2.0</td>\n",
       "      <td>0</td>\n",
       "      <td>21936</td>\n",
       "      <td>0.0</td>\n",
       "      <td>0.0</td>\n",
       "      <td>96.0</td>\n",
       "      <td>47.70901</td>\n",
       "      <td>-122.354980</td>\n",
       "      <td>...</td>\n",
       "      <td>0.0</td>\n",
       "      <td>0.0</td>\n",
       "      <td>0.0</td>\n",
       "      <td>0.0</td>\n",
       "      <td>1.0</td>\n",
       "      <td>0.0</td>\n",
       "      <td>0.0</td>\n",
       "      <td>0.0</td>\n",
       "      <td>1.0</td>\n",
       "      <td>0.0</td>\n",
       "    </tr>\n",
       "    <tr>\n",
       "      <th>411</th>\n",
       "      <td>2</td>\n",
       "      <td>1.0</td>\n",
       "      <td>1.0</td>\n",
       "      <td>0</td>\n",
       "      <td>55700</td>\n",
       "      <td>0.0</td>\n",
       "      <td>0.0</td>\n",
       "      <td>63.0</td>\n",
       "      <td>47.54912</td>\n",
       "      <td>-122.328190</td>\n",
       "      <td>...</td>\n",
       "      <td>0.0</td>\n",
       "      <td>0.0</td>\n",
       "      <td>0.0</td>\n",
       "      <td>0.0</td>\n",
       "      <td>0.0</td>\n",
       "      <td>0.0</td>\n",
       "      <td>0.0</td>\n",
       "      <td>1.0</td>\n",
       "      <td>0.0</td>\n",
       "      <td>0.0</td>\n",
       "    </tr>\n",
       "  </tbody>\n",
       "</table>\n",
       "<p>1349 rows × 118 columns</p>\n",
       "</div>"
      ],
      "text/plain": [
       "      CouncilDistrictCode  NumberofBuildings  NumberofFloors  \\\n",
       "864                     6                1.0             3.0   \n",
       "1502                    2                1.0             1.0   \n",
       "545                     7                1.0             6.0   \n",
       "589                     7                1.0            13.0   \n",
       "31                      7                1.0            41.0   \n",
       "...                   ...                ...             ...   \n",
       "1053                    1                1.0             1.0   \n",
       "22                      7                1.0             2.0   \n",
       "657                     4                1.0             2.0   \n",
       "1332                    5                1.0             2.0   \n",
       "411                     2                1.0             1.0   \n",
       "\n",
       "      PropertyGFAParking  PropertyGFABuilding(s)  \\\n",
       "864                    0                   53103   \n",
       "1502                   0                   25620   \n",
       "545                    0                   86204   \n",
       "589                74481                  219322   \n",
       "31                196718                  759392   \n",
       "...                  ...                     ...   \n",
       "1053                   0                   24100   \n",
       "22                     0                   23000   \n",
       "657                    0                   22220   \n",
       "1332                   0                   21936   \n",
       "411                    0                   55700   \n",
       "\n",
       "      SecondLargestPropertyUseTypeGFA  ThirdLargestPropertyUseTypeGFA  \\\n",
       "864                               0.0                             0.0   \n",
       "1502                              0.0                             0.0   \n",
       "545                           13534.0                             0.0   \n",
       "589                           70603.0                             0.0   \n",
       "31                                0.0                             0.0   \n",
       "...                               ...                             ...   \n",
       "1053                           3500.0                             0.0   \n",
       "22                                0.0                             0.0   \n",
       "657                               0.0                             0.0   \n",
       "1332                              0.0                             0.0   \n",
       "411                               0.0                             0.0   \n",
       "\n",
       "      ENERGYSTARScore  Latitude   Longitude  ...  BALLARD  \\\n",
       "864              73.0  47.64975 -122.352890  ...      1.0   \n",
       "1502             82.0  47.54333 -122.327920  ...      0.0   \n",
       "545              89.0  47.60223 -122.336020  ...      0.0   \n",
       "589              25.0  47.60582 -122.334640  ...      0.0   \n",
       "31               43.0  47.61393 -122.338100  ...      0.0   \n",
       "...               ...       ...         ...  ...      ...   \n",
       "1053             22.0  47.55832 -122.352390  ...      0.0   \n",
       "22               73.0  47.63453 -122.375757  ...      0.0   \n",
       "657              90.0  47.67738 -122.289960  ...      0.0   \n",
       "1332             96.0  47.70901 -122.354980  ...      0.0   \n",
       "411              63.0  47.54912 -122.328190  ...      0.0   \n",
       "\n",
       "      MAGNOLIA / QUEEN ANNE  NORTHEAST  NORTH  CENTRAL  SOUTHWEST  DELRIDGE  \\\n",
       "864                     0.0        0.0    0.0      0.0        0.0       0.0   \n",
       "1502                    0.0        0.0    0.0      0.0        0.0       0.0   \n",
       "545                     0.0        0.0    0.0      0.0        0.0       0.0   \n",
       "589                     0.0        0.0    0.0      0.0        0.0       0.0   \n",
       "31                      0.0        0.0    0.0      0.0        0.0       0.0   \n",
       "...                     ...        ...    ...      ...        ...       ...   \n",
       "1053                    0.0        0.0    0.0      0.0        0.0       0.0   \n",
       "22                      1.0        0.0    0.0      0.0        0.0       0.0   \n",
       "657                     0.0        0.0    1.0      0.0        0.0       0.0   \n",
       "1332                    0.0        0.0    0.0      1.0        0.0       0.0   \n",
       "411                     0.0        0.0    0.0      0.0        0.0       0.0   \n",
       "\n",
       "      electricity  natural_gas  steam  \n",
       "864           1.0          0.0    0.0  \n",
       "1502          0.0          1.0    0.0  \n",
       "545           1.0          0.0    0.0  \n",
       "589           1.0          0.0    0.0  \n",
       "31            1.0          0.0    0.0  \n",
       "...           ...          ...    ...  \n",
       "1053          0.0          1.0    0.0  \n",
       "22            1.0          0.0    0.0  \n",
       "657           0.0          1.0    0.0  \n",
       "1332          0.0          1.0    0.0  \n",
       "411           1.0          0.0    0.0  \n",
       "\n",
       "[1349 rows x 118 columns]"
      ]
     },
     "execution_count": 6,
     "metadata": {},
     "output_type": "execute_result"
    }
   ],
   "source": [
    "X_train"
   ]
  },
  {
   "cell_type": "code",
   "execution_count": 7,
   "id": "8dbcd0d8",
   "metadata": {},
   "outputs": [
    {
     "data": {
      "text/plain": [
       "array([[ 0.7540178 , -0.07063487, -0.17457491, ...,  1.        ,\n",
       "         0.        ,  0.        ],\n",
       "       [-1.07214022, -0.07063487, -0.5051034 , ...,  0.        ,\n",
       "         1.        ,  0.        ],\n",
       "       [ 1.21055731, -0.07063487,  0.32121783, ...,  1.        ,\n",
       "         0.        ,  0.        ],\n",
       "       ...,\n",
       "       [-0.15906121, -0.07063487, -0.33983915, ...,  0.        ,\n",
       "         1.        ,  0.        ],\n",
       "       [ 0.2974783 , -0.07063487, -0.33983915, ...,  0.        ,\n",
       "         1.        ,  0.        ],\n",
       "       [-1.07214022, -0.07063487, -0.5051034 , ...,  1.        ,\n",
       "         0.        ,  0.        ]])"
      ]
     },
     "execution_count": 7,
     "metadata": {},
     "output_type": "execute_result"
    }
   ],
   "source": [
    "X_train_std"
   ]
  },
  {
   "cell_type": "markdown",
   "id": "d35719c3",
   "metadata": {},
   "source": [
    "Ici on définit une première fonction qui va nous afficher les différentes mesures de qualité d'après les prédictions de nos modèles et une seconde fonction qui va entrainer le modèle du type passé en paramètre, faire des prédictions et appeler la première méthode pour afficher les résultats de ce modèle."
   ]
  },
  {
   "cell_type": "code",
   "execution_count": 8,
   "id": "3a353537",
   "metadata": {},
   "outputs": [],
   "source": [
    "mean_absolute_errors = {}\n",
    "mean_squared_errors = {}\n",
    "root_mean_squared_errors = {}\n",
    "rmpses = {}\n",
    "mean_absolute_percentage_errors = {}\n",
    "r2_scores = {}\n",
    "fit_times = {}\n",
    "predict_times = {}\n",
    "\n",
    "def fit_predict_and_show_metrics(model, Xtrain, Xtest, ytrain, ytest, model_name):\n",
    "    \"\"\"\n",
    "    Réalise l'entrainement du modèle et la prédiction sur les données de test,\n",
    "    puis calcule les métriques d'évaluation\n",
    "    \"\"\"\n",
    "    tps1 = time.time()\n",
    "    model.fit(Xtrain, ytrain)\n",
    "    tps2 = time.time()\n",
    "    ypred = model.predict(Xtest)\n",
    "    fit_times[model_name] = tps2 - tps1\n",
    "    predict_times[model_name] = time.time() - tps2\n",
    "    mean_absolute_errors[model_name] = mean_absolute_error(ytest, ypred)\n",
    "    mean_squared_errors[model_name] = mean_squared_error(ytest, ypred)\n",
    "    root_mean_squared_errors[model_name] = np.sqrt(mean_squared_errors[model_name])\n",
    "    rmpses[model_name] = np.sqrt(np.mean(np.square(((ytest - ypred) / ytest))))\n",
    "    mean_absolute_percentage_errors[model_name] = mean_absolute_percentage_error(ytest, ypred)\n",
    "    r2_scores[model_name] = r2_score(ytest, ypred)\n",
    "    print(\"===\", model_name, \"===\")\n",
    "    print(\"mean_absolute_error : {:.2f}\".format(mean_absolute_errors[model_name]))\n",
    "    print(\"mean_squared_error : {:.2f}\".format(mean_squared_errors[model_name]))\n",
    "    print(\"root_mean_squared_error : {:.2f}\".format(root_mean_squared_errors[model_name]))\n",
    "    print(\"rmpse : {:.2f}\".format(rmpses[model_name]))\n",
    "    print(\"mean_absolute_percentage_error : {:.2f}\".format(mean_absolute_percentage_errors[model_name]))\n",
    "    print(\"r2_score : {:.2f}\".format(r2_scores[model_name]))\n",
    "    print(\"fit_time : {:.2f}\".format(fit_times[model_name]))\n",
    "    print(\"predict_time : {:.2f}\\n\".format(predict_times[model_name]))"
   ]
  },
  {
   "cell_type": "markdown",
   "id": "3b184faa",
   "metadata": {},
   "source": [
    "On commence par entrainer un modèle \"Dummy\" (qui renvoie toujours la médiane) afin d'avoir une base de comparaison des autres résultats"
   ]
  },
  {
   "cell_type": "code",
   "execution_count": 9,
   "id": "86c42757",
   "metadata": {},
   "outputs": [
    {
     "name": "stdout",
     "output_type": "stream",
     "text": [
      "=== DummyRegressor ===\n",
      "mean_absolute_error : 1.01\n",
      "mean_squared_error : 1.61\n",
      "root_mean_squared_error : 1.27\n",
      "rmpse : 0.09\n",
      "mean_absolute_percentage_error : 0.07\n",
      "r2_score : -0.02\n",
      "fit_time : 0.00\n",
      "predict_time : 0.00\n",
      "\n"
     ]
    }
   ],
   "source": [
    "dummy_regressor = DummyRegressor(strategy=\"median\")\n",
    "fit_predict_and_show_metrics(dummy_regressor, X_train_std, X_test_std, y_train, y_test, 'DummyRegressor')"
   ]
  },
  {
   "cell_type": "markdown",
   "id": "78c6ed13",
   "metadata": {},
   "source": [
    "Puis on affiche les scores pour un modèle de régression linéaire et ses dérivées Ridge et Lasso :"
   ]
  },
  {
   "cell_type": "code",
   "execution_count": 10,
   "id": "bb33b4f7",
   "metadata": {},
   "outputs": [
    {
     "name": "stdout",
     "output_type": "stream",
     "text": [
      "=== LinearRegression ===\n",
      "mean_absolute_error : 0.62\n",
      "mean_squared_error : 0.69\n",
      "root_mean_squared_error : 0.83\n",
      "rmpse : 0.06\n",
      "mean_absolute_percentage_error : 0.04\n",
      "r2_score : 0.56\n",
      "fit_time : 0.02\n",
      "predict_time : 0.00\n",
      "\n"
     ]
    }
   ],
   "source": [
    "linear_regression = LinearRegression()   \n",
    "fit_predict_and_show_metrics(linear_regression, X_train, X_test, y_train, y_test, 'LinearRegression')"
   ]
  },
  {
   "cell_type": "code",
   "execution_count": 11,
   "id": "8b4619e4",
   "metadata": {},
   "outputs": [
    {
     "name": "stdout",
     "output_type": "stream",
     "text": [
      "=== Ridge ===\n",
      "mean_absolute_error : 0.61\n",
      "mean_squared_error : 0.67\n",
      "root_mean_squared_error : 0.82\n",
      "rmpse : 0.06\n",
      "mean_absolute_percentage_error : 0.04\n",
      "r2_score : 0.58\n",
      "fit_time : 0.00\n",
      "predict_time : 0.00\n",
      "\n"
     ]
    }
   ],
   "source": [
    "ridge = Ridge(random_state=123)\n",
    "fit_predict_and_show_metrics(ridge, X_train_std, X_test_std, y_train, y_test, 'Ridge')"
   ]
  },
  {
   "cell_type": "code",
   "execution_count": 12,
   "id": "a93a1754",
   "metadata": {},
   "outputs": [
    {
     "name": "stdout",
     "output_type": "stream",
     "text": [
      "=== Lasso ===\n",
      "mean_absolute_error : 1.01\n",
      "mean_squared_error : 1.58\n",
      "root_mean_squared_error : 1.26\n",
      "rmpse : 0.09\n",
      "mean_absolute_percentage_error : 0.07\n",
      "r2_score : -0.00\n",
      "fit_time : 0.00\n",
      "predict_time : 0.00\n",
      "\n"
     ]
    }
   ],
   "source": [
    "lasso = Lasso(random_state=123)\n",
    "fit_predict_and_show_metrics(lasso, X_train_std, X_test_std, y_train, y_test, 'Lasso')"
   ]
  },
  {
   "cell_type": "markdown",
   "id": "6a26be22",
   "metadata": {},
   "source": [
    "Pour ces 3 modèles linéaires, on constate que les scores sont \"catastrophiques\" : moins bons que le modèle Dummy utilisé comme référence.\n",
    "\n",
    "On va donc tester 3 autres types de modèles non-linéaires : le Gradient, le Random Forest et le Gradient Boosting."
   ]
  },
  {
   "cell_type": "code",
   "execution_count": 13,
   "id": "32e127cc",
   "metadata": {},
   "outputs": [
    {
     "name": "stdout",
     "output_type": "stream",
     "text": [
      "=== GradientBoostingRegressor ===\n",
      "mean_absolute_error : 0.39\n",
      "mean_squared_error : 0.31\n",
      "root_mean_squared_error : 0.55\n",
      "rmpse : 0.04\n",
      "mean_absolute_percentage_error : 0.03\n",
      "r2_score : 0.81\n",
      "fit_time : 0.38\n",
      "predict_time : 0.00\n",
      "\n",
      "---\n",
      "=== RandomForestRegressor ===\n",
      "mean_absolute_error : 0.42\n",
      "mean_squared_error : 0.36\n",
      "root_mean_squared_error : 0.60\n",
      "rmpse : 0.04\n",
      "mean_absolute_percentage_error : 0.03\n",
      "r2_score : 0.77\n",
      "fit_time : 1.14\n",
      "predict_time : 0.02\n",
      "\n",
      "---\n",
      "=== XGBRegressor ===\n",
      "mean_absolute_error : 0.42\n",
      "mean_squared_error : 0.35\n",
      "root_mean_squared_error : 0.59\n",
      "rmpse : 0.04\n",
      "mean_absolute_percentage_error : 0.03\n",
      "r2_score : 0.78\n",
      "fit_time : 0.25\n",
      "predict_time : 0.00\n",
      "\n"
     ]
    },
    {
     "name": "stderr",
     "output_type": "stream",
     "text": [
      "C:\\anaconda\\lib\\site-packages\\xgboost\\data.py:112: UserWarning: Use subset (sliced data) of np.ndarray is not recommended because it will generate extra copies and increase memory consumption\n",
      "  warnings.warn(\n"
     ]
    }
   ],
   "source": [
    "gradient_boosting_regressor = GradientBoostingRegressor(random_state=123)\n",
    "fit_predict_and_show_metrics(gradient_boosting_regressor, X_train, X_test, y_train, y_test, 'GradientBoostingRegressor')\n",
    "print(\"---\")\n",
    "random_forest_regressor = RandomForestRegressor(random_state=123)\n",
    "fit_predict_and_show_metrics(random_forest_regressor, X_train, X_test, y_train, y_test, 'RandomForestRegressor')\n",
    "print(\"---\")\n",
    "xgb_regressor = xgb.XGBRegressor(random_state=123)\n",
    "fit_predict_and_show_metrics(xgb_regressor, X_train, X_test, y_train, y_test, 'XGBRegressor')"
   ]
  },
  {
   "cell_type": "code",
   "execution_count": 14,
   "id": "35bf1159",
   "metadata": {},
   "outputs": [
    {
     "data": {
      "text/plain": [
       "{'alpha': 0.9,\n",
       " 'ccp_alpha': 0.0,\n",
       " 'criterion': 'friedman_mse',\n",
       " 'init': None,\n",
       " 'learning_rate': 0.1,\n",
       " 'loss': 'ls',\n",
       " 'max_depth': 3,\n",
       " 'max_features': None,\n",
       " 'max_leaf_nodes': None,\n",
       " 'min_impurity_decrease': 0.0,\n",
       " 'min_impurity_split': None,\n",
       " 'min_samples_leaf': 1,\n",
       " 'min_samples_split': 2,\n",
       " 'min_weight_fraction_leaf': 0.0,\n",
       " 'n_estimators': 100,\n",
       " 'n_iter_no_change': None,\n",
       " 'random_state': 123,\n",
       " 'subsample': 1.0,\n",
       " 'tol': 0.0001,\n",
       " 'validation_fraction': 0.1,\n",
       " 'verbose': 0,\n",
       " 'warm_start': False}"
      ]
     },
     "execution_count": 14,
     "metadata": {},
     "output_type": "execute_result"
    }
   ],
   "source": [
    "gradient_boosting_regressor.get_params()"
   ]
  },
  {
   "cell_type": "markdown",
   "id": "26c3dd0a",
   "metadata": {},
   "source": [
    "D'après les chiffres obtenus avec leur paramètres par défaut, les 3 modèles sont d'une performance équivalente avec un score R2 autour des 78-79%.\n",
    "Nous allons donc essayer d'afiner ces résultats en modifiant leurs paramètres."
   ]
  },
  {
   "cell_type": "code",
   "execution_count": 15,
   "id": "f5cd3add",
   "metadata": {},
   "outputs": [
    {
     "name": "stdout",
     "output_type": "stream",
     "text": [
      "Nombre de combinaisons de paramètres étudiées : 192\n"
     ]
    },
    {
     "name": "stderr",
     "output_type": "stream",
     "text": [
      "C:\\anaconda\\lib\\site-packages\\sklearn\\model_selection\\_search.py:918: UserWarning: One or more of the test scores are non-finite: [ 4.91438470e-01  4.86029281e-01  4.79117074e-01             nan\n",
      "  7.18718630e-01  7.15741360e-01  6.99663049e-01             nan\n",
      "  7.56760074e-01  7.63993492e-01  7.46895420e-01             nan\n",
      "  5.31117988e-01  5.36255901e-01  5.27978184e-01             nan\n",
      "  7.45248572e-01  7.49943009e-01  7.35088615e-01             nan\n",
      "  7.67499010e-01  7.80235987e-01  7.66453559e-01             nan\n",
      "  5.67291726e-01  5.86654997e-01  5.75779271e-01             nan\n",
      "  7.65048477e-01  7.66702896e-01  7.49616322e-01             nan\n",
      "  7.77114601e-01  7.78639389e-01  7.59784690e-01             nan\n",
      "  5.88950168e-01  6.22282196e-01  6.00888715e-01             nan\n",
      "  7.72515724e-01  7.62537846e-01  7.09558588e-01             nan\n",
      "  7.78767881e-01  7.66053361e-01  7.12762534e-01             nan\n",
      "  7.37766767e-01  7.59067702e-01  7.48144373e-01             nan\n",
      "  7.37148886e-01  7.76972734e-01  7.79447144e-01             nan\n",
      "  7.22975899e-01  7.71723051e-01  7.72973812e-01             nan\n",
      "  7.35867123e-01  7.71439822e-01  7.66155406e-01             nan\n",
      "  7.24524061e-01  7.69753799e-01  7.64333361e-01             nan\n",
      "  6.96194900e-01  7.56478304e-01  7.57470408e-01             nan\n",
      "  7.22717586e-01  7.66403938e-01  7.63196244e-01             nan\n",
      "  6.77367621e-01  7.56275346e-01  7.55145267e-01             nan\n",
      "  6.64804888e-01  7.53427696e-01  7.53333014e-01             nan\n",
      "  7.13635494e-01  7.48259233e-01  7.05484092e-01             nan\n",
      "  6.62632837e-01  7.46890602e-01  7.05874659e-01             nan\n",
      "  6.58848717e-01  7.46889906e-01  7.05874985e-01             nan\n",
      "  6.97076297e-01  7.68946397e-01  7.70248166e-01             nan\n",
      "  6.17199048e-01  7.57380634e-01  7.71453103e-01             nan\n",
      "  5.40388074e-01  7.41511174e-01  7.56682618e-01             nan\n",
      "  6.91189211e-01  7.59782319e-01  7.71380876e-01             nan\n",
      "  5.69123125e-01  7.35970438e-01  7.51032258e-01             nan\n",
      "  4.70617508e-01  7.30152040e-01  7.43025658e-01             nan\n",
      "  5.77260526e-01  7.42214612e-01  7.49646207e-01             nan\n",
      "  3.19273902e-01  7.32834057e-01  7.40426747e-01             nan\n",
      "  1.98231003e-01  7.32584650e-01  7.40212688e-01             nan\n",
      "  4.49047659e-01  7.22026112e-01  6.94385082e-01             nan\n",
      "  1.45489461e-01  7.21563805e-01  6.94453207e-01             nan\n",
      "  8.91955388e-02  7.21563804e-01  6.94453208e-01             nan\n",
      "  2.71952764e-01  7.18679733e-01  7.50041785e-01             nan\n",
      " -1.08672113e+01  6.64300811e-01  7.21489125e-01             nan\n",
      " -1.68916238e+02  6.38652640e-01  7.08074137e-01             nan\n",
      " -8.78395995e-01  6.67451580e-01  7.36422067e-01             nan\n",
      " -2.26580906e+02  6.29275341e-01  7.15680317e-01             nan\n",
      " -5.99790305e+05  6.24761915e-01  7.15020667e-01             nan\n",
      " -1.34437779e+01  5.98671544e-01  6.84683265e-01             nan\n",
      " -4.34003220e+05  5.87191294e-01  6.83578116e-01             nan\n",
      " -2.73561274e+11  5.87181861e-01  6.83578044e-01             nan\n",
      " -3.66070017e+02  5.42914815e-01  6.77169766e-01             nan\n",
      " -1.75891507e+13  5.42888158e-01  6.77169777e-01             nan\n",
      " -1.68201439e+26  5.42888158e-01  6.77169777e-01             nan]\n",
      "  warnings.warn(\n"
     ]
    },
    {
     "name": "stdout",
     "output_type": "stream",
     "text": [
      "best estimator : GradientBoostingRegressor(learning_rate=0.01, n_estimators=1000,\n",
      "                          random_state=123, subsample=0.5)\n",
      "best score : 0.7802359867393864\n",
      "best params : {'learning_rate': 0.01, 'max_depth': 3, 'n_estimators': 1000, 'subsample': 0.5}\n",
      "\n",
      "Temps de traitement total : 183.19493412971497 secondes\n"
     ]
    }
   ],
   "source": [
    "def show_best_params_cv(estimator, parameters, X_train, y_train):\n",
    "    tps1 = time.time()\n",
    "    print(\"Nombre de combinaisons de paramètres étudiées :\", len(ParameterGrid(parameters)))\n",
    "    grid_search_cv = GridSearchCV(estimator = estimator, param_grid = parameters, cv = 3, n_jobs=-1)\n",
    "    grid_search_cv.fit(X_train, y_train)\n",
    "    print(\"best estimator :\", grid_search_cv.best_estimator_)\n",
    "    print(\"best score :\", grid_search_cv.best_score_)\n",
    "    print(\"best params :\", grid_search_cv.best_params_)\n",
    "    tps2 = time.time()\n",
    "    print(\"\\nTemps de traitement total :\", tps2 - tps1, \"secondes\")\n",
    "    \n",
    "gradient_boosting_regressor_parameters = {\n",
    "    'learning_rate': [ 0.01, 0.1, 0.2, 0.5 ],\n",
    "    'subsample'    : [ 0.1, 0.5, 1, 2 ],\n",
    "    'n_estimators' : [ 100, 500, 1000 ],\n",
    "    'max_depth'    : [ 2, 3, 5, 10 ]\n",
    "}\n",
    "show_best_params_cv(GradientBoostingRegressor(random_state=123), gradient_boosting_regressor_parameters, X_train, y_train)"
   ]
  },
  {
   "cell_type": "markdown",
   "id": "3c3a49e5",
   "metadata": {},
   "source": [
    "On ré-exécute le Gradient avec les meilleurs paramètres trouvés sur le jeu de test afin de vérifier son score via la méthode précédente."
   ]
  },
  {
   "cell_type": "code",
   "execution_count": 16,
   "id": "d9ae2465",
   "metadata": {},
   "outputs": [
    {
     "name": "stdout",
     "output_type": "stream",
     "text": [
      "=== GradientBoostingRegressor ===\n",
      "mean_absolute_error : 0.38\n",
      "mean_squared_error : 0.31\n",
      "root_mean_squared_error : 0.55\n",
      "rmpse : 0.04\n",
      "mean_absolute_percentage_error : 0.03\n",
      "r2_score : 0.81\n",
      "fit_time : 3.80\n",
      "predict_time : 0.01\n",
      "\n"
     ]
    }
   ],
   "source": [
    "gradient_boosting_regressor = GradientBoostingRegressor(learning_rate=0.01, max_depth=5, n_estimators=1000,\n",
    "                          random_state=123, subsample=0.5)\n",
    "fit_predict_and_show_metrics(gradient_boosting_regressor, X_train, X_test, y_train, y_test, 'GradientBoostingRegressor')"
   ]
  },
  {
   "cell_type": "markdown",
   "id": "1c84c0c9",
   "metadata": {},
   "source": [
    "On essaie d'affiner les résultats du Random Forest, pour voir s'il dépasse le Gradient avec des meilleurs paramètres."
   ]
  },
  {
   "cell_type": "code",
   "execution_count": 17,
   "id": "8fb668ff",
   "metadata": {},
   "outputs": [
    {
     "data": {
      "text/plain": [
       "{'bootstrap': True,\n",
       " 'ccp_alpha': 0.0,\n",
       " 'criterion': 'mse',\n",
       " 'max_depth': None,\n",
       " 'max_features': 'auto',\n",
       " 'max_leaf_nodes': None,\n",
       " 'max_samples': None,\n",
       " 'min_impurity_decrease': 0.0,\n",
       " 'min_impurity_split': None,\n",
       " 'min_samples_leaf': 1,\n",
       " 'min_samples_split': 2,\n",
       " 'min_weight_fraction_leaf': 0.0,\n",
       " 'n_estimators': 100,\n",
       " 'n_jobs': None,\n",
       " 'oob_score': False,\n",
       " 'random_state': 123,\n",
       " 'verbose': 0,\n",
       " 'warm_start': False}"
      ]
     },
     "execution_count": 17,
     "metadata": {},
     "output_type": "execute_result"
    }
   ],
   "source": [
    "random_forest_regressor.get_params()"
   ]
  },
  {
   "cell_type": "code",
   "execution_count": 18,
   "id": "f8c26596",
   "metadata": {},
   "outputs": [
    {
     "name": "stdout",
     "output_type": "stream",
     "text": [
      "Nombre de combinaisons de paramètres étudiées : 216\n"
     ]
    },
    {
     "name": "stderr",
     "output_type": "stream",
     "text": [
      "C:\\anaconda\\lib\\site-packages\\sklearn\\model_selection\\_search.py:918: UserWarning: One or more of the test scores are non-finite: [       nan        nan        nan 0.7234451  0.7246049  0.72616436\n",
      " 0.72277982 0.72452412 0.72578213        nan        nan        nan\n",
      " 0.71838593 0.71942516 0.72067463 0.71838593 0.71942516 0.72067463\n",
      "        nan        nan        nan 0.71241609 0.71339539 0.71503693\n",
      " 0.71241609 0.71339539 0.71503693        nan        nan        nan\n",
      " 0.7234451  0.7246049  0.72616436 0.72277982 0.72452412 0.72578213\n",
      "        nan        nan        nan 0.71838593 0.71942516 0.72067463\n",
      " 0.71838593 0.71942516 0.72067463        nan        nan        nan\n",
      " 0.71241609 0.71339539 0.71503693 0.71241609 0.71339539 0.71503693\n",
      "        nan        nan        nan 0.7234451  0.7246049  0.72616436\n",
      " 0.72277982 0.72452412 0.72578213        nan        nan        nan\n",
      " 0.71838593 0.71942516 0.72067463 0.71838593 0.71942516 0.72067463\n",
      "        nan        nan        nan 0.71241609 0.71339539 0.71503693\n",
      " 0.71241609 0.71339539 0.71503693        nan        nan        nan\n",
      " 0.7234451  0.7246049  0.72616436 0.72277982 0.72452412 0.72578213\n",
      "        nan        nan        nan 0.71838593 0.71942516 0.72067463\n",
      " 0.71838593 0.71942516 0.72067463        nan        nan        nan\n",
      " 0.71241609 0.71339539 0.71503693 0.71241609 0.71339539 0.71503693\n",
      "        nan        nan        nan 0.52860169 0.52841858 0.52835124\n",
      " 0.52704881 0.52807978 0.52805688        nan        nan        nan\n",
      " 0.48745939 0.48785877 0.48767021 0.48745939 0.48785877 0.48767021\n",
      "        nan        nan        nan 0.52106948 0.52091904 0.52094219\n",
      " 0.52106948 0.52091904 0.52094219        nan        nan        nan\n",
      " 0.52860169 0.52841858 0.52835124 0.52704881 0.52807978 0.52805688\n",
      "        nan        nan        nan 0.48745939 0.48785877 0.48767021\n",
      " 0.48745939 0.48785877 0.48767021        nan        nan        nan\n",
      " 0.52106948 0.52091904 0.52094219 0.52106948 0.52091904 0.52094219\n",
      "        nan        nan        nan 0.52860169 0.52841858 0.52835124\n",
      " 0.52704881 0.52807978 0.52805688        nan        nan        nan\n",
      " 0.48745939 0.48785877 0.48767021 0.48745939 0.48785877 0.48767021\n",
      "        nan        nan        nan 0.52106948 0.52091904 0.52094219\n",
      " 0.52106948 0.52091904 0.52094219        nan        nan        nan\n",
      " 0.52860169 0.52841858 0.52835124 0.52704881 0.52807978 0.52805688\n",
      "        nan        nan        nan 0.48745939 0.48785877 0.48767021\n",
      " 0.48745939 0.48785877 0.48767021        nan        nan        nan\n",
      " 0.52106948 0.52091904 0.52094219 0.52106948 0.52091904 0.52094219]\n",
      "  warnings.warn(\n"
     ]
    },
    {
     "name": "stdout",
     "output_type": "stream",
     "text": [
      "best estimator : RandomForestRegressor(n_estimators=1000, random_state=123)\n",
      "best score : 0.7261643565910667\n",
      "best params : {'bootstrap': True, 'max_depth': None, 'min_samples_leaf': 1, 'min_samples_split': 2, 'n_estimators': 1000}\n",
      "\n",
      "Temps de traitement total : 743.0937316417694 secondes\n"
     ]
    }
   ],
   "source": [
    "random_forest_parameters = {\n",
    "    'bootstrap': [True, False],\n",
    "    'max_depth': [None, 50, 60, 80],\n",
    "    'min_samples_leaf': [1, 2, 3],\n",
    "    'min_samples_split': [1, 2, 3],\n",
    "    'n_estimators': [200, 500, 1000]\n",
    "}\n",
    "show_best_params_cv(RandomForestRegressor(random_state=123), random_forest_parameters, X_train, y_train)"
   ]
  },
  {
   "cell_type": "code",
   "execution_count": 19,
   "id": "46b2ff24",
   "metadata": {},
   "outputs": [
    {
     "name": "stdout",
     "output_type": "stream",
     "text": [
      "=== RandomForestRegressor ===\n",
      "mean_absolute_error : 0.42\n",
      "mean_squared_error : 0.35\n",
      "root_mean_squared_error : 0.59\n",
      "rmpse : 0.04\n",
      "mean_absolute_percentage_error : 0.03\n",
      "r2_score : 0.78\n",
      "fit_time : 13.28\n",
      "predict_time : 0.13\n",
      "\n"
     ]
    }
   ],
   "source": [
    "random_forest_regressor = RandomForestRegressor(min_samples_split=3, n_estimators=1000, random_state=123)\n",
    "fit_predict_and_show_metrics(random_forest_regressor, X_train, X_test, y_train, y_test, 'RandomForestRegressor')"
   ]
  },
  {
   "cell_type": "markdown",
   "id": "eee1ad69",
   "metadata": {},
   "source": [
    "On regarde l'importance des features pour le Random Forest :"
   ]
  },
  {
   "cell_type": "code",
   "execution_count": 20,
   "id": "7837c42e",
   "metadata": {},
   "outputs": [
    {
     "data": {
      "image/png": "[encoded data removed]",
      "text/plain": [
       "<Figure size 864x432 with 1 Axes>"
      ]
     },
     "metadata": {
      "needs_background": "light"
     },
     "output_type": "display_data"
    }
   ],
   "source": [
    "SEUIL = 0.01 # on définit un seuil d'importance\n",
    "\n",
    "def show_important_features(regressor, columns, label):\n",
    "    importances = []\n",
    "    cols = []\n",
    "    for importance, col in zip(regressor.feature_importances_, columns):\n",
    "        if importance > SEUIL:\n",
    "            importances.append(importance)\n",
    "            cols.append(col)\n",
    "\n",
    "    estimators_importances = []\n",
    "    for estimator in regressor.estimators_:\n",
    "        estimator_importances = []\n",
    "        for importance, col in zip(estimator.feature_importances_, columns):\n",
    "            if col in cols:\n",
    "                estimator_importances.append(importance)\n",
    "        estimators_importances.append(estimator_importances)\n",
    "    std = np.std(estimators_importances, axis=0)\n",
    "\n",
    "    forest_importances = pd.Series(importances, index=cols)\n",
    "\n",
    "    fig, ax = plt.subplots(figsize=(12,6))\n",
    "    forest_importances.plot.bar(yerr=std, ax=ax)\n",
    "    ax.set_title(\"Feature importances pour \" + label)\n",
    "    fig.tight_layout()\n",
    "    \n",
    "show_important_features(random_forest_regressor, X.columns, \"consommation\")"
   ]
  },
  {
   "cell_type": "markdown",
   "id": "36bbac42",
   "metadata": {},
   "source": [
    "On constate que le nombre d'étage et les surfaces des bâtiments sont très importantes pour prédire leur consommation d'énergie, mais également l'âge du bâtiment et sa position géographique. Certains types de bâtiments semblent également déterminer la consommation."
   ]
  },
  {
   "cell_type": "code",
   "execution_count": 21,
   "id": "dd6f4580",
   "metadata": {},
   "outputs": [
    {
     "data": {
      "text/plain": [
       "{'objective': 'reg:squarederror',\n",
       " 'base_score': 0.5,\n",
       " 'booster': 'gbtree',\n",
       " 'colsample_bylevel': 1,\n",
       " 'colsample_bynode': 1,\n",
       " 'colsample_bytree': 1,\n",
       " 'gamma': 0,\n",
       " 'gpu_id': -1,\n",
       " 'importance_type': 'gain',\n",
       " 'interaction_constraints': '',\n",
       " 'learning_rate': 0.300000012,\n",
       " 'max_delta_step': 0,\n",
       " 'max_depth': 6,\n",
       " 'min_child_weight': 1,\n",
       " 'missing': nan,\n",
       " 'monotone_constraints': '()',\n",
       " 'n_estimators': 100,\n",
       " 'n_jobs': 8,\n",
       " 'num_parallel_tree': 1,\n",
       " 'random_state': 123,\n",
       " 'reg_alpha': 0,\n",
       " 'reg_lambda': 1,\n",
       " 'scale_pos_weight': 1,\n",
       " 'subsample': 1,\n",
       " 'tree_method': 'exact',\n",
       " 'validate_parameters': 1,\n",
       " 'verbosity': None}"
      ]
     },
     "execution_count": 21,
     "metadata": {},
     "output_type": "execute_result"
    }
   ],
   "source": [
    "xgb_regressor.get_params()"
   ]
  },
  {
   "cell_type": "code",
   "execution_count": 22,
   "id": "c675827e",
   "metadata": {},
   "outputs": [
    {
     "name": "stdout",
     "output_type": "stream",
     "text": [
      "Nombre de combinaisons de paramètres étudiées : 972\n"
     ]
    },
    {
     "name": "stderr",
     "output_type": "stream",
     "text": [
      "C:\\anaconda\\lib\\site-packages\\sklearn\\model_selection\\_search.py:918: UserWarning: One or more of the test scores are non-finite: [0.74140233        nan 0.76892679        nan 0.76143964        nan\n",
      " 0.74434093        nan 0.77038893        nan 0.76378148        nan\n",
      " 0.74597201        nan 0.76863591        nan 0.76270531        nan\n",
      " 0.74661579        nan 0.76887776        nan 0.76386466        nan\n",
      " 0.74978671        nan 0.76878619        nan 0.76485597        nan\n",
      " 0.75172708        nan 0.76656177        nan 0.76211032        nan\n",
      " 0.74847081        nan 0.76361927        nan 0.76121718        nan\n",
      " 0.75475812        nan 0.77154272        nan 0.7677677         nan\n",
      " 0.75580916        nan 0.7693701         nan 0.76347664        nan\n",
      " 0.7648748         nan 0.76037934        nan 0.75545582        nan\n",
      " 0.76585103        nan 0.7591155         nan 0.75570153        nan\n",
      " 0.76707912        nan 0.76470812        nan 0.75714966        nan\n",
      " 0.76867937        nan 0.76471732        nan 0.76320611        nan\n",
      " 0.76948229        nan 0.76101434        nan 0.75925398        nan\n",
      " 0.76975098        nan 0.76142674        nan 0.7564036         nan\n",
      " 0.76384292        nan 0.75675869        nan 0.75638609        nan\n",
      " 0.7678432         nan 0.76071779        nan 0.76010874        nan\n",
      " 0.76782761        nan 0.76031269        nan 0.75754007        nan\n",
      " 0.75667202        nan 0.7515314         nan 0.75153015        nan\n",
      " 0.75134547        nan 0.74009968        nan 0.73993194        nan\n",
      " 0.75410913        nan 0.73852101        nan 0.73733576        nan\n",
      " 0.74581514        nan 0.74378362        nan 0.74378362        nan\n",
      " 0.75043573        nan 0.74576734        nan 0.74576734        nan\n",
      " 0.7456045         nan 0.73664385        nan 0.7364957         nan\n",
      " 0.75010446        nan 0.74868718        nan 0.74868718        nan\n",
      " 0.74393082        nan 0.74059772        nan 0.74059772        nan\n",
      " 0.73731986        nan 0.73346033        nan 0.73346033        nan\n",
      " 0.74425417        nan 0.76774349        nan 0.76774349        nan\n",
      " 0.74675334        nan 0.76962856        nan 0.76962856        nan\n",
      " 0.74699832        nan 0.77153954        nan 0.77153954        nan\n",
      " 0.74858642        nan 0.76677245        nan 0.76677245        nan\n",
      " 0.75280351        nan 0.76926723        nan 0.76926723        nan\n",
      " 0.74977066        nan 0.76832044        nan 0.76832044        nan\n",
      " 0.75021684        nan 0.76500775        nan 0.76500775        nan\n",
      " 0.75418765        nan 0.76927661        nan 0.76927661        nan\n",
      " 0.75381503        nan 0.7688024         nan 0.7688024         nan\n",
      " 0.77039831        nan 0.77072594        nan 0.77072594        nan\n",
      " 0.77039478        nan 0.77109673        nan 0.77109673        nan\n",
      " 0.76702378        nan 0.76802337        nan 0.76802337        nan\n",
      " 0.76876641        nan 0.76877367        nan 0.76877367        nan\n",
      " 0.76818115        nan 0.76818138        nan 0.76818138        nan\n",
      " 0.76964465        nan 0.76940176        nan 0.76940176        nan\n",
      " 0.76625242        nan 0.76626342        nan 0.76626342        nan\n",
      " 0.76540326        nan 0.76540516        nan 0.76540516        nan\n",
      " 0.76563237        nan 0.76577482        nan 0.76577482        nan\n",
      " 0.76173353        nan 0.76173353        nan 0.76173353        nan\n",
      " 0.75811889        nan 0.75811889        nan 0.75811889        nan\n",
      " 0.76475909        nan 0.76475909        nan 0.76475909        nan\n",
      " 0.74999469        nan 0.74999469        nan 0.74999469        nan\n",
      " 0.75648249        nan 0.75648249        nan 0.75648249        nan\n",
      " 0.7549389         nan 0.7549389         nan 0.7549389         nan\n",
      " 0.74980058        nan 0.74980058        nan 0.74980058        nan\n",
      " 0.75453761        nan 0.75453761        nan 0.75453761        nan\n",
      " 0.75820604        nan 0.75820604        nan 0.75820604        nan\n",
      " 0.74492647        nan 0.76298127        nan 0.76298127        nan\n",
      " 0.7439523         nan 0.7609207         nan 0.7609207         nan\n",
      " 0.74743892        nan 0.76338264        nan 0.76338264        nan\n",
      " 0.74750304        nan 0.75806838        nan 0.75806838        nan\n",
      " 0.7519055         nan 0.76427804        nan 0.76427804        nan\n",
      " 0.75076444        nan 0.76552343        nan 0.76552343        nan\n",
      " 0.7522639         nan 0.76226222        nan 0.76226222        nan\n",
      " 0.75260032        nan 0.76135997        nan 0.76135997        nan\n",
      " 0.75373253        nan 0.76481621        nan 0.76481621        nan\n",
      " 0.76357128        nan 0.76357445        nan 0.76357445        nan\n",
      " 0.76221156        nan 0.76221378        nan 0.76221378        nan\n",
      " 0.76183207        nan 0.7618374         nan 0.7618374         nan\n",
      " 0.76121344        nan 0.76122164        nan 0.76122164        nan\n",
      " 0.76143021        nan 0.76143253        nan 0.76143253        nan\n",
      " 0.76432219        nan 0.76432532        nan 0.76432532        nan\n",
      " 0.76024278        nan 0.76024794        nan 0.76024794        nan\n",
      " 0.76238437        nan 0.76238618        nan 0.76238618        nan\n",
      " 0.76381335        nan 0.76381457        nan 0.76381457        nan\n",
      " 0.75904316        nan 0.75904316        nan 0.75904316        nan\n",
      " 0.75353819        nan 0.75353819        nan 0.75353819        nan\n",
      " 0.75633886        nan 0.75633886        nan 0.75633886        nan\n",
      " 0.75082929        nan 0.75082929        nan 0.75082929        nan\n",
      " 0.75098304        nan 0.75098304        nan 0.75098304        nan\n",
      " 0.75687387        nan 0.75687387        nan 0.75687387        nan\n",
      " 0.75472757        nan 0.75472757        nan 0.75472757        nan\n",
      " 0.751111          nan 0.751111          nan 0.751111          nan\n",
      " 0.75531817        nan 0.75531817        nan 0.75531817        nan\n",
      "        nan        nan        nan        nan        nan        nan\n",
      "        nan        nan        nan        nan        nan        nan\n",
      "        nan        nan        nan        nan        nan        nan\n",
      "        nan        nan        nan        nan        nan        nan\n",
      "        nan        nan        nan        nan        nan        nan\n",
      "        nan        nan        nan        nan        nan        nan\n",
      "        nan        nan        nan        nan        nan        nan\n",
      "        nan        nan        nan        nan        nan        nan\n",
      "        nan        nan        nan        nan        nan        nan\n",
      "        nan        nan        nan        nan        nan        nan\n",
      "        nan        nan        nan        nan        nan        nan\n",
      "        nan        nan        nan        nan        nan        nan\n",
      "        nan        nan        nan        nan        nan        nan\n",
      "        nan        nan        nan        nan        nan        nan\n",
      "        nan        nan        nan        nan        nan        nan\n",
      "        nan        nan        nan        nan        nan        nan\n",
      "        nan        nan        nan        nan        nan        nan\n",
      "        nan        nan        nan        nan        nan        nan\n",
      "        nan        nan        nan        nan        nan        nan\n",
      "        nan        nan        nan        nan        nan        nan\n",
      "        nan        nan        nan        nan        nan        nan\n",
      "        nan        nan        nan        nan        nan        nan\n",
      "        nan        nan        nan        nan        nan        nan\n",
      "        nan        nan        nan        nan        nan        nan\n",
      "        nan        nan        nan        nan        nan        nan\n",
      "        nan        nan        nan        nan        nan        nan\n",
      "        nan        nan        nan        nan        nan        nan\n",
      "        nan        nan        nan        nan        nan        nan\n",
      "        nan        nan        nan        nan        nan        nan\n",
      "        nan        nan        nan        nan        nan        nan\n",
      "        nan        nan        nan        nan        nan        nan\n",
      "        nan        nan        nan        nan        nan        nan\n",
      "        nan        nan        nan        nan        nan        nan\n",
      "        nan        nan        nan        nan        nan        nan\n",
      "        nan        nan        nan        nan        nan        nan\n",
      "        nan        nan        nan        nan        nan        nan\n",
      "        nan        nan        nan        nan        nan        nan\n",
      "        nan        nan        nan        nan        nan        nan\n",
      "        nan        nan        nan        nan        nan        nan\n",
      "        nan        nan        nan        nan        nan        nan\n",
      "        nan        nan        nan        nan        nan        nan\n",
      "        nan        nan        nan        nan        nan        nan\n",
      "        nan        nan        nan        nan        nan        nan\n",
      "        nan        nan        nan        nan        nan        nan\n",
      "        nan        nan        nan        nan        nan        nan\n",
      "        nan        nan        nan        nan        nan        nan\n",
      "        nan        nan        nan        nan        nan        nan\n",
      "        nan        nan        nan        nan        nan        nan\n",
      "        nan        nan        nan        nan        nan        nan\n",
      "        nan        nan        nan        nan        nan        nan\n",
      "        nan        nan        nan        nan        nan        nan\n",
      "        nan        nan        nan        nan        nan        nan\n",
      "        nan        nan        nan        nan        nan        nan\n",
      "        nan        nan        nan        nan        nan        nan\n",
      "        nan        nan        nan        nan        nan        nan\n",
      "        nan        nan        nan        nan        nan        nan\n",
      "        nan        nan        nan        nan        nan        nan\n",
      "        nan        nan        nan        nan        nan        nan\n",
      "        nan        nan        nan        nan        nan        nan\n",
      "        nan        nan        nan        nan        nan        nan\n",
      "        nan        nan        nan        nan        nan        nan\n",
      "        nan        nan        nan        nan        nan        nan\n",
      "        nan        nan        nan        nan        nan        nan\n",
      "        nan        nan        nan        nan        nan        nan\n",
      "        nan        nan        nan        nan        nan        nan\n",
      "        nan        nan        nan        nan        nan        nan\n",
      "        nan        nan        nan        nan        nan        nan\n",
      "        nan        nan        nan        nan        nan        nan\n",
      "        nan        nan        nan        nan        nan        nan\n",
      "        nan        nan        nan        nan        nan        nan\n",
      "        nan        nan        nan        nan        nan        nan\n",
      "        nan        nan        nan        nan        nan        nan\n",
      "        nan        nan        nan        nan        nan        nan\n",
      "        nan        nan        nan        nan        nan        nan\n",
      "        nan        nan        nan        nan        nan        nan\n",
      "        nan        nan        nan        nan        nan        nan\n",
      "        nan        nan        nan        nan        nan        nan\n",
      "        nan        nan        nan        nan        nan        nan\n",
      "        nan        nan        nan        nan        nan        nan\n",
      "        nan        nan        nan        nan        nan        nan\n",
      "        nan        nan        nan        nan        nan        nan]\n",
      "  warnings.warn(\n"
     ]
    },
    {
     "name": "stdout",
     "output_type": "stream",
     "text": [
      "best estimator : XGBRegressor(base_score=0.5, booster='gbtree', colsample_bylevel=1,\n",
      "             colsample_bynode=1, colsample_bytree=1, gamma=0, gpu_id=-1,\n",
      "             importance_type='gain', interaction_constraints='',\n",
      "             learning_rate=0.05, max_delta_step=0, max_depth=7,\n",
      "             min_child_weight=5, missing=nan, monotone_constraints='()',\n",
      "             n_estimators=500, n_jobs=8, num_parallel_tree=1, random_state=123,\n",
      "             reg_alpha=0, reg_lambda=1, scale_pos_weight=1, subsample=1,\n",
      "             tree_method='exact', validate_parameters=1, verbosity=None)\n",
      "best score : 0.771542723465032\n",
      "best params : {'colsample_bytree': 1, 'gamma': 0, 'learning_rate': 0.05, 'max_depth': 7, 'min_child_weight': 5, 'n_estimators': 500, 'subsample': 1}\n",
      "\n",
      "Temps de traitement total : 767.7700912952423 secondes\n"
     ]
    }
   ],
   "source": [
    "xgb_regressor_parameters = {\n",
    "    'gamma':[ 0, 0.5, 1 ],\n",
    "    'learning_rate': [ .05, .1, .3 ],\n",
    "    'max_depth': [ 5, 6, 7 ],\n",
    "    'min_child_weight': [ 1, 5, 10 ],\n",
    "    'subsample': [ 1, 2 ],\n",
    "    'colsample_bytree': [ 1, 2 ],\n",
    "    'n_estimators': [ 100, 500, 1000 ]\n",
    "}\n",
    "show_best_params_cv(xgb.XGBRegressor(random_state=123), xgb_regressor_parameters, X_train, y_train)"
   ]
  },
  {
   "cell_type": "code",
   "execution_count": 23,
   "id": "fb49b956",
   "metadata": {},
   "outputs": [
    {
     "name": "stdout",
     "output_type": "stream",
     "text": [
      "=== XGBRegressor ===\n",
      "mean_absolute_error : 0.38\n",
      "mean_squared_error : 0.29\n",
      "root_mean_squared_error : 0.54\n",
      "rmpse : 0.04\n",
      "mean_absolute_percentage_error : 0.03\n",
      "r2_score : 0.81\n",
      "fit_time : 0.41\n",
      "predict_time : 0.01\n",
      "\n"
     ]
    },
    {
     "name": "stderr",
     "output_type": "stream",
     "text": [
      "C:\\anaconda\\lib\\site-packages\\xgboost\\data.py:112: UserWarning: Use subset (sliced data) of np.ndarray is not recommended because it will generate extra copies and increase memory consumption\n",
      "  warnings.warn(\n"
     ]
    }
   ],
   "source": [
    "xgb_regressor = xgb.XGBRegressor(base_score=0.5, booster='gbtree', colsample_bylevel=1,\n",
    "             colsample_bynode=1, colsample_bytree=1, gamma=0, gpu_id=-1,\n",
    "             importance_type='gain', interaction_constraints='',\n",
    "             learning_rate=0.05, max_delta_step=0, max_depth=7,\n",
    "             min_child_weight=5, monotone_constraints='()',\n",
    "             n_estimators=500, n_jobs=8, num_parallel_tree=1, random_state=123,\n",
    "             reg_alpha=0, reg_lambda=1, scale_pos_weight=1, subsample=1,\n",
    "             tree_method='exact', validate_parameters=1, verbosity=None)\n",
    "\n",
    "fit_predict_and_show_metrics(xgb_regressor, X_train, X_test, y_train, y_test, 'XGBRegressor')"
   ]
  },
  {
   "cell_type": "markdown",
   "id": "f23eab8f",
   "metadata": {},
   "source": [
    "Comparaison des scores obtenus pour chaque modèle"
   ]
  },
  {
   "cell_type": "code",
   "execution_count": 24,
   "id": "f34bf5ad",
   "metadata": {
    "scrolled": false
   },
   "outputs": [
    {
     "data": {
      "image/png": "[encoded data removed]",
      "text/plain": [
       "<Figure size 864x432 with 1 Axes>"
      ]
     },
     "metadata": {
      "needs_background": "light"
     },
     "output_type": "display_data"
    },
    {
     "data": {
      "image/png": "[encoded data removed]",
      "text/plain": [
       "<Figure size 864x432 with 1 Axes>"
      ]
     },
     "metadata": {
      "needs_background": "light"
     },
     "output_type": "display_data"
    },
    {
     "data": {
      "image/png": "[encoded data removed]",
      "text/plain": [
       "<Figure size 864x432 with 1 Axes>"
      ]
     },
     "metadata": {
      "needs_background": "light"
     },
     "output_type": "display_data"
    },
    {
     "data": {
      "image/png": "[encoded data removed]",
      "text/plain": [
       "<Figure size 864x432 with 1 Axes>"
      ]
     },
     "metadata": {
      "needs_background": "light"
     },
     "output_type": "display_data"
    },
    {
     "data": {
      "image/png": "[encoded data removed]",
      "text/plain": [
       "<Figure size 864x432 with 1 Axes>"
      ]
     },
     "metadata": {
      "needs_background": "light"
     },
     "output_type": "display_data"
    }
   ],
   "source": [
    "metrics = {\n",
    "    'mean_absolute_error': mean_absolute_errors,\n",
    "    'root_mean_squared_error': root_mean_squared_errors,\n",
    "    'r2_score': r2_scores,\n",
    "    'fit_times': fit_times,\n",
    "    'predict_times': predict_times\n",
    "}\n",
    "width = 20\n",
    "x = width * 5\n",
    "for metric in metrics.keys():\n",
    "    fig, ax = plt.subplots(figsize=(12,6))\n",
    "    x_decalage = x - 5*width/2\n",
    "    for model_name, color in zip(metrics[metric].keys(), cm.Set1.colors):\n",
    "        ax.bar(x_decalage, metrics[metric][model_name], width, label=model_name, color=color)\n",
    "        x_decalage = x_decalage + width\n",
    "    x = x + width * 5\n",
    "    ax.set_title('Comparaison des ' + metric + ' pour chaque modèle')\n",
    "    ax.axes.get_xaxis().set_visible(False)\n",
    "    ax.legend()\n",
    "    plt.show()\n"
   ]
  },
  {
   "cell_type": "markdown",
   "id": "ef3ba9e3",
   "metadata": {},
   "source": [
    "On refait maintenant l'exercice avec la seconde target : les émissions de gaz à effet de serre."
   ]
  },
  {
   "cell_type": "code",
   "execution_count": 25,
   "id": "9a9fb07a",
   "metadata": {},
   "outputs": [
    {
     "name": "stdout",
     "output_type": "stream",
     "text": [
      "=== DummyRegressor ===\n",
      "mean_absolute_error : 1.13\n",
      "mean_squared_error : 2.08\n",
      "root_mean_squared_error : 1.44\n",
      "rmpse : 3.15\n",
      "mean_absolute_percentage_error : 0.75\n",
      "r2_score : -0.00\n",
      "fit_time : 0.00\n",
      "predict_time : 0.00\n",
      "\n",
      "---\n",
      "=== LinearRegression ===\n",
      "mean_absolute_error : 0.80\n",
      "mean_squared_error : 1.06\n",
      "root_mean_squared_error : 1.03\n",
      "rmpse : 1.99\n",
      "mean_absolute_percentage_error : 0.48\n",
      "r2_score : 0.49\n",
      "fit_time : 0.01\n",
      "predict_time : 0.00\n",
      "\n",
      "---\n",
      "=== Ridge ===\n",
      "mean_absolute_error : 0.80\n",
      "mean_squared_error : 1.03\n",
      "root_mean_squared_error : 1.02\n",
      "rmpse : 2.01\n",
      "mean_absolute_percentage_error : 0.48\n",
      "r2_score : 0.50\n",
      "fit_time : 0.00\n",
      "predict_time : 0.00\n",
      "\n",
      "---\n",
      "=== Lasso ===\n",
      "mean_absolute_error : 1.13\n",
      "mean_squared_error : 2.08\n",
      "root_mean_squared_error : 1.44\n",
      "rmpse : 3.18\n",
      "mean_absolute_percentage_error : 0.75\n",
      "r2_score : -0.00\n",
      "fit_time : 0.00\n",
      "predict_time : 0.00\n",
      "\n"
     ]
    }
   ],
   "source": [
    "X_train, X_test, y_train, y_test = train_test_split(X, y_emissions, test_size=0.2)\n",
    "ct = ColumnTransformer([\n",
    "        ('transformer_categ_columns', StandardScaler(), \n",
    "           ['CouncilDistrictCode', 'NumberofBuildings', 'NumberofFloors', 'PropertyGFAParking', \n",
    "            'PropertyGFABuilding(s)', 'SecondLargestPropertyUseTypeGFA', 'ThirdLargestPropertyUseTypeGFA', \n",
    "            'ENERGYSTARScore', 'Latitude', 'Longitude', 'age'])\n",
    "    ], remainder='passthrough').fit(X_train)\n",
    "X_train_std = ct.transform(X_train)\n",
    "X_test_std = ct.transform(X_test)\n",
    "\n",
    "mean_absolute_errors = {}\n",
    "mean_squared_errors = {}\n",
    "root_mean_squared_errors = {}\n",
    "rmpses = {}\n",
    "mean_absolute_percentage_errors = {}\n",
    "r2_scores = {}\n",
    "fit_times = {}\n",
    "predict_times = {}\n",
    "\n",
    "dummy_regressor = DummyRegressor(strategy=\"median\")\n",
    "fit_predict_and_show_metrics(dummy_regressor, X_train_std, X_test_std, y_train, y_test, 'DummyRegressor')\n",
    "print(\"---\")\n",
    "linear_regression = LinearRegression()   \n",
    "fit_predict_and_show_metrics(linear_regression, X_train, X_test, y_train, y_test, 'LinearRegression')\n",
    "print(\"---\")\n",
    "ridge = Ridge(random_state=123)\n",
    "fit_predict_and_show_metrics(ridge, X_train_std, X_test_std, y_train, y_test, 'Ridge')\n",
    "print(\"---\")\n",
    "lasso = Lasso(random_state=123)\n",
    "fit_predict_and_show_metrics(lasso, X_train_std, X_test_std, y_train, y_test, 'Lasso')"
   ]
  },
  {
   "cell_type": "code",
   "execution_count": 27,
   "id": "ef418e7c",
   "metadata": {
    "scrolled": false
   },
   "outputs": [
    {
     "name": "stdout",
     "output_type": "stream",
     "text": [
      "Nombre de combinaisons de paramètres étudiées : 192\n"
     ]
    },
    {
     "name": "stderr",
     "output_type": "stream",
     "text": [
      "C:\\anaconda\\lib\\site-packages\\sklearn\\model_selection\\_search.py:918: UserWarning: One or more of the test scores are non-finite: [ 3.83677307e-01  3.88114328e-01  3.81070527e-01             nan\n",
      "  6.09081683e-01  6.06527838e-01  5.96934350e-01             nan\n",
      "  6.35805499e-01  6.49794699e-01  6.41980368e-01             nan\n",
      "  4.32051971e-01  4.48916602e-01  4.42221055e-01             nan\n",
      "  6.33266907e-01  6.40852083e-01  6.34278202e-01             nan\n",
      "  6.46510859e-01  6.63474695e-01  6.59125404e-01             nan\n",
      "  4.70583483e-01  5.07885323e-01  4.99439292e-01             nan\n",
      "  6.49609308e-01  6.59971957e-01  6.44579403e-01             nan\n",
      "  6.48385180e-01  6.64577843e-01  6.52095513e-01             nan\n",
      "  4.99771256e-01  5.41296753e-01  5.25887308e-01             nan\n",
      "  6.53868704e-01  6.46712296e-01  5.80068465e-01             nan\n",
      "  6.47958948e-01  6.44332861e-01  5.81573163e-01             nan\n",
      "  6.03432010e-01  6.36279537e-01  6.43202961e-01             nan\n",
      "  5.64424053e-01  6.43379589e-01  6.62408974e-01             nan\n",
      "  5.32590051e-01  6.30082972e-01  6.46982968e-01             nan\n",
      "  5.95747809e-01  6.52161098e-01  6.55523680e-01             nan\n",
      "  5.18594743e-01  6.40706156e-01  6.44041551e-01             nan\n",
      "  4.70381308e-01  6.22056155e-01  6.19868036e-01             nan\n",
      "  5.76851577e-01  6.41954752e-01  6.52489636e-01             nan\n",
      "  4.96240321e-01  6.20939911e-01  6.31017703e-01             nan\n",
      "  4.50600001e-01  6.18295204e-01  6.27074897e-01             nan\n",
      "  5.28776796e-01  6.11180951e-01  5.79487217e-01             nan\n",
      "  4.19326135e-01  6.07967111e-01  5.78673474e-01             nan\n",
      "  4.05057830e-01  6.07963197e-01  5.78673207e-01             nan\n",
      "  5.38897698e-01  6.33965452e-01  6.53779733e-01             nan\n",
      "  3.90040432e-01  6.03270681e-01  6.34723717e-01             nan\n",
      "  3.33954480e-01  5.87673950e-01  6.06423248e-01             nan\n",
      "  4.48630656e-01  6.33657206e-01  6.58498225e-01             nan\n",
      "  2.44715718e-01  5.79244150e-01  6.12048550e-01             nan\n",
      "  6.37465495e-02  5.65056722e-01  5.96199244e-01             nan\n",
      "  3.69690233e-01  5.94377968e-01  6.28324766e-01             nan\n",
      " -4.34476000e-02  5.72376580e-01  6.07626223e-01             nan\n",
      " -2.08063319e-01  5.72352260e-01  6.07210013e-01             nan\n",
      "  2.28361421e-01  5.77046715e-01  5.68553896e-01             nan\n",
      " -2.55635616e-01  5.76468096e-01  5.68602063e-01             nan\n",
      " -4.10715519e-01  5.76468096e-01  5.68602064e-01             nan\n",
      " -8.32322799e-02  5.78537347e-01  6.24074205e-01             nan\n",
      " -1.43248122e+01  4.84113033e-01  5.70610764e-01             nan\n",
      " -7.23844632e+02  4.50536891e-01  5.53399262e-01             nan\n",
      " -1.63889435e+00  4.66905088e-01  6.12089102e-01             nan\n",
      " -5.38462851e+02  3.97969139e-01  5.81384353e-01             nan\n",
      " -2.30125051e+05  3.93100719e-01  5.80330683e-01             nan\n",
      " -1.27857575e+01  3.98002398e-01  5.64408870e-01             nan\n",
      " -7.40563284e+05  3.86649291e-01  5.64990387e-01             nan\n",
      " -9.58568636e+11  3.86646443e-01  5.64990399e-01             nan\n",
      " -4.07830734e+02  3.53441030e-01  4.95446140e-01             nan\n",
      " -1.30780976e+13  3.53370033e-01  4.95446293e-01             nan\n",
      " -2.87674253e+25  3.53370033e-01  4.95446293e-01             nan]\n",
      "  warnings.warn(\n"
     ]
    },
    {
     "name": "stdout",
     "output_type": "stream",
     "text": [
      "best estimator : GradientBoostingRegressor(learning_rate=0.01, max_depth=5, n_estimators=1000,\n",
      "                          random_state=123, subsample=0.5)\n",
      "best score : 0.6645778427092838\n",
      "best params : {'learning_rate': 0.01, 'max_depth': 5, 'n_estimators': 1000, 'subsample': 0.5}\n",
      "\n",
      "Temps de traitement total : 180.84899616241455 secondes\n",
      "Nombre de combinaisons de paramètres étudiées : 216\n"
     ]
    },
    {
     "name": "stderr",
     "output_type": "stream",
     "text": [
      "C:\\anaconda\\lib\\site-packages\\sklearn\\model_selection\\_search.py:918: UserWarning: One or more of the test scores are non-finite: [       nan        nan        nan 0.62626756 0.6259502  0.62421708\n",
      " 0.62631572 0.62608091 0.62417153        nan        nan        nan\n",
      " 0.6177438  0.61856217 0.61732121 0.6177438  0.61856217 0.61732121\n",
      "        nan        nan        nan 0.61185235 0.61198721 0.61145078\n",
      " 0.61185235 0.61198721 0.61145078        nan        nan        nan\n",
      " 0.62626756 0.6259502  0.62421708 0.62631572 0.62608091 0.62417153\n",
      "        nan        nan        nan 0.6177438  0.61856217 0.61732121\n",
      " 0.6177438  0.61856217 0.61732121        nan        nan        nan\n",
      " 0.61185235 0.61198721 0.61145078 0.61185235 0.61198721 0.61145078\n",
      "        nan        nan        nan 0.62626756 0.6259502  0.62421708\n",
      " 0.62631572 0.62608091 0.62417153        nan        nan        nan\n",
      " 0.6177438  0.61856217 0.61732121 0.6177438  0.61856217 0.61732121\n",
      "        nan        nan        nan 0.61185235 0.61198721 0.61145078\n",
      " 0.61185235 0.61198721 0.61145078        nan        nan        nan\n",
      " 0.62626756 0.6259502  0.62421708 0.62631572 0.62608091 0.62417153\n",
      "        nan        nan        nan 0.6177438  0.61856217 0.61732121\n",
      " 0.6177438  0.61856217 0.61732121        nan        nan        nan\n",
      " 0.61185235 0.61198721 0.61145078 0.61185235 0.61198721 0.61145078\n",
      "        nan        nan        nan 0.31972231 0.32011135 0.32077915\n",
      " 0.32355248 0.32253231 0.32220633        nan        nan        nan\n",
      " 0.35810164 0.35704338 0.35762804 0.35810164 0.35704338 0.35762804\n",
      "        nan        nan        nan 0.37957185 0.38037914 0.3802843\n",
      " 0.37957185 0.38037914 0.3802843         nan        nan        nan\n",
      " 0.31972231 0.32011135 0.32077915 0.32355248 0.32253231 0.32220633\n",
      "        nan        nan        nan 0.35810164 0.35704338 0.35762804\n",
      " 0.35810164 0.35704338 0.35762804        nan        nan        nan\n",
      " 0.37957185 0.38037914 0.3802843  0.37957185 0.38037914 0.3802843\n",
      "        nan        nan        nan 0.31972231 0.32011135 0.32077915\n",
      " 0.32355248 0.32253231 0.32220633        nan        nan        nan\n",
      " 0.35810164 0.35704338 0.35762804 0.35810164 0.35704338 0.35762804\n",
      "        nan        nan        nan 0.37957185 0.38037914 0.3802843\n",
      " 0.37957185 0.38037914 0.3802843         nan        nan        nan\n",
      " 0.31972231 0.32011135 0.32077915 0.32355248 0.32253231 0.32220633\n",
      "        nan        nan        nan 0.35810164 0.35704338 0.35762804\n",
      " 0.35810164 0.35704338 0.35762804        nan        nan        nan\n",
      " 0.37957185 0.38037914 0.3802843  0.37957185 0.38037914 0.3802843 ]\n",
      "  warnings.warn(\n"
     ]
    },
    {
     "name": "stdout",
     "output_type": "stream",
     "text": [
      "best estimator : RandomForestRegressor(min_samples_split=3, n_estimators=200, random_state=123)\n",
      "best score : 0.6263157248464716\n",
      "best params : {'bootstrap': True, 'max_depth': None, 'min_samples_leaf': 1, 'min_samples_split': 3, 'n_estimators': 200}\n",
      "\n",
      "Temps de traitement total : 692.174920797348 secondes\n",
      "Nombre de combinaisons de paramètres étudiées : 972\n"
     ]
    },
    {
     "name": "stderr",
     "output_type": "stream",
     "text": [
      "C:\\anaconda\\lib\\site-packages\\sklearn\\model_selection\\_search.py:918: UserWarning: One or more of the test scores are non-finite: [0.64444887        nan 0.64131865        nan 0.62798318        nan\n",
      " 0.64361033        nan 0.63965243        nan 0.62693362        nan\n",
      " 0.63672362        nan 0.62996085        nan 0.61568542        nan\n",
      " 0.63733839        nan 0.6369262         nan 0.63098507        nan\n",
      " 0.64441857        nan 0.63860197        nan 0.63063896        nan\n",
      " 0.63590893        nan 0.63091772        nan 0.61751424        nan\n",
      " 0.6316465         nan 0.62637641        nan 0.62014095        nan\n",
      " 0.63883777        nan 0.63050925        nan 0.62345851        nan\n",
      " 0.62900529        nan 0.62671693        nan 0.61477585        nan\n",
      " 0.64968618        nan 0.62700542        nan 0.62029412        nan\n",
      " 0.64713955        nan 0.61980634        nan 0.61254101        nan\n",
      " 0.64372624        nan 0.61608178        nan 0.60310713        nan\n",
      " 0.63877334        nan 0.62284553        nan 0.61998415        nan\n",
      " 0.65328169        nan 0.63173895        nan 0.62748645        nan\n",
      " 0.64282709        nan 0.61611131        nan 0.60971115        nan\n",
      " 0.62946456        nan 0.618241          nan 0.61766326        nan\n",
      " 0.63509168        nan 0.61991043        nan 0.61800054        nan\n",
      " 0.63384064        nan 0.61473488        nan 0.60996413        nan\n",
      " 0.6170926         nan 0.60258384        nan 0.60250258        nan\n",
      " 0.61792849        nan 0.60368006        nan 0.60320562        nan\n",
      " 0.60810502        nan 0.5851249         nan 0.58391257        nan\n",
      " 0.60807989        nan 0.60237881        nan 0.60237882        nan\n",
      " 0.59042084        nan 0.57948581        nan 0.5794888         nan\n",
      " 0.60533398        nan 0.58280904        nan 0.58257783        nan\n",
      " 0.60645117        nan 0.6047084         nan 0.60470839        nan\n",
      " 0.60172828        nan 0.59879725        nan 0.59879726        nan\n",
      " 0.60148122        nan 0.58835969        nan 0.58832798        nan\n",
      " 0.64184471        nan 0.65006107        nan 0.65006119        nan\n",
      " 0.64634253        nan 0.65396672        nan 0.65396669        nan\n",
      " 0.63881466        nan 0.64136956        nan 0.64136952        nan\n",
      " 0.63854281        nan 0.64336265        nan 0.64336292        nan\n",
      " 0.64427435        nan 0.65356458        nan 0.65356455        nan\n",
      " 0.63835323        nan 0.63893597        nan 0.63893593        nan\n",
      " 0.63454215        nan 0.63771953        nan 0.63771965        nan\n",
      " 0.63912669        nan 0.64428646        nan 0.6442865         nan\n",
      " 0.63392442        nan 0.63631991        nan 0.63631991        nan\n",
      " 0.65403705        nan 0.65355102        nan 0.65355108        nan\n",
      " 0.65188827        nan 0.64716433        nan 0.64716432        nan\n",
      " 0.64236077        nan 0.63974753        nan 0.63974752        nan\n",
      " 0.64256854        nan 0.64256958        nan 0.64256963        nan\n",
      " 0.64792248        nan 0.64708203        nan 0.64708204        nan\n",
      " 0.63871492        nan 0.63529624        nan 0.63529621        nan\n",
      " 0.63034296        nan 0.63034463        nan 0.63034466        nan\n",
      " 0.6475545         nan 0.64754967        nan 0.64754969        nan\n",
      " 0.62799417        nan 0.62771125        nan 0.62771124        nan\n",
      " 0.62993983        nan 0.6299398         nan 0.62993979        nan\n",
      " 0.62730755        nan 0.62730755        nan 0.62730755        nan\n",
      " 0.61713628        nan 0.6171363         nan 0.61713629        nan\n",
      " 0.62583302        nan 0.62583305        nan 0.62583305        nan\n",
      " 0.62131422        nan 0.6213142         nan 0.6213142         nan\n",
      " 0.62775873        nan 0.62775873        nan 0.62775873        nan\n",
      " 0.61608974        nan 0.6160898         nan 0.61608982        nan\n",
      " 0.63082644        nan 0.63082643        nan 0.63082643        nan\n",
      " 0.60909033        nan 0.60909033        nan 0.60909034        nan\n",
      " 0.64786673        nan 0.65338408        nan 0.65338413        nan\n",
      " 0.64314485        nan 0.65020654        nan 0.65020659        nan\n",
      " 0.63852239        nan 0.6424405         nan 0.64244053        nan\n",
      " 0.64605809        nan 0.64756108        nan 0.64756118        nan\n",
      " 0.64476861        nan 0.64728709        nan 0.64728714        nan\n",
      " 0.63955676        nan 0.64456575        nan 0.64456575        nan\n",
      " 0.64061177        nan 0.64229472        nan 0.64229487        nan\n",
      " 0.64224152        nan 0.64594449        nan 0.64594453        nan\n",
      " 0.63175037        nan 0.63846687        nan 0.63846688        nan\n",
      " 0.65116988        nan 0.65117097        nan 0.65117103        nan\n",
      " 0.65314828        nan 0.6531511         nan 0.65315112        nan\n",
      " 0.64509778        nan 0.64476902        nan 0.64476897        nan\n",
      " 0.64995483        nan 0.64995671        nan 0.64995676        nan\n",
      " 0.65025494        nan 0.65025534        nan 0.65025534        nan\n",
      " 0.63879033        nan 0.63855875        nan 0.63855875        nan\n",
      " 0.63872233        nan 0.6387245         nan 0.63872454        nan\n",
      " 0.64193067        nan 0.64193182        nan 0.64193182        nan\n",
      " 0.63310356        nan 0.63310475        nan 0.63310474        nan\n",
      " 0.6326062         nan 0.63260623        nan 0.63260623        nan\n",
      " 0.63578934        nan 0.6357893         nan 0.63578931        nan\n",
      " 0.62504842        nan 0.62504843        nan 0.62504842        nan\n",
      " 0.63230846        nan 0.63230853        nan 0.63230855        nan\n",
      " 0.63703776        nan 0.63703773        nan 0.63703773        nan\n",
      " 0.62150052        nan 0.62150054        nan 0.62150053        nan\n",
      " 0.63031068        nan 0.6303107         nan 0.6303107         nan\n",
      " 0.62501918        nan 0.62501919        nan 0.62501919        nan\n",
      " 0.61988637        nan 0.61988637        nan 0.61988637        nan\n",
      "        nan        nan        nan        nan        nan        nan\n",
      "        nan        nan        nan        nan        nan        nan\n",
      "        nan        nan        nan        nan        nan        nan\n",
      "        nan        nan        nan        nan        nan        nan\n",
      "        nan        nan        nan        nan        nan        nan\n",
      "        nan        nan        nan        nan        nan        nan\n",
      "        nan        nan        nan        nan        nan        nan\n",
      "        nan        nan        nan        nan        nan        nan\n",
      "        nan        nan        nan        nan        nan        nan\n",
      "        nan        nan        nan        nan        nan        nan\n",
      "        nan        nan        nan        nan        nan        nan\n",
      "        nan        nan        nan        nan        nan        nan\n",
      "        nan        nan        nan        nan        nan        nan\n",
      "        nan        nan        nan        nan        nan        nan\n",
      "        nan        nan        nan        nan        nan        nan\n",
      "        nan        nan        nan        nan        nan        nan\n",
      "        nan        nan        nan        nan        nan        nan\n",
      "        nan        nan        nan        nan        nan        nan\n",
      "        nan        nan        nan        nan        nan        nan\n",
      "        nan        nan        nan        nan        nan        nan\n",
      "        nan        nan        nan        nan        nan        nan\n",
      "        nan        nan        nan        nan        nan        nan\n",
      "        nan        nan        nan        nan        nan        nan\n",
      "        nan        nan        nan        nan        nan        nan\n",
      "        nan        nan        nan        nan        nan        nan\n",
      "        nan        nan        nan        nan        nan        nan\n",
      "        nan        nan        nan        nan        nan        nan\n",
      "        nan        nan        nan        nan        nan        nan\n",
      "        nan        nan        nan        nan        nan        nan\n",
      "        nan        nan        nan        nan        nan        nan\n",
      "        nan        nan        nan        nan        nan        nan\n",
      "        nan        nan        nan        nan        nan        nan\n",
      "        nan        nan        nan        nan        nan        nan\n",
      "        nan        nan        nan        nan        nan        nan\n",
      "        nan        nan        nan        nan        nan        nan\n",
      "        nan        nan        nan        nan        nan        nan\n",
      "        nan        nan        nan        nan        nan        nan\n",
      "        nan        nan        nan        nan        nan        nan\n",
      "        nan        nan        nan        nan        nan        nan\n",
      "        nan        nan        nan        nan        nan        nan\n",
      "        nan        nan        nan        nan        nan        nan\n",
      "        nan        nan        nan        nan        nan        nan\n",
      "        nan        nan        nan        nan        nan        nan\n",
      "        nan        nan        nan        nan        nan        nan\n",
      "        nan        nan        nan        nan        nan        nan\n",
      "        nan        nan        nan        nan        nan        nan\n",
      "        nan        nan        nan        nan        nan        nan\n",
      "        nan        nan        nan        nan        nan        nan\n",
      "        nan        nan        nan        nan        nan        nan\n",
      "        nan        nan        nan        nan        nan        nan\n",
      "        nan        nan        nan        nan        nan        nan\n",
      "        nan        nan        nan        nan        nan        nan\n",
      "        nan        nan        nan        nan        nan        nan\n",
      "        nan        nan        nan        nan        nan        nan\n",
      "        nan        nan        nan        nan        nan        nan\n",
      "        nan        nan        nan        nan        nan        nan\n",
      "        nan        nan        nan        nan        nan        nan\n",
      "        nan        nan        nan        nan        nan        nan\n",
      "        nan        nan        nan        nan        nan        nan\n",
      "        nan        nan        nan        nan        nan        nan\n",
      "        nan        nan        nan        nan        nan        nan\n",
      "        nan        nan        nan        nan        nan        nan\n",
      "        nan        nan        nan        nan        nan        nan\n",
      "        nan        nan        nan        nan        nan        nan\n",
      "        nan        nan        nan        nan        nan        nan\n",
      "        nan        nan        nan        nan        nan        nan\n",
      "        nan        nan        nan        nan        nan        nan\n",
      "        nan        nan        nan        nan        nan        nan\n",
      "        nan        nan        nan        nan        nan        nan\n",
      "        nan        nan        nan        nan        nan        nan\n",
      "        nan        nan        nan        nan        nan        nan\n",
      "        nan        nan        nan        nan        nan        nan\n",
      "        nan        nan        nan        nan        nan        nan\n",
      "        nan        nan        nan        nan        nan        nan\n",
      "        nan        nan        nan        nan        nan        nan\n",
      "        nan        nan        nan        nan        nan        nan\n",
      "        nan        nan        nan        nan        nan        nan\n",
      "        nan        nan        nan        nan        nan        nan\n",
      "        nan        nan        nan        nan        nan        nan\n",
      "        nan        nan        nan        nan        nan        nan\n",
      "        nan        nan        nan        nan        nan        nan]\n",
      "  warnings.warn(\n"
     ]
    },
    {
     "name": "stdout",
     "output_type": "stream",
     "text": [
      "best estimator : XGBRegressor(base_score=0.5, booster='gbtree', colsample_bylevel=1,\n",
      "             colsample_bynode=1, colsample_bytree=1, gamma=0.5, gpu_id=-1,\n",
      "             importance_type='gain', interaction_constraints='',\n",
      "             learning_rate=0.1, max_delta_step=0, max_depth=5,\n",
      "             min_child_weight=1, missing=nan, monotone_constraints='()',\n",
      "             n_estimators=100, n_jobs=8, num_parallel_tree=1, random_state=123,\n",
      "             reg_alpha=0, reg_lambda=1, scale_pos_weight=1, subsample=1,\n",
      "             tree_method='exact', validate_parameters=1, verbosity=None)\n",
      "best score : 0.6540370506299101\n",
      "best params : {'colsample_bytree': 1, 'gamma': 0.5, 'learning_rate': 0.1, 'max_depth': 5, 'min_child_weight': 1, 'n_estimators': 100, 'subsample': 1}\n",
      "\n",
      "Temps de traitement total : 764.1311016082764 secondes\n"
     ]
    }
   ],
   "source": [
    "show_best_params_cv(GradientBoostingRegressor(random_state=123), gradient_boosting_regressor_parameters, X_train, y_train)\n",
    "show_best_params_cv(RandomForestRegressor(random_state=123), random_forest_parameters, X_train, y_train)\n",
    "show_best_params_cv(xgb.XGBRegressor(random_state=123), xgb_regressor_parameters, X_train, y_train)"
   ]
  },
  {
   "cell_type": "code",
   "execution_count": 28,
   "id": "2e90a144",
   "metadata": {},
   "outputs": [
    {
     "name": "stdout",
     "output_type": "stream",
     "text": [
      "=== GradientBoostingRegressor ===\n",
      "mean_absolute_error : 0.64\n",
      "mean_squared_error : 0.66\n",
      "root_mean_squared_error : 0.81\n",
      "rmpse : 1.36\n",
      "mean_absolute_percentage_error : 0.37\n",
      "r2_score : 0.68\n",
      "fit_time : 1.93\n",
      "predict_time : 0.01\n",
      "\n",
      "---\n",
      "=== RandomForestRegressor ===\n",
      "mean_absolute_error : 0.65\n",
      "mean_squared_error : 0.69\n",
      "root_mean_squared_error : 0.83\n",
      "rmpse : 1.27\n",
      "mean_absolute_percentage_error : 0.36\n",
      "r2_score : 0.67\n",
      "fit_time : 6.59\n",
      "predict_time : 0.06\n",
      "\n",
      "---\n",
      "=== XGBRegressor ===\n",
      "mean_absolute_error : 0.62\n",
      "mean_squared_error : 0.64\n",
      "root_mean_squared_error : 0.80\n",
      "rmpse : 1.36\n",
      "mean_absolute_percentage_error : 0.36\n",
      "r2_score : 0.69\n",
      "fit_time : 0.49\n",
      "predict_time : 0.00\n",
      "\n"
     ]
    },
    {
     "name": "stderr",
     "output_type": "stream",
     "text": [
      "C:\\anaconda\\lib\\site-packages\\xgboost\\data.py:112: UserWarning: Use subset (sliced data) of np.ndarray is not recommended because it will generate extra copies and increase memory consumption\n",
      "  warnings.warn(\n"
     ]
    }
   ],
   "source": [
    "gradient_boosting_regressor = GradientBoostingRegressor(learning_rate=0.01, max_depth=5, n_estimators=500,\n",
    "                          random_state=123, subsample=0.5)\n",
    "fit_predict_and_show_metrics(gradient_boosting_regressor, X_train_std, X_test_std, y_train, y_test, 'GradientBoostingRegressor')\n",
    "print(\"---\")\n",
    "random_forest_regressor = RandomForestRegressor(n_estimators=500, random_state=123)\n",
    "fit_predict_and_show_metrics(random_forest_regressor, X_train_std, X_test_std, y_train, y_test, 'RandomForestRegressor')\n",
    "print(\"---\")\n",
    "xgb_regressor = xgb.XGBRegressor(base_score=0.5, booster='gbtree', colsample_bylevel=1,\n",
    "             colsample_bynode=1, colsample_bytree=0.5, gamma=1, gpu_id=-1,\n",
    "             importance_type='gain', interaction_constraints='',\n",
    "             learning_rate=0.05, max_delta_step=0, max_depth=6,\n",
    "             min_child_weight=1, monotone_constraints='()',\n",
    "             n_estimators=200, n_jobs=8, num_parallel_tree=1, random_state=123,\n",
    "             reg_alpha=0, reg_lambda=1, scale_pos_weight=1, subsample=0.5,\n",
    "             tree_method='exact', validate_parameters=1, verbosity=None)\n",
    "fit_predict_and_show_metrics(xgb_regressor, X_train_std, X_test_std, y_train, y_test, 'XGBRegressor')"
   ]
  },
  {
   "cell_type": "code",
   "execution_count": 29,
   "id": "af6c96d0",
   "metadata": {},
   "outputs": [
    {
     "data": {
      "image/png": "[encoded data removed]",
      "text/plain": [
       "<Figure size 864x432 with 1 Axes>"
      ]
     },
     "metadata": {
      "needs_background": "light"
     },
     "output_type": "display_data"
    }
   ],
   "source": [
    "show_important_features(random_forest_regressor, X.columns, \"émissions\")"
   ]
  },
  {
   "cell_type": "code",
   "execution_count": 30,
   "id": "0de29c56",
   "metadata": {
    "scrolled": false
   },
   "outputs": [
    {
     "data": {
      "image/png": "[encoded data removed]",
      "text/plain": [
       "<Figure size 864x432 with 1 Axes>"
      ]
     },
     "metadata": {
      "needs_background": "light"
     },
     "output_type": "display_data"
    },
    {
     "data": {
      "image/png": "[encoded data removed]",
      "text/plain": [
       "<Figure size 864x432 with 1 Axes>"
      ]
     },
     "metadata": {
      "needs_background": "light"
     },
     "output_type": "display_data"
    },
    {
     "data": {
      "image/png": "[encoded data removed]",
      "text/plain": [
       "<Figure size 864x432 with 1 Axes>"
      ]
     },
     "metadata": {
      "needs_background": "light"
     },
     "output_type": "display_data"
    },
    {
     "data": {
      "image/png": "[encoded data removed]",
      "text/plain": [
       "<Figure size 864x432 with 1 Axes>"
      ]
     },
     "metadata": {
      "needs_background": "light"
     },
     "output_type": "display_data"
    },
    {
     "data": {
      "image/png": "[encoded data removed]",
      "text/plain": [
       "<Figure size 864x432 with 1 Axes>"
      ]
     },
     "metadata": {
      "needs_background": "light"
     },
     "output_type": "display_data"
    }
   ],
   "source": [
    "width = 20\n",
    "x = width * 5\n",
    "for metric in metrics.keys():\n",
    "    fig, ax = plt.subplots(figsize=(12,6))\n",
    "    x_decalage = x - 5*width/2\n",
    "    for model_name, color in zip(metrics[metric].keys(), cm.Set1.colors):\n",
    "        ax.bar(x_decalage, metrics[metric][model_name], width, label=model_name, color=color)\n",
    "        x_decalage = x_decalage + width\n",
    "    x = x + width * 5\n",
    "    ax.set_title('Comparaison des ' + metric + ' pour chaque modèle')\n",
    "    ax.axes.get_xaxis().set_visible(False)\n",
    "    ax.legend()\n",
    "    plt.show()"
   ]
  }
 ],
 "metadata": {
  "kernelspec": {
   "display_name": "Python 3",
   "language": "python",
   "name": "python3"
  },
  "language_info": {
   "codemirror_mode": {
    "name": "ipython",
    "version": 3
   },
   "file_extension": ".py",
   "mimetype": "text/x-python",
   "name": "python",
   "nbconvert_exporter": "python",
   "pygments_lexer": "ipython3",
   "version": "3.8.8"
  }
 },
 "nbformat": 4,
 "nbformat_minor": 5
}
