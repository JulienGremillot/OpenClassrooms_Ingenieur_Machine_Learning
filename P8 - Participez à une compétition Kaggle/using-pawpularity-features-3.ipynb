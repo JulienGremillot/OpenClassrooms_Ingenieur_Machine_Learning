{
 "cells": [
  {
   "cell_type": "markdown",
   "id": "dbdad7ed",
   "metadata": {
    "papermill": {
     "duration": 0.014937,
     "end_time": "2021-12-21T09:55:55.612343",
     "exception": false,
     "start_time": "2021-12-21T09:55:55.597406",
     "status": "completed"
    },
    "tags": []
   },
   "source": [
    "On reloade tous les objets précédents"
   ]
  },
  {
   "cell_type": "code",
   "execution_count": 1,
   "id": "207bfd64",
   "metadata": {
    "execution": {
     "iopub.execute_input": "2021-12-21T09:55:55.651677Z",
     "iopub.status.busy": "2021-12-21T09:55:55.643548Z",
     "iopub.status.idle": "2021-12-21T09:56:22.472737Z",
     "shell.execute_reply": "2021-12-21T09:56:22.473235Z",
     "shell.execute_reply.started": "2021-12-21T08:11:24.850557Z"
    },
    "papermill": {
     "duration": 26.847139,
     "end_time": "2021-12-21T09:56:22.473761",
     "exception": false,
     "start_time": "2021-12-21T09:55:55.626622",
     "status": "completed"
    },
    "tags": []
   },
   "outputs": [
    {
     "name": "stdout",
     "output_type": "stream",
     "text": [
      "Temps écoulé : 26.81\n"
     ]
    }
   ],
   "source": [
    "import pandas as pd\n",
    "import pickle\n",
    "import time\n",
    "\n",
    "path = '/kaggle/input/pawpularity-features-model/'\n",
    "debut = time.time()\n",
    "xgb_regressor = pickle.load(open(path + 'xgb_regressor.pkl', 'rb'))\n",
    "df = pickle.load(open(path + 'X_features_cleaned_2.pkl', 'rb'))\n",
    "correlated_features = pickle.load(open(path + 'correlated_features.pkl', 'rb'))\n",
    "correlated_features_2 = pickle.load(open(path + 'correlated_features_2.pkl', 'rb'))\n",
    "print(\"Temps écoulé : {:.2f}\".format(time.time() - debut))"
   ]
  },
  {
   "cell_type": "code",
   "execution_count": 2,
   "id": "468d6330",
   "metadata": {
    "execution": {
     "iopub.execute_input": "2021-12-21T09:56:22.496141Z",
     "iopub.status.busy": "2021-12-21T09:56:22.495148Z",
     "iopub.status.idle": "2021-12-21T09:56:22.503944Z",
     "shell.execute_reply": "2021-12-21T09:56:22.503352Z",
     "shell.execute_reply.started": "2021-12-21T08:03:29.068227Z"
    },
    "papermill": {
     "duration": 0.020759,
     "end_time": "2021-12-21T09:56:22.504076",
     "exception": false,
     "start_time": "2021-12-21T09:56:22.483317",
     "status": "completed"
    },
    "tags": []
   },
   "outputs": [
    {
     "data": {
      "text/plain": [
       "(9944, 37093)"
      ]
     },
     "execution_count": 2,
     "metadata": {},
     "output_type": "execute_result"
    }
   ],
   "source": [
    "df.shape"
   ]
  },
  {
   "cell_type": "code",
   "execution_count": 3,
   "id": "41696eed",
   "metadata": {
    "execution": {
     "iopub.execute_input": "2021-12-21T09:56:22.527333Z",
     "iopub.status.busy": "2021-12-21T09:56:22.526707Z",
     "iopub.status.idle": "2021-12-21T09:56:22.541682Z",
     "shell.execute_reply": "2021-12-21T09:56:22.542226Z",
     "shell.execute_reply.started": "2021-12-21T08:03:31.420940Z"
    },
    "papermill": {
     "duration": 0.029339,
     "end_time": "2021-12-21T09:56:22.542397",
     "exception": false,
     "start_time": "2021-12-21T09:56:22.513058",
     "status": "completed"
    },
    "tags": []
   },
   "outputs": [
    {
     "data": {
      "text/plain": [
       "(9944, 1)"
      ]
     },
     "execution_count": 3,
     "metadata": {},
     "output_type": "execute_result"
    }
   ],
   "source": [
    "y_path = \"/kaggle/input/pawpularity-features-targets/y_targets.csv\"\n",
    "df_target = pd.read_csv(y_path, header=None)\n",
    "df_target.shape"
   ]
  },
  {
   "cell_type": "code",
   "execution_count": 4,
   "id": "80275212",
   "metadata": {
    "execution": {
     "iopub.execute_input": "2021-12-21T09:56:22.563953Z",
     "iopub.status.busy": "2021-12-21T09:56:22.563254Z",
     "iopub.status.idle": "2021-12-21T09:56:24.923432Z",
     "shell.execute_reply": "2021-12-21T09:56:24.922681Z",
     "shell.execute_reply.started": "2021-12-21T08:04:34.234414Z"
    },
    "papermill": {
     "duration": 2.372019,
     "end_time": "2021-12-21T09:56:24.923620",
     "exception": false,
     "start_time": "2021-12-21T09:56:22.551601",
     "status": "completed"
    },
    "tags": []
   },
   "outputs": [
    {
     "name": "stdout",
     "output_type": "stream",
     "text": [
      "(7955, 37093) (1989, 37093) (7955, 1) (1989, 1)\n"
     ]
    }
   ],
   "source": [
    "from sklearn.model_selection import train_test_split\n",
    "X_train, X_test, y_train, y_test = train_test_split(df, df_target, test_size=0.2, random_state=42)\n",
    "print(X_train.shape, X_test.shape, y_train.shape, y_test.shape)"
   ]
  },
  {
   "cell_type": "code",
   "execution_count": 5,
   "id": "537c38fb",
   "metadata": {
    "execution": {
     "iopub.execute_input": "2021-12-21T09:56:24.950707Z",
     "iopub.status.busy": "2021-12-21T09:56:24.949755Z",
     "iopub.status.idle": "2021-12-21T09:56:27.769578Z",
     "shell.execute_reply": "2021-12-21T09:56:27.770601Z",
     "shell.execute_reply.started": "2021-12-21T08:27:45.623644Z"
    },
    "papermill": {
     "duration": 2.836442,
     "end_time": "2021-12-21T09:56:27.770797",
     "exception": false,
     "start_time": "2021-12-21T09:56:24.934355",
     "status": "completed"
    },
    "tags": []
   },
   "outputs": [],
   "source": [
    "y_pred = xgb_regressor.predict(X_test)"
   ]
  },
  {
   "cell_type": "code",
   "execution_count": 6,
   "id": "6d51f7de",
   "metadata": {
    "execution": {
     "iopub.execute_input": "2021-12-21T09:56:27.797798Z",
     "iopub.status.busy": "2021-12-21T09:56:27.796848Z",
     "iopub.status.idle": "2021-12-21T09:56:27.820284Z",
     "shell.execute_reply": "2021-12-21T09:56:27.821106Z",
     "shell.execute_reply.started": "2021-12-21T08:37:18.767981Z"
    },
    "papermill": {
     "duration": 0.040294,
     "end_time": "2021-12-21T09:56:27.821345",
     "exception": false,
     "start_time": "2021-12-21T09:56:27.781051",
     "status": "completed"
    },
    "tags": []
   },
   "outputs": [
    {
     "name": "stdout",
     "output_type": "stream",
     "text": [
      "(1989,) (1989, 1)\n"
     ]
    }
   ],
   "source": [
    "print(y_pred.shape, y_test.values.shape)\n",
    "ypred = [round(x) for x in y_pred]\n",
    "ytest = y_test[0].values"
   ]
  },
  {
   "cell_type": "code",
   "execution_count": 7,
   "id": "e882c773",
   "metadata": {
    "execution": {
     "iopub.execute_input": "2021-12-21T09:56:27.860707Z",
     "iopub.status.busy": "2021-12-21T09:56:27.859787Z",
     "iopub.status.idle": "2021-12-21T09:56:27.866549Z",
     "shell.execute_reply": "2021-12-21T09:56:27.867243Z",
     "shell.execute_reply.started": "2021-12-21T08:38:16.286830Z"
    },
    "papermill": {
     "duration": 0.02931,
     "end_time": "2021-12-21T09:56:27.867474",
     "exception": false,
     "start_time": "2021-12-21T09:56:27.838164",
     "status": "completed"
    },
    "tags": []
   },
   "outputs": [
    {
     "name": "stdout",
     "output_type": "stream",
     "text": [
      "mean_absolute_error : 17.11\n",
      "mean_squared_error : 507.34\n",
      "root_mean_squared_error : 22.52\n",
      "rmpse : 2.14\n",
      "r2_score : -0.14\n"
     ]
    }
   ],
   "source": [
    "from sklearn.metrics import mean_absolute_error, mean_squared_error, r2_score\n",
    "import numpy as np\n",
    "\n",
    "print(\"mean_absolute_error : {:.2f}\".format(mean_absolute_error(ytest, ypred)))\n",
    "mse = mean_squared_error(ytest, ypred)\n",
    "print(\"mean_squared_error : {:.2f}\".format(mse))\n",
    "print(\"root_mean_squared_error : {:.2f}\".format(np.sqrt(mse)))\n",
    "print(\"rmpse : {:.2f}\".format(np.sqrt(np.mean(np.square(((ytest - ypred) / ytest))))))\n",
    "print(\"r2_score : {:.2f}\".format(r2_score(ytest, ypred)))"
   ]
  },
  {
   "cell_type": "code",
   "execution_count": 8,
   "id": "0dd0e5b4",
   "metadata": {
    "execution": {
     "iopub.execute_input": "2021-12-21T09:56:27.895357Z",
     "iopub.status.busy": "2021-12-21T09:56:27.894693Z",
     "iopub.status.idle": "2021-12-21T09:56:57.654875Z",
     "shell.execute_reply": "2021-12-21T09:56:57.655345Z",
     "shell.execute_reply.started": "2021-12-21T08:40:39.381875Z"
    },
    "papermill": {
     "duration": 29.773814,
     "end_time": "2021-12-21T09:56:57.655567",
     "exception": false,
     "start_time": "2021-12-21T09:56:27.881753",
     "status": "completed"
    },
    "tags": []
   },
   "outputs": [
    {
     "name": "stdout",
     "output_type": "stream",
     "text": [
      "shape test_df:  (8, 13)\n"
     ]
    },
    {
     "name": "stderr",
     "output_type": "stream",
     "text": [
      "\n",
      "User settings:\n",
      "\n",
      "   KMP_AFFINITY=granularity=fine,verbose,compact,1,0\n",
      "   KMP_BLOCKTIME=0\n",
      "   KMP_DUPLICATE_LIB_OK=True\n",
      "   KMP_INIT_AT_FORK=FALSE\n",
      "   KMP_SETTINGS=1\n",
      "   KMP_WARNINGS=0\n",
      "\n",
      "Effective settings:\n",
      "\n",
      "   KMP_ABORT_DELAY=0\n",
      "   KMP_ADAPTIVE_LOCK_PROPS='1,1024'\n",
      "   KMP_ALIGN_ALLOC=64\n",
      "   KMP_ALL_THREADPRIVATE=128\n",
      "   KMP_ATOMIC_MODE=2\n",
      "   KMP_BLOCKTIME=0\n",
      "   KMP_CPUINFO_FILE: value is not defined\n",
      "   KMP_DETERMINISTIC_REDUCTION=false\n",
      "   KMP_DEVICE_THREAD_LIMIT=2147483647\n",
      "   KMP_DISP_NUM_BUFFERS=7\n",
      "   KMP_DUPLICATE_LIB_OK=true\n",
      "   KMP_ENABLE_TASK_THROTTLING=true\n",
      "   KMP_FORCE_REDUCTION: value is not defined\n",
      "   KMP_FOREIGN_THREADS_THREADPRIVATE=true\n",
      "   KMP_FORKJOIN_BARRIER='2,2'\n",
      "   KMP_FORKJOIN_BARRIER_PATTERN='hyper,hyper'\n",
      "   KMP_GTID_MODE=3\n",
      "   KMP_HANDLE_SIGNALS=false\n",
      "   KMP_HOT_TEAMS_MAX_LEVEL=1\n",
      "   KMP_HOT_TEAMS_MODE=0\n",
      "   KMP_INIT_AT_FORK=true\n",
      "   KMP_LIBRARY=throughput\n",
      "   KMP_LOCK_KIND=queuing\n",
      "   KMP_MALLOC_POOL_INCR=1M\n",
      "   KMP_NUM_LOCKS_IN_BLOCK=1\n",
      "   KMP_PLAIN_BARRIER='2,2'\n",
      "   KMP_PLAIN_BARRIER_PATTERN='hyper,hyper'\n",
      "   KMP_REDUCTION_BARRIER='1,1'\n",
      "   KMP_REDUCTION_BARRIER_PATTERN='hyper,hyper'\n",
      "   KMP_SCHEDULE='static,balanced;guided,iterative'\n",
      "   KMP_SETTINGS=true\n",
      "   KMP_SPIN_BACKOFF_PARAMS='4096,100'\n",
      "   KMP_STACKOFFSET=64\n",
      "   KMP_STACKPAD=0\n",
      "   KMP_STACKSIZE=8M\n",
      "   KMP_STORAGE_MAP=false\n",
      "   KMP_TASKING=2\n",
      "   KMP_TASKLOOP_MIN_TASKS=0\n",
      "   KMP_TASK_STEALING_CONSTRAINT=1\n",
      "   KMP_TEAMS_THREAD_LIMIT=4\n",
      "   KMP_TOPOLOGY_METHOD=all\n",
      "   KMP_USE_YIELD=1\n",
      "   KMP_VERSION=false\n",
      "   KMP_WARNINGS=false\n",
      "   OMP_AFFINITY_FORMAT='OMP: pid %P tid %i thread %n bound to OS proc set {%A}'\n",
      "   OMP_ALLOCATOR=omp_default_mem_alloc\n",
      "   OMP_CANCELLATION=false\n",
      "   OMP_DEFAULT_DEVICE=0\n",
      "   OMP_DISPLAY_AFFINITY=false\n",
      "   OMP_DISPLAY_ENV=false\n",
      "   OMP_DYNAMIC=false\n",
      "   OMP_MAX_ACTIVE_LEVELS=1\n",
      "   OMP_MAX_TASK_PRIORITY=0\n",
      "   OMP_NESTED: deprecated; max-active-levels-var=1\n",
      "   OMP_NUM_THREADS: value is not defined\n",
      "   OMP_PLACES: value is not defined\n",
      "   OMP_PROC_BIND='intel'\n",
      "   OMP_SCHEDULE='static'\n",
      "   OMP_STACKSIZE=8M\n",
      "   OMP_TARGET_OFFLOAD=DEFAULT\n",
      "   OMP_THREAD_LIMIT=2147483647\n",
      "   OMP_WAIT_POLICY=PASSIVE\n",
      "   KMP_AFFINITY='verbose,warnings,respect,granularity=fine,compact,1,0'\n",
      "\n",
      "2021-12-21 09:56:34.318719: I tensorflow/core/common_runtime/process_util.cc:146] Creating new thread pool with default inter op setting: 2. Tune using inter_op_parallelism_threads for best performance.\n"
     ]
    }
   ],
   "source": [
    "import os\n",
    "from PIL import Image\n",
    "\n",
    "test_dir = '/kaggle/input/petfinder-pawpularity-score/test'\n",
    "\n",
    "test_df = pd.read_csv(\"/kaggle/input/petfinder-pawpularity-score/test.csv\", sep=',')\n",
    "test_df['Id'] = test_df['Id'] + '.jpg'\n",
    "test_df = test_df.rename(columns={'Id': 'filename'})\n",
    "print(\"shape test_df: \", test_df.shape)\n",
    "\n",
    "width, height = 224, 224\n",
    "batch_size = 32\n",
    "\n",
    "import sys\n",
    "import os\n",
    "sys.path.insert(0, \"/kaggle/input/efnetv2src/efficientnet-v2-keras-main\")\n",
    "sys.path.append('../input/tfkeras-efficientnetsv2/')\n",
    "\n",
    "from efficientnet_v2 import EfficientNetV2XL\n",
    "from tensorflow.keras import Input, Model\n",
    "from tensorflow.keras.layers import Dense, GlobalAveragePooling2D, BatchNormalization, Dropout\n",
    "from tensorflow.keras.metrics import MeanAbsoluteError, MeanAbsolutePercentageError\n",
    "import tensorflow_addons as tfa\n",
    "\n",
    "efficientnet = EfficientNetV2XL(\n",
    "    include_top=False,\n",
    "    weights='../input/tfkeras-efficientnetsv2/21_ft1k_notop/efficientnetv2-xl-21k-ft1k_notop.h5', \n",
    "    input_shape=(height, width, 3)\n",
    ")\n",
    "\n",
    "efficientnet.trainable = False\n",
    "\n",
    "radam = tfa.optimizers.RectifiedAdam(learning_rate=0.001)\n",
    "optimizer = tfa.optimizers.Lookahead(radam, sync_period=6, slow_step_size=0.5)\n",
    "\n",
    "efficientnet.compile(\n",
    "    optimizer=optimizer,\n",
    "    loss=\"mean_absolute_error\",\n",
    "    metrics=[MeanAbsoluteError(), MeanAbsolutePercentageError()]\n",
    ")"
   ]
  },
  {
   "cell_type": "code",
   "execution_count": 9,
   "id": "9c295d63",
   "metadata": {
    "execution": {
     "iopub.execute_input": "2021-12-21T09:56:57.682172Z",
     "iopub.status.busy": "2021-12-21T09:56:57.681238Z",
     "iopub.status.idle": "2021-12-21T09:56:57.684120Z",
     "shell.execute_reply": "2021-12-21T09:56:57.683432Z",
     "shell.execute_reply.started": "2021-12-21T09:05:12.930175Z"
    },
    "papermill": {
     "duration": 0.017874,
     "end_time": "2021-12-21T09:56:57.684270",
     "exception": false,
     "start_time": "2021-12-21T09:56:57.666396",
     "status": "completed"
    },
    "tags": []
   },
   "outputs": [],
   "source": [
    "# on merge les 2 listes des index à supprimer\n",
    "for x in correlated_features_2:\n",
    "    correlated_features.append(x)"
   ]
  },
  {
   "cell_type": "code",
   "execution_count": 10,
   "id": "ae95d618",
   "metadata": {
    "execution": {
     "iopub.execute_input": "2021-12-21T09:56:57.716087Z",
     "iopub.status.busy": "2021-12-21T09:56:57.708906Z",
     "iopub.status.idle": "2021-12-21T09:56:57.723250Z",
     "shell.execute_reply": "2021-12-21T09:56:57.722022Z",
     "shell.execute_reply.started": "2021-12-21T09:05:21.802393Z"
    },
    "papermill": {
     "duration": 0.028697,
     "end_time": "2021-12-21T09:56:57.723485",
     "exception": false,
     "start_time": "2021-12-21T09:56:57.694788",
     "status": "completed"
    },
    "tags": []
   },
   "outputs": [
    {
     "name": "stdout",
     "output_type": "stream",
     "text": [
      "[38, 41, 66, 73, 74]\n",
      "[26, 29, 54, 61, 62]\n"
     ]
    }
   ],
   "source": [
    "# on récupère le nombre de colonnes à ajouter à la sortie d'EfficientNet\n",
    "existing_cols = test_df.iloc[0]\n",
    "existing_cols = existing_cols.drop(labels=['filename']).values\n",
    "nb_existing_cols = len(existing_cols)\n",
    "\n",
    "# on décale les index des colonnes à supprimer\n",
    "print(correlated_features[:5])\n",
    "correlated_features = [x - nb_existing_cols for x in correlated_features]\n",
    "print(correlated_features[:5])"
   ]
  },
  {
   "cell_type": "code",
   "execution_count": 11,
   "id": "53771ee6",
   "metadata": {
    "execution": {
     "iopub.execute_input": "2021-12-21T09:56:57.754427Z",
     "iopub.status.busy": "2021-12-21T09:56:57.753789Z",
     "iopub.status.idle": "2021-12-21T09:57:15.698222Z",
     "shell.execute_reply": "2021-12-21T09:57:15.698728Z",
     "shell.execute_reply.started": "2021-12-21T09:19:20.886858Z"
    },
    "papermill": {
     "duration": 17.963696,
     "end_time": "2021-12-21T09:57:15.698919",
     "exception": false,
     "start_time": "2021-12-21T09:56:57.735223",
     "status": "completed"
    },
    "tags": []
   },
   "outputs": [
    {
     "name": "stderr",
     "output_type": "stream",
     "text": [
      "2021-12-21 09:56:57.881658: I tensorflow/compiler/mlir/mlir_graph_optimization_pass.cc:185] None of the MLIR Optimization Passes are enabled (registered 2)\n"
     ]
    },
    {
     "name": "stdout",
     "output_type": "stream",
     "text": [
      "                                 Id  Pawpularity\n",
      "0  c978013571258ed6d4637f6e8cc9d6a3           88\n",
      "1  4e429cead1848a298432a0acad014c9d           63\n",
      "2  43a2262d7738e3d420d453815151079e           85\n",
      "3  8f49844c382931444e68dffbe20228f4           79\n",
      "4  4128bae22183829d2b5fea10effdb0c3           59\n",
      "5  80bc3ccafcc51b66303c2c263aa38486           60\n",
      "6  e0de453c1bffc20c22b072b34b54e50f           67\n",
      "7  b03f7041962238a7c9d6537e22f9b017           55\n"
     ]
    }
   ],
   "source": [
    "import tensorflow as tf\n",
    "def preprocess(image):  \n",
    "    return (tf.cast(image, dtype=tf.float32) - 128.00) / 128.00\n",
    "\n",
    "ids = []\n",
    "pawpularities = []\n",
    "for test_image in os.listdir(test_dir):\n",
    "    image_path = os.path.join(test_dir, test_image)\n",
    "    id_image = test_image.split('.')[0]\n",
    "    ids.append(id_image)\n",
    "    img = Image.open(image_path) \n",
    "    img = img.resize((width, height))\n",
    "    img = preprocess(np.array(img).reshape(1, width, height, 3))\n",
    "    # on fait la prediction avec EfficientNet\n",
    "    img_features = efficientnet.predict(img)\n",
    "    img_features = img_features.flatten()\n",
    "    # on supprime les colonnes corrélées\n",
    "    img_features = np.delete(img_features, correlated_features)\n",
    "    # on récupère les colonnes existantes\n",
    "    existing_cols = test_df[test_df['filename'] == test_image].iloc[0]\n",
    "    existing_cols = existing_cols.drop(labels=['filename']).values\n",
    "    # on concatène tout ça et on reshape (1 seule ligne)\n",
    "    X_pred = np.concatenate((np.array(existing_cols), img_features))\n",
    "    X_pred = X_pred.reshape((1, len(X_pred)))\n",
    "    # on fait la prediction finale\n",
    "    y_pred = xgb_regressor.predict(X_pred)\n",
    "    # on ajoute ça à la liste des prédictions\n",
    "    pawpularities.append(round(y_pred[0]))\n",
    "\n",
    "submission_dict = {\n",
    "    'Id': ids,\n",
    "    'Pawpularity': pawpularities\n",
    "}\n",
    "submission_df = pd.DataFrame(submission_dict)\n",
    "print(submission_df)\n",
    "submission_df.to_csv('submission.csv', index=False, sep=',')"
   ]
  }
 ],
 "metadata": {
  "kernelspec": {
   "display_name": "Python 3",
   "language": "python",
   "name": "python3"
  },
  "language_info": {
   "codemirror_mode": {
    "name": "ipython",
    "version": 3
   },
   "file_extension": ".py",
   "mimetype": "text/x-python",
   "name": "python",
   "nbconvert_exporter": "python",
   "pygments_lexer": "ipython3",
   "version": "3.7.12"
  },
  "papermill": {
   "default_parameters": {},
   "duration": 92.552361,
   "end_time": "2021-12-21T09:57:18.455742",
   "environment_variables": {},
   "exception": null,
   "input_path": "__notebook__.ipynb",
   "output_path": "__notebook__.ipynb",
   "parameters": {},
   "start_time": "2021-12-21T09:55:45.903381",
   "version": "2.3.3"
  }
 },
 "nbformat": 4,
 "nbformat_minor": 5
}
