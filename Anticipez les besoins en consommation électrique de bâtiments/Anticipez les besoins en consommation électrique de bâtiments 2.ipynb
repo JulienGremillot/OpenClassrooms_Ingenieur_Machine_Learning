{
 "cells": [
  {
   "cell_type": "code",
   "execution_count": 1,
   "id": "8a0177d8",
   "metadata": {},
   "outputs": [],
   "source": [
    "# Je regroupe quelques imports en début de notebook\n",
    "import os\n",
    "import pandas as pd\n",
    "import numpy as np\n",
    "from sklearn import preprocessing\n",
    "from sklearn import neighbors\n",
    "from sklearn.dummy import DummyRegressor\n",
    "from sklearn.metrics import mean_absolute_error, mean_squared_error, mean_absolute_percentage_error, r2_score\n",
    "from sklearn.model_selection import train_test_split\n",
    "from sklearn.linear_model import Ridge, Lasso, LinearRegression\n",
    "from sklearn.ensemble import GradientBoostingRegressor, RandomForestRegressor\n",
    "\n",
    "# Je me positionne dans mon répertoire de travail personnel\n",
    "os.chdir(\"C:\\\\Users\\\\Julien Gremillot\\\\OneDrive\\\\Documents\\\\OpenClassrooms\\\\Jupyter\")\n",
    "os.getcwd()\n",
    "\n",
    "# Lecture du fichier CSV\n",
    "data = pd.read_csv(\"building-energy-model-data.csv\", sep=',') # séparateur = virgule"
   ]
  },
  {
   "cell_type": "code",
   "execution_count": 2,
   "id": "228d90a1",
   "metadata": {},
   "outputs": [
    {
     "data": {
      "text/plain": [
       "Index(['CouncilDistrictCode', 'NumberofBuildings', 'NumberofFloors',\n",
       "       'PropertyGFAParking', 'PropertyGFABuilding(s)',\n",
       "       'SecondLargestPropertyUseTypeGFA', 'ThirdLargestPropertyUseTypeGFA',\n",
       "       'Latitude', 'Longitude', 'ZipCode',\n",
       "       ...\n",
       "       '5.2', '6.2', '7.2', '8.2', '9.2', '10.2', '11.2', '0.4', '1.4', '2.4'],\n",
       "      dtype='object', length=117)"
      ]
     },
     "execution_count": 2,
     "metadata": {},
     "output_type": "execute_result"
    }
   ],
   "source": [
    "data.columns"
   ]
  },
  {
   "cell_type": "code",
   "execution_count": 3,
   "id": "4e46b4ea",
   "metadata": {},
   "outputs": [
    {
     "name": "stdout",
     "output_type": "stream",
     "text": [
      "index_consommation = 11 \n",
      "index_emissions = 12\n"
     ]
    }
   ],
   "source": [
    "index_consommation = -1\n",
    "index_emissions = -1\n",
    "for i in range(len(data.columns)):\n",
    "    if data.iloc[:, i].name == 'consommation':\n",
    "        index_consommation = i\n",
    "    if data.iloc[:, i].name == 'emissions':\n",
    "        index_emissions = i\n",
    "print('index_consommation =', index_consommation, '\\nindex_emissions =', index_emissions)"
   ]
  },
  {
   "cell_type": "code",
   "execution_count": 4,
   "id": "8a02a1e1",
   "metadata": {},
   "outputs": [],
   "source": [
    "# On récupère les features d'un côté...\n",
    "X = pd.concat([data.iloc[:,:index_consommation - 1], data.iloc[:,index_emissions:]], axis = 1)\n",
    "\n",
    "# et les targets de l'autre\n",
    "y_consommation = data.iloc[:,index_consommation]\n",
    "y_emissions = data.iloc[:,index_emissions]"
   ]
  },
  {
   "cell_type": "code",
   "execution_count": 5,
   "id": "2dc24d19",
   "metadata": {},
   "outputs": [
    {
     "name": "stdout",
     "output_type": "stream",
     "text": [
      "Index(['CouncilDistrictCode', 'NumberofBuildings', 'NumberofFloors',\n",
      "       'PropertyGFAParking', 'PropertyGFABuilding(s)',\n",
      "       'SecondLargestPropertyUseTypeGFA', 'ThirdLargestPropertyUseTypeGFA',\n",
      "       'Latitude', 'Longitude', 'ZipCode',\n",
      "       ...\n",
      "       '5.2', '6.2', '7.2', '8.2', '9.2', '10.2', '11.2', '0.4', '1.4', '2.4'],\n",
      "      dtype='object', length=115) 0    16.107916\n",
      "1    15.691287\n",
      "2    16.634519\n",
      "3    15.314463\n",
      "4    16.354152\n",
      "Name: consommation, dtype: float64 0    4.234251\n",
      "1    3.855241\n",
      "2    4.760805\n",
      "3    4.902976\n",
      "4    5.424598\n",
      "Name: emissions, dtype: float64\n"
     ]
    }
   ],
   "source": [
    "print(X.columns, y_consommation.head(), y_emissions.head())"
   ]
  },
  {
   "cell_type": "markdown",
   "id": "e850a9c0",
   "metadata": {},
   "source": [
    "On commence définir nos jeux de données pour le modèle de prédiction de la consommation d'énergie"
   ]
  },
  {
   "cell_type": "code",
   "execution_count": 6,
   "id": "7d02bf88",
   "metadata": {},
   "outputs": [],
   "source": [
    "X_train, X_test, y_train, y_test = train_test_split(X, y_consommation, test_size=0.2)\n",
    "\n",
    "std_scale = preprocessing.StandardScaler().fit(X_train)\n",
    "X_train_std = std_scale.transform(X_train)\n",
    "X_test_std = std_scale.transform(X_test)"
   ]
  },
  {
   "cell_type": "code",
   "execution_count": 7,
   "id": "240981ca",
   "metadata": {},
   "outputs": [
    {
     "data": {
      "text/html": [
       "<div>\n",
       "<style scoped>\n",
       "    .dataframe tbody tr th:only-of-type {\n",
       "        vertical-align: middle;\n",
       "    }\n",
       "\n",
       "    .dataframe tbody tr th {\n",
       "        vertical-align: top;\n",
       "    }\n",
       "\n",
       "    .dataframe thead th {\n",
       "        text-align: right;\n",
       "    }\n",
       "</style>\n",
       "<table border=\"1\" class=\"dataframe\">\n",
       "  <thead>\n",
       "    <tr style=\"text-align: right;\">\n",
       "      <th></th>\n",
       "      <th>CouncilDistrictCode</th>\n",
       "      <th>NumberofBuildings</th>\n",
       "      <th>NumberofFloors</th>\n",
       "      <th>PropertyGFAParking</th>\n",
       "      <th>PropertyGFABuilding(s)</th>\n",
       "      <th>SecondLargestPropertyUseTypeGFA</th>\n",
       "      <th>ThirdLargestPropertyUseTypeGFA</th>\n",
       "      <th>Latitude</th>\n",
       "      <th>Longitude</th>\n",
       "      <th>ZipCode</th>\n",
       "      <th>...</th>\n",
       "      <th>5.2</th>\n",
       "      <th>6.2</th>\n",
       "      <th>7.2</th>\n",
       "      <th>8.2</th>\n",
       "      <th>9.2</th>\n",
       "      <th>10.2</th>\n",
       "      <th>11.2</th>\n",
       "      <th>0.4</th>\n",
       "      <th>1.4</th>\n",
       "      <th>2.4</th>\n",
       "    </tr>\n",
       "  </thead>\n",
       "  <tbody>\n",
       "    <tr>\n",
       "      <th>12</th>\n",
       "      <td>5</td>\n",
       "      <td>1.0</td>\n",
       "      <td>1.0</td>\n",
       "      <td>0</td>\n",
       "      <td>21633</td>\n",
       "      <td>0.0</td>\n",
       "      <td>0.0</td>\n",
       "      <td>47.729694</td>\n",
       "      <td>-122.345432</td>\n",
       "      <td>98133</td>\n",
       "      <td>...</td>\n",
       "      <td>0.0</td>\n",
       "      <td>0.0</td>\n",
       "      <td>0.0</td>\n",
       "      <td>0.0</td>\n",
       "      <td>1.0</td>\n",
       "      <td>0.0</td>\n",
       "      <td>0.0</td>\n",
       "      <td>1.0</td>\n",
       "      <td>0.0</td>\n",
       "      <td>0.0</td>\n",
       "    </tr>\n",
       "    <tr>\n",
       "      <th>958</th>\n",
       "      <td>4</td>\n",
       "      <td>1.0</td>\n",
       "      <td>3.0</td>\n",
       "      <td>0</td>\n",
       "      <td>33176</td>\n",
       "      <td>15000.0</td>\n",
       "      <td>0.0</td>\n",
       "      <td>47.632450</td>\n",
       "      <td>-122.325290</td>\n",
       "      <td>98102</td>\n",
       "      <td>...</td>\n",
       "      <td>1.0</td>\n",
       "      <td>0.0</td>\n",
       "      <td>0.0</td>\n",
       "      <td>0.0</td>\n",
       "      <td>0.0</td>\n",
       "      <td>0.0</td>\n",
       "      <td>0.0</td>\n",
       "      <td>0.0</td>\n",
       "      <td>0.0</td>\n",
       "      <td>0.0</td>\n",
       "    </tr>\n",
       "    <tr>\n",
       "      <th>1437</th>\n",
       "      <td>4</td>\n",
       "      <td>1.0</td>\n",
       "      <td>2.0</td>\n",
       "      <td>0</td>\n",
       "      <td>78401</td>\n",
       "      <td>9940.0</td>\n",
       "      <td>4960.0</td>\n",
       "      <td>47.664500</td>\n",
       "      <td>-122.312240</td>\n",
       "      <td>98105</td>\n",
       "      <td>...</td>\n",
       "      <td>0.0</td>\n",
       "      <td>0.0</td>\n",
       "      <td>0.0</td>\n",
       "      <td>1.0</td>\n",
       "      <td>0.0</td>\n",
       "      <td>0.0</td>\n",
       "      <td>0.0</td>\n",
       "      <td>1.0</td>\n",
       "      <td>0.0</td>\n",
       "      <td>0.0</td>\n",
       "    </tr>\n",
       "    <tr>\n",
       "      <th>540</th>\n",
       "      <td>7</td>\n",
       "      <td>1.0</td>\n",
       "      <td>5.0</td>\n",
       "      <td>117867</td>\n",
       "      <td>133177</td>\n",
       "      <td>12717.0</td>\n",
       "      <td>0.0</td>\n",
       "      <td>47.612870</td>\n",
       "      <td>-122.350220</td>\n",
       "      <td>98121</td>\n",
       "      <td>...</td>\n",
       "      <td>0.0</td>\n",
       "      <td>0.0</td>\n",
       "      <td>0.0</td>\n",
       "      <td>0.0</td>\n",
       "      <td>0.0</td>\n",
       "      <td>0.0</td>\n",
       "      <td>0.0</td>\n",
       "      <td>0.0</td>\n",
       "      <td>0.0</td>\n",
       "      <td>0.0</td>\n",
       "    </tr>\n",
       "    <tr>\n",
       "      <th>1446</th>\n",
       "      <td>7</td>\n",
       "      <td>1.0</td>\n",
       "      <td>1.0</td>\n",
       "      <td>0</td>\n",
       "      <td>21420</td>\n",
       "      <td>5000.0</td>\n",
       "      <td>2000.0</td>\n",
       "      <td>47.601350</td>\n",
       "      <td>-122.333270</td>\n",
       "      <td>98104</td>\n",
       "      <td>...</td>\n",
       "      <td>0.0</td>\n",
       "      <td>0.0</td>\n",
       "      <td>0.0</td>\n",
       "      <td>0.0</td>\n",
       "      <td>0.0</td>\n",
       "      <td>0.0</td>\n",
       "      <td>0.0</td>\n",
       "      <td>0.0</td>\n",
       "      <td>0.0</td>\n",
       "      <td>0.0</td>\n",
       "    </tr>\n",
       "    <tr>\n",
       "      <th>...</th>\n",
       "      <td>...</td>\n",
       "      <td>...</td>\n",
       "      <td>...</td>\n",
       "      <td>...</td>\n",
       "      <td>...</td>\n",
       "      <td>...</td>\n",
       "      <td>...</td>\n",
       "      <td>...</td>\n",
       "      <td>...</td>\n",
       "      <td>...</td>\n",
       "      <td>...</td>\n",
       "      <td>...</td>\n",
       "      <td>...</td>\n",
       "      <td>...</td>\n",
       "      <td>...</td>\n",
       "      <td>...</td>\n",
       "      <td>...</td>\n",
       "      <td>...</td>\n",
       "      <td>...</td>\n",
       "      <td>...</td>\n",
       "      <td>...</td>\n",
       "    </tr>\n",
       "    <tr>\n",
       "      <th>954</th>\n",
       "      <td>7</td>\n",
       "      <td>1.0</td>\n",
       "      <td>3.0</td>\n",
       "      <td>0</td>\n",
       "      <td>45864</td>\n",
       "      <td>0.0</td>\n",
       "      <td>0.0</td>\n",
       "      <td>47.619540</td>\n",
       "      <td>-122.358470</td>\n",
       "      <td>98119</td>\n",
       "      <td>...</td>\n",
       "      <td>0.0</td>\n",
       "      <td>1.0</td>\n",
       "      <td>0.0</td>\n",
       "      <td>0.0</td>\n",
       "      <td>0.0</td>\n",
       "      <td>0.0</td>\n",
       "      <td>0.0</td>\n",
       "      <td>1.0</td>\n",
       "      <td>0.0</td>\n",
       "      <td>0.0</td>\n",
       "    </tr>\n",
       "    <tr>\n",
       "      <th>1338</th>\n",
       "      <td>7</td>\n",
       "      <td>1.0</td>\n",
       "      <td>39.0</td>\n",
       "      <td>112124</td>\n",
       "      <td>962428</td>\n",
       "      <td>303000.0</td>\n",
       "      <td>141450.0</td>\n",
       "      <td>47.613760</td>\n",
       "      <td>-122.334450</td>\n",
       "      <td>98101</td>\n",
       "      <td>...</td>\n",
       "      <td>0.0</td>\n",
       "      <td>0.0</td>\n",
       "      <td>0.0</td>\n",
       "      <td>0.0</td>\n",
       "      <td>0.0</td>\n",
       "      <td>0.0</td>\n",
       "      <td>0.0</td>\n",
       "      <td>0.0</td>\n",
       "      <td>0.0</td>\n",
       "      <td>0.0</td>\n",
       "    </tr>\n",
       "    <tr>\n",
       "      <th>78</th>\n",
       "      <td>7</td>\n",
       "      <td>1.0</td>\n",
       "      <td>7.0</td>\n",
       "      <td>0</td>\n",
       "      <td>122810</td>\n",
       "      <td>26450.0</td>\n",
       "      <td>8000.0</td>\n",
       "      <td>47.611550</td>\n",
       "      <td>-122.341140</td>\n",
       "      <td>98101</td>\n",
       "      <td>...</td>\n",
       "      <td>0.0</td>\n",
       "      <td>0.0</td>\n",
       "      <td>0.0</td>\n",
       "      <td>0.0</td>\n",
       "      <td>0.0</td>\n",
       "      <td>0.0</td>\n",
       "      <td>0.0</td>\n",
       "      <td>1.0</td>\n",
       "      <td>0.0</td>\n",
       "      <td>0.0</td>\n",
       "    </tr>\n",
       "    <tr>\n",
       "      <th>1433</th>\n",
       "      <td>5</td>\n",
       "      <td>1.0</td>\n",
       "      <td>1.0</td>\n",
       "      <td>0</td>\n",
       "      <td>29400</td>\n",
       "      <td>0.0</td>\n",
       "      <td>0.0</td>\n",
       "      <td>47.708330</td>\n",
       "      <td>-122.344290</td>\n",
       "      <td>98133</td>\n",
       "      <td>...</td>\n",
       "      <td>0.0</td>\n",
       "      <td>0.0</td>\n",
       "      <td>0.0</td>\n",
       "      <td>0.0</td>\n",
       "      <td>1.0</td>\n",
       "      <td>0.0</td>\n",
       "      <td>0.0</td>\n",
       "      <td>0.0</td>\n",
       "      <td>0.0</td>\n",
       "      <td>0.0</td>\n",
       "    </tr>\n",
       "    <tr>\n",
       "      <th>435</th>\n",
       "      <td>5</td>\n",
       "      <td>1.0</td>\n",
       "      <td>2.0</td>\n",
       "      <td>0</td>\n",
       "      <td>302812</td>\n",
       "      <td>0.0</td>\n",
       "      <td>0.0</td>\n",
       "      <td>47.707590</td>\n",
       "      <td>-122.325500</td>\n",
       "      <td>98125</td>\n",
       "      <td>...</td>\n",
       "      <td>0.0</td>\n",
       "      <td>0.0</td>\n",
       "      <td>1.0</td>\n",
       "      <td>0.0</td>\n",
       "      <td>0.0</td>\n",
       "      <td>0.0</td>\n",
       "      <td>0.0</td>\n",
       "      <td>0.0</td>\n",
       "      <td>0.0</td>\n",
       "      <td>0.0</td>\n",
       "    </tr>\n",
       "  </tbody>\n",
       "</table>\n",
       "<p>1349 rows × 115 columns</p>\n",
       "</div>"
      ],
      "text/plain": [
       "      CouncilDistrictCode  NumberofBuildings  NumberofFloors  \\\n",
       "12                      5                1.0             1.0   \n",
       "958                     4                1.0             3.0   \n",
       "1437                    4                1.0             2.0   \n",
       "540                     7                1.0             5.0   \n",
       "1446                    7                1.0             1.0   \n",
       "...                   ...                ...             ...   \n",
       "954                     7                1.0             3.0   \n",
       "1338                    7                1.0            39.0   \n",
       "78                      7                1.0             7.0   \n",
       "1433                    5                1.0             1.0   \n",
       "435                     5                1.0             2.0   \n",
       "\n",
       "      PropertyGFAParking  PropertyGFABuilding(s)  \\\n",
       "12                     0                   21633   \n",
       "958                    0                   33176   \n",
       "1437                   0                   78401   \n",
       "540               117867                  133177   \n",
       "1446                   0                   21420   \n",
       "...                  ...                     ...   \n",
       "954                    0                   45864   \n",
       "1338              112124                  962428   \n",
       "78                     0                  122810   \n",
       "1433                   0                   29400   \n",
       "435                    0                  302812   \n",
       "\n",
       "      SecondLargestPropertyUseTypeGFA  ThirdLargestPropertyUseTypeGFA  \\\n",
       "12                                0.0                             0.0   \n",
       "958                           15000.0                             0.0   \n",
       "1437                           9940.0                          4960.0   \n",
       "540                           12717.0                             0.0   \n",
       "1446                           5000.0                          2000.0   \n",
       "...                               ...                             ...   \n",
       "954                               0.0                             0.0   \n",
       "1338                         303000.0                        141450.0   \n",
       "78                            26450.0                          8000.0   \n",
       "1433                              0.0                             0.0   \n",
       "435                               0.0                             0.0   \n",
       "\n",
       "       Latitude   Longitude  ZipCode  ...  5.2  6.2  7.2  8.2  9.2  10.2  \\\n",
       "12    47.729694 -122.345432    98133  ...  0.0  0.0  0.0  0.0  1.0   0.0   \n",
       "958   47.632450 -122.325290    98102  ...  1.0  0.0  0.0  0.0  0.0   0.0   \n",
       "1437  47.664500 -122.312240    98105  ...  0.0  0.0  0.0  1.0  0.0   0.0   \n",
       "540   47.612870 -122.350220    98121  ...  0.0  0.0  0.0  0.0  0.0   0.0   \n",
       "1446  47.601350 -122.333270    98104  ...  0.0  0.0  0.0  0.0  0.0   0.0   \n",
       "...         ...         ...      ...  ...  ...  ...  ...  ...  ...   ...   \n",
       "954   47.619540 -122.358470    98119  ...  0.0  1.0  0.0  0.0  0.0   0.0   \n",
       "1338  47.613760 -122.334450    98101  ...  0.0  0.0  0.0  0.0  0.0   0.0   \n",
       "78    47.611550 -122.341140    98101  ...  0.0  0.0  0.0  0.0  0.0   0.0   \n",
       "1433  47.708330 -122.344290    98133  ...  0.0  0.0  0.0  0.0  1.0   0.0   \n",
       "435   47.707590 -122.325500    98125  ...  0.0  0.0  1.0  0.0  0.0   0.0   \n",
       "\n",
       "      11.2  0.4  1.4  2.4  \n",
       "12     0.0  1.0  0.0  0.0  \n",
       "958    0.0  0.0  0.0  0.0  \n",
       "1437   0.0  1.0  0.0  0.0  \n",
       "540    0.0  0.0  0.0  0.0  \n",
       "1446   0.0  0.0  0.0  0.0  \n",
       "...    ...  ...  ...  ...  \n",
       "954    0.0  1.0  0.0  0.0  \n",
       "1338   0.0  0.0  0.0  0.0  \n",
       "78     0.0  1.0  0.0  0.0  \n",
       "1433   0.0  0.0  0.0  0.0  \n",
       "435    0.0  0.0  0.0  0.0  \n",
       "\n",
       "[1349 rows x 115 columns]"
      ]
     },
     "execution_count": 7,
     "metadata": {},
     "output_type": "execute_result"
    }
   ],
   "source": [
    "X_train"
   ]
  },
  {
   "cell_type": "code",
   "execution_count": 8,
   "id": "2b45af82",
   "metadata": {},
   "outputs": [
    {
     "data": {
      "text/plain": [
       "array([[ 0.25402893, -0.12451079, -0.51221037, ...,  1.76431428,\n",
       "        -0.10603951, -0.09067098],\n",
       "       [-0.20410613, -0.12451079, -0.18442489, ..., -0.56679244,\n",
       "        -0.10603951, -0.09067098],\n",
       "       [-0.20410613, -0.12451079, -0.34831763, ...,  1.76431428,\n",
       "        -0.10603951, -0.09067098],\n",
       "       ...,\n",
       "       [ 1.17029907, -0.12451079,  0.47114607, ...,  1.76431428,\n",
       "        -0.10603951, -0.09067098],\n",
       "       [ 0.25402893, -0.12451079, -0.51221037, ..., -0.56679244,\n",
       "        -0.10603951, -0.09067098],\n",
       "       [ 0.25402893, -0.12451079, -0.34831763, ..., -0.56679244,\n",
       "        -0.10603951, -0.09067098]])"
      ]
     },
     "execution_count": 8,
     "metadata": {},
     "output_type": "execute_result"
    }
   ],
   "source": [
    "X_train_std"
   ]
  },
  {
   "cell_type": "markdown",
   "id": "97cc59a6",
   "metadata": {},
   "source": [
    "Ici on définit une première fonction qui va nous afficher les différentes mesures de qualité d'après les prédictions de nos modèles et une seconde fonction qui va entrainer le modèle du type passé en paramètre, faire des prédictions et appeler la première méthode pour afficher les résultats de ce modèle."
   ]
  },
  {
   "cell_type": "code",
   "execution_count": 9,
   "id": "715caa65",
   "metadata": {},
   "outputs": [],
   "source": [
    "def show_metrics(ytest, ypred):\n",
    "    print(\"mean_absolute_error : {:.2f}\".format(mean_absolute_error(ytest, ypred)))\n",
    "    print(\"mean_squared_error : {:.2f}\".format(mean_squared_error(ytest, ypred)))\n",
    "    print(\"root_mean_squared_error : {:.2f}\".format(np.sqrt(mean_squared_error(ytest, ypred))))\n",
    "    print(\"rmpse : {:.2f}\".format(np.sqrt(np.mean(np.square(((ytest - ypred) / ytest))))))\n",
    "    print(\"mean_absolute_percentage_error : {:.2f}\".format(mean_absolute_percentage_error(ytest, ypred)))\n",
    "    print(\"r2_score : {:.2f}\".format(r2_score(ytest, ypred)))\n",
    "    \n",
    "def fit_predict_and_show_metrics(model, Xtrain, Xtest, ytrain, ytest):\n",
    "    model.fit(Xtrain, ytrain)\n",
    "    ypred = model.predict(Xtest)\n",
    "    show_metrics(ytest, ypred)"
   ]
  },
  {
   "cell_type": "markdown",
   "id": "b4a7af21",
   "metadata": {},
   "source": [
    "On commence par entrainer un modèle \"Dummy\" (qui renvoie toujours la médiane) afin d'avoir une base de comparaison des autres résultats"
   ]
  },
  {
   "cell_type": "code",
   "execution_count": 10,
   "id": "91634c0e",
   "metadata": {},
   "outputs": [
    {
     "name": "stdout",
     "output_type": "stream",
     "text": [
      "mean_absolute_error : 0.98\n",
      "mean_squared_error : 1.60\n",
      "root_mean_squared_error : 1.26\n",
      "rmpse : 0.09\n",
      "mean_absolute_percentage_error : 0.07\n",
      "r2_score : -0.00\n"
     ]
    }
   ],
   "source": [
    "dummy_regressor = DummyRegressor(strategy=\"median\")\n",
    "fit_predict_and_show_metrics(dummy_regressor, X_train_std, X_test_std, y_train, y_test)"
   ]
  },
  {
   "cell_type": "markdown",
   "id": "21797f90",
   "metadata": {},
   "source": [
    "Puis on affiche les scores pour un modèle de régression linéaire et ses dérivées Ridge et Lasso :"
   ]
  },
  {
   "cell_type": "code",
   "execution_count": 11,
   "id": "d6a855f0",
   "metadata": {},
   "outputs": [
    {
     "name": "stdout",
     "output_type": "stream",
     "text": [
      "mean_absolute_error : 0.35\n",
      "mean_squared_error : 0.31\n",
      "root_mean_squared_error : 0.56\n",
      "rmpse : 0.03\n",
      "mean_absolute_percentage_error : 0.02\n",
      "r2_score : 0.81\n"
     ]
    }
   ],
   "source": [
    "linear_regression = LinearRegression()\n",
    "fit_predict_and_show_metrics(linear_regression, X_train, X_test, y_train, y_test)"
   ]
  },
  {
   "cell_type": "code",
   "execution_count": 12,
   "id": "613db210",
   "metadata": {},
   "outputs": [
    {
     "name": "stdout",
     "output_type": "stream",
     "text": [
      "mean_absolute_error : 29172933.42\n",
      "mean_squared_error : 287515917106719904.00\n",
      "root_mean_squared_error : 536205107.31\n",
      "rmpse : 42027809.03\n",
      "mean_absolute_percentage_error : 2286493.70\n",
      "r2_score : -180201209070575936.00\n"
     ]
    }
   ],
   "source": [
    "linear_regression = LinearRegression()\n",
    "fit_predict_and_show_metrics(linear_regression, X_train_std, X_test_std, y_train, y_test) # HEUUUUUUUUUU ?????"
   ]
  },
  {
   "cell_type": "code",
   "execution_count": 13,
   "id": "d734db35",
   "metadata": {},
   "outputs": [
    {
     "name": "stdout",
     "output_type": "stream",
     "text": [
      "mean_absolute_error : 0.34\n",
      "mean_squared_error : 0.30\n",
      "root_mean_squared_error : 0.55\n",
      "rmpse : 0.03\n",
      "mean_absolute_percentage_error : 0.02\n",
      "r2_score : 0.81\n"
     ]
    }
   ],
   "source": [
    "ridge = Ridge(random_state=123)\n",
    "fit_predict_and_show_metrics(ridge, X_train, X_test, y_train, y_test)"
   ]
  },
  {
   "cell_type": "code",
   "execution_count": 14,
   "id": "5f048089",
   "metadata": {},
   "outputs": [
    {
     "name": "stdout",
     "output_type": "stream",
     "text": [
      "mean_absolute_error : 0.73\n",
      "mean_squared_error : 2.68\n",
      "root_mean_squared_error : 1.64\n",
      "rmpse : 0.09\n",
      "mean_absolute_percentage_error : 0.05\n",
      "r2_score : -0.68\n"
     ]
    }
   ],
   "source": [
    "lasso = Lasso(random_state=123)\n",
    "fit_predict_and_show_metrics(lasso, X_train, X_test, y_train, y_test)"
   ]
  },
  {
   "cell_type": "markdown",
   "id": "51bac386",
   "metadata": {},
   "source": [
    "De ces 3 modèles, on constate que c'est la variante Ridge qui présente les meilleurs résultats (score R2 le plus proche de 1), suivi de très prêt par la régression linéaire.\n",
    "\n",
    "On va tester également 2 autres types de modèles : le gradient et le random forest."
   ]
  },
  {
   "cell_type": "code",
   "execution_count": 15,
   "id": "1ac63dc1",
   "metadata": {},
   "outputs": [
    {
     "name": "stdout",
     "output_type": "stream",
     "text": [
      "mean_absolute_error : 0.25\n",
      "mean_squared_error : 0.13\n",
      "root_mean_squared_error : 0.36\n",
      "rmpse : 0.03\n",
      "mean_absolute_percentage_error : 0.02\n",
      "r2_score : 0.92\n",
      "---\n",
      "mean_absolute_error : 0.26\n",
      "mean_squared_error : 0.15\n",
      "root_mean_squared_error : 0.38\n",
      "rmpse : 0.03\n",
      "mean_absolute_percentage_error : 0.02\n",
      "r2_score : 0.91\n"
     ]
    }
   ],
   "source": [
    "gradient_boosting_regressor = GradientBoostingRegressor(random_state=123)\n",
    "fit_predict_and_show_metrics(gradient_boosting_regressor, X_train, X_test, y_train, y_test)\n",
    "print(\"---\")\n",
    "random_forest_regressor = RandomForestRegressor(random_state=123)\n",
    "fit_predict_and_show_metrics(random_forest_regressor, X_train, X_test, y_train, y_test)"
   ]
  }
 ],
 "metadata": {
  "kernelspec": {
   "display_name": "Python 3",
   "language": "python",
   "name": "python3"
  },
  "language_info": {
   "codemirror_mode": {
    "name": "ipython",
    "version": 3
   },
   "file_extension": ".py",
   "mimetype": "text/x-python",
   "name": "python",
   "nbconvert_exporter": "python",
   "pygments_lexer": "ipython3",
   "version": "3.8.8"
  }
 },
 "nbformat": 4,
 "nbformat_minor": 5
}
